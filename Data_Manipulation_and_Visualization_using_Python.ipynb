{
  "nbformat": 4,
  "nbformat_minor": 0,
  "metadata": {
    "colab": {
      "name": "Data Manipulation and Visualization using Python.ipynb",
      "provenance": [],
      "collapsed_sections": [],
      "include_colab_link": true
    },
    "kernelspec": {
      "name": "python3",
      "display_name": "Python 3"
    },
    "language_info": {
      "name": "python"
    }
  },
  "cells": [
    {
      "cell_type": "markdown",
      "metadata": {
        "id": "view-in-github",
        "colab_type": "text"
      },
      "source": [
        "<a href=\"https://colab.research.google.com/github/PrithviChandra/VIP-AINE/blob/main/Data_Manipulation_and_Visualization_using_Python.ipynb\" target=\"_parent\"><img src=\"https://colab.research.google.com/assets/colab-badge.svg\" alt=\"Open In Colab\"/></a>"
      ]
    },
    {
      "cell_type": "markdown",
      "metadata": {
        "id": "Y9WhmWetguV8"
      },
      "source": [
        "# About the Project\n",
        "\n",
        "This project is more of a training module which helps you understand how data manipulation and visualization can be done on Python. It will take multiple smaller datasets or will create dataframes to teach important concepts that we use in common data manipulation and visualization.\n",
        "\n",
        "The project will be focused around the use of Pandas and MatPlotLib libraries of Python programming. In a professional setting, you would work on larger datasets however, the same concepts are going to be applied on smaller datasets in this project."
      ]
    },
    {
      "cell_type": "markdown",
      "metadata": {
        "id": "f4syIiTwzImo"
      },
      "source": [
        "# How to work on this project\n",
        "\n",
        "Since it is more of a training module, you are required to read the concepts and concepts written and follow the instructions to answer the questions or get desired output.\n",
        "\n",
        "Suggested resources and links are mentioned in the Notebook for certain concepts. You can open the links and read/watch the content to get an understanding of the concepts."
      ]
    },
    {
      "cell_type": "markdown",
      "metadata": {
        "id": "BFCkNDPCyt2S"
      },
      "source": [
        "# Pandas in Python\n",
        "\n",
        "Pandas is a software library written for the Python programming language for data manipulation and analysis. In particular, it offers data structures and operations for manipulating numerical tables and time series. \n",
        "\n",
        "When the values are in a table, the table in Python programming is called a dataframe. \n",
        "Basically, dataframes are nothing but variables with values in structured data format.\n",
        "\n",
        "Pandas library is used to view, manipulate (modify) and analyse dataframes which are 2-D or 3-D in nature."
      ]
    },
    {
      "cell_type": "markdown",
      "metadata": {
        "id": "Oy2DTaIN0lon"
      },
      "source": [
        "# Matplotlib in Python\n",
        "\n",
        "Matplotlib is a plotting library in Python. It is used for creating static, animated, and interactive visualizations in Python.\n",
        "In this project, we will use some modules of matplotlib library to create line, bar, column and pie charts with customized formatting to visualize certain data."
      ]
    },
    {
      "cell_type": "markdown",
      "metadata": {
        "id": "bRMhu3Hm0Hv8"
      },
      "source": [
        "# Getting data imported to Python\n",
        "\n",
        "Pandas ibrary supporting loading data from various online and offline sources to Python. It can fetch data from CSV, EXCEL, TEXT or from any website (URL) or servers as well. \n",
        "\n",
        "### 1. Import CSV files\n",
        "It is important to note that a singlebackslash does not work when specifying the file path. You need to either change it to forward slash or add one more backslash like below\n",
        "\n",
        "  import pandas as pd   # Here, pandas is library and pd is its alias name.\n",
        "\n",
        "  mydata= pd.read_csv(\"C:\\\\Users\\\\AINE AI\\\\VIP\\\\filename.csv\")\n",
        "\n",
        "or\n",
        "\n",
        "  import pandas as pd\n",
        "\n",
        "  mydata= pd.read_csv(\"C:/Users/AINE AI/VIP/filename.csv\")\n",
        "\n",
        "### 2. Import File from URL\n",
        "You don't need to perform additional steps to fetch data from URL. Simply put URL in read_csv() function (applicable only for CSV files stored in URL).\n",
        "mydata = pd.read_csv(\"http://winterolympicsmedals.com/medals.csv\")\n",
        "\n",
        "### 3. Read Text File\n",
        "We can use read_table() function to pull data from text file. We can also use read_csv() with sep= \"\\t\" to read data from tab-separated file.\n",
        "\n",
        "mydata = pd.read_table(\"C:/Users/AINE AI/VIP/filename.txt\")\n",
        "\n",
        "mydata = pd.read_csv(\"C:/Users/AINE AI/VIP/filename.txt\", sep =\"\\t\")\n",
        "\n",
        "### 4. Read Excel File\n",
        "\n",
        "The read_excel() function can be used to import excel data into Python.\n",
        "mydata = pd.read_excel(\"https://www.eia.gov/dnav/pet/hist_xls/RBRTEd.xls\",sheetname=\"Data 1\", skiprows=2)\n",
        "\n",
        "And many more functions to fetch data from different file types and sources.\n",
        "\n",
        "Notice that all of the above mentioned functions (read_csv and read_table) had pd. before them. That means, those functions are part of pandas library and **pd** is an alias name for pandas.\n",
        "\n",
        "### Datasets for this project are as below. Please download them all.\n",
        "1. brics.csv : https://drive.google.com/file/d/1M5Cwbsg7_wCV1jIqx9r0Y3Iw7oEAH9n-/view?usp=sharing\n",
        "2. cars.csv : https://drive.google.com/file/d/1jKBYa6NyEiBmaeXdfoYe3CxFGPT89Hr1/view?usp=sharing\n",
        "3. marks.csv : https://drive.google.com/file/d/1U3DiTOcrhKI-5_jRttZqX4F1mup0QPZp/view?usp=sharing\n",
        "4. mtcars.csv : https://drive.google.com/file/d/1Za1B2Nt_VuEDrSznS6PN5BM4c0pEOQm5/view?usp=sharing"
      ]
    },
    {
      "cell_type": "markdown",
      "metadata": {
        "id": "NVSanQztiWsO"
      },
      "source": [
        "### Adding comments in a Code cell\n",
        "\n",
        "Comments are an excellent way to explain what we are doing in a code cell. Just add a hashtag sign (#) in front of the line/text you want to make as a comment.\n",
        "\n",
        "1. Go to a line or select multiple lines in a Code Cell which you want to convert as comment.\n",
        "2. Press Ctrl + / "
      ]
    },
    {
      "cell_type": "code",
      "metadata": {
        "id": "2itcU6RwDHOY"
      },
      "source": [
        "# Step 1: Run this code cell. It will show up as Syntax Error\n",
        "# Step 2: Select these two lines, press Ctrl + / to make these as comments and then run the cell."
      ],
      "execution_count": null,
      "outputs": []
    },
    {
      "cell_type": "markdown",
      "metadata": {
        "id": "2Snmyb3lCZ2s"
      },
      "source": [
        "### Importing pandas library\n",
        "\n",
        "There are different pandas functions used to import different file types. To use any of those functions, the first thing we need to do is to import pandas library. If you are using Google Colab or Jupyter Notebook on Anaconda Navigator, most probably it should alreay been installed. Hence, you need to just import pandas."
      ]
    },
    {
      "cell_type": "code",
      "metadata": {
        "id": "wupRVzU-AHan"
      },
      "source": [
        "# TO DO: Import pandas library as an alias name (nickname) pd\n",
        "# Syntax hint: import libraryname as aliasname\n",
        "\n",
        "import pandas as pd"
      ],
      "execution_count": 9,
      "outputs": []
    },
    {
      "cell_type": "markdown",
      "metadata": {
        "id": "oZPFgWytDP_f"
      },
      "source": [
        "### If using Google Colab and data is on local disk\n",
        "\n",
        "In this case, you need to first upload the file in file and use read_csv or read_excel functions to read the file as a dataframe."
      ]
    },
    {
      "cell_type": "code",
      "metadata": {
        "id": "lCuHaZ_ADPma",
        "colab": {
          "resources": {
            "http://localhost:8080/nbextensions/google.colab/files.js": {
              "data": "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",
              "ok": true,
              "headers": [
                [
                  "content-type",
                  "application/javascript"
                ]
              ],
              "status": 200,
              "status_text": ""
            }
          },
          "base_uri": "https://localhost:8080/",
          "height": 73
        },
        "outputId": "63c2fe7f-1f4f-485e-be59-775945d2729e"
      },
      "source": [
        "# Run this code first two upload the file. Make sure you have imported pandas in the previous code cell. Else, import here.\n",
        "\n",
        "from google.colab import files\n",
        "uploaded = files.upload()"
      ],
      "execution_count": 10,
      "outputs": [
        {
          "output_type": "display_data",
          "data": {
            "text/html": [
              "\n",
              "     <input type=\"file\" id=\"files-153b998e-8375-4627-a707-bc3eae7abd9f\" name=\"files[]\" multiple disabled\n",
              "        style=\"border:none\" />\n",
              "     <output id=\"result-153b998e-8375-4627-a707-bc3eae7abd9f\">\n",
              "      Upload widget is only available when the cell has been executed in the\n",
              "      current browser session. Please rerun this cell to enable.\n",
              "      </output>\n",
              "      <script src=\"/nbextensions/google.colab/files.js\"></script> "
            ],
            "text/plain": [
              "<IPython.core.display.HTML object>"
            ]
          },
          "metadata": {}
        },
        {
          "output_type": "stream",
          "name": "stdout",
          "text": [
            "Saving brics.csv to brics.csv\n"
          ]
        }
      ]
    },
    {
      "cell_type": "code",
      "metadata": {
        "id": "v2H1SsIWDNRu",
        "colab": {
          "base_uri": "https://localhost:8080/",
          "height": 203
        },
        "outputId": "eb6e49b0-1fc7-4df3-f220-64401a7fc052"
      },
      "source": [
        "# Coninuation of the previous code cell. \n",
        "'''\n",
        "The io module provides Python's main facilities for dealing with various types of I/O. \n",
        "There are three main types of I/O: text I/O, binary I/O and raw I/O. \n",
        "'''\n",
        "\n",
        "import io\n",
        "brics = pd.read_csv(io.BytesIO(uploaded['brics.csv']))     # We are trying to work on brics.csv dataset\n",
        "# Dataset is now stored in a Pandas Dataframe\n",
        "\n",
        "brics   # Printing dataframe without the print() function. "
      ],
      "execution_count": 11,
      "outputs": [
        {
          "output_type": "execute_result",
          "data": {
            "text/html": [
              "<div>\n",
              "<style scoped>\n",
              "    .dataframe tbody tr th:only-of-type {\n",
              "        vertical-align: middle;\n",
              "    }\n",
              "\n",
              "    .dataframe tbody tr th {\n",
              "        vertical-align: top;\n",
              "    }\n",
              "\n",
              "    .dataframe thead th {\n",
              "        text-align: right;\n",
              "    }\n",
              "</style>\n",
              "<table border=\"1\" class=\"dataframe\">\n",
              "  <thead>\n",
              "    <tr style=\"text-align: right;\">\n",
              "      <th></th>\n",
              "      <th>code</th>\n",
              "      <th>country</th>\n",
              "      <th>population</th>\n",
              "      <th>area</th>\n",
              "      <th>capital</th>\n",
              "    </tr>\n",
              "  </thead>\n",
              "  <tbody>\n",
              "    <tr>\n",
              "      <th>0</th>\n",
              "      <td>BR</td>\n",
              "      <td>Brazil</td>\n",
              "      <td>200</td>\n",
              "      <td>8515767</td>\n",
              "      <td>Brasilia</td>\n",
              "    </tr>\n",
              "    <tr>\n",
              "      <th>1</th>\n",
              "      <td>RU</td>\n",
              "      <td>Russia</td>\n",
              "      <td>144</td>\n",
              "      <td>17098242</td>\n",
              "      <td>Moscow</td>\n",
              "    </tr>\n",
              "    <tr>\n",
              "      <th>2</th>\n",
              "      <td>IN</td>\n",
              "      <td>India</td>\n",
              "      <td>1252</td>\n",
              "      <td>3287590</td>\n",
              "      <td>New Delhi</td>\n",
              "    </tr>\n",
              "    <tr>\n",
              "      <th>3</th>\n",
              "      <td>CH</td>\n",
              "      <td>China</td>\n",
              "      <td>1357</td>\n",
              "      <td>9596961</td>\n",
              "      <td>Beijing</td>\n",
              "    </tr>\n",
              "    <tr>\n",
              "      <th>4</th>\n",
              "      <td>SA</td>\n",
              "      <td>South Africa</td>\n",
              "      <td>55</td>\n",
              "      <td>1221037</td>\n",
              "      <td>Pretoria</td>\n",
              "    </tr>\n",
              "  </tbody>\n",
              "</table>\n",
              "</div>"
            ],
            "text/plain": [
              "  code       country  population      area    capital\n",
              "0   BR        Brazil         200   8515767   Brasilia\n",
              "1   RU        Russia         144  17098242     Moscow\n",
              "2   IN         India        1252   3287590  New Delhi\n",
              "3   CH         China        1357   9596961    Beijing\n",
              "4   SA  South Africa          55   1221037   Pretoria"
            ]
          },
          "metadata": {},
          "execution_count": 11
        }
      ]
    },
    {
      "cell_type": "code",
      "metadata": {
        "id": "VtcuDgw5hmYr",
        "colab": {
          "base_uri": "https://localhost:8080/"
        },
        "outputId": "222ce971-8a27-4ae2-86e7-dfcbaa5fd5db"
      },
      "source": [
        "# TO DO: Try printing the dataframe once using print() and once without print(). Do you observe any difference?\n",
        "print(brics)\n",
        "#yes there is a difference in the nature of the result. By using print() raw data is displayed whereas by not using it structured data is printed"
      ],
      "execution_count": 12,
      "outputs": [
        {
          "output_type": "stream",
          "name": "stdout",
          "text": [
            "  code       country  population      area    capital\n",
            "0   BR        Brazil         200   8515767   Brasilia\n",
            "1   RU        Russia         144  17098242     Moscow\n",
            "2   IN         India        1252   3287590  New Delhi\n",
            "3   CH         China        1357   9596961    Beijing\n",
            "4   SA  South Africa          55   1221037   Pretoria\n"
          ]
        }
      ]
    },
    {
      "cell_type": "markdown",
      "metadata": {
        "id": "8NTEY9cXMvjg"
      },
      "source": [
        "### If the data is uploaded on Jupyter Notebook and is saved in the same location where this Python Notebook is\n",
        "\n",
        "Suppose your data and the Notebook are in the same location/folder in Jupyter Notebook, you can just 'read' the data without mentioning any directory/source path."
      ]
    },
    {
      "cell_type": "code",
      "metadata": {
        "id": "Rrub8vTtMtgm"
      },
      "source": [
        "# If the file is uploaded on Jupyter Notebook\n",
        "\n",
        "brics = pd.read_csv(\"brics.csv\")      # importing brics.csv dataset and converting the table into a dataframe (pandas table).\n",
        "\n",
        "brics"
      ],
      "execution_count": null,
      "outputs": []
    },
    {
      "cell_type": "markdown",
      "metadata": {
        "id": "b2Ev7eqtTt2v"
      },
      "source": [
        "### If data is in local system/disk.\n",
        "\n",
        "If data is on local system and you want to import it in Jupyter Notebook, then use read_csv and the full-path of the file address."
      ]
    },
    {
      "cell_type": "code",
      "metadata": {
        "id": "Nh5EGcClUUZm"
      },
      "source": [
        "# Getting data from local location in our system.\n",
        "brics = pd.read_csv(\"C:/Users/AINE AI/Downloads/brics.csv\")  # Change this path as per your folder arrangements.\n",
        "\n",
        "# Make sure the folder names are seperated by either a forward slash (/)or two backward slashes (\\\\) in the above code.\n",
        "\n",
        "brics"
      ],
      "execution_count": null,
      "outputs": []
    },
    {
      "cell_type": "code",
      "metadata": {
        "colab": {
          "base_uri": "https://localhost:8080/"
        },
        "id": "26Oosb1tVgIX",
        "outputId": "1d9c6018-3100-4f79-e689-02b01f46afbc"
      },
      "source": [
        "# Data type of any variable can be seen using the function type()\n",
        "\n",
        "print(type(5))\n",
        "print(type('a text'))\n",
        "print(type(True))\n",
        "print(type(brics))         # datatype of the dataframe created above"
      ],
      "execution_count": 13,
      "outputs": [
        {
          "output_type": "stream",
          "name": "stdout",
          "text": [
            "<class 'int'>\n",
            "<class 'str'>\n",
            "<class 'bool'>\n",
            "<class 'pandas.core.frame.DataFrame'>\n"
          ]
        }
      ]
    },
    {
      "cell_type": "markdown",
      "metadata": {
        "id": "jzmIJdNEVYEa"
      },
      "source": [
        "### Explore the dataframe\n",
        "\n",
        "Intial exploration should be done on any dataset to understand the variables/columns, values, data types and the structure of the data."
      ]
    },
    {
      "cell_type": "code",
      "metadata": {
        "id": "adCtIDS1a14T",
        "colab": {
          "base_uri": "https://localhost:8080/"
        },
        "outputId": "f789171f-1147-41e8-d6eb-c78e6a39195e"
      },
      "source": [
        "'''\n",
        "The info() function is used to print a concise summary of a DataFrame. \n",
        "This method prints information about a DataFrame including the index dtype and column dtypes, \n",
        "non-null values and memory usage.\n",
        "'''\n",
        "brics.info()\n",
        "\n",
        "# Object dtype can store variables with any or mixed data types"
      ],
      "execution_count": 10,
      "outputs": [
        {
          "output_type": "stream",
          "name": "stdout",
          "text": [
            "<class 'pandas.core.frame.DataFrame'>\n",
            "RangeIndex: 5 entries, 0 to 4\n",
            "Data columns (total 5 columns):\n",
            " #   Column      Non-Null Count  Dtype \n",
            "---  ------      --------------  ----- \n",
            " 0   code        5 non-null      object\n",
            " 1   country     5 non-null      object\n",
            " 2   population  5 non-null      int64 \n",
            " 3   area        5 non-null      int64 \n",
            " 4   capital     5 non-null      object\n",
            "dtypes: int64(2), object(3)\n",
            "memory usage: 328.0+ bytes\n"
          ]
        }
      ]
    },
    {
      "cell_type": "markdown",
      "metadata": {
        "id": "U-92nqK7byLO"
      },
      "source": [
        "#### ! Resources\n",
        "\n",
        "The best thing about Python is that the concepts, functions, libraries - all are well documented and queries related to almost everything can be found on many reliable sources. \n",
        "\n",
        "To learn about the functions in pandas library, you can refer to this page:\n",
        "https://pandas.pydata.org/pandas-docs/stable/reference/api/pandas.DataFrame.dtypes.html\n",
        "\n",
        "If you are a beginner in Python and dataframes, https://www.w3schools.com/python/ can be a great resource for you."
      ]
    },
    {
      "cell_type": "code",
      "metadata": {
        "id": "Tl91nRCabxqS",
        "colab": {
          "base_uri": "https://localhost:8080/"
        },
        "outputId": "9c4d51d0-bf50-4422-ac2c-0e9b2bbcabfc"
      },
      "source": [
        "#value_counts() function returns object containing counts of unique values. \n",
        "#The resulting object will be in descending order so that the first element is the most frequently-occurring element. \n",
        "#Excludes NA values by default.\n",
        "\n",
        "# TO DO: use value_counts() in the brics dataframe to explore the data.\n",
        "\n",
        "brics.value_counts()"
      ],
      "execution_count": 11,
      "outputs": [
        {
          "output_type": "execute_result",
          "data": {
            "text/plain": [
              "code  country       population  area      capital  \n",
              "SA    South Africa  55          1221037   Pretoria     1\n",
              "RU    Russia        144         17098242  Moscow       1\n",
              "IN    India         1252        3287590   New Delhi    1\n",
              "CH    China         1357        9596961   Beijing      1\n",
              "BR    Brazil        200         8515767   Brasilia     1\n",
              "dtype: int64"
            ]
          },
          "metadata": {},
          "execution_count": 11
        }
      ]
    },
    {
      "cell_type": "code",
      "metadata": {
        "colab": {
          "base_uri": "https://localhost:8080/",
          "height": 203
        },
        "id": "oXXx48VSe4G9",
        "outputId": "86e9d354-eaa4-458b-cd5b-f917555cd9b6"
      },
      "source": [
        "# When the dataset is large and you want to sort the data by ascending or descending order to look at largest or smallest values.\n",
        "\n",
        "# Ascending order by column code. Uncomment the lines to run them.\n",
        "brics.sort_values(by=['code'])   # Ascending by default.\n",
        "# or\n",
        "# brics.sort_values(by=['code'], ascending = True)  # No need to mention\n"
      ],
      "execution_count": 12,
      "outputs": [
        {
          "output_type": "execute_result",
          "data": {
            "text/html": [
              "<div>\n",
              "<style scoped>\n",
              "    .dataframe tbody tr th:only-of-type {\n",
              "        vertical-align: middle;\n",
              "    }\n",
              "\n",
              "    .dataframe tbody tr th {\n",
              "        vertical-align: top;\n",
              "    }\n",
              "\n",
              "    .dataframe thead th {\n",
              "        text-align: right;\n",
              "    }\n",
              "</style>\n",
              "<table border=\"1\" class=\"dataframe\">\n",
              "  <thead>\n",
              "    <tr style=\"text-align: right;\">\n",
              "      <th></th>\n",
              "      <th>code</th>\n",
              "      <th>country</th>\n",
              "      <th>population</th>\n",
              "      <th>area</th>\n",
              "      <th>capital</th>\n",
              "    </tr>\n",
              "  </thead>\n",
              "  <tbody>\n",
              "    <tr>\n",
              "      <th>0</th>\n",
              "      <td>BR</td>\n",
              "      <td>Brazil</td>\n",
              "      <td>200</td>\n",
              "      <td>8515767</td>\n",
              "      <td>Brasilia</td>\n",
              "    </tr>\n",
              "    <tr>\n",
              "      <th>3</th>\n",
              "      <td>CH</td>\n",
              "      <td>China</td>\n",
              "      <td>1357</td>\n",
              "      <td>9596961</td>\n",
              "      <td>Beijing</td>\n",
              "    </tr>\n",
              "    <tr>\n",
              "      <th>2</th>\n",
              "      <td>IN</td>\n",
              "      <td>India</td>\n",
              "      <td>1252</td>\n",
              "      <td>3287590</td>\n",
              "      <td>New Delhi</td>\n",
              "    </tr>\n",
              "    <tr>\n",
              "      <th>1</th>\n",
              "      <td>RU</td>\n",
              "      <td>Russia</td>\n",
              "      <td>144</td>\n",
              "      <td>17098242</td>\n",
              "      <td>Moscow</td>\n",
              "    </tr>\n",
              "    <tr>\n",
              "      <th>4</th>\n",
              "      <td>SA</td>\n",
              "      <td>South Africa</td>\n",
              "      <td>55</td>\n",
              "      <td>1221037</td>\n",
              "      <td>Pretoria</td>\n",
              "    </tr>\n",
              "  </tbody>\n",
              "</table>\n",
              "</div>"
            ],
            "text/plain": [
              "  code       country  population      area    capital\n",
              "0   BR        Brazil         200   8515767   Brasilia\n",
              "3   CH         China        1357   9596961    Beijing\n",
              "2   IN         India        1252   3287590  New Delhi\n",
              "1   RU        Russia         144  17098242     Moscow\n",
              "4   SA  South Africa          55   1221037   Pretoria"
            ]
          },
          "metadata": {},
          "execution_count": 12
        }
      ]
    },
    {
      "cell_type": "code",
      "metadata": {
        "id": "feK8VemJhNQV",
        "colab": {
          "base_uri": "https://localhost:8080/",
          "height": 203
        },
        "outputId": "2beac294-2fca-40dd-ddb3-cbdd1d8043b1"
      },
      "source": [
        "# Sorting in descending order.\n",
        "brics.sort_values(by=['code'], ascending = False)  "
      ],
      "execution_count": 13,
      "outputs": [
        {
          "output_type": "execute_result",
          "data": {
            "text/html": [
              "<div>\n",
              "<style scoped>\n",
              "    .dataframe tbody tr th:only-of-type {\n",
              "        vertical-align: middle;\n",
              "    }\n",
              "\n",
              "    .dataframe tbody tr th {\n",
              "        vertical-align: top;\n",
              "    }\n",
              "\n",
              "    .dataframe thead th {\n",
              "        text-align: right;\n",
              "    }\n",
              "</style>\n",
              "<table border=\"1\" class=\"dataframe\">\n",
              "  <thead>\n",
              "    <tr style=\"text-align: right;\">\n",
              "      <th></th>\n",
              "      <th>code</th>\n",
              "      <th>country</th>\n",
              "      <th>population</th>\n",
              "      <th>area</th>\n",
              "      <th>capital</th>\n",
              "    </tr>\n",
              "  </thead>\n",
              "  <tbody>\n",
              "    <tr>\n",
              "      <th>4</th>\n",
              "      <td>SA</td>\n",
              "      <td>South Africa</td>\n",
              "      <td>55</td>\n",
              "      <td>1221037</td>\n",
              "      <td>Pretoria</td>\n",
              "    </tr>\n",
              "    <tr>\n",
              "      <th>1</th>\n",
              "      <td>RU</td>\n",
              "      <td>Russia</td>\n",
              "      <td>144</td>\n",
              "      <td>17098242</td>\n",
              "      <td>Moscow</td>\n",
              "    </tr>\n",
              "    <tr>\n",
              "      <th>2</th>\n",
              "      <td>IN</td>\n",
              "      <td>India</td>\n",
              "      <td>1252</td>\n",
              "      <td>3287590</td>\n",
              "      <td>New Delhi</td>\n",
              "    </tr>\n",
              "    <tr>\n",
              "      <th>3</th>\n",
              "      <td>CH</td>\n",
              "      <td>China</td>\n",
              "      <td>1357</td>\n",
              "      <td>9596961</td>\n",
              "      <td>Beijing</td>\n",
              "    </tr>\n",
              "    <tr>\n",
              "      <th>0</th>\n",
              "      <td>BR</td>\n",
              "      <td>Brazil</td>\n",
              "      <td>200</td>\n",
              "      <td>8515767</td>\n",
              "      <td>Brasilia</td>\n",
              "    </tr>\n",
              "  </tbody>\n",
              "</table>\n",
              "</div>"
            ],
            "text/plain": [
              "  code       country  population      area    capital\n",
              "4   SA  South Africa          55   1221037   Pretoria\n",
              "1   RU        Russia         144  17098242     Moscow\n",
              "2   IN         India        1252   3287590  New Delhi\n",
              "3   CH         China        1357   9596961    Beijing\n",
              "0   BR        Brazil         200   8515767   Brasilia"
            ]
          },
          "metadata": {},
          "execution_count": 13
        }
      ]
    },
    {
      "cell_type": "code",
      "metadata": {
        "id": "KAMli6nKhUrz",
        "colab": {
          "base_uri": "https://localhost:8080/",
          "height": 203
        },
        "outputId": "79968f22-cb6a-453a-d0ea-a29ac205fc90"
      },
      "source": [
        "# TO DO: Do you think sorting the data changes the data in original dataframe? \n",
        "# print the dataframe and observe the output to get the answer.\n",
        "brics"
      ],
      "execution_count": 14,
      "outputs": [
        {
          "output_type": "execute_result",
          "data": {
            "text/html": [
              "<div>\n",
              "<style scoped>\n",
              "    .dataframe tbody tr th:only-of-type {\n",
              "        vertical-align: middle;\n",
              "    }\n",
              "\n",
              "    .dataframe tbody tr th {\n",
              "        vertical-align: top;\n",
              "    }\n",
              "\n",
              "    .dataframe thead th {\n",
              "        text-align: right;\n",
              "    }\n",
              "</style>\n",
              "<table border=\"1\" class=\"dataframe\">\n",
              "  <thead>\n",
              "    <tr style=\"text-align: right;\">\n",
              "      <th></th>\n",
              "      <th>code</th>\n",
              "      <th>country</th>\n",
              "      <th>population</th>\n",
              "      <th>area</th>\n",
              "      <th>capital</th>\n",
              "    </tr>\n",
              "  </thead>\n",
              "  <tbody>\n",
              "    <tr>\n",
              "      <th>0</th>\n",
              "      <td>BR</td>\n",
              "      <td>Brazil</td>\n",
              "      <td>200</td>\n",
              "      <td>8515767</td>\n",
              "      <td>Brasilia</td>\n",
              "    </tr>\n",
              "    <tr>\n",
              "      <th>1</th>\n",
              "      <td>RU</td>\n",
              "      <td>Russia</td>\n",
              "      <td>144</td>\n",
              "      <td>17098242</td>\n",
              "      <td>Moscow</td>\n",
              "    </tr>\n",
              "    <tr>\n",
              "      <th>2</th>\n",
              "      <td>IN</td>\n",
              "      <td>India</td>\n",
              "      <td>1252</td>\n",
              "      <td>3287590</td>\n",
              "      <td>New Delhi</td>\n",
              "    </tr>\n",
              "    <tr>\n",
              "      <th>3</th>\n",
              "      <td>CH</td>\n",
              "      <td>China</td>\n",
              "      <td>1357</td>\n",
              "      <td>9596961</td>\n",
              "      <td>Beijing</td>\n",
              "    </tr>\n",
              "    <tr>\n",
              "      <th>4</th>\n",
              "      <td>SA</td>\n",
              "      <td>South Africa</td>\n",
              "      <td>55</td>\n",
              "      <td>1221037</td>\n",
              "      <td>Pretoria</td>\n",
              "    </tr>\n",
              "  </tbody>\n",
              "</table>\n",
              "</div>"
            ],
            "text/plain": [
              "  code       country  population      area    capital\n",
              "0   BR        Brazil         200   8515767   Brasilia\n",
              "1   RU        Russia         144  17098242     Moscow\n",
              "2   IN         India        1252   3287590  New Delhi\n",
              "3   CH         China        1357   9596961    Beijing\n",
              "4   SA  South Africa          55   1221037   Pretoria"
            ]
          },
          "metadata": {},
          "execution_count": 14
        }
      ]
    },
    {
      "cell_type": "code",
      "metadata": {
        "id": "6tnBoufxh1yA",
        "colab": {
          "base_uri": "https://localhost:8080/",
          "height": 203
        },
        "outputId": "60c14f06-07d3-46c0-f1b7-13e2d2452938"
      },
      "source": [
        "# TO DO: Sort the data to see which country has largest population ( population is in millions).\n",
        "\n",
        "brics.sort_values(by=['population'],ascending= False)"
      ],
      "execution_count": 15,
      "outputs": [
        {
          "output_type": "execute_result",
          "data": {
            "text/html": [
              "<div>\n",
              "<style scoped>\n",
              "    .dataframe tbody tr th:only-of-type {\n",
              "        vertical-align: middle;\n",
              "    }\n",
              "\n",
              "    .dataframe tbody tr th {\n",
              "        vertical-align: top;\n",
              "    }\n",
              "\n",
              "    .dataframe thead th {\n",
              "        text-align: right;\n",
              "    }\n",
              "</style>\n",
              "<table border=\"1\" class=\"dataframe\">\n",
              "  <thead>\n",
              "    <tr style=\"text-align: right;\">\n",
              "      <th></th>\n",
              "      <th>code</th>\n",
              "      <th>country</th>\n",
              "      <th>population</th>\n",
              "      <th>area</th>\n",
              "      <th>capital</th>\n",
              "    </tr>\n",
              "  </thead>\n",
              "  <tbody>\n",
              "    <tr>\n",
              "      <th>3</th>\n",
              "      <td>CH</td>\n",
              "      <td>China</td>\n",
              "      <td>1357</td>\n",
              "      <td>9596961</td>\n",
              "      <td>Beijing</td>\n",
              "    </tr>\n",
              "    <tr>\n",
              "      <th>2</th>\n",
              "      <td>IN</td>\n",
              "      <td>India</td>\n",
              "      <td>1252</td>\n",
              "      <td>3287590</td>\n",
              "      <td>New Delhi</td>\n",
              "    </tr>\n",
              "    <tr>\n",
              "      <th>0</th>\n",
              "      <td>BR</td>\n",
              "      <td>Brazil</td>\n",
              "      <td>200</td>\n",
              "      <td>8515767</td>\n",
              "      <td>Brasilia</td>\n",
              "    </tr>\n",
              "    <tr>\n",
              "      <th>1</th>\n",
              "      <td>RU</td>\n",
              "      <td>Russia</td>\n",
              "      <td>144</td>\n",
              "      <td>17098242</td>\n",
              "      <td>Moscow</td>\n",
              "    </tr>\n",
              "    <tr>\n",
              "      <th>4</th>\n",
              "      <td>SA</td>\n",
              "      <td>South Africa</td>\n",
              "      <td>55</td>\n",
              "      <td>1221037</td>\n",
              "      <td>Pretoria</td>\n",
              "    </tr>\n",
              "  </tbody>\n",
              "</table>\n",
              "</div>"
            ],
            "text/plain": [
              "  code       country  population      area    capital\n",
              "3   CH         China        1357   9596961    Beijing\n",
              "2   IN         India        1252   3287590  New Delhi\n",
              "0   BR        Brazil         200   8515767   Brasilia\n",
              "1   RU        Russia         144  17098242     Moscow\n",
              "4   SA  South Africa          55   1221037   Pretoria"
            ]
          },
          "metadata": {},
          "execution_count": 15
        }
      ]
    },
    {
      "cell_type": "code",
      "metadata": {
        "id": "3xYHNNqIiA-t",
        "colab": {
          "base_uri": "https://localhost:8080/",
          "height": 203
        },
        "outputId": "ca3641a8-1f67-4062-fca9-a874c45e01d4"
      },
      "source": [
        "# TO DO: Sort the data to see which country is smallest in size.\n",
        "\n",
        "brics.sort_values(by=['population'])"
      ],
      "execution_count": 16,
      "outputs": [
        {
          "output_type": "execute_result",
          "data": {
            "text/html": [
              "<div>\n",
              "<style scoped>\n",
              "    .dataframe tbody tr th:only-of-type {\n",
              "        vertical-align: middle;\n",
              "    }\n",
              "\n",
              "    .dataframe tbody tr th {\n",
              "        vertical-align: top;\n",
              "    }\n",
              "\n",
              "    .dataframe thead th {\n",
              "        text-align: right;\n",
              "    }\n",
              "</style>\n",
              "<table border=\"1\" class=\"dataframe\">\n",
              "  <thead>\n",
              "    <tr style=\"text-align: right;\">\n",
              "      <th></th>\n",
              "      <th>code</th>\n",
              "      <th>country</th>\n",
              "      <th>population</th>\n",
              "      <th>area</th>\n",
              "      <th>capital</th>\n",
              "    </tr>\n",
              "  </thead>\n",
              "  <tbody>\n",
              "    <tr>\n",
              "      <th>4</th>\n",
              "      <td>SA</td>\n",
              "      <td>South Africa</td>\n",
              "      <td>55</td>\n",
              "      <td>1221037</td>\n",
              "      <td>Pretoria</td>\n",
              "    </tr>\n",
              "    <tr>\n",
              "      <th>1</th>\n",
              "      <td>RU</td>\n",
              "      <td>Russia</td>\n",
              "      <td>144</td>\n",
              "      <td>17098242</td>\n",
              "      <td>Moscow</td>\n",
              "    </tr>\n",
              "    <tr>\n",
              "      <th>0</th>\n",
              "      <td>BR</td>\n",
              "      <td>Brazil</td>\n",
              "      <td>200</td>\n",
              "      <td>8515767</td>\n",
              "      <td>Brasilia</td>\n",
              "    </tr>\n",
              "    <tr>\n",
              "      <th>2</th>\n",
              "      <td>IN</td>\n",
              "      <td>India</td>\n",
              "      <td>1252</td>\n",
              "      <td>3287590</td>\n",
              "      <td>New Delhi</td>\n",
              "    </tr>\n",
              "    <tr>\n",
              "      <th>3</th>\n",
              "      <td>CH</td>\n",
              "      <td>China</td>\n",
              "      <td>1357</td>\n",
              "      <td>9596961</td>\n",
              "      <td>Beijing</td>\n",
              "    </tr>\n",
              "  </tbody>\n",
              "</table>\n",
              "</div>"
            ],
            "text/plain": [
              "  code       country  population      area    capital\n",
              "4   SA  South Africa          55   1221037   Pretoria\n",
              "1   RU        Russia         144  17098242     Moscow\n",
              "0   BR        Brazil         200   8515767   Brasilia\n",
              "2   IN         India        1252   3287590  New Delhi\n",
              "3   CH         China        1357   9596961    Beijing"
            ]
          },
          "metadata": {},
          "execution_count": 16
        }
      ]
    },
    {
      "cell_type": "code",
      "metadata": {
        "id": "WjRF7CTLiW6d",
        "colab": {
          "base_uri": "https://localhost:8080/"
        },
        "outputId": "816e58b2-0032-4507-c498-14cea95d6235"
      },
      "source": [
        "# Sorting and printing just one column.\n",
        "\n",
        "brics.country.sort_values(ascending=False)  "
      ],
      "execution_count": 17,
      "outputs": [
        {
          "output_type": "execute_result",
          "data": {
            "text/plain": [
              "4    South Africa\n",
              "1          Russia\n",
              "2           India\n",
              "3           China\n",
              "0          Brazil\n",
              "Name: country, dtype: object"
            ]
          },
          "metadata": {},
          "execution_count": 17
        }
      ]
    },
    {
      "cell_type": "code",
      "metadata": {
        "id": "bJXB9Fuxid30",
        "colab": {
          "base_uri": "https://localhost:8080/"
        },
        "outputId": "982fe4d3-85e6-4d90-b7d7-9fde4c905d8d"
      },
      "source": [
        "# TO DO: Sort and print area column on from largest to smallest.\n",
        "\n",
        "brics.area.sort_values(ascending= False)"
      ],
      "execution_count": 18,
      "outputs": [
        {
          "output_type": "execute_result",
          "data": {
            "text/plain": [
              "1    17098242\n",
              "3     9596961\n",
              "0     8515767\n",
              "2     3287590\n",
              "4     1221037\n",
              "Name: area, dtype: int64"
            ]
          },
          "metadata": {},
          "execution_count": 18
        }
      ]
    },
    {
      "cell_type": "markdown",
      "metadata": {
        "id": "9x_7SzUXiuO-"
      },
      "source": [
        "# Indexing in dataframes\n",
        "\n",
        "Notice that when you print a dataframe, a column with numbers 0, 1, 2... shows up at the left side. This column is called Index column. An index column indicates the position/row of records.\n",
        "\n",
        "\n",
        "![image.png](data:image/png;base64,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)\n",
        "\n",
        "If our data contains a column with unique values such as StudentID, EmployeeID, OrderID etc., we can make that specific column (with unique values) as our index column.\n",
        "\n",
        "In this case, we can make code column or even country column as index column."
      ]
    },
    {
      "cell_type": "code",
      "metadata": {
        "id": "m7pqdNoakOwo",
        "colab": {
          "base_uri": "https://localhost:8080/",
          "height": 35
        },
        "outputId": "a8c19d8b-026f-4dbf-b8ef-b798735b758d"
      },
      "source": [
        "# Indices can be used to fetch data from a particular row. \n",
        "# Example, to fetch data from the 2nd row, we can use index 1 (one)\n",
        "brics.country[1]\n",
        "\n",
        "# We will work more on the index column later."
      ],
      "execution_count": 19,
      "outputs": [
        {
          "output_type": "execute_result",
          "data": {
            "application/vnd.google.colaboratory.intrinsic+json": {
              "type": "string"
            },
            "text/plain": [
              "'Russia'"
            ]
          },
          "metadata": {},
          "execution_count": 19
        }
      ]
    },
    {
      "cell_type": "code",
      "metadata": {
        "colab": {
          "base_uri": "https://localhost:8080/"
        },
        "id": "x-W1Z1rtlLW5",
        "outputId": "373b4de0-955c-4924-d4e3-56a4193aa673"
      },
      "source": [
        "# Getting single column from a dataframe\n",
        "\n",
        "print(brics[\"country\"])"
      ],
      "execution_count": 20,
      "outputs": [
        {
          "output_type": "stream",
          "name": "stdout",
          "text": [
            "0          Brazil\n",
            "1          Russia\n",
            "2           India\n",
            "3           China\n",
            "4    South Africa\n",
            "Name: country, dtype: object\n"
          ]
        }
      ]
    },
    {
      "cell_type": "code",
      "metadata": {
        "id": "pa8RHi7FlR45",
        "colab": {
          "base_uri": "https://localhost:8080/"
        },
        "outputId": "e5706564-38d3-4d53-fee7-73fec7e57bc1"
      },
      "source": [
        "# TO DO: Print area column from brics dataframe\n",
        "\n",
        "brics[\"area\"]"
      ],
      "execution_count": 21,
      "outputs": [
        {
          "output_type": "execute_result",
          "data": {
            "text/plain": [
              "0     8515767\n",
              "1    17098242\n",
              "2     3287590\n",
              "3     9596961\n",
              "4     1221037\n",
              "Name: area, dtype: int64"
            ]
          },
          "metadata": {},
          "execution_count": 21
        }
      ]
    },
    {
      "cell_type": "code",
      "metadata": {
        "id": "jSotIaiBlZLb",
        "colab": {
          "base_uri": "https://localhost:8080/"
        },
        "outputId": "55a7e0be-6056-4216-e279-87e3053fd42a"
      },
      "source": [
        "# Other way to get a single column from a dataframe - use dot\n",
        "\n",
        "brics.country"
      ],
      "execution_count": 22,
      "outputs": [
        {
          "output_type": "execute_result",
          "data": {
            "text/plain": [
              "0          Brazil\n",
              "1          Russia\n",
              "2           India\n",
              "3           China\n",
              "4    South Africa\n",
              "Name: country, dtype: object"
            ]
          },
          "metadata": {},
          "execution_count": 22
        }
      ]
    },
    {
      "cell_type": "code",
      "metadata": {
        "id": "EVMd2VsQlb08",
        "colab": {
          "base_uri": "https://localhost:8080/"
        },
        "outputId": "c9ec0b5c-c2b1-4aca-f98b-acfb210bb58f"
      },
      "source": [
        "# TO DO:  Print code column from the dataframe using dot\n",
        "\n",
        "brics.code"
      ],
      "execution_count": 23,
      "outputs": [
        {
          "output_type": "execute_result",
          "data": {
            "text/plain": [
              "0    BR\n",
              "1    RU\n",
              "2    IN\n",
              "3    CH\n",
              "4    SA\n",
              "Name: code, dtype: object"
            ]
          },
          "metadata": {},
          "execution_count": 23
        }
      ]
    },
    {
      "cell_type": "code",
      "metadata": {
        "id": "OG15_splnOc3",
        "colab": {
          "base_uri": "https://localhost:8080/",
          "height": 203
        },
        "outputId": "554feb85-ad5a-46e0-d75f-00a595188fdd"
      },
      "source": [
        "# Pritning multiple columns\n",
        "brics[['country', 'capital']]"
      ],
      "execution_count": 24,
      "outputs": [
        {
          "output_type": "execute_result",
          "data": {
            "text/html": [
              "<div>\n",
              "<style scoped>\n",
              "    .dataframe tbody tr th:only-of-type {\n",
              "        vertical-align: middle;\n",
              "    }\n",
              "\n",
              "    .dataframe tbody tr th {\n",
              "        vertical-align: top;\n",
              "    }\n",
              "\n",
              "    .dataframe thead th {\n",
              "        text-align: right;\n",
              "    }\n",
              "</style>\n",
              "<table border=\"1\" class=\"dataframe\">\n",
              "  <thead>\n",
              "    <tr style=\"text-align: right;\">\n",
              "      <th></th>\n",
              "      <th>country</th>\n",
              "      <th>capital</th>\n",
              "    </tr>\n",
              "  </thead>\n",
              "  <tbody>\n",
              "    <tr>\n",
              "      <th>0</th>\n",
              "      <td>Brazil</td>\n",
              "      <td>Brasilia</td>\n",
              "    </tr>\n",
              "    <tr>\n",
              "      <th>1</th>\n",
              "      <td>Russia</td>\n",
              "      <td>Moscow</td>\n",
              "    </tr>\n",
              "    <tr>\n",
              "      <th>2</th>\n",
              "      <td>India</td>\n",
              "      <td>New Delhi</td>\n",
              "    </tr>\n",
              "    <tr>\n",
              "      <th>3</th>\n",
              "      <td>China</td>\n",
              "      <td>Beijing</td>\n",
              "    </tr>\n",
              "    <tr>\n",
              "      <th>4</th>\n",
              "      <td>South Africa</td>\n",
              "      <td>Pretoria</td>\n",
              "    </tr>\n",
              "  </tbody>\n",
              "</table>\n",
              "</div>"
            ],
            "text/plain": [
              "        country    capital\n",
              "0        Brazil   Brasilia\n",
              "1        Russia     Moscow\n",
              "2         India  New Delhi\n",
              "3         China    Beijing\n",
              "4  South Africa   Pretoria"
            ]
          },
          "metadata": {},
          "execution_count": 24
        }
      ]
    },
    {
      "cell_type": "code",
      "metadata": {
        "id": "md4Bik8Nngt4",
        "colab": {
          "base_uri": "https://localhost:8080/",
          "height": 203
        },
        "outputId": "a7c03737-671f-4c69-d97d-1d1ddf86c621"
      },
      "source": [
        "# TO DO: Print country, capital and population\n",
        "\n",
        "brics[['country', 'capital','population']]"
      ],
      "execution_count": 25,
      "outputs": [
        {
          "output_type": "execute_result",
          "data": {
            "text/html": [
              "<div>\n",
              "<style scoped>\n",
              "    .dataframe tbody tr th:only-of-type {\n",
              "        vertical-align: middle;\n",
              "    }\n",
              "\n",
              "    .dataframe tbody tr th {\n",
              "        vertical-align: top;\n",
              "    }\n",
              "\n",
              "    .dataframe thead th {\n",
              "        text-align: right;\n",
              "    }\n",
              "</style>\n",
              "<table border=\"1\" class=\"dataframe\">\n",
              "  <thead>\n",
              "    <tr style=\"text-align: right;\">\n",
              "      <th></th>\n",
              "      <th>country</th>\n",
              "      <th>capital</th>\n",
              "      <th>population</th>\n",
              "    </tr>\n",
              "  </thead>\n",
              "  <tbody>\n",
              "    <tr>\n",
              "      <th>0</th>\n",
              "      <td>Brazil</td>\n",
              "      <td>Brasilia</td>\n",
              "      <td>200</td>\n",
              "    </tr>\n",
              "    <tr>\n",
              "      <th>1</th>\n",
              "      <td>Russia</td>\n",
              "      <td>Moscow</td>\n",
              "      <td>144</td>\n",
              "    </tr>\n",
              "    <tr>\n",
              "      <th>2</th>\n",
              "      <td>India</td>\n",
              "      <td>New Delhi</td>\n",
              "      <td>1252</td>\n",
              "    </tr>\n",
              "    <tr>\n",
              "      <th>3</th>\n",
              "      <td>China</td>\n",
              "      <td>Beijing</td>\n",
              "      <td>1357</td>\n",
              "    </tr>\n",
              "    <tr>\n",
              "      <th>4</th>\n",
              "      <td>South Africa</td>\n",
              "      <td>Pretoria</td>\n",
              "      <td>55</td>\n",
              "    </tr>\n",
              "  </tbody>\n",
              "</table>\n",
              "</div>"
            ],
            "text/plain": [
              "        country    capital  population\n",
              "0        Brazil   Brasilia         200\n",
              "1        Russia     Moscow         144\n",
              "2         India  New Delhi        1252\n",
              "3         China    Beijing        1357\n",
              "4  South Africa   Pretoria          55"
            ]
          },
          "metadata": {},
          "execution_count": 25
        }
      ]
    },
    {
      "cell_type": "markdown",
      "metadata": {
        "id": "LjRpAGERlp8M"
      },
      "source": [
        "##### Do you think we should use square bracket to print one column a dataframe or dot?\n",
        "\n",
        "If you think we can use both methods in all cases, you would be wrong.\n",
        "\n",
        "To check this and understand the issue of using dot everywhere, please create a new code cell, copy-paste the below code in it and try to observe the issue.\n",
        "\n",
        "import pandas as pd\n",
        "\n",
        "df = pd.DataFrame({'name': ['Niko', 'Penelope', 'Aria'],\n",
        "                   'average score': [10, 5, 3],\n",
        "                   'max': [99, 100, 3]})\n",
        "                   \n",
        "df.average score\n",
        "\n",
        "If you get error, try printing the same colum using square bracket.\n"
      ]
    },
    {
      "cell_type": "code",
      "metadata": {
        "colab": {
          "base_uri": "https://localhost:8080/",
          "height": 128
        },
        "id": "gTR-O5rFa8De",
        "outputId": "09dc9e00-3a7c-4a26-f22e-16d1a6c48a93"
      },
      "source": [
        "import pandas as pd\n",
        "\n",
        "df = pd.DataFrame({'name': ['Niko', 'Penelope', 'Aria'], 'average score': [10, 5, 3], 'max': [99, 100, 3]})\n",
        "\n",
        "df.average score"
      ],
      "execution_count": 26,
      "outputs": [
        {
          "output_type": "error",
          "ename": "SyntaxError",
          "evalue": "ignored",
          "traceback": [
            "\u001b[0;36m  File \u001b[0;32m\"<ipython-input-26-c653419e3740>\"\u001b[0;36m, line \u001b[0;32m5\u001b[0m\n\u001b[0;31m    df.average score\u001b[0m\n\u001b[0m                   ^\u001b[0m\n\u001b[0;31mSyntaxError\u001b[0m\u001b[0;31m:\u001b[0m invalid syntax\n"
          ]
        }
      ]
    },
    {
      "cell_type": "code",
      "metadata": {
        "colab": {
          "base_uri": "https://localhost:8080/"
        },
        "id": "AjLNZzcgbICi",
        "outputId": "42e3c846-6d2f-4824-a60b-4237eab76468"
      },
      "source": [
        "import pandas as pd\n",
        "\n",
        "df = pd.DataFrame({'name': ['Niko', 'Penelope', 'Aria'], 'average score': [10, 5, 3], 'max': [99, 100, 3]})\n",
        "\n",
        "df['average score']"
      ],
      "execution_count": 27,
      "outputs": [
        {
          "output_type": "execute_result",
          "data": {
            "text/plain": [
              "0    10\n",
              "1     5\n",
              "2     3\n",
              "Name: average score, dtype: int64"
            ]
          },
          "metadata": {},
          "execution_count": 27
        }
      ]
    },
    {
      "cell_type": "code",
      "metadata": {
        "id": "FRN-F8fOinLy",
        "colab": {
          "base_uri": "https://localhost:8080/",
          "height": 234
        },
        "outputId": "ff7ce755-ea6e-48a4-cff2-c3a56301e89c"
      },
      "source": [
        "# use col 0 as index. \n",
        "# This will remove the 1st column containing the index or sl. no. from the above output, \n",
        "# and make the 1st column from actual data as the index.\n",
        "\n",
        "brics = pd.read_csv(\"brics.csv\",index_col=0)\n",
        "brics\n",
        "\n",
        "# Note that the 'code' will be used as Index only and not as a part of data anymore."
      ],
      "execution_count": 28,
      "outputs": [
        {
          "output_type": "execute_result",
          "data": {
            "text/html": [
              "<div>\n",
              "<style scoped>\n",
              "    .dataframe tbody tr th:only-of-type {\n",
              "        vertical-align: middle;\n",
              "    }\n",
              "\n",
              "    .dataframe tbody tr th {\n",
              "        vertical-align: top;\n",
              "    }\n",
              "\n",
              "    .dataframe thead th {\n",
              "        text-align: right;\n",
              "    }\n",
              "</style>\n",
              "<table border=\"1\" class=\"dataframe\">\n",
              "  <thead>\n",
              "    <tr style=\"text-align: right;\">\n",
              "      <th></th>\n",
              "      <th>country</th>\n",
              "      <th>population</th>\n",
              "      <th>area</th>\n",
              "      <th>capital</th>\n",
              "    </tr>\n",
              "    <tr>\n",
              "      <th>code</th>\n",
              "      <th></th>\n",
              "      <th></th>\n",
              "      <th></th>\n",
              "      <th></th>\n",
              "    </tr>\n",
              "  </thead>\n",
              "  <tbody>\n",
              "    <tr>\n",
              "      <th>BR</th>\n",
              "      <td>Brazil</td>\n",
              "      <td>200</td>\n",
              "      <td>8515767</td>\n",
              "      <td>Brasilia</td>\n",
              "    </tr>\n",
              "    <tr>\n",
              "      <th>RU</th>\n",
              "      <td>Russia</td>\n",
              "      <td>144</td>\n",
              "      <td>17098242</td>\n",
              "      <td>Moscow</td>\n",
              "    </tr>\n",
              "    <tr>\n",
              "      <th>IN</th>\n",
              "      <td>India</td>\n",
              "      <td>1252</td>\n",
              "      <td>3287590</td>\n",
              "      <td>New Delhi</td>\n",
              "    </tr>\n",
              "    <tr>\n",
              "      <th>CH</th>\n",
              "      <td>China</td>\n",
              "      <td>1357</td>\n",
              "      <td>9596961</td>\n",
              "      <td>Beijing</td>\n",
              "    </tr>\n",
              "    <tr>\n",
              "      <th>SA</th>\n",
              "      <td>South Africa</td>\n",
              "      <td>55</td>\n",
              "      <td>1221037</td>\n",
              "      <td>Pretoria</td>\n",
              "    </tr>\n",
              "  </tbody>\n",
              "</table>\n",
              "</div>"
            ],
            "text/plain": [
              "           country  population      area    capital\n",
              "code                                               \n",
              "BR          Brazil         200   8515767   Brasilia\n",
              "RU          Russia         144  17098242     Moscow\n",
              "IN           India        1252   3287590  New Delhi\n",
              "CH           China        1357   9596961    Beijing\n",
              "SA    South Africa          55   1221037   Pretoria"
            ]
          },
          "metadata": {},
          "execution_count": 28
        }
      ]
    },
    {
      "cell_type": "markdown",
      "metadata": {
        "id": "bFxqZ10Qobwo"
      },
      "source": [
        "# Transforming the dataframe"
      ]
    },
    {
      "cell_type": "code",
      "metadata": {
        "id": "zDhluUfdoZPr",
        "colab": {
          "base_uri": "https://localhost:8080/",
          "height": 234
        },
        "outputId": "9ddf6c65-1b06-41fd-bd31-33a8d5014047"
      },
      "source": [
        "#Adding a new column to the existing Data Frame\n",
        "brics[\"on_earth\"] = [True, True, True, True, True]    \n",
        "\n",
        "# We are adding a list here. Read more on lists: https://www.w3schools.com/python/python_lists.asp\n",
        "\n",
        "brics"
      ],
      "execution_count": 29,
      "outputs": [
        {
          "output_type": "execute_result",
          "data": {
            "text/html": [
              "<div>\n",
              "<style scoped>\n",
              "    .dataframe tbody tr th:only-of-type {\n",
              "        vertical-align: middle;\n",
              "    }\n",
              "\n",
              "    .dataframe tbody tr th {\n",
              "        vertical-align: top;\n",
              "    }\n",
              "\n",
              "    .dataframe thead th {\n",
              "        text-align: right;\n",
              "    }\n",
              "</style>\n",
              "<table border=\"1\" class=\"dataframe\">\n",
              "  <thead>\n",
              "    <tr style=\"text-align: right;\">\n",
              "      <th></th>\n",
              "      <th>country</th>\n",
              "      <th>population</th>\n",
              "      <th>area</th>\n",
              "      <th>capital</th>\n",
              "      <th>on_earth</th>\n",
              "    </tr>\n",
              "    <tr>\n",
              "      <th>code</th>\n",
              "      <th></th>\n",
              "      <th></th>\n",
              "      <th></th>\n",
              "      <th></th>\n",
              "      <th></th>\n",
              "    </tr>\n",
              "  </thead>\n",
              "  <tbody>\n",
              "    <tr>\n",
              "      <th>BR</th>\n",
              "      <td>Brazil</td>\n",
              "      <td>200</td>\n",
              "      <td>8515767</td>\n",
              "      <td>Brasilia</td>\n",
              "      <td>True</td>\n",
              "    </tr>\n",
              "    <tr>\n",
              "      <th>RU</th>\n",
              "      <td>Russia</td>\n",
              "      <td>144</td>\n",
              "      <td>17098242</td>\n",
              "      <td>Moscow</td>\n",
              "      <td>True</td>\n",
              "    </tr>\n",
              "    <tr>\n",
              "      <th>IN</th>\n",
              "      <td>India</td>\n",
              "      <td>1252</td>\n",
              "      <td>3287590</td>\n",
              "      <td>New Delhi</td>\n",
              "      <td>True</td>\n",
              "    </tr>\n",
              "    <tr>\n",
              "      <th>CH</th>\n",
              "      <td>China</td>\n",
              "      <td>1357</td>\n",
              "      <td>9596961</td>\n",
              "      <td>Beijing</td>\n",
              "      <td>True</td>\n",
              "    </tr>\n",
              "    <tr>\n",
              "      <th>SA</th>\n",
              "      <td>South Africa</td>\n",
              "      <td>55</td>\n",
              "      <td>1221037</td>\n",
              "      <td>Pretoria</td>\n",
              "      <td>True</td>\n",
              "    </tr>\n",
              "  </tbody>\n",
              "</table>\n",
              "</div>"
            ],
            "text/plain": [
              "           country  population      area    capital  on_earth\n",
              "code                                                         \n",
              "BR          Brazil         200   8515767   Brasilia      True\n",
              "RU          Russia         144  17098242     Moscow      True\n",
              "IN           India        1252   3287590  New Delhi      True\n",
              "CH           China        1357   9596961    Beijing      True\n",
              "SA    South Africa          55   1221037   Pretoria      True"
            ]
          },
          "metadata": {},
          "execution_count": 29
        }
      ]
    },
    {
      "cell_type": "code",
      "metadata": {
        "id": "yd4BFaWQoiAe",
        "colab": {
          "base_uri": "https://localhost:8080/",
          "height": 234
        },
        "outputId": "54f36eaf-b6bd-4b5d-f944-ef4bcd5fc95d"
      },
      "source": [
        "# adding a calculated column\n",
        "brics[\"density\"] = brics[\"population\"] / brics[\"area\"] * 1000000   # per km sq.\n",
        "brics"
      ],
      "execution_count": 30,
      "outputs": [
        {
          "output_type": "execute_result",
          "data": {
            "text/html": [
              "<div>\n",
              "<style scoped>\n",
              "    .dataframe tbody tr th:only-of-type {\n",
              "        vertical-align: middle;\n",
              "    }\n",
              "\n",
              "    .dataframe tbody tr th {\n",
              "        vertical-align: top;\n",
              "    }\n",
              "\n",
              "    .dataframe thead th {\n",
              "        text-align: right;\n",
              "    }\n",
              "</style>\n",
              "<table border=\"1\" class=\"dataframe\">\n",
              "  <thead>\n",
              "    <tr style=\"text-align: right;\">\n",
              "      <th></th>\n",
              "      <th>country</th>\n",
              "      <th>population</th>\n",
              "      <th>area</th>\n",
              "      <th>capital</th>\n",
              "      <th>on_earth</th>\n",
              "      <th>density</th>\n",
              "    </tr>\n",
              "    <tr>\n",
              "      <th>code</th>\n",
              "      <th></th>\n",
              "      <th></th>\n",
              "      <th></th>\n",
              "      <th></th>\n",
              "      <th></th>\n",
              "      <th></th>\n",
              "    </tr>\n",
              "  </thead>\n",
              "  <tbody>\n",
              "    <tr>\n",
              "      <th>BR</th>\n",
              "      <td>Brazil</td>\n",
              "      <td>200</td>\n",
              "      <td>8515767</td>\n",
              "      <td>Brasilia</td>\n",
              "      <td>True</td>\n",
              "      <td>23.485847</td>\n",
              "    </tr>\n",
              "    <tr>\n",
              "      <th>RU</th>\n",
              "      <td>Russia</td>\n",
              "      <td>144</td>\n",
              "      <td>17098242</td>\n",
              "      <td>Moscow</td>\n",
              "      <td>True</td>\n",
              "      <td>8.421918</td>\n",
              "    </tr>\n",
              "    <tr>\n",
              "      <th>IN</th>\n",
              "      <td>India</td>\n",
              "      <td>1252</td>\n",
              "      <td>3287590</td>\n",
              "      <td>New Delhi</td>\n",
              "      <td>True</td>\n",
              "      <td>380.826076</td>\n",
              "    </tr>\n",
              "    <tr>\n",
              "      <th>CH</th>\n",
              "      <td>China</td>\n",
              "      <td>1357</td>\n",
              "      <td>9596961</td>\n",
              "      <td>Beijing</td>\n",
              "      <td>True</td>\n",
              "      <td>141.398928</td>\n",
              "    </tr>\n",
              "    <tr>\n",
              "      <th>SA</th>\n",
              "      <td>South Africa</td>\n",
              "      <td>55</td>\n",
              "      <td>1221037</td>\n",
              "      <td>Pretoria</td>\n",
              "      <td>True</td>\n",
              "      <td>45.043680</td>\n",
              "    </tr>\n",
              "  </tbody>\n",
              "</table>\n",
              "</div>"
            ],
            "text/plain": [
              "           country  population      area    capital  on_earth     density\n",
              "code                                                                     \n",
              "BR          Brazil         200   8515767   Brasilia      True   23.485847\n",
              "RU          Russia         144  17098242     Moscow      True    8.421918\n",
              "IN           India        1252   3287590  New Delhi      True  380.826076\n",
              "CH           China        1357   9596961    Beijing      True  141.398928\n",
              "SA    South Africa          55   1221037   Pretoria      True   45.043680"
            ]
          },
          "metadata": {},
          "execution_count": 30
        }
      ]
    },
    {
      "cell_type": "markdown",
      "metadata": {
        "id": "R1bkQH7Zo82g"
      },
      "source": [
        "Removing the additional decimal points or setting the precision can be done on the entire dataframe."
      ]
    },
    {
      "cell_type": "code",
      "metadata": {
        "id": "CZalZzBeo6bh",
        "colab": {
          "base_uri": "https://localhost:8080/",
          "height": 162
        },
        "outputId": "7af5c1d3-b523-48db-8982-48d5e4169be3"
      },
      "source": [
        "brics.style.set_precision(2)  # Upto 2 decimal points for all float columns in the dataframe. \n",
        "\n",
        "# This WILL NOT change the original dataframe i.e. the original dataframe will still have multiple digits after decimals."
      ],
      "execution_count": 31,
      "outputs": [
        {
          "output_type": "execute_result",
          "data": {
            "text/html": [
              "<style  type=\"text/css\" >\n",
              "</style><table id=\"T_a5173728_1e37_11ec_be71_0242ac1c0002\" ><thead>    <tr>        <th class=\"blank level0\" ></th>        <th class=\"col_heading level0 col0\" >country</th>        <th class=\"col_heading level0 col1\" >population</th>        <th class=\"col_heading level0 col2\" >area</th>        <th class=\"col_heading level0 col3\" >capital</th>        <th class=\"col_heading level0 col4\" >on_earth</th>        <th class=\"col_heading level0 col5\" >density</th>    </tr>    <tr>        <th class=\"index_name level0\" >code</th>        <th class=\"blank\" ></th>        <th class=\"blank\" ></th>        <th class=\"blank\" ></th>        <th class=\"blank\" ></th>        <th class=\"blank\" ></th>        <th class=\"blank\" ></th>    </tr></thead><tbody>\n",
              "                <tr>\n",
              "                        <th id=\"T_a5173728_1e37_11ec_be71_0242ac1c0002level0_row0\" class=\"row_heading level0 row0\" >BR</th>\n",
              "                        <td id=\"T_a5173728_1e37_11ec_be71_0242ac1c0002row0_col0\" class=\"data row0 col0\" >Brazil</td>\n",
              "                        <td id=\"T_a5173728_1e37_11ec_be71_0242ac1c0002row0_col1\" class=\"data row0 col1\" >200</td>\n",
              "                        <td id=\"T_a5173728_1e37_11ec_be71_0242ac1c0002row0_col2\" class=\"data row0 col2\" >8515767</td>\n",
              "                        <td id=\"T_a5173728_1e37_11ec_be71_0242ac1c0002row0_col3\" class=\"data row0 col3\" >Brasilia</td>\n",
              "                        <td id=\"T_a5173728_1e37_11ec_be71_0242ac1c0002row0_col4\" class=\"data row0 col4\" >True</td>\n",
              "                        <td id=\"T_a5173728_1e37_11ec_be71_0242ac1c0002row0_col5\" class=\"data row0 col5\" >23.49</td>\n",
              "            </tr>\n",
              "            <tr>\n",
              "                        <th id=\"T_a5173728_1e37_11ec_be71_0242ac1c0002level0_row1\" class=\"row_heading level0 row1\" >RU</th>\n",
              "                        <td id=\"T_a5173728_1e37_11ec_be71_0242ac1c0002row1_col0\" class=\"data row1 col0\" >Russia</td>\n",
              "                        <td id=\"T_a5173728_1e37_11ec_be71_0242ac1c0002row1_col1\" class=\"data row1 col1\" >144</td>\n",
              "                        <td id=\"T_a5173728_1e37_11ec_be71_0242ac1c0002row1_col2\" class=\"data row1 col2\" >17098242</td>\n",
              "                        <td id=\"T_a5173728_1e37_11ec_be71_0242ac1c0002row1_col3\" class=\"data row1 col3\" >Moscow</td>\n",
              "                        <td id=\"T_a5173728_1e37_11ec_be71_0242ac1c0002row1_col4\" class=\"data row1 col4\" >True</td>\n",
              "                        <td id=\"T_a5173728_1e37_11ec_be71_0242ac1c0002row1_col5\" class=\"data row1 col5\" >8.42</td>\n",
              "            </tr>\n",
              "            <tr>\n",
              "                        <th id=\"T_a5173728_1e37_11ec_be71_0242ac1c0002level0_row2\" class=\"row_heading level0 row2\" >IN</th>\n",
              "                        <td id=\"T_a5173728_1e37_11ec_be71_0242ac1c0002row2_col0\" class=\"data row2 col0\" >India</td>\n",
              "                        <td id=\"T_a5173728_1e37_11ec_be71_0242ac1c0002row2_col1\" class=\"data row2 col1\" >1252</td>\n",
              "                        <td id=\"T_a5173728_1e37_11ec_be71_0242ac1c0002row2_col2\" class=\"data row2 col2\" >3287590</td>\n",
              "                        <td id=\"T_a5173728_1e37_11ec_be71_0242ac1c0002row2_col3\" class=\"data row2 col3\" >New Delhi</td>\n",
              "                        <td id=\"T_a5173728_1e37_11ec_be71_0242ac1c0002row2_col4\" class=\"data row2 col4\" >True</td>\n",
              "                        <td id=\"T_a5173728_1e37_11ec_be71_0242ac1c0002row2_col5\" class=\"data row2 col5\" >380.83</td>\n",
              "            </tr>\n",
              "            <tr>\n",
              "                        <th id=\"T_a5173728_1e37_11ec_be71_0242ac1c0002level0_row3\" class=\"row_heading level0 row3\" >CH</th>\n",
              "                        <td id=\"T_a5173728_1e37_11ec_be71_0242ac1c0002row3_col0\" class=\"data row3 col0\" >China</td>\n",
              "                        <td id=\"T_a5173728_1e37_11ec_be71_0242ac1c0002row3_col1\" class=\"data row3 col1\" >1357</td>\n",
              "                        <td id=\"T_a5173728_1e37_11ec_be71_0242ac1c0002row3_col2\" class=\"data row3 col2\" >9596961</td>\n",
              "                        <td id=\"T_a5173728_1e37_11ec_be71_0242ac1c0002row3_col3\" class=\"data row3 col3\" >Beijing</td>\n",
              "                        <td id=\"T_a5173728_1e37_11ec_be71_0242ac1c0002row3_col4\" class=\"data row3 col4\" >True</td>\n",
              "                        <td id=\"T_a5173728_1e37_11ec_be71_0242ac1c0002row3_col5\" class=\"data row3 col5\" >141.40</td>\n",
              "            </tr>\n",
              "            <tr>\n",
              "                        <th id=\"T_a5173728_1e37_11ec_be71_0242ac1c0002level0_row4\" class=\"row_heading level0 row4\" >SA</th>\n",
              "                        <td id=\"T_a5173728_1e37_11ec_be71_0242ac1c0002row4_col0\" class=\"data row4 col0\" >South Africa</td>\n",
              "                        <td id=\"T_a5173728_1e37_11ec_be71_0242ac1c0002row4_col1\" class=\"data row4 col1\" >55</td>\n",
              "                        <td id=\"T_a5173728_1e37_11ec_be71_0242ac1c0002row4_col2\" class=\"data row4 col2\" >1221037</td>\n",
              "                        <td id=\"T_a5173728_1e37_11ec_be71_0242ac1c0002row4_col3\" class=\"data row4 col3\" >Pretoria</td>\n",
              "                        <td id=\"T_a5173728_1e37_11ec_be71_0242ac1c0002row4_col4\" class=\"data row4 col4\" >True</td>\n",
              "                        <td id=\"T_a5173728_1e37_11ec_be71_0242ac1c0002row4_col5\" class=\"data row4 col5\" >45.04</td>\n",
              "            </tr>\n",
              "    </tbody></table>"
            ],
            "text/plain": [
              "<pandas.io.formats.style.Styler at 0x7fb73d6de510>"
            ]
          },
          "metadata": {},
          "execution_count": 31
        }
      ]
    },
    {
      "cell_type": "code",
      "metadata": {
        "id": "x55aPPdtpQ8D",
        "colab": {
          "base_uri": "https://localhost:8080/"
        },
        "outputId": "5b9768bc-7660-4852-a39c-1fa8ee2c34e3"
      },
      "source": [
        "brics[\"density\"].round(2) # Rounding of individual column to fixed decimal points."
      ],
      "execution_count": 34,
      "outputs": [
        {
          "output_type": "execute_result",
          "data": {
            "text/plain": [
              "code\n",
              "BR     23.49\n",
              "RU      8.42\n",
              "IN    380.83\n",
              "CH    141.40\n",
              "SA     45.04\n",
              "Name: density, dtype: float64"
            ]
          },
          "metadata": {},
          "execution_count": 34
        }
      ]
    },
    {
      "cell_type": "markdown",
      "metadata": {
        "id": "lbNZ88gtpdXR"
      },
      "source": [
        "# Fetching data using indices and location functions (.loc and .iloc)\n",
        "\n",
        "To Note:\n",
        "1. .loc is used with the actual value/label of the index\n",
        "2. .iloc is used with the index position/reference - which are numbers (0, 1, 2, 3, 4......)\n",
        "\n",
        "Look at the below code cells to understand the difference. "
      ]
    },
    {
      "cell_type": "code",
      "metadata": {
        "id": "PhY6_TOfpm2W",
        "colab": {
          "base_uri": "https://localhost:8080/",
          "height": 234
        },
        "outputId": "5808c43d-4f46-4eda-e450-66ba3f9d0cb5"
      },
      "source": [
        "# Before starting, let's first print the brics daraframe. Can you please do this?\n",
        "brics\n",
        "\n",
        "# Notice that the indices are BR, RU, IN, CH and SA. However, their position (numerical index) are 0, 1, 2, 3 and 4."
      ],
      "execution_count": 35,
      "outputs": [
        {
          "output_type": "execute_result",
          "data": {
            "text/html": [
              "<div>\n",
              "<style scoped>\n",
              "    .dataframe tbody tr th:only-of-type {\n",
              "        vertical-align: middle;\n",
              "    }\n",
              "\n",
              "    .dataframe tbody tr th {\n",
              "        vertical-align: top;\n",
              "    }\n",
              "\n",
              "    .dataframe thead th {\n",
              "        text-align: right;\n",
              "    }\n",
              "</style>\n",
              "<table border=\"1\" class=\"dataframe\">\n",
              "  <thead>\n",
              "    <tr style=\"text-align: right;\">\n",
              "      <th></th>\n",
              "      <th>country</th>\n",
              "      <th>population</th>\n",
              "      <th>area</th>\n",
              "      <th>capital</th>\n",
              "      <th>on_earth</th>\n",
              "      <th>density</th>\n",
              "    </tr>\n",
              "    <tr>\n",
              "      <th>code</th>\n",
              "      <th></th>\n",
              "      <th></th>\n",
              "      <th></th>\n",
              "      <th></th>\n",
              "      <th></th>\n",
              "      <th></th>\n",
              "    </tr>\n",
              "  </thead>\n",
              "  <tbody>\n",
              "    <tr>\n",
              "      <th>BR</th>\n",
              "      <td>Brazil</td>\n",
              "      <td>200</td>\n",
              "      <td>8515767</td>\n",
              "      <td>Brasilia</td>\n",
              "      <td>True</td>\n",
              "      <td>23.485847</td>\n",
              "    </tr>\n",
              "    <tr>\n",
              "      <th>RU</th>\n",
              "      <td>Russia</td>\n",
              "      <td>144</td>\n",
              "      <td>17098242</td>\n",
              "      <td>Moscow</td>\n",
              "      <td>True</td>\n",
              "      <td>8.421918</td>\n",
              "    </tr>\n",
              "    <tr>\n",
              "      <th>IN</th>\n",
              "      <td>India</td>\n",
              "      <td>1252</td>\n",
              "      <td>3287590</td>\n",
              "      <td>New Delhi</td>\n",
              "      <td>True</td>\n",
              "      <td>380.826076</td>\n",
              "    </tr>\n",
              "    <tr>\n",
              "      <th>CH</th>\n",
              "      <td>China</td>\n",
              "      <td>1357</td>\n",
              "      <td>9596961</td>\n",
              "      <td>Beijing</td>\n",
              "      <td>True</td>\n",
              "      <td>141.398928</td>\n",
              "    </tr>\n",
              "    <tr>\n",
              "      <th>SA</th>\n",
              "      <td>South Africa</td>\n",
              "      <td>55</td>\n",
              "      <td>1221037</td>\n",
              "      <td>Pretoria</td>\n",
              "      <td>True</td>\n",
              "      <td>45.043680</td>\n",
              "    </tr>\n",
              "  </tbody>\n",
              "</table>\n",
              "</div>"
            ],
            "text/plain": [
              "           country  population      area    capital  on_earth     density\n",
              "code                                                                     \n",
              "BR          Brazil         200   8515767   Brasilia      True   23.485847\n",
              "RU          Russia         144  17098242     Moscow      True    8.421918\n",
              "IN           India        1252   3287590  New Delhi      True  380.826076\n",
              "CH           China        1357   9596961    Beijing      True  141.398928\n",
              "SA    South Africa          55   1221037   Pretoria      True   45.043680"
            ]
          },
          "metadata": {},
          "execution_count": 35
        }
      ]
    },
    {
      "cell_type": "code",
      "metadata": {
        "id": "m_9C_Y9Zpw6I",
        "colab": {
          "base_uri": "https://localhost:8080/"
        },
        "outputId": "eec5bcd9-4658-4f41-e577-6331858052c7"
      },
      "source": [
        "brics.loc[\"SA\"]     # .loc is used with actual value of the index. \n",
        "# The value mentioned in the argument must be there in the dataframe's index list."
      ],
      "execution_count": 36,
      "outputs": [
        {
          "output_type": "execute_result",
          "data": {
            "text/plain": [
              "country       South Africa\n",
              "population              55\n",
              "area               1221037\n",
              "capital           Pretoria\n",
              "on_earth              True\n",
              "density            45.0437\n",
              "Name: SA, dtype: object"
            ]
          },
          "metadata": {},
          "execution_count": 36
        }
      ]
    },
    {
      "cell_type": "code",
      "metadata": {
        "id": "1VsuDBIbqLDL",
        "colab": {
          "base_uri": "https://localhost:8080/"
        },
        "outputId": "8a86d58a-d893-42b5-ed71-e35821274738"
      },
      "source": [
        "brics.iloc[4]  # .loc is used when we are giving the index reference as number, not the actual value of the index."
      ],
      "execution_count": 37,
      "outputs": [
        {
          "output_type": "execute_result",
          "data": {
            "text/plain": [
              "country       South Africa\n",
              "population              55\n",
              "area               1221037\n",
              "capital           Pretoria\n",
              "on_earth              True\n",
              "density            45.0437\n",
              "Name: SA, dtype: object"
            ]
          },
          "metadata": {},
          "execution_count": 37
        }
      ]
    },
    {
      "cell_type": "code",
      "metadata": {
        "id": "bWSAd80zrGxU",
        "colab": {
          "base_uri": "https://localhost:8080/"
        },
        "outputId": "179047ee-0474-4662-ab81-48b93aa2c565"
      },
      "source": [
        "# TO DO: Use .loc to print the values from all columns for IN\n",
        "\n",
        "brics.loc[\"IN\"]"
      ],
      "execution_count": 38,
      "outputs": [
        {
          "output_type": "execute_result",
          "data": {
            "text/plain": [
              "country           India\n",
              "population         1252\n",
              "area            3287590\n",
              "capital       New Delhi\n",
              "on_earth           True\n",
              "density         380.826\n",
              "Name: IN, dtype: object"
            ]
          },
          "metadata": {},
          "execution_count": 38
        }
      ]
    },
    {
      "cell_type": "code",
      "metadata": {
        "id": "gSXedN9TrOnq",
        "colab": {
          "base_uri": "https://localhost:8080/"
        },
        "outputId": "e0d24b76-511c-46bd-a389-4cd5c959953c"
      },
      "source": [
        "# TO DO: Use .iloc to print the values from all columns from 3rd row (index number will be 1 less than the row number).\n",
        "brics.iloc[2]\n"
      ],
      "execution_count": 39,
      "outputs": [
        {
          "output_type": "execute_result",
          "data": {
            "text/plain": [
              "country           India\n",
              "population         1252\n",
              "area            3287590\n",
              "capital       New Delhi\n",
              "on_earth           True\n",
              "density         380.826\n",
              "Name: IN, dtype: object"
            ]
          },
          "metadata": {},
          "execution_count": 39
        }
      ]
    },
    {
      "cell_type": "markdown",
      "metadata": {
        "id": "DkuXlWrUrmoW"
      },
      "source": [
        "# Adding rows in the dataframe\n",
        "\n",
        "append() is used to add records in a dataframe or even in lists."
      ]
    },
    {
      "cell_type": "code",
      "metadata": {
        "colab": {
          "base_uri": "https://localhost:8080/",
          "height": 234
        },
        "id": "XsDwPxfvrw3s",
        "outputId": "e5ecf010-1c36-4345-b02b-b388d176465a"
      },
      "source": [
        "#ading a new ROW using append\n",
        "newrow = {'code':'WK', 'country':'Wakanda', 'population':5,'area':1000000,'capital':'Wakanda City','on_earth':False,'density':5}\n",
        "brics1 = brics.append(newrow,ignore_index=True)   # Ignoring the existing index.\n",
        "# Ignoring the existing index will result into new dataframe index 0,1,2,....\n",
        "\n",
        "'''\n",
        "Why there is NaN for code in other rows?  \n",
        "Because the previous 'code' was not a part of datatable. It was an index.\n",
        "With 'code' in 'newrow', we are adding a new column called 'code'\n",
        "'''\n",
        "\n",
        "'''\n",
        "ignore_index=False will result into error because 'newrow' is a dictionary\n",
        "and appending a dictionary into a dataframe will not work if we do not ignore the index.\n",
        "'''\n",
        "brics1   # append will not result into chaning the actual dataframe. brics will still be the same"
      ],
      "execution_count": 40,
      "outputs": [
        {
          "output_type": "execute_result",
          "data": {
            "text/html": [
              "<div>\n",
              "<style scoped>\n",
              "    .dataframe tbody tr th:only-of-type {\n",
              "        vertical-align: middle;\n",
              "    }\n",
              "\n",
              "    .dataframe tbody tr th {\n",
              "        vertical-align: top;\n",
              "    }\n",
              "\n",
              "    .dataframe thead th {\n",
              "        text-align: right;\n",
              "    }\n",
              "</style>\n",
              "<table border=\"1\" class=\"dataframe\">\n",
              "  <thead>\n",
              "    <tr style=\"text-align: right;\">\n",
              "      <th></th>\n",
              "      <th>country</th>\n",
              "      <th>population</th>\n",
              "      <th>area</th>\n",
              "      <th>capital</th>\n",
              "      <th>on_earth</th>\n",
              "      <th>density</th>\n",
              "      <th>code</th>\n",
              "    </tr>\n",
              "  </thead>\n",
              "  <tbody>\n",
              "    <tr>\n",
              "      <th>0</th>\n",
              "      <td>Brazil</td>\n",
              "      <td>200</td>\n",
              "      <td>8515767</td>\n",
              "      <td>Brasilia</td>\n",
              "      <td>True</td>\n",
              "      <td>23.485847</td>\n",
              "      <td>NaN</td>\n",
              "    </tr>\n",
              "    <tr>\n",
              "      <th>1</th>\n",
              "      <td>Russia</td>\n",
              "      <td>144</td>\n",
              "      <td>17098242</td>\n",
              "      <td>Moscow</td>\n",
              "      <td>True</td>\n",
              "      <td>8.421918</td>\n",
              "      <td>NaN</td>\n",
              "    </tr>\n",
              "    <tr>\n",
              "      <th>2</th>\n",
              "      <td>India</td>\n",
              "      <td>1252</td>\n",
              "      <td>3287590</td>\n",
              "      <td>New Delhi</td>\n",
              "      <td>True</td>\n",
              "      <td>380.826076</td>\n",
              "      <td>NaN</td>\n",
              "    </tr>\n",
              "    <tr>\n",
              "      <th>3</th>\n",
              "      <td>China</td>\n",
              "      <td>1357</td>\n",
              "      <td>9596961</td>\n",
              "      <td>Beijing</td>\n",
              "      <td>True</td>\n",
              "      <td>141.398928</td>\n",
              "      <td>NaN</td>\n",
              "    </tr>\n",
              "    <tr>\n",
              "      <th>4</th>\n",
              "      <td>South Africa</td>\n",
              "      <td>55</td>\n",
              "      <td>1221037</td>\n",
              "      <td>Pretoria</td>\n",
              "      <td>True</td>\n",
              "      <td>45.043680</td>\n",
              "      <td>NaN</td>\n",
              "    </tr>\n",
              "    <tr>\n",
              "      <th>5</th>\n",
              "      <td>Wakanda</td>\n",
              "      <td>5</td>\n",
              "      <td>1000000</td>\n",
              "      <td>Wakanda City</td>\n",
              "      <td>False</td>\n",
              "      <td>5.000000</td>\n",
              "      <td>WK</td>\n",
              "    </tr>\n",
              "  </tbody>\n",
              "</table>\n",
              "</div>"
            ],
            "text/plain": [
              "        country  population      area       capital  on_earth     density code\n",
              "0        Brazil         200   8515767      Brasilia      True   23.485847  NaN\n",
              "1        Russia         144  17098242        Moscow      True    8.421918  NaN\n",
              "2         India        1252   3287590     New Delhi      True  380.826076  NaN\n",
              "3         China        1357   9596961       Beijing      True  141.398928  NaN\n",
              "4  South Africa          55   1221037      Pretoria      True   45.043680  NaN\n",
              "5       Wakanda           5   1000000  Wakanda City     False    5.000000   WK"
            ]
          },
          "metadata": {},
          "execution_count": 40
        }
      ]
    },
    {
      "cell_type": "code",
      "metadata": {
        "colab": {
          "base_uri": "https://localhost:8080/",
          "height": 265
        },
        "id": "0R3KSrJ9srd8",
        "outputId": "233d7604-9fc6-493c-9260-1c09e0c7a26f"
      },
      "source": [
        "#Adding a new row using .loc\n",
        "brics.loc['WK'] = ['Wakanda', 5, 1000000, 'Wakanda City', False, 5]   \n",
        "# Sequence is very important. Data types may get changed due to wrong sequence.\n",
        "brics\n"
      ],
      "execution_count": 41,
      "outputs": [
        {
          "output_type": "execute_result",
          "data": {
            "text/html": [
              "<div>\n",
              "<style scoped>\n",
              "    .dataframe tbody tr th:only-of-type {\n",
              "        vertical-align: middle;\n",
              "    }\n",
              "\n",
              "    .dataframe tbody tr th {\n",
              "        vertical-align: top;\n",
              "    }\n",
              "\n",
              "    .dataframe thead th {\n",
              "        text-align: right;\n",
              "    }\n",
              "</style>\n",
              "<table border=\"1\" class=\"dataframe\">\n",
              "  <thead>\n",
              "    <tr style=\"text-align: right;\">\n",
              "      <th></th>\n",
              "      <th>country</th>\n",
              "      <th>population</th>\n",
              "      <th>area</th>\n",
              "      <th>capital</th>\n",
              "      <th>on_earth</th>\n",
              "      <th>density</th>\n",
              "    </tr>\n",
              "    <tr>\n",
              "      <th>code</th>\n",
              "      <th></th>\n",
              "      <th></th>\n",
              "      <th></th>\n",
              "      <th></th>\n",
              "      <th></th>\n",
              "      <th></th>\n",
              "    </tr>\n",
              "  </thead>\n",
              "  <tbody>\n",
              "    <tr>\n",
              "      <th>BR</th>\n",
              "      <td>Brazil</td>\n",
              "      <td>200</td>\n",
              "      <td>8515767</td>\n",
              "      <td>Brasilia</td>\n",
              "      <td>True</td>\n",
              "      <td>23.485847</td>\n",
              "    </tr>\n",
              "    <tr>\n",
              "      <th>RU</th>\n",
              "      <td>Russia</td>\n",
              "      <td>144</td>\n",
              "      <td>17098242</td>\n",
              "      <td>Moscow</td>\n",
              "      <td>True</td>\n",
              "      <td>8.421918</td>\n",
              "    </tr>\n",
              "    <tr>\n",
              "      <th>IN</th>\n",
              "      <td>India</td>\n",
              "      <td>1252</td>\n",
              "      <td>3287590</td>\n",
              "      <td>New Delhi</td>\n",
              "      <td>True</td>\n",
              "      <td>380.826076</td>\n",
              "    </tr>\n",
              "    <tr>\n",
              "      <th>CH</th>\n",
              "      <td>China</td>\n",
              "      <td>1357</td>\n",
              "      <td>9596961</td>\n",
              "      <td>Beijing</td>\n",
              "      <td>True</td>\n",
              "      <td>141.398928</td>\n",
              "    </tr>\n",
              "    <tr>\n",
              "      <th>SA</th>\n",
              "      <td>South Africa</td>\n",
              "      <td>55</td>\n",
              "      <td>1221037</td>\n",
              "      <td>Pretoria</td>\n",
              "      <td>True</td>\n",
              "      <td>45.043680</td>\n",
              "    </tr>\n",
              "    <tr>\n",
              "      <th>WK</th>\n",
              "      <td>Wakanda</td>\n",
              "      <td>5</td>\n",
              "      <td>1000000</td>\n",
              "      <td>Wakanda City</td>\n",
              "      <td>False</td>\n",
              "      <td>5.000000</td>\n",
              "    </tr>\n",
              "  </tbody>\n",
              "</table>\n",
              "</div>"
            ],
            "text/plain": [
              "           country  population      area       capital  on_earth     density\n",
              "code                                                                        \n",
              "BR          Brazil         200   8515767      Brasilia      True   23.485847\n",
              "RU          Russia         144  17098242        Moscow      True    8.421918\n",
              "IN           India        1252   3287590     New Delhi      True  380.826076\n",
              "CH           China        1357   9596961       Beijing      True  141.398928\n",
              "SA    South Africa          55   1221037      Pretoria      True   45.043680\n",
              "WK         Wakanda           5   1000000  Wakanda City     False    5.000000"
            ]
          },
          "metadata": {},
          "execution_count": 41
        }
      ]
    },
    {
      "cell_type": "code",
      "metadata": {
        "id": "iv1xQ3jms_xa",
        "colab": {
          "base_uri": "https://localhost:8080/",
          "height": 295
        },
        "outputId": "6c4a0014-3fb3-454a-8a19-ef68d4147420"
      },
      "source": [
        "# TO DO: Add a new row in the dataframe using .loc any other country with some values in all columns.\n",
        "brics.loc['GE']=['Germany',5,1000000,'Berlin',True,5]\n",
        "brics"
      ],
      "execution_count": 43,
      "outputs": [
        {
          "output_type": "execute_result",
          "data": {
            "text/html": [
              "<div>\n",
              "<style scoped>\n",
              "    .dataframe tbody tr th:only-of-type {\n",
              "        vertical-align: middle;\n",
              "    }\n",
              "\n",
              "    .dataframe tbody tr th {\n",
              "        vertical-align: top;\n",
              "    }\n",
              "\n",
              "    .dataframe thead th {\n",
              "        text-align: right;\n",
              "    }\n",
              "</style>\n",
              "<table border=\"1\" class=\"dataframe\">\n",
              "  <thead>\n",
              "    <tr style=\"text-align: right;\">\n",
              "      <th></th>\n",
              "      <th>country</th>\n",
              "      <th>population</th>\n",
              "      <th>area</th>\n",
              "      <th>capital</th>\n",
              "      <th>on_earth</th>\n",
              "      <th>density</th>\n",
              "    </tr>\n",
              "    <tr>\n",
              "      <th>code</th>\n",
              "      <th></th>\n",
              "      <th></th>\n",
              "      <th></th>\n",
              "      <th></th>\n",
              "      <th></th>\n",
              "      <th></th>\n",
              "    </tr>\n",
              "  </thead>\n",
              "  <tbody>\n",
              "    <tr>\n",
              "      <th>BR</th>\n",
              "      <td>Brazil</td>\n",
              "      <td>200</td>\n",
              "      <td>8515767</td>\n",
              "      <td>Brasilia</td>\n",
              "      <td>True</td>\n",
              "      <td>23.485847</td>\n",
              "    </tr>\n",
              "    <tr>\n",
              "      <th>RU</th>\n",
              "      <td>Russia</td>\n",
              "      <td>144</td>\n",
              "      <td>17098242</td>\n",
              "      <td>Moscow</td>\n",
              "      <td>True</td>\n",
              "      <td>8.421918</td>\n",
              "    </tr>\n",
              "    <tr>\n",
              "      <th>IN</th>\n",
              "      <td>India</td>\n",
              "      <td>1252</td>\n",
              "      <td>3287590</td>\n",
              "      <td>New Delhi</td>\n",
              "      <td>True</td>\n",
              "      <td>380.826076</td>\n",
              "    </tr>\n",
              "    <tr>\n",
              "      <th>CH</th>\n",
              "      <td>China</td>\n",
              "      <td>1357</td>\n",
              "      <td>9596961</td>\n",
              "      <td>Beijing</td>\n",
              "      <td>True</td>\n",
              "      <td>141.398928</td>\n",
              "    </tr>\n",
              "    <tr>\n",
              "      <th>SA</th>\n",
              "      <td>South Africa</td>\n",
              "      <td>55</td>\n",
              "      <td>1221037</td>\n",
              "      <td>Pretoria</td>\n",
              "      <td>True</td>\n",
              "      <td>45.043680</td>\n",
              "    </tr>\n",
              "    <tr>\n",
              "      <th>WK</th>\n",
              "      <td>Wakanda</td>\n",
              "      <td>5</td>\n",
              "      <td>1000000</td>\n",
              "      <td>Wakanda City</td>\n",
              "      <td>False</td>\n",
              "      <td>5.000000</td>\n",
              "    </tr>\n",
              "    <tr>\n",
              "      <th>GE</th>\n",
              "      <td>Germany</td>\n",
              "      <td>5</td>\n",
              "      <td>1000000</td>\n",
              "      <td>Berlin</td>\n",
              "      <td>True</td>\n",
              "      <td>5.000000</td>\n",
              "    </tr>\n",
              "  </tbody>\n",
              "</table>\n",
              "</div>"
            ],
            "text/plain": [
              "           country  population      area       capital  on_earth     density\n",
              "code                                                                        \n",
              "BR          Brazil         200   8515767      Brasilia      True   23.485847\n",
              "RU          Russia         144  17098242        Moscow      True    8.421918\n",
              "IN           India        1252   3287590     New Delhi      True  380.826076\n",
              "CH           China        1357   9596961       Beijing      True  141.398928\n",
              "SA    South Africa          55   1221037      Pretoria      True   45.043680\n",
              "WK         Wakanda           5   1000000  Wakanda City     False    5.000000\n",
              "GE         Germany           5   1000000        Berlin      True    5.000000"
            ]
          },
          "metadata": {},
          "execution_count": 43
        }
      ]
    },
    {
      "cell_type": "code",
      "metadata": {
        "id": "X1F6KqrPtSJr",
        "colab": {
          "base_uri": "https://localhost:8080/",
          "height": 35
        },
        "outputId": "a497486a-81b8-4219-a70a-dfae4e85351e"
      },
      "source": [
        "# Fetching the value in 2-D way. In Excel, we have cells for that, Ex- A2 means column A and row 2.\n",
        "# All of the below codes will give the same output. Please uncomment and execute them one by one.\n",
        "\n",
        "brics.loc[\"IN\",\"capital\"]\n",
        "\n",
        "brics[\"capital\"].loc[\"IN\"]\n",
        "\n",
        "brics.loc[\"IN\"]['capital']\n",
        "\n"
      ],
      "execution_count": 47,
      "outputs": [
        {
          "output_type": "execute_result",
          "data": {
            "application/vnd.google.colaboratory.intrinsic+json": {
              "type": "string"
            },
            "text/plain": [
              "'New Delhi'"
            ]
          },
          "metadata": {},
          "execution_count": 47
        }
      ]
    },
    {
      "cell_type": "markdown",
      "metadata": {
        "id": "JytdTcHUtqt7"
      },
      "source": [
        "#### Deleting rows and columns from a dataframe using drop()"
      ]
    },
    {
      "cell_type": "code",
      "metadata": {
        "id": "w_DnicT1tuhz",
        "colab": {
          "base_uri": "https://localhost:8080/",
          "height": 295
        },
        "outputId": "a8a9be9f-26bc-4091-d307-6c721fde9b39"
      },
      "source": [
        "# Lets create a new dataframe so that brics is not affected.\n",
        "\n",
        "brics1 = brics\n",
        "brics1"
      ],
      "execution_count": 48,
      "outputs": [
        {
          "output_type": "execute_result",
          "data": {
            "text/html": [
              "<div>\n",
              "<style scoped>\n",
              "    .dataframe tbody tr th:only-of-type {\n",
              "        vertical-align: middle;\n",
              "    }\n",
              "\n",
              "    .dataframe tbody tr th {\n",
              "        vertical-align: top;\n",
              "    }\n",
              "\n",
              "    .dataframe thead th {\n",
              "        text-align: right;\n",
              "    }\n",
              "</style>\n",
              "<table border=\"1\" class=\"dataframe\">\n",
              "  <thead>\n",
              "    <tr style=\"text-align: right;\">\n",
              "      <th></th>\n",
              "      <th>country</th>\n",
              "      <th>population</th>\n",
              "      <th>area</th>\n",
              "      <th>capital</th>\n",
              "      <th>on_earth</th>\n",
              "      <th>density</th>\n",
              "    </tr>\n",
              "    <tr>\n",
              "      <th>code</th>\n",
              "      <th></th>\n",
              "      <th></th>\n",
              "      <th></th>\n",
              "      <th></th>\n",
              "      <th></th>\n",
              "      <th></th>\n",
              "    </tr>\n",
              "  </thead>\n",
              "  <tbody>\n",
              "    <tr>\n",
              "      <th>BR</th>\n",
              "      <td>Brazil</td>\n",
              "      <td>200</td>\n",
              "      <td>8515767</td>\n",
              "      <td>Brasilia</td>\n",
              "      <td>True</td>\n",
              "      <td>23.485847</td>\n",
              "    </tr>\n",
              "    <tr>\n",
              "      <th>RU</th>\n",
              "      <td>Russia</td>\n",
              "      <td>144</td>\n",
              "      <td>17098242</td>\n",
              "      <td>Moscow</td>\n",
              "      <td>True</td>\n",
              "      <td>8.421918</td>\n",
              "    </tr>\n",
              "    <tr>\n",
              "      <th>IN</th>\n",
              "      <td>India</td>\n",
              "      <td>1252</td>\n",
              "      <td>3287590</td>\n",
              "      <td>New Delhi</td>\n",
              "      <td>True</td>\n",
              "      <td>380.826076</td>\n",
              "    </tr>\n",
              "    <tr>\n",
              "      <th>CH</th>\n",
              "      <td>China</td>\n",
              "      <td>1357</td>\n",
              "      <td>9596961</td>\n",
              "      <td>Beijing</td>\n",
              "      <td>True</td>\n",
              "      <td>141.398928</td>\n",
              "    </tr>\n",
              "    <tr>\n",
              "      <th>SA</th>\n",
              "      <td>South Africa</td>\n",
              "      <td>55</td>\n",
              "      <td>1221037</td>\n",
              "      <td>Pretoria</td>\n",
              "      <td>True</td>\n",
              "      <td>45.043680</td>\n",
              "    </tr>\n",
              "    <tr>\n",
              "      <th>WK</th>\n",
              "      <td>Wakanda</td>\n",
              "      <td>5</td>\n",
              "      <td>1000000</td>\n",
              "      <td>Wakanda City</td>\n",
              "      <td>False</td>\n",
              "      <td>5.000000</td>\n",
              "    </tr>\n",
              "    <tr>\n",
              "      <th>GE</th>\n",
              "      <td>Germany</td>\n",
              "      <td>5</td>\n",
              "      <td>1000000</td>\n",
              "      <td>Berlin</td>\n",
              "      <td>True</td>\n",
              "      <td>5.000000</td>\n",
              "    </tr>\n",
              "  </tbody>\n",
              "</table>\n",
              "</div>"
            ],
            "text/plain": [
              "           country  population      area       capital  on_earth     density\n",
              "code                                                                        \n",
              "BR          Brazil         200   8515767      Brasilia      True   23.485847\n",
              "RU          Russia         144  17098242        Moscow      True    8.421918\n",
              "IN           India        1252   3287590     New Delhi      True  380.826076\n",
              "CH           China        1357   9596961       Beijing      True  141.398928\n",
              "SA    South Africa          55   1221037      Pretoria      True   45.043680\n",
              "WK         Wakanda           5   1000000  Wakanda City     False    5.000000\n",
              "GE         Germany           5   1000000        Berlin      True    5.000000"
            ]
          },
          "metadata": {},
          "execution_count": 48
        }
      ]
    },
    {
      "cell_type": "code",
      "metadata": {
        "colab": {
          "base_uri": "https://localhost:8080/",
          "height": 295
        },
        "id": "LbEvEqpJt84R",
        "outputId": "4239c8b2-e9ee-49cc-a18d-cd04f7dcc2ab"
      },
      "source": [
        "brics1.drop(['area'], axis=1)  # axis = 0 by default for rows. Axis = 1 for column.\n",
        "\n",
        "# For multiple columns, mention the columns separated by comma. Ex. df.drop(['name','max'], axis=1)"
      ],
      "execution_count": 49,
      "outputs": [
        {
          "output_type": "execute_result",
          "data": {
            "text/html": [
              "<div>\n",
              "<style scoped>\n",
              "    .dataframe tbody tr th:only-of-type {\n",
              "        vertical-align: middle;\n",
              "    }\n",
              "\n",
              "    .dataframe tbody tr th {\n",
              "        vertical-align: top;\n",
              "    }\n",
              "\n",
              "    .dataframe thead th {\n",
              "        text-align: right;\n",
              "    }\n",
              "</style>\n",
              "<table border=\"1\" class=\"dataframe\">\n",
              "  <thead>\n",
              "    <tr style=\"text-align: right;\">\n",
              "      <th></th>\n",
              "      <th>country</th>\n",
              "      <th>population</th>\n",
              "      <th>capital</th>\n",
              "      <th>on_earth</th>\n",
              "      <th>density</th>\n",
              "    </tr>\n",
              "    <tr>\n",
              "      <th>code</th>\n",
              "      <th></th>\n",
              "      <th></th>\n",
              "      <th></th>\n",
              "      <th></th>\n",
              "      <th></th>\n",
              "    </tr>\n",
              "  </thead>\n",
              "  <tbody>\n",
              "    <tr>\n",
              "      <th>BR</th>\n",
              "      <td>Brazil</td>\n",
              "      <td>200</td>\n",
              "      <td>Brasilia</td>\n",
              "      <td>True</td>\n",
              "      <td>23.485847</td>\n",
              "    </tr>\n",
              "    <tr>\n",
              "      <th>RU</th>\n",
              "      <td>Russia</td>\n",
              "      <td>144</td>\n",
              "      <td>Moscow</td>\n",
              "      <td>True</td>\n",
              "      <td>8.421918</td>\n",
              "    </tr>\n",
              "    <tr>\n",
              "      <th>IN</th>\n",
              "      <td>India</td>\n",
              "      <td>1252</td>\n",
              "      <td>New Delhi</td>\n",
              "      <td>True</td>\n",
              "      <td>380.826076</td>\n",
              "    </tr>\n",
              "    <tr>\n",
              "      <th>CH</th>\n",
              "      <td>China</td>\n",
              "      <td>1357</td>\n",
              "      <td>Beijing</td>\n",
              "      <td>True</td>\n",
              "      <td>141.398928</td>\n",
              "    </tr>\n",
              "    <tr>\n",
              "      <th>SA</th>\n",
              "      <td>South Africa</td>\n",
              "      <td>55</td>\n",
              "      <td>Pretoria</td>\n",
              "      <td>True</td>\n",
              "      <td>45.043680</td>\n",
              "    </tr>\n",
              "    <tr>\n",
              "      <th>WK</th>\n",
              "      <td>Wakanda</td>\n",
              "      <td>5</td>\n",
              "      <td>Wakanda City</td>\n",
              "      <td>False</td>\n",
              "      <td>5.000000</td>\n",
              "    </tr>\n",
              "    <tr>\n",
              "      <th>GE</th>\n",
              "      <td>Germany</td>\n",
              "      <td>5</td>\n",
              "      <td>Berlin</td>\n",
              "      <td>True</td>\n",
              "      <td>5.000000</td>\n",
              "    </tr>\n",
              "  </tbody>\n",
              "</table>\n",
              "</div>"
            ],
            "text/plain": [
              "           country  population       capital  on_earth     density\n",
              "code                                                              \n",
              "BR          Brazil         200      Brasilia      True   23.485847\n",
              "RU          Russia         144        Moscow      True    8.421918\n",
              "IN           India        1252     New Delhi      True  380.826076\n",
              "CH           China        1357       Beijing      True  141.398928\n",
              "SA    South Africa          55      Pretoria      True   45.043680\n",
              "WK         Wakanda           5  Wakanda City     False    5.000000\n",
              "GE         Germany           5        Berlin      True    5.000000"
            ]
          },
          "metadata": {},
          "execution_count": 49
        }
      ]
    },
    {
      "cell_type": "code",
      "metadata": {
        "id": "rq6cFICqwLXt",
        "colab": {
          "base_uri": "https://localhost:8080/",
          "height": 295
        },
        "outputId": "808a7c5a-8303-44e9-d26b-c891506899e4"
      },
      "source": [
        "brics1 = brics\n",
        "\n",
        "# TO DO: Try deleting area and density columns from brics1 dataframe\n",
        "brics1.drop([\"area\",\"density\"],axis=1)\n"
      ],
      "execution_count": 50,
      "outputs": [
        {
          "output_type": "execute_result",
          "data": {
            "text/html": [
              "<div>\n",
              "<style scoped>\n",
              "    .dataframe tbody tr th:only-of-type {\n",
              "        vertical-align: middle;\n",
              "    }\n",
              "\n",
              "    .dataframe tbody tr th {\n",
              "        vertical-align: top;\n",
              "    }\n",
              "\n",
              "    .dataframe thead th {\n",
              "        text-align: right;\n",
              "    }\n",
              "</style>\n",
              "<table border=\"1\" class=\"dataframe\">\n",
              "  <thead>\n",
              "    <tr style=\"text-align: right;\">\n",
              "      <th></th>\n",
              "      <th>country</th>\n",
              "      <th>population</th>\n",
              "      <th>capital</th>\n",
              "      <th>on_earth</th>\n",
              "    </tr>\n",
              "    <tr>\n",
              "      <th>code</th>\n",
              "      <th></th>\n",
              "      <th></th>\n",
              "      <th></th>\n",
              "      <th></th>\n",
              "    </tr>\n",
              "  </thead>\n",
              "  <tbody>\n",
              "    <tr>\n",
              "      <th>BR</th>\n",
              "      <td>Brazil</td>\n",
              "      <td>200</td>\n",
              "      <td>Brasilia</td>\n",
              "      <td>True</td>\n",
              "    </tr>\n",
              "    <tr>\n",
              "      <th>RU</th>\n",
              "      <td>Russia</td>\n",
              "      <td>144</td>\n",
              "      <td>Moscow</td>\n",
              "      <td>True</td>\n",
              "    </tr>\n",
              "    <tr>\n",
              "      <th>IN</th>\n",
              "      <td>India</td>\n",
              "      <td>1252</td>\n",
              "      <td>New Delhi</td>\n",
              "      <td>True</td>\n",
              "    </tr>\n",
              "    <tr>\n",
              "      <th>CH</th>\n",
              "      <td>China</td>\n",
              "      <td>1357</td>\n",
              "      <td>Beijing</td>\n",
              "      <td>True</td>\n",
              "    </tr>\n",
              "    <tr>\n",
              "      <th>SA</th>\n",
              "      <td>South Africa</td>\n",
              "      <td>55</td>\n",
              "      <td>Pretoria</td>\n",
              "      <td>True</td>\n",
              "    </tr>\n",
              "    <tr>\n",
              "      <th>WK</th>\n",
              "      <td>Wakanda</td>\n",
              "      <td>5</td>\n",
              "      <td>Wakanda City</td>\n",
              "      <td>False</td>\n",
              "    </tr>\n",
              "    <tr>\n",
              "      <th>GE</th>\n",
              "      <td>Germany</td>\n",
              "      <td>5</td>\n",
              "      <td>Berlin</td>\n",
              "      <td>True</td>\n",
              "    </tr>\n",
              "  </tbody>\n",
              "</table>\n",
              "</div>"
            ],
            "text/plain": [
              "           country  population       capital  on_earth\n",
              "code                                                  \n",
              "BR          Brazil         200      Brasilia      True\n",
              "RU          Russia         144        Moscow      True\n",
              "IN           India        1252     New Delhi      True\n",
              "CH           China        1357       Beijing      True\n",
              "SA    South Africa          55      Pretoria      True\n",
              "WK         Wakanda           5  Wakanda City     False\n",
              "GE         Germany           5        Berlin      True"
            ]
          },
          "metadata": {},
          "execution_count": 50
        }
      ]
    },
    {
      "cell_type": "code",
      "metadata": {
        "id": "XASmKR5iwj1Q",
        "colab": {
          "base_uri": "https://localhost:8080/",
          "height": 265
        },
        "outputId": "02247d9f-89fd-4173-be5f-8865487e6b89"
      },
      "source": [
        "# TO DO: Delete the record for Wakanda by using its index WK\n",
        "# Hint: Use WK as identifier and delete axis argument or put axis = 0\n",
        "\n",
        "brics1.drop(['WK'],axis=0)"
      ],
      "execution_count": 51,
      "outputs": [
        {
          "output_type": "execute_result",
          "data": {
            "text/html": [
              "<div>\n",
              "<style scoped>\n",
              "    .dataframe tbody tr th:only-of-type {\n",
              "        vertical-align: middle;\n",
              "    }\n",
              "\n",
              "    .dataframe tbody tr th {\n",
              "        vertical-align: top;\n",
              "    }\n",
              "\n",
              "    .dataframe thead th {\n",
              "        text-align: right;\n",
              "    }\n",
              "</style>\n",
              "<table border=\"1\" class=\"dataframe\">\n",
              "  <thead>\n",
              "    <tr style=\"text-align: right;\">\n",
              "      <th></th>\n",
              "      <th>country</th>\n",
              "      <th>population</th>\n",
              "      <th>area</th>\n",
              "      <th>capital</th>\n",
              "      <th>on_earth</th>\n",
              "      <th>density</th>\n",
              "    </tr>\n",
              "    <tr>\n",
              "      <th>code</th>\n",
              "      <th></th>\n",
              "      <th></th>\n",
              "      <th></th>\n",
              "      <th></th>\n",
              "      <th></th>\n",
              "      <th></th>\n",
              "    </tr>\n",
              "  </thead>\n",
              "  <tbody>\n",
              "    <tr>\n",
              "      <th>BR</th>\n",
              "      <td>Brazil</td>\n",
              "      <td>200</td>\n",
              "      <td>8515767</td>\n",
              "      <td>Brasilia</td>\n",
              "      <td>True</td>\n",
              "      <td>23.485847</td>\n",
              "    </tr>\n",
              "    <tr>\n",
              "      <th>RU</th>\n",
              "      <td>Russia</td>\n",
              "      <td>144</td>\n",
              "      <td>17098242</td>\n",
              "      <td>Moscow</td>\n",
              "      <td>True</td>\n",
              "      <td>8.421918</td>\n",
              "    </tr>\n",
              "    <tr>\n",
              "      <th>IN</th>\n",
              "      <td>India</td>\n",
              "      <td>1252</td>\n",
              "      <td>3287590</td>\n",
              "      <td>New Delhi</td>\n",
              "      <td>True</td>\n",
              "      <td>380.826076</td>\n",
              "    </tr>\n",
              "    <tr>\n",
              "      <th>CH</th>\n",
              "      <td>China</td>\n",
              "      <td>1357</td>\n",
              "      <td>9596961</td>\n",
              "      <td>Beijing</td>\n",
              "      <td>True</td>\n",
              "      <td>141.398928</td>\n",
              "    </tr>\n",
              "    <tr>\n",
              "      <th>SA</th>\n",
              "      <td>South Africa</td>\n",
              "      <td>55</td>\n",
              "      <td>1221037</td>\n",
              "      <td>Pretoria</td>\n",
              "      <td>True</td>\n",
              "      <td>45.043680</td>\n",
              "    </tr>\n",
              "    <tr>\n",
              "      <th>GE</th>\n",
              "      <td>Germany</td>\n",
              "      <td>5</td>\n",
              "      <td>1000000</td>\n",
              "      <td>Berlin</td>\n",
              "      <td>True</td>\n",
              "      <td>5.000000</td>\n",
              "    </tr>\n",
              "  </tbody>\n",
              "</table>\n",
              "</div>"
            ],
            "text/plain": [
              "           country  population      area    capital  on_earth     density\n",
              "code                                                                     \n",
              "BR          Brazil         200   8515767   Brasilia      True   23.485847\n",
              "RU          Russia         144  17098242     Moscow      True    8.421918\n",
              "IN           India        1252   3287590  New Delhi      True  380.826076\n",
              "CH           China        1357   9596961    Beijing      True  141.398928\n",
              "SA    South Africa          55   1221037   Pretoria      True   45.043680\n",
              "GE         Germany           5   1000000     Berlin      True    5.000000"
            ]
          },
          "metadata": {},
          "execution_count": 51
        }
      ]
    },
    {
      "cell_type": "code",
      "metadata": {
        "id": "1U4nfmQqytxo",
        "colab": {
          "base_uri": "https://localhost:8080/",
          "height": 295
        },
        "outputId": "bb4e69f5-fc5b-4c94-8939-0c27d959a869"
      },
      "source": [
        "brics1 = brics\n",
        "\n",
        "# Another way to drop columns\n",
        "brics1.drop(columns=['area', 'density']) "
      ],
      "execution_count": 52,
      "outputs": [
        {
          "output_type": "execute_result",
          "data": {
            "text/html": [
              "<div>\n",
              "<style scoped>\n",
              "    .dataframe tbody tr th:only-of-type {\n",
              "        vertical-align: middle;\n",
              "    }\n",
              "\n",
              "    .dataframe tbody tr th {\n",
              "        vertical-align: top;\n",
              "    }\n",
              "\n",
              "    .dataframe thead th {\n",
              "        text-align: right;\n",
              "    }\n",
              "</style>\n",
              "<table border=\"1\" class=\"dataframe\">\n",
              "  <thead>\n",
              "    <tr style=\"text-align: right;\">\n",
              "      <th></th>\n",
              "      <th>country</th>\n",
              "      <th>population</th>\n",
              "      <th>capital</th>\n",
              "      <th>on_earth</th>\n",
              "    </tr>\n",
              "    <tr>\n",
              "      <th>code</th>\n",
              "      <th></th>\n",
              "      <th></th>\n",
              "      <th></th>\n",
              "      <th></th>\n",
              "    </tr>\n",
              "  </thead>\n",
              "  <tbody>\n",
              "    <tr>\n",
              "      <th>BR</th>\n",
              "      <td>Brazil</td>\n",
              "      <td>200</td>\n",
              "      <td>Brasilia</td>\n",
              "      <td>True</td>\n",
              "    </tr>\n",
              "    <tr>\n",
              "      <th>RU</th>\n",
              "      <td>Russia</td>\n",
              "      <td>144</td>\n",
              "      <td>Moscow</td>\n",
              "      <td>True</td>\n",
              "    </tr>\n",
              "    <tr>\n",
              "      <th>IN</th>\n",
              "      <td>India</td>\n",
              "      <td>1252</td>\n",
              "      <td>New Delhi</td>\n",
              "      <td>True</td>\n",
              "    </tr>\n",
              "    <tr>\n",
              "      <th>CH</th>\n",
              "      <td>China</td>\n",
              "      <td>1357</td>\n",
              "      <td>Beijing</td>\n",
              "      <td>True</td>\n",
              "    </tr>\n",
              "    <tr>\n",
              "      <th>SA</th>\n",
              "      <td>South Africa</td>\n",
              "      <td>55</td>\n",
              "      <td>Pretoria</td>\n",
              "      <td>True</td>\n",
              "    </tr>\n",
              "    <tr>\n",
              "      <th>WK</th>\n",
              "      <td>Wakanda</td>\n",
              "      <td>5</td>\n",
              "      <td>Wakanda City</td>\n",
              "      <td>False</td>\n",
              "    </tr>\n",
              "    <tr>\n",
              "      <th>GE</th>\n",
              "      <td>Germany</td>\n",
              "      <td>5</td>\n",
              "      <td>Berlin</td>\n",
              "      <td>True</td>\n",
              "    </tr>\n",
              "  </tbody>\n",
              "</table>\n",
              "</div>"
            ],
            "text/plain": [
              "           country  population       capital  on_earth\n",
              "code                                                  \n",
              "BR          Brazil         200      Brasilia      True\n",
              "RU          Russia         144        Moscow      True\n",
              "IN           India        1252     New Delhi      True\n",
              "CH           China        1357       Beijing      True\n",
              "SA    South Africa          55      Pretoria      True\n",
              "WK         Wakanda           5  Wakanda City     False\n",
              "GE         Germany           5        Berlin      True"
            ]
          },
          "metadata": {},
          "execution_count": 52
        }
      ]
    },
    {
      "cell_type": "code",
      "metadata": {
        "id": "j1lTvdC1zKdt",
        "colab": {
          "base_uri": "https://localhost:8080/",
          "height": 234
        },
        "outputId": "5a8f0db4-388e-424b-8dfc-468e77052415"
      },
      "source": [
        "brics1 = brics\n",
        "\n",
        "# Drop rows by index\n",
        "\n",
        "brics1.drop(['IN', 'CH'])"
      ],
      "execution_count": 54,
      "outputs": [
        {
          "output_type": "execute_result",
          "data": {
            "text/html": [
              "<div>\n",
              "<style scoped>\n",
              "    .dataframe tbody tr th:only-of-type {\n",
              "        vertical-align: middle;\n",
              "    }\n",
              "\n",
              "    .dataframe tbody tr th {\n",
              "        vertical-align: top;\n",
              "    }\n",
              "\n",
              "    .dataframe thead th {\n",
              "        text-align: right;\n",
              "    }\n",
              "</style>\n",
              "<table border=\"1\" class=\"dataframe\">\n",
              "  <thead>\n",
              "    <tr style=\"text-align: right;\">\n",
              "      <th></th>\n",
              "      <th>country</th>\n",
              "      <th>population</th>\n",
              "      <th>area</th>\n",
              "      <th>capital</th>\n",
              "      <th>on_earth</th>\n",
              "      <th>density</th>\n",
              "    </tr>\n",
              "    <tr>\n",
              "      <th>code</th>\n",
              "      <th></th>\n",
              "      <th></th>\n",
              "      <th></th>\n",
              "      <th></th>\n",
              "      <th></th>\n",
              "      <th></th>\n",
              "    </tr>\n",
              "  </thead>\n",
              "  <tbody>\n",
              "    <tr>\n",
              "      <th>BR</th>\n",
              "      <td>Brazil</td>\n",
              "      <td>200</td>\n",
              "      <td>8515767</td>\n",
              "      <td>Brasilia</td>\n",
              "      <td>True</td>\n",
              "      <td>23.485847</td>\n",
              "    </tr>\n",
              "    <tr>\n",
              "      <th>RU</th>\n",
              "      <td>Russia</td>\n",
              "      <td>144</td>\n",
              "      <td>17098242</td>\n",
              "      <td>Moscow</td>\n",
              "      <td>True</td>\n",
              "      <td>8.421918</td>\n",
              "    </tr>\n",
              "    <tr>\n",
              "      <th>SA</th>\n",
              "      <td>South Africa</td>\n",
              "      <td>55</td>\n",
              "      <td>1221037</td>\n",
              "      <td>Pretoria</td>\n",
              "      <td>True</td>\n",
              "      <td>45.043680</td>\n",
              "    </tr>\n",
              "    <tr>\n",
              "      <th>WK</th>\n",
              "      <td>Wakanda</td>\n",
              "      <td>5</td>\n",
              "      <td>1000000</td>\n",
              "      <td>Wakanda City</td>\n",
              "      <td>False</td>\n",
              "      <td>5.000000</td>\n",
              "    </tr>\n",
              "    <tr>\n",
              "      <th>GE</th>\n",
              "      <td>Germany</td>\n",
              "      <td>5</td>\n",
              "      <td>1000000</td>\n",
              "      <td>Berlin</td>\n",
              "      <td>True</td>\n",
              "      <td>5.000000</td>\n",
              "    </tr>\n",
              "  </tbody>\n",
              "</table>\n",
              "</div>"
            ],
            "text/plain": [
              "           country  population      area       capital  on_earth    density\n",
              "code                                                                       \n",
              "BR          Brazil         200   8515767      Brasilia      True  23.485847\n",
              "RU          Russia         144  17098242        Moscow      True   8.421918\n",
              "SA    South Africa          55   1221037      Pretoria      True  45.043680\n",
              "WK         Wakanda           5   1000000  Wakanda City     False   5.000000\n",
              "GE         Germany           5   1000000        Berlin      True   5.000000"
            ]
          },
          "metadata": {},
          "execution_count": 54
        }
      ]
    },
    {
      "cell_type": "code",
      "metadata": {
        "id": "mvSbn1HAzvy7",
        "colab": {
          "base_uri": "https://localhost:8080/"
        },
        "outputId": "9b21b729-97b0-4ad6-de61-42ec97fa5466"
      },
      "source": [
        "# The shape function helps us to find the shape or size of an array or matrix. In Excel - A1:D10.  \n",
        "# shape[0] means we are working along the first dimension of your array.\n",
        "# If Y has n rows and m columns, then Y.shape is (n,m). So Y.shape[0] is n.\n",
        "\n",
        "for index in range(brics.shape[0]):    \n",
        "    countryName = brics.iloc[index,0]  # row - index, column - 0\n",
        "    cityName = brics.iloc[index, 3]  # row - index, column - 3\n",
        "    print('The Capital City of', countryName, 'is', cityName)\n"
      ],
      "execution_count": 55,
      "outputs": [
        {
          "output_type": "stream",
          "name": "stdout",
          "text": [
            "The Capital City of Brazil is Brasilia\n",
            "The Capital City of Russia is Moscow\n",
            "The Capital City of India is New Delhi\n",
            "The Capital City of China is Beijing\n",
            "The Capital City of South Africa is Pretoria\n",
            "The Capital City of Wakanda is Wakanda City\n",
            "The Capital City of Germany is Berlin\n"
          ]
        }
      ]
    },
    {
      "cell_type": "markdown",
      "metadata": {
        "id": "hdYKuSY00DQO"
      },
      "source": [
        "Read more on shape() : https://pandas.pydata.org/pandas-docs/stable/reference/api/pandas.DataFrame.shape.html"
      ]
    },
    {
      "cell_type": "code",
      "metadata": {
        "id": "XFuEnmT80BHw",
        "colab": {
          "base_uri": "https://localhost:8080/"
        },
        "outputId": "bfe19df4-f54d-4bb5-bf5b-4157b79fc332"
      },
      "source": [
        "#Another solution\n",
        "for index in range(brics.shape[0]):\n",
        "    print('The Capital City of', brics.iloc[index, 0], 'is', brics.iloc[index, 3])"
      ],
      "execution_count": 56,
      "outputs": [
        {
          "output_type": "stream",
          "name": "stdout",
          "text": [
            "The Capital City of Brazil is Brasilia\n",
            "The Capital City of Russia is Moscow\n",
            "The Capital City of India is New Delhi\n",
            "The Capital City of China is Beijing\n",
            "The Capital City of South Africa is Pretoria\n",
            "The Capital City of Wakanda is Wakanda City\n",
            "The Capital City of Germany is Berlin\n"
          ]
        }
      ]
    },
    {
      "cell_type": "code",
      "metadata": {
        "id": "kbSEZ24X0HFD",
        "colab": {
          "base_uri": "https://localhost:8080/"
        },
        "outputId": "993c30c4-17bb-43c0-9fd6-4eecfe36954a"
      },
      "source": [
        "#Another solution\n",
        "# iterrows() is a generator that iterates over the rows of the dataframe and returns the index of each row, \n",
        "# in addition to an object containing the row itself.\n",
        "\n",
        "for index, row in brics.iterrows():\n",
        "    print(\"The Capital City of\",row['country'],\"is\", row['capital'])"
      ],
      "execution_count": 57,
      "outputs": [
        {
          "output_type": "stream",
          "name": "stdout",
          "text": [
            "The Capital City of Brazil is Brasilia\n",
            "The Capital City of Russia is Moscow\n",
            "The Capital City of India is New Delhi\n",
            "The Capital City of China is Beijing\n",
            "The Capital City of South Africa is Pretoria\n",
            "The Capital City of Wakanda is Wakanda City\n",
            "The Capital City of Germany is Berlin\n"
          ]
        }
      ]
    },
    {
      "cell_type": "markdown",
      "metadata": {
        "id": "9mijtfWA0nb1"
      },
      "source": [
        "# Importing data from an url\n",
        "\n",
        "We will explore some more data exploration functions on a different dataset. \n",
        "\n",
        "Date to use: cars.csv : https://drive.google.com/file/d/1jKBYa6NyEiBmaeXdfoYe3CxFGPT89Hr1/view?usp=sharing\n"
      ]
    },
    {
      "cell_type": "code",
      "metadata": {
        "id": "_3GhLXTc4LUN",
        "colab": {
          "resources": {
            "http://localhost:8080/nbextensions/google.colab/files.js": {
              "data": "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",
              "ok": true,
              "headers": [
                [
                  "content-type",
                  "application/javascript"
                ]
              ],
              "status": 200,
              "status_text": ""
            }
          },
          "base_uri": "https://localhost:8080/",
          "height": 73
        },
        "outputId": "301ff56a-c706-4ab3-a6f5-139cdabb633a"
      },
      "source": [
        "# If data is in Google Drive\n",
        "import pandas as pd\n",
        "from google.colab import files\n",
        "uploaded = files.upload()"
      ],
      "execution_count": 58,
      "outputs": [
        {
          "output_type": "display_data",
          "data": {
            "text/html": [
              "\n",
              "     <input type=\"file\" id=\"files-f0a69651-b8cd-4bd5-bfd2-db3968dd2250\" name=\"files[]\" multiple disabled\n",
              "        style=\"border:none\" />\n",
              "     <output id=\"result-f0a69651-b8cd-4bd5-bfd2-db3968dd2250\">\n",
              "      Upload widget is only available when the cell has been executed in the\n",
              "      current browser session. Please rerun this cell to enable.\n",
              "      </output>\n",
              "      <script src=\"/nbextensions/google.colab/files.js\"></script> "
            ],
            "text/plain": [
              "<IPython.core.display.HTML object>"
            ]
          },
          "metadata": {}
        },
        {
          "output_type": "stream",
          "name": "stdout",
          "text": [
            "Saving cars.csv to cars.csv\n"
          ]
        }
      ]
    },
    {
      "cell_type": "code",
      "metadata": {
        "id": "HiVcOeqt4NFy",
        "colab": {
          "base_uri": "https://localhost:8080/",
          "height": 265
        },
        "outputId": "49a2f3c0-97bc-41a7-c50e-e11948ae18d6"
      },
      "source": [
        "# Coninuation of the previous code cell. \n",
        "'''\n",
        "The io module provides Python's main facilities for dealing with various types of I/O. \n",
        "There are three main types of I/O: text I/O, binary I/O and raw I/O. \n",
        "'''\n",
        "\n",
        "import io\n",
        "cars = pd.read_csv(io.BytesIO(uploaded['cars.csv']))\n",
        "# Dataset is now stored in a Pandas Dataframe\n",
        "\n",
        "cars"
      ],
      "execution_count": 59,
      "outputs": [
        {
          "output_type": "execute_result",
          "data": {
            "text/html": [
              "<div>\n",
              "<style scoped>\n",
              "    .dataframe tbody tr th:only-of-type {\n",
              "        vertical-align: middle;\n",
              "    }\n",
              "\n",
              "    .dataframe tbody tr th {\n",
              "        vertical-align: top;\n",
              "    }\n",
              "\n",
              "    .dataframe thead th {\n",
              "        text-align: right;\n",
              "    }\n",
              "</style>\n",
              "<table border=\"1\" class=\"dataframe\">\n",
              "  <thead>\n",
              "    <tr style=\"text-align: right;\">\n",
              "      <th></th>\n",
              "      <th>Unnamed: 0</th>\n",
              "      <th>cars_per_cap</th>\n",
              "      <th>country</th>\n",
              "      <th>drives_right</th>\n",
              "    </tr>\n",
              "  </thead>\n",
              "  <tbody>\n",
              "    <tr>\n",
              "      <th>0</th>\n",
              "      <td>US</td>\n",
              "      <td>809</td>\n",
              "      <td>United States</td>\n",
              "      <td>True</td>\n",
              "    </tr>\n",
              "    <tr>\n",
              "      <th>1</th>\n",
              "      <td>AUS</td>\n",
              "      <td>731</td>\n",
              "      <td>Australia</td>\n",
              "      <td>False</td>\n",
              "    </tr>\n",
              "    <tr>\n",
              "      <th>2</th>\n",
              "      <td>JAP</td>\n",
              "      <td>588</td>\n",
              "      <td>Japan</td>\n",
              "      <td>False</td>\n",
              "    </tr>\n",
              "    <tr>\n",
              "      <th>3</th>\n",
              "      <td>IN</td>\n",
              "      <td>18</td>\n",
              "      <td>India</td>\n",
              "      <td>False</td>\n",
              "    </tr>\n",
              "    <tr>\n",
              "      <th>4</th>\n",
              "      <td>RU</td>\n",
              "      <td>200</td>\n",
              "      <td>Russia</td>\n",
              "      <td>True</td>\n",
              "    </tr>\n",
              "    <tr>\n",
              "      <th>5</th>\n",
              "      <td>MOR</td>\n",
              "      <td>70</td>\n",
              "      <td>Morocco</td>\n",
              "      <td>True</td>\n",
              "    </tr>\n",
              "    <tr>\n",
              "      <th>6</th>\n",
              "      <td>EG</td>\n",
              "      <td>45</td>\n",
              "      <td>Egypt</td>\n",
              "      <td>True</td>\n",
              "    </tr>\n",
              "  </tbody>\n",
              "</table>\n",
              "</div>"
            ],
            "text/plain": [
              "  Unnamed: 0  cars_per_cap        country  drives_right\n",
              "0         US           809  United States          True\n",
              "1        AUS           731      Australia         False\n",
              "2        JAP           588          Japan         False\n",
              "3         IN            18          India         False\n",
              "4         RU           200         Russia          True\n",
              "5        MOR            70        Morocco          True\n",
              "6         EG            45          Egypt          True"
            ]
          },
          "metadata": {},
          "execution_count": 59
        }
      ]
    },
    {
      "cell_type": "markdown",
      "metadata": {
        "id": "AQpwMXhD5c9t"
      },
      "source": [
        "Notice that there is an unnamed column in the above output. It is because the column name is not given in the orignal dataset for the 1st column. We will make corrections for that in sometime."
      ]
    },
    {
      "cell_type": "code",
      "metadata": {
        "id": "syBt3UvB4UaD",
        "colab": {
          "base_uri": "https://localhost:8080/",
          "height": 203
        },
        "outputId": "1481ce49-5472-41bf-d509-8aca6fd96f16"
      },
      "source": [
        "# Print top 5 rows from the data, without any sorting or filter.\n",
        "cars.head()\n",
        "\n"
      ],
      "execution_count": 60,
      "outputs": [
        {
          "output_type": "execute_result",
          "data": {
            "text/html": [
              "<div>\n",
              "<style scoped>\n",
              "    .dataframe tbody tr th:only-of-type {\n",
              "        vertical-align: middle;\n",
              "    }\n",
              "\n",
              "    .dataframe tbody tr th {\n",
              "        vertical-align: top;\n",
              "    }\n",
              "\n",
              "    .dataframe thead th {\n",
              "        text-align: right;\n",
              "    }\n",
              "</style>\n",
              "<table border=\"1\" class=\"dataframe\">\n",
              "  <thead>\n",
              "    <tr style=\"text-align: right;\">\n",
              "      <th></th>\n",
              "      <th>Unnamed: 0</th>\n",
              "      <th>cars_per_cap</th>\n",
              "      <th>country</th>\n",
              "      <th>drives_right</th>\n",
              "    </tr>\n",
              "  </thead>\n",
              "  <tbody>\n",
              "    <tr>\n",
              "      <th>0</th>\n",
              "      <td>US</td>\n",
              "      <td>809</td>\n",
              "      <td>United States</td>\n",
              "      <td>True</td>\n",
              "    </tr>\n",
              "    <tr>\n",
              "      <th>1</th>\n",
              "      <td>AUS</td>\n",
              "      <td>731</td>\n",
              "      <td>Australia</td>\n",
              "      <td>False</td>\n",
              "    </tr>\n",
              "    <tr>\n",
              "      <th>2</th>\n",
              "      <td>JAP</td>\n",
              "      <td>588</td>\n",
              "      <td>Japan</td>\n",
              "      <td>False</td>\n",
              "    </tr>\n",
              "    <tr>\n",
              "      <th>3</th>\n",
              "      <td>IN</td>\n",
              "      <td>18</td>\n",
              "      <td>India</td>\n",
              "      <td>False</td>\n",
              "    </tr>\n",
              "    <tr>\n",
              "      <th>4</th>\n",
              "      <td>RU</td>\n",
              "      <td>200</td>\n",
              "      <td>Russia</td>\n",
              "      <td>True</td>\n",
              "    </tr>\n",
              "  </tbody>\n",
              "</table>\n",
              "</div>"
            ],
            "text/plain": [
              "  Unnamed: 0  cars_per_cap        country  drives_right\n",
              "0         US           809  United States          True\n",
              "1        AUS           731      Australia         False\n",
              "2        JAP           588          Japan         False\n",
              "3         IN            18          India         False\n",
              "4         RU           200         Russia          True"
            ]
          },
          "metadata": {},
          "execution_count": 60
        }
      ]
    },
    {
      "cell_type": "code",
      "metadata": {
        "id": "Gx9AEfJh4k7k",
        "colab": {
          "base_uri": "https://localhost:8080/",
          "height": 265
        },
        "outputId": "e48cc3c3-79de-4118-f856-f799af9ed385"
      },
      "source": [
        "# TO DO: Print top 7 rows from the data\n",
        "# To print n number of rows, enter the value of n in the head() as an argument.\n",
        "cars.head(7)\n"
      ],
      "execution_count": 61,
      "outputs": [
        {
          "output_type": "execute_result",
          "data": {
            "text/html": [
              "<div>\n",
              "<style scoped>\n",
              "    .dataframe tbody tr th:only-of-type {\n",
              "        vertical-align: middle;\n",
              "    }\n",
              "\n",
              "    .dataframe tbody tr th {\n",
              "        vertical-align: top;\n",
              "    }\n",
              "\n",
              "    .dataframe thead th {\n",
              "        text-align: right;\n",
              "    }\n",
              "</style>\n",
              "<table border=\"1\" class=\"dataframe\">\n",
              "  <thead>\n",
              "    <tr style=\"text-align: right;\">\n",
              "      <th></th>\n",
              "      <th>Unnamed: 0</th>\n",
              "      <th>cars_per_cap</th>\n",
              "      <th>country</th>\n",
              "      <th>drives_right</th>\n",
              "    </tr>\n",
              "  </thead>\n",
              "  <tbody>\n",
              "    <tr>\n",
              "      <th>0</th>\n",
              "      <td>US</td>\n",
              "      <td>809</td>\n",
              "      <td>United States</td>\n",
              "      <td>True</td>\n",
              "    </tr>\n",
              "    <tr>\n",
              "      <th>1</th>\n",
              "      <td>AUS</td>\n",
              "      <td>731</td>\n",
              "      <td>Australia</td>\n",
              "      <td>False</td>\n",
              "    </tr>\n",
              "    <tr>\n",
              "      <th>2</th>\n",
              "      <td>JAP</td>\n",
              "      <td>588</td>\n",
              "      <td>Japan</td>\n",
              "      <td>False</td>\n",
              "    </tr>\n",
              "    <tr>\n",
              "      <th>3</th>\n",
              "      <td>IN</td>\n",
              "      <td>18</td>\n",
              "      <td>India</td>\n",
              "      <td>False</td>\n",
              "    </tr>\n",
              "    <tr>\n",
              "      <th>4</th>\n",
              "      <td>RU</td>\n",
              "      <td>200</td>\n",
              "      <td>Russia</td>\n",
              "      <td>True</td>\n",
              "    </tr>\n",
              "    <tr>\n",
              "      <th>5</th>\n",
              "      <td>MOR</td>\n",
              "      <td>70</td>\n",
              "      <td>Morocco</td>\n",
              "      <td>True</td>\n",
              "    </tr>\n",
              "    <tr>\n",
              "      <th>6</th>\n",
              "      <td>EG</td>\n",
              "      <td>45</td>\n",
              "      <td>Egypt</td>\n",
              "      <td>True</td>\n",
              "    </tr>\n",
              "  </tbody>\n",
              "</table>\n",
              "</div>"
            ],
            "text/plain": [
              "  Unnamed: 0  cars_per_cap        country  drives_right\n",
              "0         US           809  United States          True\n",
              "1        AUS           731      Australia         False\n",
              "2        JAP           588          Japan         False\n",
              "3         IN            18          India         False\n",
              "4         RU           200         Russia          True\n",
              "5        MOR            70        Morocco          True\n",
              "6         EG            45          Egypt          True"
            ]
          },
          "metadata": {},
          "execution_count": 61
        }
      ]
    },
    {
      "cell_type": "code",
      "metadata": {
        "id": "Mz-7fSqT4sTL",
        "colab": {
          "base_uri": "https://localhost:8080/",
          "height": 203
        },
        "outputId": "2745b06f-6933-40df-ebf4-ad1b6146f071"
      },
      "source": [
        "# For bottom 5 rows in the dataframe\n",
        "cars.tail()  "
      ],
      "execution_count": 62,
      "outputs": [
        {
          "output_type": "execute_result",
          "data": {
            "text/html": [
              "<div>\n",
              "<style scoped>\n",
              "    .dataframe tbody tr th:only-of-type {\n",
              "        vertical-align: middle;\n",
              "    }\n",
              "\n",
              "    .dataframe tbody tr th {\n",
              "        vertical-align: top;\n",
              "    }\n",
              "\n",
              "    .dataframe thead th {\n",
              "        text-align: right;\n",
              "    }\n",
              "</style>\n",
              "<table border=\"1\" class=\"dataframe\">\n",
              "  <thead>\n",
              "    <tr style=\"text-align: right;\">\n",
              "      <th></th>\n",
              "      <th>Unnamed: 0</th>\n",
              "      <th>cars_per_cap</th>\n",
              "      <th>country</th>\n",
              "      <th>drives_right</th>\n",
              "    </tr>\n",
              "  </thead>\n",
              "  <tbody>\n",
              "    <tr>\n",
              "      <th>2</th>\n",
              "      <td>JAP</td>\n",
              "      <td>588</td>\n",
              "      <td>Japan</td>\n",
              "      <td>False</td>\n",
              "    </tr>\n",
              "    <tr>\n",
              "      <th>3</th>\n",
              "      <td>IN</td>\n",
              "      <td>18</td>\n",
              "      <td>India</td>\n",
              "      <td>False</td>\n",
              "    </tr>\n",
              "    <tr>\n",
              "      <th>4</th>\n",
              "      <td>RU</td>\n",
              "      <td>200</td>\n",
              "      <td>Russia</td>\n",
              "      <td>True</td>\n",
              "    </tr>\n",
              "    <tr>\n",
              "      <th>5</th>\n",
              "      <td>MOR</td>\n",
              "      <td>70</td>\n",
              "      <td>Morocco</td>\n",
              "      <td>True</td>\n",
              "    </tr>\n",
              "    <tr>\n",
              "      <th>6</th>\n",
              "      <td>EG</td>\n",
              "      <td>45</td>\n",
              "      <td>Egypt</td>\n",
              "      <td>True</td>\n",
              "    </tr>\n",
              "  </tbody>\n",
              "</table>\n",
              "</div>"
            ],
            "text/plain": [
              "  Unnamed: 0  cars_per_cap  country  drives_right\n",
              "2        JAP           588    Japan         False\n",
              "3         IN            18    India         False\n",
              "4         RU           200   Russia          True\n",
              "5        MOR            70  Morocco          True\n",
              "6         EG            45    Egypt          True"
            ]
          },
          "metadata": {},
          "execution_count": 62
        }
      ]
    },
    {
      "cell_type": "code",
      "metadata": {
        "id": "vEkq9tcp5MnX",
        "colab": {
          "base_uri": "https://localhost:8080/",
          "height": 265
        },
        "outputId": "f40a4425-200c-4acd-8f4a-68cee06fa670"
      },
      "source": [
        "# TO DO: Print last 10 rows from the dataframe\n",
        "\n",
        "cars.tail(10)"
      ],
      "execution_count": 63,
      "outputs": [
        {
          "output_type": "execute_result",
          "data": {
            "text/html": [
              "<div>\n",
              "<style scoped>\n",
              "    .dataframe tbody tr th:only-of-type {\n",
              "        vertical-align: middle;\n",
              "    }\n",
              "\n",
              "    .dataframe tbody tr th {\n",
              "        vertical-align: top;\n",
              "    }\n",
              "\n",
              "    .dataframe thead th {\n",
              "        text-align: right;\n",
              "    }\n",
              "</style>\n",
              "<table border=\"1\" class=\"dataframe\">\n",
              "  <thead>\n",
              "    <tr style=\"text-align: right;\">\n",
              "      <th></th>\n",
              "      <th>Unnamed: 0</th>\n",
              "      <th>cars_per_cap</th>\n",
              "      <th>country</th>\n",
              "      <th>drives_right</th>\n",
              "    </tr>\n",
              "  </thead>\n",
              "  <tbody>\n",
              "    <tr>\n",
              "      <th>0</th>\n",
              "      <td>US</td>\n",
              "      <td>809</td>\n",
              "      <td>United States</td>\n",
              "      <td>True</td>\n",
              "    </tr>\n",
              "    <tr>\n",
              "      <th>1</th>\n",
              "      <td>AUS</td>\n",
              "      <td>731</td>\n",
              "      <td>Australia</td>\n",
              "      <td>False</td>\n",
              "    </tr>\n",
              "    <tr>\n",
              "      <th>2</th>\n",
              "      <td>JAP</td>\n",
              "      <td>588</td>\n",
              "      <td>Japan</td>\n",
              "      <td>False</td>\n",
              "    </tr>\n",
              "    <tr>\n",
              "      <th>3</th>\n",
              "      <td>IN</td>\n",
              "      <td>18</td>\n",
              "      <td>India</td>\n",
              "      <td>False</td>\n",
              "    </tr>\n",
              "    <tr>\n",
              "      <th>4</th>\n",
              "      <td>RU</td>\n",
              "      <td>200</td>\n",
              "      <td>Russia</td>\n",
              "      <td>True</td>\n",
              "    </tr>\n",
              "    <tr>\n",
              "      <th>5</th>\n",
              "      <td>MOR</td>\n",
              "      <td>70</td>\n",
              "      <td>Morocco</td>\n",
              "      <td>True</td>\n",
              "    </tr>\n",
              "    <tr>\n",
              "      <th>6</th>\n",
              "      <td>EG</td>\n",
              "      <td>45</td>\n",
              "      <td>Egypt</td>\n",
              "      <td>True</td>\n",
              "    </tr>\n",
              "  </tbody>\n",
              "</table>\n",
              "</div>"
            ],
            "text/plain": [
              "  Unnamed: 0  cars_per_cap        country  drives_right\n",
              "0         US           809  United States          True\n",
              "1        AUS           731      Australia         False\n",
              "2        JAP           588          Japan         False\n",
              "3         IN            18          India         False\n",
              "4         RU           200         Russia          True\n",
              "5        MOR            70        Morocco          True\n",
              "6         EG            45          Egypt          True"
            ]
          },
          "metadata": {},
          "execution_count": 63
        }
      ]
    },
    {
      "cell_type": "markdown",
      "metadata": {
        "id": "Ruer9SP356Ak"
      },
      "source": [
        "We will use inplace argument whcih decide if the changes should be made in the original dataframe or not.\n",
        "\n",
        "Read more here: https://jman4190.medium.com/explaining-the-inplace-parameter-for-beginners-5de7ffa18d2e"
      ]
    },
    {
      "cell_type": "code",
      "metadata": {
        "id": "SLJFSRLj55Ud",
        "colab": {
          "base_uri": "https://localhost:8080/",
          "height": 472
        },
        "outputId": "765c5e9b-ca89-4e25-c4af-5ac208db6413"
      },
      "source": [
        "# Giving a name to the unnamed column\n",
        "\n",
        "print(cars)\n",
        "\n",
        "df1 = cars.rename( columns={'Unnamed: 0':'code'}, inplace=False ) \n",
        "cars.rename( columns={'Unnamed: 0':'code'}, inplace=True ) \n",
        "\n",
        "print(df1)\n",
        "print(cars)      # With False, there will be no change in cars dataframe.\n",
        "\n",
        "\n",
        "\n",
        "'''\n",
        "inplace = True has been used to overwrite the existing dataframe. The default is False, if nothing mentioned.\n",
        "When inplace = True , the data is modified in place, which means it will return nothing \n",
        "and the dataframe is now updated. \n",
        "When inplace = False , which is the default, \n",
        "then the operation is performed and it returns a copy of the object. You then need to save it to something.'''"
      ],
      "execution_count": 67,
      "outputs": [
        {
          "output_type": "stream",
          "name": "stdout",
          "text": [
            "  code  cars_per_cap        country  drives_right\n",
            "0   US           809  United States          True\n",
            "1  AUS           731      Australia         False\n",
            "2  JAP           588          Japan         False\n",
            "3   IN            18          India         False\n",
            "4   RU           200         Russia          True\n",
            "5  MOR            70        Morocco          True\n",
            "6   EG            45          Egypt          True\n",
            "  code  cars_per_cap        country  drives_right\n",
            "0   US           809  United States          True\n",
            "1  AUS           731      Australia         False\n",
            "2  JAP           588          Japan         False\n",
            "3   IN            18          India         False\n",
            "4   RU           200         Russia          True\n",
            "5  MOR            70        Morocco          True\n",
            "6   EG            45          Egypt          True\n",
            "  code  cars_per_cap        country  drives_right\n",
            "0   US           809  United States          True\n",
            "1  AUS           731      Australia         False\n",
            "2  JAP           588          Japan         False\n",
            "3   IN            18          India         False\n",
            "4   RU           200         Russia          True\n",
            "5  MOR            70        Morocco          True\n",
            "6   EG            45          Egypt          True\n"
          ]
        },
        {
          "output_type": "execute_result",
          "data": {
            "application/vnd.google.colaboratory.intrinsic+json": {
              "type": "string"
            },
            "text/plain": [
              "'\\ninplace = True has been used to overwrite the existing dataframe. The default is False, if nothing mentioned.\\nWhen inplace = True , the data is modified in place, which means it will return nothing \\nand the dataframe is now updated. \\nWhen inplace = False , which is the default, \\nthen the operation is performed and it returns a copy of the object. You then need to save it to something.'"
            ]
          },
          "metadata": {},
          "execution_count": 67
        }
      ]
    },
    {
      "cell_type": "code",
      "metadata": {
        "id": "dRnTJ_yy6gb8",
        "colab": {
          "base_uri": "https://localhost:8080/"
        },
        "outputId": "384c875a-87b1-47bb-fc9e-721dfbac0105"
      },
      "source": [
        "print(cars['cars_per_cap'])  # without column name at the top. Prints data and detail\n"
      ],
      "execution_count": 68,
      "outputs": [
        {
          "output_type": "stream",
          "name": "stdout",
          "text": [
            "0    809\n",
            "1    731\n",
            "2    588\n",
            "3     18\n",
            "4    200\n",
            "5     70\n",
            "6     45\n",
            "Name: cars_per_cap, dtype: int64\n"
          ]
        }
      ]
    },
    {
      "cell_type": "code",
      "metadata": {
        "id": "apDmqs3r6iLR",
        "colab": {
          "base_uri": "https://localhost:8080/"
        },
        "outputId": "4e8fd3dc-8ba2-49f8-cb9b-db5e0282d671"
      },
      "source": [
        "print(cars[['cars_per_cap']])  # print the actual data"
      ],
      "execution_count": 69,
      "outputs": [
        {
          "output_type": "stream",
          "name": "stdout",
          "text": [
            "   cars_per_cap\n",
            "0           809\n",
            "1           731\n",
            "2           588\n",
            "3            18\n",
            "4           200\n",
            "5            70\n",
            "6            45\n"
          ]
        }
      ]
    },
    {
      "cell_type": "code",
      "metadata": {
        "id": "eYwRZRPC6oBU",
        "colab": {
          "base_uri": "https://localhost:8080/",
          "height": 265
        },
        "outputId": "872021bd-bc76-4076-ab23-49425d6abd26"
      },
      "source": [
        "# TO DO: Read the data again and set the 1st column as the index column. Then, print the cars dataframe.\n",
        "cars=pd.read_csv(\"cars.csv\",index_col=0)\n",
        "cars"
      ],
      "execution_count": 73,
      "outputs": [
        {
          "output_type": "execute_result",
          "data": {
            "text/html": [
              "<div>\n",
              "<style scoped>\n",
              "    .dataframe tbody tr th:only-of-type {\n",
              "        vertical-align: middle;\n",
              "    }\n",
              "\n",
              "    .dataframe tbody tr th {\n",
              "        vertical-align: top;\n",
              "    }\n",
              "\n",
              "    .dataframe thead th {\n",
              "        text-align: right;\n",
              "    }\n",
              "</style>\n",
              "<table border=\"1\" class=\"dataframe\">\n",
              "  <thead>\n",
              "    <tr style=\"text-align: right;\">\n",
              "      <th></th>\n",
              "      <th>cars_per_cap</th>\n",
              "      <th>country</th>\n",
              "      <th>drives_right</th>\n",
              "    </tr>\n",
              "  </thead>\n",
              "  <tbody>\n",
              "    <tr>\n",
              "      <th>US</th>\n",
              "      <td>809</td>\n",
              "      <td>United States</td>\n",
              "      <td>True</td>\n",
              "    </tr>\n",
              "    <tr>\n",
              "      <th>AUS</th>\n",
              "      <td>731</td>\n",
              "      <td>Australia</td>\n",
              "      <td>False</td>\n",
              "    </tr>\n",
              "    <tr>\n",
              "      <th>JAP</th>\n",
              "      <td>588</td>\n",
              "      <td>Japan</td>\n",
              "      <td>False</td>\n",
              "    </tr>\n",
              "    <tr>\n",
              "      <th>IN</th>\n",
              "      <td>18</td>\n",
              "      <td>India</td>\n",
              "      <td>False</td>\n",
              "    </tr>\n",
              "    <tr>\n",
              "      <th>RU</th>\n",
              "      <td>200</td>\n",
              "      <td>Russia</td>\n",
              "      <td>True</td>\n",
              "    </tr>\n",
              "    <tr>\n",
              "      <th>MOR</th>\n",
              "      <td>70</td>\n",
              "      <td>Morocco</td>\n",
              "      <td>True</td>\n",
              "    </tr>\n",
              "    <tr>\n",
              "      <th>EG</th>\n",
              "      <td>45</td>\n",
              "      <td>Egypt</td>\n",
              "      <td>True</td>\n",
              "    </tr>\n",
              "  </tbody>\n",
              "</table>\n",
              "</div>"
            ],
            "text/plain": [
              "     cars_per_cap        country  drives_right\n",
              "US            809  United States          True\n",
              "AUS           731      Australia         False\n",
              "JAP           588          Japan         False\n",
              "IN             18          India         False\n",
              "RU            200         Russia          True\n",
              "MOR            70        Morocco          True\n",
              "EG             45          Egypt          True"
            ]
          },
          "metadata": {},
          "execution_count": 73
        }
      ]
    },
    {
      "cell_type": "code",
      "metadata": {
        "id": "9Cu0htwU61qk",
        "colab": {
          "base_uri": "https://localhost:8080/"
        },
        "outputId": "e6e8dd0e-483c-4349-f91e-67e19fb1411e"
      },
      "source": [
        "# TO DO : Print the details of RU\n",
        "# Hint: You should use either .loc or .iloc (just one is correct).\n",
        "cars.loc[\"RU\"]\n"
      ],
      "execution_count": 74,
      "outputs": [
        {
          "output_type": "execute_result",
          "data": {
            "text/plain": [
              "cars_per_cap       200\n",
              "country         Russia\n",
              "drives_right      True\n",
              "Name: RU, dtype: object"
            ]
          },
          "metadata": {},
          "execution_count": 74
        }
      ]
    },
    {
      "cell_type": "code",
      "metadata": {
        "id": "wTdY73zf7MDX",
        "colab": {
          "base_uri": "https://localhost:8080/",
          "height": 80
        },
        "outputId": "b00bc14e-35dc-4bd2-d507-7fa2662decfa"
      },
      "source": [
        "# TO DO: Can you change the above answer to show the column name at the top? \n",
        "# Hint: Recap last 3-4 code cells.\n",
        "\n",
        "cars.loc[[\"RU\"]]"
      ],
      "execution_count": 75,
      "outputs": [
        {
          "output_type": "execute_result",
          "data": {
            "text/html": [
              "<div>\n",
              "<style scoped>\n",
              "    .dataframe tbody tr th:only-of-type {\n",
              "        vertical-align: middle;\n",
              "    }\n",
              "\n",
              "    .dataframe tbody tr th {\n",
              "        vertical-align: top;\n",
              "    }\n",
              "\n",
              "    .dataframe thead th {\n",
              "        text-align: right;\n",
              "    }\n",
              "</style>\n",
              "<table border=\"1\" class=\"dataframe\">\n",
              "  <thead>\n",
              "    <tr style=\"text-align: right;\">\n",
              "      <th></th>\n",
              "      <th>cars_per_cap</th>\n",
              "      <th>country</th>\n",
              "      <th>drives_right</th>\n",
              "    </tr>\n",
              "  </thead>\n",
              "  <tbody>\n",
              "    <tr>\n",
              "      <th>RU</th>\n",
              "      <td>200</td>\n",
              "      <td>Russia</td>\n",
              "      <td>True</td>\n",
              "    </tr>\n",
              "  </tbody>\n",
              "</table>\n",
              "</div>"
            ],
            "text/plain": [
              "    cars_per_cap country  drives_right\n",
              "RU           200  Russia          True"
            ]
          },
          "metadata": {},
          "execution_count": 75
        }
      ]
    },
    {
      "cell_type": "code",
      "metadata": {
        "id": "dOww2vHZ7aIh",
        "colab": {
          "base_uri": "https://localhost:8080/",
          "height": 110
        },
        "outputId": "9d8611b1-ab4f-49e6-d0f8-1b0c4e10e9c9"
      },
      "source": [
        "# TO DO: Print all details for RU and AUS from cars dataframe.\n",
        "cars.loc[[\"RU\",\"AUS\"]]"
      ],
      "execution_count": 76,
      "outputs": [
        {
          "output_type": "execute_result",
          "data": {
            "text/html": [
              "<div>\n",
              "<style scoped>\n",
              "    .dataframe tbody tr th:only-of-type {\n",
              "        vertical-align: middle;\n",
              "    }\n",
              "\n",
              "    .dataframe tbody tr th {\n",
              "        vertical-align: top;\n",
              "    }\n",
              "\n",
              "    .dataframe thead th {\n",
              "        text-align: right;\n",
              "    }\n",
              "</style>\n",
              "<table border=\"1\" class=\"dataframe\">\n",
              "  <thead>\n",
              "    <tr style=\"text-align: right;\">\n",
              "      <th></th>\n",
              "      <th>cars_per_cap</th>\n",
              "      <th>country</th>\n",
              "      <th>drives_right</th>\n",
              "    </tr>\n",
              "  </thead>\n",
              "  <tbody>\n",
              "    <tr>\n",
              "      <th>RU</th>\n",
              "      <td>200</td>\n",
              "      <td>Russia</td>\n",
              "      <td>True</td>\n",
              "    </tr>\n",
              "    <tr>\n",
              "      <th>AUS</th>\n",
              "      <td>731</td>\n",
              "      <td>Australia</td>\n",
              "      <td>False</td>\n",
              "    </tr>\n",
              "  </tbody>\n",
              "</table>\n",
              "</div>"
            ],
            "text/plain": [
              "     cars_per_cap    country  drives_right\n",
              "RU            200     Russia          True\n",
              "AUS           731  Australia         False"
            ]
          },
          "metadata": {},
          "execution_count": 76
        }
      ]
    },
    {
      "cell_type": "code",
      "metadata": {
        "id": "54sE0emk76tQ",
        "colab": {
          "base_uri": "https://localhost:8080/"
        },
        "outputId": "05090d86-d3b1-4079-e210-a841c19d0033"
      },
      "source": [
        "# Print the Cars Per Capita (cars_per_cap) for India (IN).\n",
        "cars.loc[\"IN\",\"cars_per_cap\"]\n"
      ],
      "execution_count": 78,
      "outputs": [
        {
          "output_type": "execute_result",
          "data": {
            "text/plain": [
              "18"
            ]
          },
          "metadata": {},
          "execution_count": 78
        }
      ]
    },
    {
      "cell_type": "code",
      "metadata": {
        "id": "ourcXs9g8Fcw",
        "colab": {
          "base_uri": "https://localhost:8080/"
        },
        "outputId": "9d375139-8a9a-45f3-e2c9-2d4a8ab4bd6e"
      },
      "source": [
        "# Print the Cars Per Capita (cars_per_cap) for India (IN) and Russia (RU).\n",
        "\n",
        "cars[\"cars_per_cap\"].loc[[\"IN\",\"RU\"]]"
      ],
      "execution_count": 80,
      "outputs": [
        {
          "output_type": "execute_result",
          "data": {
            "text/plain": [
              "IN     18\n",
              "RU    200\n",
              "Name: cars_per_cap, dtype: int64"
            ]
          },
          "metadata": {},
          "execution_count": 80
        }
      ]
    },
    {
      "cell_type": "code",
      "metadata": {
        "id": "WkPXQVtj8N9c",
        "colab": {
          "base_uri": "https://localhost:8080/",
          "height": 110
        },
        "outputId": "340c6ffa-2199-4a96-f26a-ee837a44c6be"
      },
      "source": [
        "# Print the Cars Per Capita and Country name for India and Russia\n",
        "\n",
        "cars[[\"cars_per_cap\",\"country\"]].loc[[\"IN\",\"RU\"]]"
      ],
      "execution_count": 81,
      "outputs": [
        {
          "output_type": "execute_result",
          "data": {
            "text/html": [
              "<div>\n",
              "<style scoped>\n",
              "    .dataframe tbody tr th:only-of-type {\n",
              "        vertical-align: middle;\n",
              "    }\n",
              "\n",
              "    .dataframe tbody tr th {\n",
              "        vertical-align: top;\n",
              "    }\n",
              "\n",
              "    .dataframe thead th {\n",
              "        text-align: right;\n",
              "    }\n",
              "</style>\n",
              "<table border=\"1\" class=\"dataframe\">\n",
              "  <thead>\n",
              "    <tr style=\"text-align: right;\">\n",
              "      <th></th>\n",
              "      <th>cars_per_cap</th>\n",
              "      <th>country</th>\n",
              "    </tr>\n",
              "  </thead>\n",
              "  <tbody>\n",
              "    <tr>\n",
              "      <th>IN</th>\n",
              "      <td>18</td>\n",
              "      <td>India</td>\n",
              "    </tr>\n",
              "    <tr>\n",
              "      <th>RU</th>\n",
              "      <td>200</td>\n",
              "      <td>Russia</td>\n",
              "    </tr>\n",
              "  </tbody>\n",
              "</table>\n",
              "</div>"
            ],
            "text/plain": [
              "    cars_per_cap country\n",
              "IN            18   India\n",
              "RU           200  Russia"
            ]
          },
          "metadata": {},
          "execution_count": 81
        }
      ]
    },
    {
      "cell_type": "markdown",
      "metadata": {
        "id": "usgDvH-A8uX8"
      },
      "source": [
        "# Pandas Advanced and Matplotlib\n",
        "\n",
        "Dateset to use: marks.csv : https://drive.google.com/file/d/1U3DiTOcrhKI-5_jRttZqX4F1mup0QPZp/view?usp=sharing"
      ]
    },
    {
      "cell_type": "code",
      "metadata": {
        "id": "ouB4VrZo-KMN",
        "colab": {
          "resources": {
            "http://localhost:8080/nbextensions/google.colab/files.js": {
              "data": "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",
              "ok": true,
              "headers": [
                [
                  "content-type",
                  "application/javascript"
                ]
              ],
              "status": 200,
              "status_text": ""
            }
          },
          "base_uri": "https://localhost:8080/",
          "height": 73
        },
        "outputId": "a70364e0-796d-4690-cb1f-0e4d82b16b46"
      },
      "source": [
        "# If data is in Google Drive\n",
        "import pandas as pd\n",
        "from google.colab import files\n",
        "uploaded = files.upload()"
      ],
      "execution_count": 1,
      "outputs": [
        {
          "output_type": "display_data",
          "data": {
            "text/html": [
              "\n",
              "     <input type=\"file\" id=\"files-ce76b247-d2d6-4bca-815b-7479393feaed\" name=\"files[]\" multiple disabled\n",
              "        style=\"border:none\" />\n",
              "     <output id=\"result-ce76b247-d2d6-4bca-815b-7479393feaed\">\n",
              "      Upload widget is only available when the cell has been executed in the\n",
              "      current browser session. Please rerun this cell to enable.\n",
              "      </output>\n",
              "      <script src=\"/nbextensions/google.colab/files.js\"></script> "
            ],
            "text/plain": [
              "<IPython.core.display.HTML object>"
            ]
          },
          "metadata": {}
        },
        {
          "output_type": "stream",
          "name": "stdout",
          "text": [
            "Saving marks.csv to marks.csv\n"
          ]
        }
      ]
    },
    {
      "cell_type": "code",
      "metadata": {
        "id": "Bnv4nci6-Yxp",
        "colab": {
          "base_uri": "https://localhost:8080/",
          "height": 665
        },
        "outputId": "6caab12f-e99d-4a58-f9ce-fa95299ef324"
      },
      "source": [
        "# Coninuation of the previous code cell. \n",
        "'''\n",
        "The io module provides Python's main facilities for dealing with various types of I/O. \n",
        "There are three main types of I/O: text I/O, binary I/O and raw I/O. \n",
        "'''\n",
        "\n",
        "import io\n",
        "marks = pd.read_csv(io.BytesIO(uploaded['marks.csv']))\n",
        "# Dataset is now stored in a Pandas Dataframe\n",
        "\n",
        "marks"
      ],
      "execution_count": 2,
      "outputs": [
        {
          "output_type": "execute_result",
          "data": {
            "text/html": [
              "<div>\n",
              "<style scoped>\n",
              "    .dataframe tbody tr th:only-of-type {\n",
              "        vertical-align: middle;\n",
              "    }\n",
              "\n",
              "    .dataframe tbody tr th {\n",
              "        vertical-align: top;\n",
              "    }\n",
              "\n",
              "    .dataframe thead th {\n",
              "        text-align: right;\n",
              "    }\n",
              "</style>\n",
              "<table border=\"1\" class=\"dataframe\">\n",
              "  <thead>\n",
              "    <tr style=\"text-align: right;\">\n",
              "      <th></th>\n",
              "      <th>Student_ID</th>\n",
              "      <th>Student_Name</th>\n",
              "      <th>English</th>\n",
              "      <th>Maths</th>\n",
              "      <th>Science</th>\n",
              "      <th>History</th>\n",
              "      <th>Social_Studies</th>\n",
              "    </tr>\n",
              "  </thead>\n",
              "  <tbody>\n",
              "    <tr>\n",
              "      <th>0</th>\n",
              "      <td>S01</td>\n",
              "      <td>Alice</td>\n",
              "      <td>96.874050</td>\n",
              "      <td>15.367999</td>\n",
              "      <td>58.682033</td>\n",
              "      <td>59.690510</td>\n",
              "      <td>61.373070</td>\n",
              "    </tr>\n",
              "    <tr>\n",
              "      <th>1</th>\n",
              "      <td>S02</td>\n",
              "      <td>Bob</td>\n",
              "      <td>5.462131</td>\n",
              "      <td>81.032680</td>\n",
              "      <td>83.171957</td>\n",
              "      <td>45.664012</td>\n",
              "      <td>80.805730</td>\n",
              "    </tr>\n",
              "    <tr>\n",
              "      <th>2</th>\n",
              "      <td>S03</td>\n",
              "      <td>Charlie</td>\n",
              "      <td>60.753099</td>\n",
              "      <td>65.219548</td>\n",
              "      <td>99.323628</td>\n",
              "      <td>24.281512</td>\n",
              "      <td>58.057612</td>\n",
              "    </tr>\n",
              "    <tr>\n",
              "      <th>3</th>\n",
              "      <td>S04</td>\n",
              "      <td>David</td>\n",
              "      <td>21.160844</td>\n",
              "      <td>95.052971</td>\n",
              "      <td>35.860852</td>\n",
              "      <td>62.865185</td>\n",
              "      <td>95.264572</td>\n",
              "    </tr>\n",
              "    <tr>\n",
              "      <th>4</th>\n",
              "      <td>S05</td>\n",
              "      <td>Edward</td>\n",
              "      <td>63.250994</td>\n",
              "      <td>60.693247</td>\n",
              "      <td>7.020915</td>\n",
              "      <td>60.505272</td>\n",
              "      <td>34.041671</td>\n",
              "    </tr>\n",
              "    <tr>\n",
              "      <th>5</th>\n",
              "      <td>S06</td>\n",
              "      <td>Fysal</td>\n",
              "      <td>42.694748</td>\n",
              "      <td>77.348295</td>\n",
              "      <td>37.216613</td>\n",
              "      <td>33.784399</td>\n",
              "      <td>85.019761</td>\n",
              "    </tr>\n",
              "    <tr>\n",
              "      <th>6</th>\n",
              "      <td>S07</td>\n",
              "      <td>George</td>\n",
              "      <td>66.276626</td>\n",
              "      <td>46.812190</td>\n",
              "      <td>14.219533</td>\n",
              "      <td>18.582771</td>\n",
              "      <td>87.021849</td>\n",
              "    </tr>\n",
              "    <tr>\n",
              "      <th>7</th>\n",
              "      <td>S08</td>\n",
              "      <td>Hareez</td>\n",
              "      <td>5.302984</td>\n",
              "      <td>11.966929</td>\n",
              "      <td>43.980951</td>\n",
              "      <td>54.410098</td>\n",
              "      <td>74.530018</td>\n",
              "    </tr>\n",
              "    <tr>\n",
              "      <th>8</th>\n",
              "      <td>S09</td>\n",
              "      <td>Ivan</td>\n",
              "      <td>5.777530</td>\n",
              "      <td>79.508179</td>\n",
              "      <td>94.559212</td>\n",
              "      <td>38.355867</td>\n",
              "      <td>90.483635</td>\n",
              "    </tr>\n",
              "    <tr>\n",
              "      <th>9</th>\n",
              "      <td>S10</td>\n",
              "      <td>John</td>\n",
              "      <td>30.968731</td>\n",
              "      <td>14.282925</td>\n",
              "      <td>3.312853</td>\n",
              "      <td>79.916094</td>\n",
              "      <td>32.706891</td>\n",
              "    </tr>\n",
              "    <tr>\n",
              "      <th>10</th>\n",
              "      <td>S11</td>\n",
              "      <td>Kelvin</td>\n",
              "      <td>40.219985</td>\n",
              "      <td>55.325651</td>\n",
              "      <td>16.826141</td>\n",
              "      <td>7.462064</td>\n",
              "      <td>34.449110</td>\n",
              "    </tr>\n",
              "    <tr>\n",
              "      <th>11</th>\n",
              "      <td>S12</td>\n",
              "      <td>Lia</td>\n",
              "      <td>95.928421</td>\n",
              "      <td>35.789430</td>\n",
              "      <td>95.440164</td>\n",
              "      <td>43.520213</td>\n",
              "      <td>71.930382</td>\n",
              "    </tr>\n",
              "    <tr>\n",
              "      <th>12</th>\n",
              "      <td>S13</td>\n",
              "      <td>Maria</td>\n",
              "      <td>8.215446</td>\n",
              "      <td>25.042783</td>\n",
              "      <td>16.518147</td>\n",
              "      <td>36.543154</td>\n",
              "      <td>80.665074</td>\n",
              "    </tr>\n",
              "    <tr>\n",
              "      <th>13</th>\n",
              "      <td>S14</td>\n",
              "      <td>Noel</td>\n",
              "      <td>72.833673</td>\n",
              "      <td>7.160086</td>\n",
              "      <td>22.089014</td>\n",
              "      <td>52.867757</td>\n",
              "      <td>20.583259</td>\n",
              "    </tr>\n",
              "    <tr>\n",
              "      <th>14</th>\n",
              "      <td>S15</td>\n",
              "      <td>Oliver</td>\n",
              "      <td>5.982402</td>\n",
              "      <td>16.460926</td>\n",
              "      <td>40.977224</td>\n",
              "      <td>80.925749</td>\n",
              "      <td>83.312063</td>\n",
              "    </tr>\n",
              "    <tr>\n",
              "      <th>15</th>\n",
              "      <td>S16</td>\n",
              "      <td>Peter</td>\n",
              "      <td>40.694327</td>\n",
              "      <td>91.395888</td>\n",
              "      <td>8.149884</td>\n",
              "      <td>13.852098</td>\n",
              "      <td>74.528425</td>\n",
              "    </tr>\n",
              "    <tr>\n",
              "      <th>16</th>\n",
              "      <td>S17</td>\n",
              "      <td>Roy</td>\n",
              "      <td>43.559963</td>\n",
              "      <td>99.270852</td>\n",
              "      <td>13.924531</td>\n",
              "      <td>71.306738</td>\n",
              "      <td>8.432155</td>\n",
              "    </tr>\n",
              "    <tr>\n",
              "      <th>17</th>\n",
              "      <td>S18</td>\n",
              "      <td>Ria</td>\n",
              "      <td>30.830802</td>\n",
              "      <td>25.545682</td>\n",
              "      <td>84.271650</td>\n",
              "      <td>78.727155</td>\n",
              "      <td>7.305670</td>\n",
              "    </tr>\n",
              "    <tr>\n",
              "      <th>18</th>\n",
              "      <td>S19</td>\n",
              "      <td>Suvin</td>\n",
              "      <td>72.218179</td>\n",
              "      <td>85.284128</td>\n",
              "      <td>32.555060</td>\n",
              "      <td>47.007177</td>\n",
              "      <td>83.344403</td>\n",
              "    </tr>\n",
              "    <tr>\n",
              "      <th>19</th>\n",
              "      <td>S20</td>\n",
              "      <td>Tan</td>\n",
              "      <td>18.070264</td>\n",
              "      <td>56.662635</td>\n",
              "      <td>2.618987</td>\n",
              "      <td>14.067349</td>\n",
              "      <td>82.802787</td>\n",
              "    </tr>\n",
              "  </tbody>\n",
              "</table>\n",
              "</div>"
            ],
            "text/plain": [
              "   Student_ID Student_Name    English  ...    Science    History  Social_Studies\n",
              "0         S01        Alice  96.874050  ...  58.682033  59.690510       61.373070\n",
              "1         S02          Bob   5.462131  ...  83.171957  45.664012       80.805730\n",
              "2         S03      Charlie  60.753099  ...  99.323628  24.281512       58.057612\n",
              "3         S04        David  21.160844  ...  35.860852  62.865185       95.264572\n",
              "4         S05       Edward  63.250994  ...   7.020915  60.505272       34.041671\n",
              "5         S06        Fysal  42.694748  ...  37.216613  33.784399       85.019761\n",
              "6         S07       George  66.276626  ...  14.219533  18.582771       87.021849\n",
              "7         S08       Hareez   5.302984  ...  43.980951  54.410098       74.530018\n",
              "8         S09         Ivan   5.777530  ...  94.559212  38.355867       90.483635\n",
              "9         S10         John  30.968731  ...   3.312853  79.916094       32.706891\n",
              "10        S11       Kelvin  40.219985  ...  16.826141   7.462064       34.449110\n",
              "11        S12          Lia  95.928421  ...  95.440164  43.520213       71.930382\n",
              "12        S13        Maria   8.215446  ...  16.518147  36.543154       80.665074\n",
              "13        S14         Noel  72.833673  ...  22.089014  52.867757       20.583259\n",
              "14        S15       Oliver   5.982402  ...  40.977224  80.925749       83.312063\n",
              "15        S16        Peter  40.694327  ...   8.149884  13.852098       74.528425\n",
              "16        S17          Roy  43.559963  ...  13.924531  71.306738        8.432155\n",
              "17        S18          Ria  30.830802  ...  84.271650  78.727155        7.305670\n",
              "18        S19        Suvin  72.218179  ...  32.555060  47.007177       83.344403\n",
              "19        S20          Tan  18.070264  ...   2.618987  14.067349       82.802787\n",
              "\n",
              "[20 rows x 7 columns]"
            ]
          },
          "metadata": {},
          "execution_count": 2
        }
      ]
    },
    {
      "cell_type": "code",
      "metadata": {
        "id": "pLHnlQvE-zaX"
      },
      "source": [
        "# If working on Jupyter Notebook and data is in local drive\n",
        " marks = pd.read_csv(\"C:/Users/AINE AI/Downloads/brics.csv\")"
      ],
      "execution_count": 4,
      "outputs": []
    },
    {
      "cell_type": "code",
      "metadata": {
        "id": "063LhsOW-mM2",
        "colab": {
          "base_uri": "https://localhost:8080/"
        },
        "outputId": "af863960-ba75-4b6e-98ac-fb97a6471c13"
      },
      "source": [
        "# TO DO: Show the shape of the dataframe\n",
        "# Hint: shape()\n",
        "\n",
        "marks.shape"
      ],
      "execution_count": 5,
      "outputs": [
        {
          "output_type": "execute_result",
          "data": {
            "text/plain": [
              "(20, 7)"
            ]
          },
          "metadata": {},
          "execution_count": 5
        }
      ]
    },
    {
      "cell_type": "code",
      "metadata": {
        "id": "1dHh6S1x--aV",
        "colab": {
          "base_uri": "https://localhost:8080/"
        },
        "outputId": "8a4edfb5-fe1d-4971-9a8d-b5f6d498d853"
      },
      "source": [
        "# TO DO: Get the information and structure of the data with non-null value counts\n",
        "marks.info()\n"
      ],
      "execution_count": 9,
      "outputs": [
        {
          "output_type": "stream",
          "name": "stdout",
          "text": [
            "<class 'pandas.core.frame.DataFrame'>\n",
            "RangeIndex: 20 entries, 0 to 19\n",
            "Data columns (total 7 columns):\n",
            " #   Column          Non-Null Count  Dtype  \n",
            "---  ------          --------------  -----  \n",
            " 0   Student_ID      20 non-null     object \n",
            " 1   Student_Name    20 non-null     object \n",
            " 2   English         20 non-null     float64\n",
            " 3   Maths           20 non-null     float64\n",
            " 4   Science         20 non-null     float64\n",
            " 5   History         20 non-null     float64\n",
            " 6   Social_Studies  20 non-null     float64\n",
            "dtypes: float64(5), object(2)\n",
            "memory usage: 1.2+ KB\n"
          ]
        }
      ]
    },
    {
      "cell_type": "code",
      "metadata": {
        "id": "67SH1sBt_FWI",
        "colab": {
          "base_uri": "https://localhost:8080/"
        },
        "outputId": "e116c4b9-e54d-4aff-dcf6-3f7810603f23"
      },
      "source": [
        "# Print datatypes of the each column\n",
        "marks.dtypes"
      ],
      "execution_count": 7,
      "outputs": [
        {
          "output_type": "execute_result",
          "data": {
            "text/plain": [
              "Student_ID         object\n",
              "Student_Name       object\n",
              "English           float64\n",
              "Maths             float64\n",
              "Science           float64\n",
              "History           float64\n",
              "Social_Studies    float64\n",
              "dtype: object"
            ]
          },
          "metadata": {},
          "execution_count": 7
        }
      ]
    },
    {
      "cell_type": "markdown",
      "metadata": {
        "id": "9wgofsQW_L1O"
      },
      "source": [
        "Note: The output that you see is for the values in the column, not for the column iteself. A column of a dataframe is called a SERIES. The type of a series is Series.\n",
        "\n",
        "Run the next code code and observe the output to get more clarity."
      ]
    },
    {
      "cell_type": "code",
      "metadata": {
        "id": "dFFru5IF_YF9",
        "colab": {
          "base_uri": "https://localhost:8080/"
        },
        "outputId": "c0aa9719-8b96-4414-872c-51055d5ff1ff"
      },
      "source": [
        "print(type(marks))\n",
        "print(type(marks.English))  # Column's dtype is Series, the dtype of the values is Object.\n",
        "print(type(5))\n",
        "print(type(5.5))\n",
        "print(type(\"Python\"))\n",
        "print(type(True))"
      ],
      "execution_count": 10,
      "outputs": [
        {
          "output_type": "stream",
          "name": "stdout",
          "text": [
            "<class 'pandas.core.frame.DataFrame'>\n",
            "<class 'pandas.core.series.Series'>\n",
            "<class 'int'>\n",
            "<class 'float'>\n",
            "<class 'str'>\n",
            "<class 'bool'>\n"
          ]
        }
      ]
    },
    {
      "cell_type": "markdown",
      "metadata": {
        "id": "A3z30RK8_hOm"
      },
      "source": [
        "#### display() Vs print()\n",
        "\n",
        "display() is similar to print() with some difference. \n",
        "\n",
        "Useful in advanced Python when you can 'display' images, but not 'print' them.\n",
        "\n",
        "When working on a dataframe, prefer to use display()\n"
      ]
    },
    {
      "cell_type": "code",
      "metadata": {
        "id": "oQC_WN5u_25j",
        "colab": {
          "base_uri": "https://localhost:8080/",
          "height": 1000
        },
        "outputId": "95ebb08b-b5a3-4ae3-967e-72c9a6290a90"
      },
      "source": [
        "# Run these lines one by one and observe the difference in the three outputs.\n",
        "\n",
        "print(marks)\n",
        "display(marks) \n",
        "marks"
      ],
      "execution_count": 14,
      "outputs": [
        {
          "output_type": "stream",
          "name": "stdout",
          "text": [
            "   Student_ID Student_Name    English  ...    Science    History  Social_Studies\n",
            "0         S01        Alice  96.874050  ...  58.682033  59.690510       61.373070\n",
            "1         S02          Bob   5.462131  ...  83.171957  45.664012       80.805730\n",
            "2         S03      Charlie  60.753099  ...  99.323628  24.281512       58.057612\n",
            "3         S04        David  21.160844  ...  35.860852  62.865185       95.264572\n",
            "4         S05       Edward  63.250994  ...   7.020915  60.505272       34.041671\n",
            "5         S06        Fysal  42.694748  ...  37.216613  33.784399       85.019761\n",
            "6         S07       George  66.276626  ...  14.219533  18.582771       87.021849\n",
            "7         S08       Hareez   5.302984  ...  43.980951  54.410098       74.530018\n",
            "8         S09         Ivan   5.777530  ...  94.559212  38.355867       90.483635\n",
            "9         S10         John  30.968731  ...   3.312853  79.916094       32.706891\n",
            "10        S11       Kelvin  40.219985  ...  16.826141   7.462064       34.449110\n",
            "11        S12          Lia  95.928421  ...  95.440164  43.520213       71.930382\n",
            "12        S13        Maria   8.215446  ...  16.518147  36.543154       80.665074\n",
            "13        S14         Noel  72.833673  ...  22.089014  52.867757       20.583259\n",
            "14        S15       Oliver   5.982402  ...  40.977224  80.925749       83.312063\n",
            "15        S16        Peter  40.694327  ...   8.149884  13.852098       74.528425\n",
            "16        S17          Roy  43.559963  ...  13.924531  71.306738        8.432155\n",
            "17        S18          Ria  30.830802  ...  84.271650  78.727155        7.305670\n",
            "18        S19        Suvin  72.218179  ...  32.555060  47.007177       83.344403\n",
            "19        S20          Tan  18.070264  ...   2.618987  14.067349       82.802787\n",
            "\n",
            "[20 rows x 7 columns]\n"
          ]
        },
        {
          "output_type": "display_data",
          "data": {
            "text/html": [
              "<div>\n",
              "<style scoped>\n",
              "    .dataframe tbody tr th:only-of-type {\n",
              "        vertical-align: middle;\n",
              "    }\n",
              "\n",
              "    .dataframe tbody tr th {\n",
              "        vertical-align: top;\n",
              "    }\n",
              "\n",
              "    .dataframe thead th {\n",
              "        text-align: right;\n",
              "    }\n",
              "</style>\n",
              "<table border=\"1\" class=\"dataframe\">\n",
              "  <thead>\n",
              "    <tr style=\"text-align: right;\">\n",
              "      <th></th>\n",
              "      <th>Student_ID</th>\n",
              "      <th>Student_Name</th>\n",
              "      <th>English</th>\n",
              "      <th>Maths</th>\n",
              "      <th>Science</th>\n",
              "      <th>History</th>\n",
              "      <th>Social_Studies</th>\n",
              "    </tr>\n",
              "  </thead>\n",
              "  <tbody>\n",
              "    <tr>\n",
              "      <th>0</th>\n",
              "      <td>S01</td>\n",
              "      <td>Alice</td>\n",
              "      <td>96.874050</td>\n",
              "      <td>15.367999</td>\n",
              "      <td>58.682033</td>\n",
              "      <td>59.690510</td>\n",
              "      <td>61.373070</td>\n",
              "    </tr>\n",
              "    <tr>\n",
              "      <th>1</th>\n",
              "      <td>S02</td>\n",
              "      <td>Bob</td>\n",
              "      <td>5.462131</td>\n",
              "      <td>81.032680</td>\n",
              "      <td>83.171957</td>\n",
              "      <td>45.664012</td>\n",
              "      <td>80.805730</td>\n",
              "    </tr>\n",
              "    <tr>\n",
              "      <th>2</th>\n",
              "      <td>S03</td>\n",
              "      <td>Charlie</td>\n",
              "      <td>60.753099</td>\n",
              "      <td>65.219548</td>\n",
              "      <td>99.323628</td>\n",
              "      <td>24.281512</td>\n",
              "      <td>58.057612</td>\n",
              "    </tr>\n",
              "    <tr>\n",
              "      <th>3</th>\n",
              "      <td>S04</td>\n",
              "      <td>David</td>\n",
              "      <td>21.160844</td>\n",
              "      <td>95.052971</td>\n",
              "      <td>35.860852</td>\n",
              "      <td>62.865185</td>\n",
              "      <td>95.264572</td>\n",
              "    </tr>\n",
              "    <tr>\n",
              "      <th>4</th>\n",
              "      <td>S05</td>\n",
              "      <td>Edward</td>\n",
              "      <td>63.250994</td>\n",
              "      <td>60.693247</td>\n",
              "      <td>7.020915</td>\n",
              "      <td>60.505272</td>\n",
              "      <td>34.041671</td>\n",
              "    </tr>\n",
              "    <tr>\n",
              "      <th>5</th>\n",
              "      <td>S06</td>\n",
              "      <td>Fysal</td>\n",
              "      <td>42.694748</td>\n",
              "      <td>77.348295</td>\n",
              "      <td>37.216613</td>\n",
              "      <td>33.784399</td>\n",
              "      <td>85.019761</td>\n",
              "    </tr>\n",
              "    <tr>\n",
              "      <th>6</th>\n",
              "      <td>S07</td>\n",
              "      <td>George</td>\n",
              "      <td>66.276626</td>\n",
              "      <td>46.812190</td>\n",
              "      <td>14.219533</td>\n",
              "      <td>18.582771</td>\n",
              "      <td>87.021849</td>\n",
              "    </tr>\n",
              "    <tr>\n",
              "      <th>7</th>\n",
              "      <td>S08</td>\n",
              "      <td>Hareez</td>\n",
              "      <td>5.302984</td>\n",
              "      <td>11.966929</td>\n",
              "      <td>43.980951</td>\n",
              "      <td>54.410098</td>\n",
              "      <td>74.530018</td>\n",
              "    </tr>\n",
              "    <tr>\n",
              "      <th>8</th>\n",
              "      <td>S09</td>\n",
              "      <td>Ivan</td>\n",
              "      <td>5.777530</td>\n",
              "      <td>79.508179</td>\n",
              "      <td>94.559212</td>\n",
              "      <td>38.355867</td>\n",
              "      <td>90.483635</td>\n",
              "    </tr>\n",
              "    <tr>\n",
              "      <th>9</th>\n",
              "      <td>S10</td>\n",
              "      <td>John</td>\n",
              "      <td>30.968731</td>\n",
              "      <td>14.282925</td>\n",
              "      <td>3.312853</td>\n",
              "      <td>79.916094</td>\n",
              "      <td>32.706891</td>\n",
              "    </tr>\n",
              "    <tr>\n",
              "      <th>10</th>\n",
              "      <td>S11</td>\n",
              "      <td>Kelvin</td>\n",
              "      <td>40.219985</td>\n",
              "      <td>55.325651</td>\n",
              "      <td>16.826141</td>\n",
              "      <td>7.462064</td>\n",
              "      <td>34.449110</td>\n",
              "    </tr>\n",
              "    <tr>\n",
              "      <th>11</th>\n",
              "      <td>S12</td>\n",
              "      <td>Lia</td>\n",
              "      <td>95.928421</td>\n",
              "      <td>35.789430</td>\n",
              "      <td>95.440164</td>\n",
              "      <td>43.520213</td>\n",
              "      <td>71.930382</td>\n",
              "    </tr>\n",
              "    <tr>\n",
              "      <th>12</th>\n",
              "      <td>S13</td>\n",
              "      <td>Maria</td>\n",
              "      <td>8.215446</td>\n",
              "      <td>25.042783</td>\n",
              "      <td>16.518147</td>\n",
              "      <td>36.543154</td>\n",
              "      <td>80.665074</td>\n",
              "    </tr>\n",
              "    <tr>\n",
              "      <th>13</th>\n",
              "      <td>S14</td>\n",
              "      <td>Noel</td>\n",
              "      <td>72.833673</td>\n",
              "      <td>7.160086</td>\n",
              "      <td>22.089014</td>\n",
              "      <td>52.867757</td>\n",
              "      <td>20.583259</td>\n",
              "    </tr>\n",
              "    <tr>\n",
              "      <th>14</th>\n",
              "      <td>S15</td>\n",
              "      <td>Oliver</td>\n",
              "      <td>5.982402</td>\n",
              "      <td>16.460926</td>\n",
              "      <td>40.977224</td>\n",
              "      <td>80.925749</td>\n",
              "      <td>83.312063</td>\n",
              "    </tr>\n",
              "    <tr>\n",
              "      <th>15</th>\n",
              "      <td>S16</td>\n",
              "      <td>Peter</td>\n",
              "      <td>40.694327</td>\n",
              "      <td>91.395888</td>\n",
              "      <td>8.149884</td>\n",
              "      <td>13.852098</td>\n",
              "      <td>74.528425</td>\n",
              "    </tr>\n",
              "    <tr>\n",
              "      <th>16</th>\n",
              "      <td>S17</td>\n",
              "      <td>Roy</td>\n",
              "      <td>43.559963</td>\n",
              "      <td>99.270852</td>\n",
              "      <td>13.924531</td>\n",
              "      <td>71.306738</td>\n",
              "      <td>8.432155</td>\n",
              "    </tr>\n",
              "    <tr>\n",
              "      <th>17</th>\n",
              "      <td>S18</td>\n",
              "      <td>Ria</td>\n",
              "      <td>30.830802</td>\n",
              "      <td>25.545682</td>\n",
              "      <td>84.271650</td>\n",
              "      <td>78.727155</td>\n",
              "      <td>7.305670</td>\n",
              "    </tr>\n",
              "    <tr>\n",
              "      <th>18</th>\n",
              "      <td>S19</td>\n",
              "      <td>Suvin</td>\n",
              "      <td>72.218179</td>\n",
              "      <td>85.284128</td>\n",
              "      <td>32.555060</td>\n",
              "      <td>47.007177</td>\n",
              "      <td>83.344403</td>\n",
              "    </tr>\n",
              "    <tr>\n",
              "      <th>19</th>\n",
              "      <td>S20</td>\n",
              "      <td>Tan</td>\n",
              "      <td>18.070264</td>\n",
              "      <td>56.662635</td>\n",
              "      <td>2.618987</td>\n",
              "      <td>14.067349</td>\n",
              "      <td>82.802787</td>\n",
              "    </tr>\n",
              "  </tbody>\n",
              "</table>\n",
              "</div>"
            ],
            "text/plain": [
              "   Student_ID Student_Name    English  ...    Science    History  Social_Studies\n",
              "0         S01        Alice  96.874050  ...  58.682033  59.690510       61.373070\n",
              "1         S02          Bob   5.462131  ...  83.171957  45.664012       80.805730\n",
              "2         S03      Charlie  60.753099  ...  99.323628  24.281512       58.057612\n",
              "3         S04        David  21.160844  ...  35.860852  62.865185       95.264572\n",
              "4         S05       Edward  63.250994  ...   7.020915  60.505272       34.041671\n",
              "5         S06        Fysal  42.694748  ...  37.216613  33.784399       85.019761\n",
              "6         S07       George  66.276626  ...  14.219533  18.582771       87.021849\n",
              "7         S08       Hareez   5.302984  ...  43.980951  54.410098       74.530018\n",
              "8         S09         Ivan   5.777530  ...  94.559212  38.355867       90.483635\n",
              "9         S10         John  30.968731  ...   3.312853  79.916094       32.706891\n",
              "10        S11       Kelvin  40.219985  ...  16.826141   7.462064       34.449110\n",
              "11        S12          Lia  95.928421  ...  95.440164  43.520213       71.930382\n",
              "12        S13        Maria   8.215446  ...  16.518147  36.543154       80.665074\n",
              "13        S14         Noel  72.833673  ...  22.089014  52.867757       20.583259\n",
              "14        S15       Oliver   5.982402  ...  40.977224  80.925749       83.312063\n",
              "15        S16        Peter  40.694327  ...   8.149884  13.852098       74.528425\n",
              "16        S17          Roy  43.559963  ...  13.924531  71.306738        8.432155\n",
              "17        S18          Ria  30.830802  ...  84.271650  78.727155        7.305670\n",
              "18        S19        Suvin  72.218179  ...  32.555060  47.007177       83.344403\n",
              "19        S20          Tan  18.070264  ...   2.618987  14.067349       82.802787\n",
              "\n",
              "[20 rows x 7 columns]"
            ]
          },
          "metadata": {}
        },
        {
          "output_type": "execute_result",
          "data": {
            "text/html": [
              "<div>\n",
              "<style scoped>\n",
              "    .dataframe tbody tr th:only-of-type {\n",
              "        vertical-align: middle;\n",
              "    }\n",
              "\n",
              "    .dataframe tbody tr th {\n",
              "        vertical-align: top;\n",
              "    }\n",
              "\n",
              "    .dataframe thead th {\n",
              "        text-align: right;\n",
              "    }\n",
              "</style>\n",
              "<table border=\"1\" class=\"dataframe\">\n",
              "  <thead>\n",
              "    <tr style=\"text-align: right;\">\n",
              "      <th></th>\n",
              "      <th>Student_ID</th>\n",
              "      <th>Student_Name</th>\n",
              "      <th>English</th>\n",
              "      <th>Maths</th>\n",
              "      <th>Science</th>\n",
              "      <th>History</th>\n",
              "      <th>Social_Studies</th>\n",
              "    </tr>\n",
              "  </thead>\n",
              "  <tbody>\n",
              "    <tr>\n",
              "      <th>0</th>\n",
              "      <td>S01</td>\n",
              "      <td>Alice</td>\n",
              "      <td>96.874050</td>\n",
              "      <td>15.367999</td>\n",
              "      <td>58.682033</td>\n",
              "      <td>59.690510</td>\n",
              "      <td>61.373070</td>\n",
              "    </tr>\n",
              "    <tr>\n",
              "      <th>1</th>\n",
              "      <td>S02</td>\n",
              "      <td>Bob</td>\n",
              "      <td>5.462131</td>\n",
              "      <td>81.032680</td>\n",
              "      <td>83.171957</td>\n",
              "      <td>45.664012</td>\n",
              "      <td>80.805730</td>\n",
              "    </tr>\n",
              "    <tr>\n",
              "      <th>2</th>\n",
              "      <td>S03</td>\n",
              "      <td>Charlie</td>\n",
              "      <td>60.753099</td>\n",
              "      <td>65.219548</td>\n",
              "      <td>99.323628</td>\n",
              "      <td>24.281512</td>\n",
              "      <td>58.057612</td>\n",
              "    </tr>\n",
              "    <tr>\n",
              "      <th>3</th>\n",
              "      <td>S04</td>\n",
              "      <td>David</td>\n",
              "      <td>21.160844</td>\n",
              "      <td>95.052971</td>\n",
              "      <td>35.860852</td>\n",
              "      <td>62.865185</td>\n",
              "      <td>95.264572</td>\n",
              "    </tr>\n",
              "    <tr>\n",
              "      <th>4</th>\n",
              "      <td>S05</td>\n",
              "      <td>Edward</td>\n",
              "      <td>63.250994</td>\n",
              "      <td>60.693247</td>\n",
              "      <td>7.020915</td>\n",
              "      <td>60.505272</td>\n",
              "      <td>34.041671</td>\n",
              "    </tr>\n",
              "    <tr>\n",
              "      <th>5</th>\n",
              "      <td>S06</td>\n",
              "      <td>Fysal</td>\n",
              "      <td>42.694748</td>\n",
              "      <td>77.348295</td>\n",
              "      <td>37.216613</td>\n",
              "      <td>33.784399</td>\n",
              "      <td>85.019761</td>\n",
              "    </tr>\n",
              "    <tr>\n",
              "      <th>6</th>\n",
              "      <td>S07</td>\n",
              "      <td>George</td>\n",
              "      <td>66.276626</td>\n",
              "      <td>46.812190</td>\n",
              "      <td>14.219533</td>\n",
              "      <td>18.582771</td>\n",
              "      <td>87.021849</td>\n",
              "    </tr>\n",
              "    <tr>\n",
              "      <th>7</th>\n",
              "      <td>S08</td>\n",
              "      <td>Hareez</td>\n",
              "      <td>5.302984</td>\n",
              "      <td>11.966929</td>\n",
              "      <td>43.980951</td>\n",
              "      <td>54.410098</td>\n",
              "      <td>74.530018</td>\n",
              "    </tr>\n",
              "    <tr>\n",
              "      <th>8</th>\n",
              "      <td>S09</td>\n",
              "      <td>Ivan</td>\n",
              "      <td>5.777530</td>\n",
              "      <td>79.508179</td>\n",
              "      <td>94.559212</td>\n",
              "      <td>38.355867</td>\n",
              "      <td>90.483635</td>\n",
              "    </tr>\n",
              "    <tr>\n",
              "      <th>9</th>\n",
              "      <td>S10</td>\n",
              "      <td>John</td>\n",
              "      <td>30.968731</td>\n",
              "      <td>14.282925</td>\n",
              "      <td>3.312853</td>\n",
              "      <td>79.916094</td>\n",
              "      <td>32.706891</td>\n",
              "    </tr>\n",
              "    <tr>\n",
              "      <th>10</th>\n",
              "      <td>S11</td>\n",
              "      <td>Kelvin</td>\n",
              "      <td>40.219985</td>\n",
              "      <td>55.325651</td>\n",
              "      <td>16.826141</td>\n",
              "      <td>7.462064</td>\n",
              "      <td>34.449110</td>\n",
              "    </tr>\n",
              "    <tr>\n",
              "      <th>11</th>\n",
              "      <td>S12</td>\n",
              "      <td>Lia</td>\n",
              "      <td>95.928421</td>\n",
              "      <td>35.789430</td>\n",
              "      <td>95.440164</td>\n",
              "      <td>43.520213</td>\n",
              "      <td>71.930382</td>\n",
              "    </tr>\n",
              "    <tr>\n",
              "      <th>12</th>\n",
              "      <td>S13</td>\n",
              "      <td>Maria</td>\n",
              "      <td>8.215446</td>\n",
              "      <td>25.042783</td>\n",
              "      <td>16.518147</td>\n",
              "      <td>36.543154</td>\n",
              "      <td>80.665074</td>\n",
              "    </tr>\n",
              "    <tr>\n",
              "      <th>13</th>\n",
              "      <td>S14</td>\n",
              "      <td>Noel</td>\n",
              "      <td>72.833673</td>\n",
              "      <td>7.160086</td>\n",
              "      <td>22.089014</td>\n",
              "      <td>52.867757</td>\n",
              "      <td>20.583259</td>\n",
              "    </tr>\n",
              "    <tr>\n",
              "      <th>14</th>\n",
              "      <td>S15</td>\n",
              "      <td>Oliver</td>\n",
              "      <td>5.982402</td>\n",
              "      <td>16.460926</td>\n",
              "      <td>40.977224</td>\n",
              "      <td>80.925749</td>\n",
              "      <td>83.312063</td>\n",
              "    </tr>\n",
              "    <tr>\n",
              "      <th>15</th>\n",
              "      <td>S16</td>\n",
              "      <td>Peter</td>\n",
              "      <td>40.694327</td>\n",
              "      <td>91.395888</td>\n",
              "      <td>8.149884</td>\n",
              "      <td>13.852098</td>\n",
              "      <td>74.528425</td>\n",
              "    </tr>\n",
              "    <tr>\n",
              "      <th>16</th>\n",
              "      <td>S17</td>\n",
              "      <td>Roy</td>\n",
              "      <td>43.559963</td>\n",
              "      <td>99.270852</td>\n",
              "      <td>13.924531</td>\n",
              "      <td>71.306738</td>\n",
              "      <td>8.432155</td>\n",
              "    </tr>\n",
              "    <tr>\n",
              "      <th>17</th>\n",
              "      <td>S18</td>\n",
              "      <td>Ria</td>\n",
              "      <td>30.830802</td>\n",
              "      <td>25.545682</td>\n",
              "      <td>84.271650</td>\n",
              "      <td>78.727155</td>\n",
              "      <td>7.305670</td>\n",
              "    </tr>\n",
              "    <tr>\n",
              "      <th>18</th>\n",
              "      <td>S19</td>\n",
              "      <td>Suvin</td>\n",
              "      <td>72.218179</td>\n",
              "      <td>85.284128</td>\n",
              "      <td>32.555060</td>\n",
              "      <td>47.007177</td>\n",
              "      <td>83.344403</td>\n",
              "    </tr>\n",
              "    <tr>\n",
              "      <th>19</th>\n",
              "      <td>S20</td>\n",
              "      <td>Tan</td>\n",
              "      <td>18.070264</td>\n",
              "      <td>56.662635</td>\n",
              "      <td>2.618987</td>\n",
              "      <td>14.067349</td>\n",
              "      <td>82.802787</td>\n",
              "    </tr>\n",
              "  </tbody>\n",
              "</table>\n",
              "</div>"
            ],
            "text/plain": [
              "   Student_ID Student_Name    English  ...    Science    History  Social_Studies\n",
              "0         S01        Alice  96.874050  ...  58.682033  59.690510       61.373070\n",
              "1         S02          Bob   5.462131  ...  83.171957  45.664012       80.805730\n",
              "2         S03      Charlie  60.753099  ...  99.323628  24.281512       58.057612\n",
              "3         S04        David  21.160844  ...  35.860852  62.865185       95.264572\n",
              "4         S05       Edward  63.250994  ...   7.020915  60.505272       34.041671\n",
              "5         S06        Fysal  42.694748  ...  37.216613  33.784399       85.019761\n",
              "6         S07       George  66.276626  ...  14.219533  18.582771       87.021849\n",
              "7         S08       Hareez   5.302984  ...  43.980951  54.410098       74.530018\n",
              "8         S09         Ivan   5.777530  ...  94.559212  38.355867       90.483635\n",
              "9         S10         John  30.968731  ...   3.312853  79.916094       32.706891\n",
              "10        S11       Kelvin  40.219985  ...  16.826141   7.462064       34.449110\n",
              "11        S12          Lia  95.928421  ...  95.440164  43.520213       71.930382\n",
              "12        S13        Maria   8.215446  ...  16.518147  36.543154       80.665074\n",
              "13        S14         Noel  72.833673  ...  22.089014  52.867757       20.583259\n",
              "14        S15       Oliver   5.982402  ...  40.977224  80.925749       83.312063\n",
              "15        S16        Peter  40.694327  ...   8.149884  13.852098       74.528425\n",
              "16        S17          Roy  43.559963  ...  13.924531  71.306738        8.432155\n",
              "17        S18          Ria  30.830802  ...  84.271650  78.727155        7.305670\n",
              "18        S19        Suvin  72.218179  ...  32.555060  47.007177       83.344403\n",
              "19        S20          Tan  18.070264  ...   2.618987  14.067349       82.802787\n",
              "\n",
              "[20 rows x 7 columns]"
            ]
          },
          "metadata": {},
          "execution_count": 14
        }
      ]
    },
    {
      "cell_type": "markdown",
      "metadata": {
        "id": "_opyZB_KAYNq"
      },
      "source": [
        "### Using range and multiple values in .loc and .iloc\n"
      ]
    },
    {
      "cell_type": "markdown",
      "metadata": {
        "id": "Ma7PYz6xAjHZ"
      },
      "source": [
        "Do you know the difference between = and == ?"
      ]
    },
    {
      "cell_type": "code",
      "metadata": {
        "id": "zd9b4YmqAo6v",
        "colab": {
          "base_uri": "https://localhost:8080/"
        },
        "outputId": "1be43514-bdd7-41da-e4c0-5c03d6235c30"
      },
      "source": [
        "num = 5 # Assignment. No output of assignment operator. \n",
        "num\n",
        "\n",
        "num == 6 # Comparison/equality. Output is either True or False"
      ],
      "execution_count": 15,
      "outputs": [
        {
          "output_type": "execute_result",
          "data": {
            "text/plain": [
              "False"
            ]
          },
          "metadata": {},
          "execution_count": 15
        }
      ]
    },
    {
      "cell_type": "markdown",
      "metadata": {
        "id": "Qd-H6zZyA6Ua"
      },
      "source": [
        "Using different logical operator to explore or fetch certain details from a large dataset."
      ]
    },
    {
      "cell_type": "code",
      "metadata": {
        "id": "Tp-ZrfSNA11_",
        "colab": {
          "base_uri": "https://localhost:8080/",
          "height": 80
        },
        "outputId": "3053c74a-0517-4734-b554-beee95c731af"
      },
      "source": [
        "# selecting marks for 'Ria'\n",
        "display(marks.loc[(marks.Student_Name == 'Ria')])  # in case the index is not known for large datasets"
      ],
      "execution_count": 16,
      "outputs": [
        {
          "output_type": "display_data",
          "data": {
            "text/html": [
              "<div>\n",
              "<style scoped>\n",
              "    .dataframe tbody tr th:only-of-type {\n",
              "        vertical-align: middle;\n",
              "    }\n",
              "\n",
              "    .dataframe tbody tr th {\n",
              "        vertical-align: top;\n",
              "    }\n",
              "\n",
              "    .dataframe thead th {\n",
              "        text-align: right;\n",
              "    }\n",
              "</style>\n",
              "<table border=\"1\" class=\"dataframe\">\n",
              "  <thead>\n",
              "    <tr style=\"text-align: right;\">\n",
              "      <th></th>\n",
              "      <th>Student_ID</th>\n",
              "      <th>Student_Name</th>\n",
              "      <th>English</th>\n",
              "      <th>Maths</th>\n",
              "      <th>Science</th>\n",
              "      <th>History</th>\n",
              "      <th>Social_Studies</th>\n",
              "    </tr>\n",
              "  </thead>\n",
              "  <tbody>\n",
              "    <tr>\n",
              "      <th>17</th>\n",
              "      <td>S18</td>\n",
              "      <td>Ria</td>\n",
              "      <td>30.830802</td>\n",
              "      <td>25.545682</td>\n",
              "      <td>84.27165</td>\n",
              "      <td>78.727155</td>\n",
              "      <td>7.30567</td>\n",
              "    </tr>\n",
              "  </tbody>\n",
              "</table>\n",
              "</div>"
            ],
            "text/plain": [
              "   Student_ID Student_Name    English  ...   Science    History  Social_Studies\n",
              "17        S18          Ria  30.830802  ...  84.27165  78.727155         7.30567\n",
              "\n",
              "[1 rows x 7 columns]"
            ]
          },
          "metadata": {}
        }
      ]
    },
    {
      "cell_type": "code",
      "metadata": {
        "id": "t8xPvQTcBDU5",
        "colab": {
          "base_uri": "https://localhost:8080/",
          "height": 80
        },
        "outputId": "f0f8051a-b80f-4b74-de5f-5c91e116f855"
      },
      "source": [
        "# TO DO: Print all records for David\n",
        "\n",
        "display(marks.loc[(marks.Student_Name == 'David')])"
      ],
      "execution_count": 17,
      "outputs": [
        {
          "output_type": "display_data",
          "data": {
            "text/html": [
              "<div>\n",
              "<style scoped>\n",
              "    .dataframe tbody tr th:only-of-type {\n",
              "        vertical-align: middle;\n",
              "    }\n",
              "\n",
              "    .dataframe tbody tr th {\n",
              "        vertical-align: top;\n",
              "    }\n",
              "\n",
              "    .dataframe thead th {\n",
              "        text-align: right;\n",
              "    }\n",
              "</style>\n",
              "<table border=\"1\" class=\"dataframe\">\n",
              "  <thead>\n",
              "    <tr style=\"text-align: right;\">\n",
              "      <th></th>\n",
              "      <th>Student_ID</th>\n",
              "      <th>Student_Name</th>\n",
              "      <th>English</th>\n",
              "      <th>Maths</th>\n",
              "      <th>Science</th>\n",
              "      <th>History</th>\n",
              "      <th>Social_Studies</th>\n",
              "    </tr>\n",
              "  </thead>\n",
              "  <tbody>\n",
              "    <tr>\n",
              "      <th>3</th>\n",
              "      <td>S04</td>\n",
              "      <td>David</td>\n",
              "      <td>21.160844</td>\n",
              "      <td>95.052971</td>\n",
              "      <td>35.860852</td>\n",
              "      <td>62.865185</td>\n",
              "      <td>95.264572</td>\n",
              "    </tr>\n",
              "  </tbody>\n",
              "</table>\n",
              "</div>"
            ],
            "text/plain": [
              "  Student_ID Student_Name    English  ...    Science    History  Social_Studies\n",
              "3        S04        David  21.160844  ...  35.860852  62.865185       95.264572\n",
              "\n",
              "[1 rows x 7 columns]"
            ]
          },
          "metadata": {}
        }
      ]
    },
    {
      "cell_type": "code",
      "metadata": {
        "id": "wT6QPzfOBMIH",
        "colab": {
          "base_uri": "https://localhost:8080/",
          "height": 110
        },
        "outputId": "70d702b8-fd1b-40c9-d072-81555619fdaf"
      },
      "source": [
        "# Using OR operator to print details if the name is either 'Ria' OR 'David'\n",
        "   \n",
        "display(marks.loc[(marks.Student_Name == 'Ria') | (marks.Student_Name == 'David')])\n"
      ],
      "execution_count": 18,
      "outputs": [
        {
          "output_type": "display_data",
          "data": {
            "text/html": [
              "<div>\n",
              "<style scoped>\n",
              "    .dataframe tbody tr th:only-of-type {\n",
              "        vertical-align: middle;\n",
              "    }\n",
              "\n",
              "    .dataframe tbody tr th {\n",
              "        vertical-align: top;\n",
              "    }\n",
              "\n",
              "    .dataframe thead th {\n",
              "        text-align: right;\n",
              "    }\n",
              "</style>\n",
              "<table border=\"1\" class=\"dataframe\">\n",
              "  <thead>\n",
              "    <tr style=\"text-align: right;\">\n",
              "      <th></th>\n",
              "      <th>Student_ID</th>\n",
              "      <th>Student_Name</th>\n",
              "      <th>English</th>\n",
              "      <th>Maths</th>\n",
              "      <th>Science</th>\n",
              "      <th>History</th>\n",
              "      <th>Social_Studies</th>\n",
              "    </tr>\n",
              "  </thead>\n",
              "  <tbody>\n",
              "    <tr>\n",
              "      <th>3</th>\n",
              "      <td>S04</td>\n",
              "      <td>David</td>\n",
              "      <td>21.160844</td>\n",
              "      <td>95.052971</td>\n",
              "      <td>35.860852</td>\n",
              "      <td>62.865185</td>\n",
              "      <td>95.264572</td>\n",
              "    </tr>\n",
              "    <tr>\n",
              "      <th>17</th>\n",
              "      <td>S18</td>\n",
              "      <td>Ria</td>\n",
              "      <td>30.830802</td>\n",
              "      <td>25.545682</td>\n",
              "      <td>84.271650</td>\n",
              "      <td>78.727155</td>\n",
              "      <td>7.305670</td>\n",
              "    </tr>\n",
              "  </tbody>\n",
              "</table>\n",
              "</div>"
            ],
            "text/plain": [
              "   Student_ID Student_Name    English  ...    Science    History  Social_Studies\n",
              "3         S04        David  21.160844  ...  35.860852  62.865185       95.264572\n",
              "17        S18          Ria  30.830802  ...  84.271650  78.727155        7.305670\n",
              "\n",
              "[2 rows x 7 columns]"
            ]
          },
          "metadata": {}
        }
      ]
    },
    {
      "cell_type": "code",
      "metadata": {
        "id": "vCn_vYF2CC7n",
        "colab": {
          "base_uri": "https://localhost:8080/",
          "height": 110
        },
        "outputId": "11bd94df-21df-439d-f250-cb3b1b113e6a"
      },
      "source": [
        "# TO DO: Print all records is the Student IS is either S05 or S10\n",
        "\n",
        "display(marks.loc[(marks.Student_ID == 'S05') | (marks.Student_ID == 'S10')])"
      ],
      "execution_count": 19,
      "outputs": [
        {
          "output_type": "display_data",
          "data": {
            "text/html": [
              "<div>\n",
              "<style scoped>\n",
              "    .dataframe tbody tr th:only-of-type {\n",
              "        vertical-align: middle;\n",
              "    }\n",
              "\n",
              "    .dataframe tbody tr th {\n",
              "        vertical-align: top;\n",
              "    }\n",
              "\n",
              "    .dataframe thead th {\n",
              "        text-align: right;\n",
              "    }\n",
              "</style>\n",
              "<table border=\"1\" class=\"dataframe\">\n",
              "  <thead>\n",
              "    <tr style=\"text-align: right;\">\n",
              "      <th></th>\n",
              "      <th>Student_ID</th>\n",
              "      <th>Student_Name</th>\n",
              "      <th>English</th>\n",
              "      <th>Maths</th>\n",
              "      <th>Science</th>\n",
              "      <th>History</th>\n",
              "      <th>Social_Studies</th>\n",
              "    </tr>\n",
              "  </thead>\n",
              "  <tbody>\n",
              "    <tr>\n",
              "      <th>4</th>\n",
              "      <td>S05</td>\n",
              "      <td>Edward</td>\n",
              "      <td>63.250994</td>\n",
              "      <td>60.693247</td>\n",
              "      <td>7.020915</td>\n",
              "      <td>60.505272</td>\n",
              "      <td>34.041671</td>\n",
              "    </tr>\n",
              "    <tr>\n",
              "      <th>9</th>\n",
              "      <td>S10</td>\n",
              "      <td>John</td>\n",
              "      <td>30.968731</td>\n",
              "      <td>14.282925</td>\n",
              "      <td>3.312853</td>\n",
              "      <td>79.916094</td>\n",
              "      <td>32.706891</td>\n",
              "    </tr>\n",
              "  </tbody>\n",
              "</table>\n",
              "</div>"
            ],
            "text/plain": [
              "  Student_ID Student_Name    English  ...   Science    History  Social_Studies\n",
              "4        S05       Edward  63.250994  ...  7.020915  60.505272       34.041671\n",
              "9        S10         John  30.968731  ...  3.312853  79.916094       32.706891\n",
              "\n",
              "[2 rows x 7 columns]"
            ]
          },
          "metadata": {}
        }
      ]
    },
    {
      "cell_type": "code",
      "metadata": {
        "id": "l7eOUNJpCMih",
        "colab": {
          "base_uri": "https://localhost:8080/",
          "height": 357
        },
        "outputId": "b6cd6c4e-0fa8-4daf-a233-58461b9dda55"
      },
      "source": [
        "# TO DO: Fetch all details where marks in English > 70 or marks in Maths > 70.\n",
        "\n",
        "display(marks.loc[(marks.English>70) | (marks.Maths>70)])"
      ],
      "execution_count": 21,
      "outputs": [
        {
          "output_type": "display_data",
          "data": {
            "text/html": [
              "<div>\n",
              "<style scoped>\n",
              "    .dataframe tbody tr th:only-of-type {\n",
              "        vertical-align: middle;\n",
              "    }\n",
              "\n",
              "    .dataframe tbody tr th {\n",
              "        vertical-align: top;\n",
              "    }\n",
              "\n",
              "    .dataframe thead th {\n",
              "        text-align: right;\n",
              "    }\n",
              "</style>\n",
              "<table border=\"1\" class=\"dataframe\">\n",
              "  <thead>\n",
              "    <tr style=\"text-align: right;\">\n",
              "      <th></th>\n",
              "      <th>Student_ID</th>\n",
              "      <th>Student_Name</th>\n",
              "      <th>English</th>\n",
              "      <th>Maths</th>\n",
              "      <th>Science</th>\n",
              "      <th>History</th>\n",
              "      <th>Social_Studies</th>\n",
              "    </tr>\n",
              "  </thead>\n",
              "  <tbody>\n",
              "    <tr>\n",
              "      <th>0</th>\n",
              "      <td>S01</td>\n",
              "      <td>Alice</td>\n",
              "      <td>96.874050</td>\n",
              "      <td>15.367999</td>\n",
              "      <td>58.682033</td>\n",
              "      <td>59.690510</td>\n",
              "      <td>61.373070</td>\n",
              "    </tr>\n",
              "    <tr>\n",
              "      <th>1</th>\n",
              "      <td>S02</td>\n",
              "      <td>Bob</td>\n",
              "      <td>5.462131</td>\n",
              "      <td>81.032680</td>\n",
              "      <td>83.171957</td>\n",
              "      <td>45.664012</td>\n",
              "      <td>80.805730</td>\n",
              "    </tr>\n",
              "    <tr>\n",
              "      <th>3</th>\n",
              "      <td>S04</td>\n",
              "      <td>David</td>\n",
              "      <td>21.160844</td>\n",
              "      <td>95.052971</td>\n",
              "      <td>35.860852</td>\n",
              "      <td>62.865185</td>\n",
              "      <td>95.264572</td>\n",
              "    </tr>\n",
              "    <tr>\n",
              "      <th>5</th>\n",
              "      <td>S06</td>\n",
              "      <td>Fysal</td>\n",
              "      <td>42.694748</td>\n",
              "      <td>77.348295</td>\n",
              "      <td>37.216613</td>\n",
              "      <td>33.784399</td>\n",
              "      <td>85.019761</td>\n",
              "    </tr>\n",
              "    <tr>\n",
              "      <th>8</th>\n",
              "      <td>S09</td>\n",
              "      <td>Ivan</td>\n",
              "      <td>5.777530</td>\n",
              "      <td>79.508179</td>\n",
              "      <td>94.559212</td>\n",
              "      <td>38.355867</td>\n",
              "      <td>90.483635</td>\n",
              "    </tr>\n",
              "    <tr>\n",
              "      <th>11</th>\n",
              "      <td>S12</td>\n",
              "      <td>Lia</td>\n",
              "      <td>95.928421</td>\n",
              "      <td>35.789430</td>\n",
              "      <td>95.440164</td>\n",
              "      <td>43.520213</td>\n",
              "      <td>71.930382</td>\n",
              "    </tr>\n",
              "    <tr>\n",
              "      <th>13</th>\n",
              "      <td>S14</td>\n",
              "      <td>Noel</td>\n",
              "      <td>72.833673</td>\n",
              "      <td>7.160086</td>\n",
              "      <td>22.089014</td>\n",
              "      <td>52.867757</td>\n",
              "      <td>20.583259</td>\n",
              "    </tr>\n",
              "    <tr>\n",
              "      <th>15</th>\n",
              "      <td>S16</td>\n",
              "      <td>Peter</td>\n",
              "      <td>40.694327</td>\n",
              "      <td>91.395888</td>\n",
              "      <td>8.149884</td>\n",
              "      <td>13.852098</td>\n",
              "      <td>74.528425</td>\n",
              "    </tr>\n",
              "    <tr>\n",
              "      <th>16</th>\n",
              "      <td>S17</td>\n",
              "      <td>Roy</td>\n",
              "      <td>43.559963</td>\n",
              "      <td>99.270852</td>\n",
              "      <td>13.924531</td>\n",
              "      <td>71.306738</td>\n",
              "      <td>8.432155</td>\n",
              "    </tr>\n",
              "    <tr>\n",
              "      <th>18</th>\n",
              "      <td>S19</td>\n",
              "      <td>Suvin</td>\n",
              "      <td>72.218179</td>\n",
              "      <td>85.284128</td>\n",
              "      <td>32.555060</td>\n",
              "      <td>47.007177</td>\n",
              "      <td>83.344403</td>\n",
              "    </tr>\n",
              "  </tbody>\n",
              "</table>\n",
              "</div>"
            ],
            "text/plain": [
              "   Student_ID Student_Name    English  ...    Science    History  Social_Studies\n",
              "0         S01        Alice  96.874050  ...  58.682033  59.690510       61.373070\n",
              "1         S02          Bob   5.462131  ...  83.171957  45.664012       80.805730\n",
              "3         S04        David  21.160844  ...  35.860852  62.865185       95.264572\n",
              "5         S06        Fysal  42.694748  ...  37.216613  33.784399       85.019761\n",
              "8         S09         Ivan   5.777530  ...  94.559212  38.355867       90.483635\n",
              "11        S12          Lia  95.928421  ...  95.440164  43.520213       71.930382\n",
              "13        S14         Noel  72.833673  ...  22.089014  52.867757       20.583259\n",
              "15        S16        Peter  40.694327  ...   8.149884  13.852098       74.528425\n",
              "16        S17          Roy  43.559963  ...  13.924531  71.306738        8.432155\n",
              "18        S19        Suvin  72.218179  ...  32.555060  47.007177       83.344403\n",
              "\n",
              "[10 rows x 7 columns]"
            ]
          },
          "metadata": {}
        }
      ]
    },
    {
      "cell_type": "code",
      "metadata": {
        "id": "NxLDv69OCbR5",
        "colab": {
          "base_uri": "https://localhost:8080/",
          "height": 80
        },
        "outputId": "62f45e1d-eef3-4862-cf68-1513e043bcda"
      },
      "source": [
        "# Using AND operator to combine two conditions. \n",
        "\n",
        "# TO DO: Fetch all details where marks in English > 70 AND marks in Maths > 70.\n",
        "# Hint: Use & for AND\n",
        "\n",
        "display(marks.loc[(marks.English>70) & (marks.Maths>70)])"
      ],
      "execution_count": 22,
      "outputs": [
        {
          "output_type": "display_data",
          "data": {
            "text/html": [
              "<div>\n",
              "<style scoped>\n",
              "    .dataframe tbody tr th:only-of-type {\n",
              "        vertical-align: middle;\n",
              "    }\n",
              "\n",
              "    .dataframe tbody tr th {\n",
              "        vertical-align: top;\n",
              "    }\n",
              "\n",
              "    .dataframe thead th {\n",
              "        text-align: right;\n",
              "    }\n",
              "</style>\n",
              "<table border=\"1\" class=\"dataframe\">\n",
              "  <thead>\n",
              "    <tr style=\"text-align: right;\">\n",
              "      <th></th>\n",
              "      <th>Student_ID</th>\n",
              "      <th>Student_Name</th>\n",
              "      <th>English</th>\n",
              "      <th>Maths</th>\n",
              "      <th>Science</th>\n",
              "      <th>History</th>\n",
              "      <th>Social_Studies</th>\n",
              "    </tr>\n",
              "  </thead>\n",
              "  <tbody>\n",
              "    <tr>\n",
              "      <th>18</th>\n",
              "      <td>S19</td>\n",
              "      <td>Suvin</td>\n",
              "      <td>72.218179</td>\n",
              "      <td>85.284128</td>\n",
              "      <td>32.55506</td>\n",
              "      <td>47.007177</td>\n",
              "      <td>83.344403</td>\n",
              "    </tr>\n",
              "  </tbody>\n",
              "</table>\n",
              "</div>"
            ],
            "text/plain": [
              "   Student_ID Student_Name    English  ...   Science    History  Social_Studies\n",
              "18        S19        Suvin  72.218179  ...  32.55506  47.007177       83.344403\n",
              "\n",
              "[1 rows x 7 columns]"
            ]
          },
          "metadata": {}
        }
      ]
    },
    {
      "cell_type": "code",
      "metadata": {
        "id": "cmmaAvFsCpfu",
        "colab": {
          "base_uri": "https://localhost:8080/",
          "height": 634
        },
        "outputId": "3c9e09b2-85fb-4d9c-8106-02b9e0e44070"
      },
      "source": [
        "# Using NOT function \n",
        "\n",
        "# TO DO: Fetch all details for all students except for Ria or the all students who are not Ria.\n",
        "# Hint: Use != for 'not equal to'\n",
        "\n",
        "display(marks.loc[(marks.Student_Name != 'Ria')])\n"
      ],
      "execution_count": 23,
      "outputs": [
        {
          "output_type": "display_data",
          "data": {
            "text/html": [
              "<div>\n",
              "<style scoped>\n",
              "    .dataframe tbody tr th:only-of-type {\n",
              "        vertical-align: middle;\n",
              "    }\n",
              "\n",
              "    .dataframe tbody tr th {\n",
              "        vertical-align: top;\n",
              "    }\n",
              "\n",
              "    .dataframe thead th {\n",
              "        text-align: right;\n",
              "    }\n",
              "</style>\n",
              "<table border=\"1\" class=\"dataframe\">\n",
              "  <thead>\n",
              "    <tr style=\"text-align: right;\">\n",
              "      <th></th>\n",
              "      <th>Student_ID</th>\n",
              "      <th>Student_Name</th>\n",
              "      <th>English</th>\n",
              "      <th>Maths</th>\n",
              "      <th>Science</th>\n",
              "      <th>History</th>\n",
              "      <th>Social_Studies</th>\n",
              "    </tr>\n",
              "  </thead>\n",
              "  <tbody>\n",
              "    <tr>\n",
              "      <th>0</th>\n",
              "      <td>S01</td>\n",
              "      <td>Alice</td>\n",
              "      <td>96.874050</td>\n",
              "      <td>15.367999</td>\n",
              "      <td>58.682033</td>\n",
              "      <td>59.690510</td>\n",
              "      <td>61.373070</td>\n",
              "    </tr>\n",
              "    <tr>\n",
              "      <th>1</th>\n",
              "      <td>S02</td>\n",
              "      <td>Bob</td>\n",
              "      <td>5.462131</td>\n",
              "      <td>81.032680</td>\n",
              "      <td>83.171957</td>\n",
              "      <td>45.664012</td>\n",
              "      <td>80.805730</td>\n",
              "    </tr>\n",
              "    <tr>\n",
              "      <th>2</th>\n",
              "      <td>S03</td>\n",
              "      <td>Charlie</td>\n",
              "      <td>60.753099</td>\n",
              "      <td>65.219548</td>\n",
              "      <td>99.323628</td>\n",
              "      <td>24.281512</td>\n",
              "      <td>58.057612</td>\n",
              "    </tr>\n",
              "    <tr>\n",
              "      <th>3</th>\n",
              "      <td>S04</td>\n",
              "      <td>David</td>\n",
              "      <td>21.160844</td>\n",
              "      <td>95.052971</td>\n",
              "      <td>35.860852</td>\n",
              "      <td>62.865185</td>\n",
              "      <td>95.264572</td>\n",
              "    </tr>\n",
              "    <tr>\n",
              "      <th>4</th>\n",
              "      <td>S05</td>\n",
              "      <td>Edward</td>\n",
              "      <td>63.250994</td>\n",
              "      <td>60.693247</td>\n",
              "      <td>7.020915</td>\n",
              "      <td>60.505272</td>\n",
              "      <td>34.041671</td>\n",
              "    </tr>\n",
              "    <tr>\n",
              "      <th>5</th>\n",
              "      <td>S06</td>\n",
              "      <td>Fysal</td>\n",
              "      <td>42.694748</td>\n",
              "      <td>77.348295</td>\n",
              "      <td>37.216613</td>\n",
              "      <td>33.784399</td>\n",
              "      <td>85.019761</td>\n",
              "    </tr>\n",
              "    <tr>\n",
              "      <th>6</th>\n",
              "      <td>S07</td>\n",
              "      <td>George</td>\n",
              "      <td>66.276626</td>\n",
              "      <td>46.812190</td>\n",
              "      <td>14.219533</td>\n",
              "      <td>18.582771</td>\n",
              "      <td>87.021849</td>\n",
              "    </tr>\n",
              "    <tr>\n",
              "      <th>7</th>\n",
              "      <td>S08</td>\n",
              "      <td>Hareez</td>\n",
              "      <td>5.302984</td>\n",
              "      <td>11.966929</td>\n",
              "      <td>43.980951</td>\n",
              "      <td>54.410098</td>\n",
              "      <td>74.530018</td>\n",
              "    </tr>\n",
              "    <tr>\n",
              "      <th>8</th>\n",
              "      <td>S09</td>\n",
              "      <td>Ivan</td>\n",
              "      <td>5.777530</td>\n",
              "      <td>79.508179</td>\n",
              "      <td>94.559212</td>\n",
              "      <td>38.355867</td>\n",
              "      <td>90.483635</td>\n",
              "    </tr>\n",
              "    <tr>\n",
              "      <th>9</th>\n",
              "      <td>S10</td>\n",
              "      <td>John</td>\n",
              "      <td>30.968731</td>\n",
              "      <td>14.282925</td>\n",
              "      <td>3.312853</td>\n",
              "      <td>79.916094</td>\n",
              "      <td>32.706891</td>\n",
              "    </tr>\n",
              "    <tr>\n",
              "      <th>10</th>\n",
              "      <td>S11</td>\n",
              "      <td>Kelvin</td>\n",
              "      <td>40.219985</td>\n",
              "      <td>55.325651</td>\n",
              "      <td>16.826141</td>\n",
              "      <td>7.462064</td>\n",
              "      <td>34.449110</td>\n",
              "    </tr>\n",
              "    <tr>\n",
              "      <th>11</th>\n",
              "      <td>S12</td>\n",
              "      <td>Lia</td>\n",
              "      <td>95.928421</td>\n",
              "      <td>35.789430</td>\n",
              "      <td>95.440164</td>\n",
              "      <td>43.520213</td>\n",
              "      <td>71.930382</td>\n",
              "    </tr>\n",
              "    <tr>\n",
              "      <th>12</th>\n",
              "      <td>S13</td>\n",
              "      <td>Maria</td>\n",
              "      <td>8.215446</td>\n",
              "      <td>25.042783</td>\n",
              "      <td>16.518147</td>\n",
              "      <td>36.543154</td>\n",
              "      <td>80.665074</td>\n",
              "    </tr>\n",
              "    <tr>\n",
              "      <th>13</th>\n",
              "      <td>S14</td>\n",
              "      <td>Noel</td>\n",
              "      <td>72.833673</td>\n",
              "      <td>7.160086</td>\n",
              "      <td>22.089014</td>\n",
              "      <td>52.867757</td>\n",
              "      <td>20.583259</td>\n",
              "    </tr>\n",
              "    <tr>\n",
              "      <th>14</th>\n",
              "      <td>S15</td>\n",
              "      <td>Oliver</td>\n",
              "      <td>5.982402</td>\n",
              "      <td>16.460926</td>\n",
              "      <td>40.977224</td>\n",
              "      <td>80.925749</td>\n",
              "      <td>83.312063</td>\n",
              "    </tr>\n",
              "    <tr>\n",
              "      <th>15</th>\n",
              "      <td>S16</td>\n",
              "      <td>Peter</td>\n",
              "      <td>40.694327</td>\n",
              "      <td>91.395888</td>\n",
              "      <td>8.149884</td>\n",
              "      <td>13.852098</td>\n",
              "      <td>74.528425</td>\n",
              "    </tr>\n",
              "    <tr>\n",
              "      <th>16</th>\n",
              "      <td>S17</td>\n",
              "      <td>Roy</td>\n",
              "      <td>43.559963</td>\n",
              "      <td>99.270852</td>\n",
              "      <td>13.924531</td>\n",
              "      <td>71.306738</td>\n",
              "      <td>8.432155</td>\n",
              "    </tr>\n",
              "    <tr>\n",
              "      <th>18</th>\n",
              "      <td>S19</td>\n",
              "      <td>Suvin</td>\n",
              "      <td>72.218179</td>\n",
              "      <td>85.284128</td>\n",
              "      <td>32.555060</td>\n",
              "      <td>47.007177</td>\n",
              "      <td>83.344403</td>\n",
              "    </tr>\n",
              "    <tr>\n",
              "      <th>19</th>\n",
              "      <td>S20</td>\n",
              "      <td>Tan</td>\n",
              "      <td>18.070264</td>\n",
              "      <td>56.662635</td>\n",
              "      <td>2.618987</td>\n",
              "      <td>14.067349</td>\n",
              "      <td>82.802787</td>\n",
              "    </tr>\n",
              "  </tbody>\n",
              "</table>\n",
              "</div>"
            ],
            "text/plain": [
              "   Student_ID Student_Name    English  ...    Science    History  Social_Studies\n",
              "0         S01        Alice  96.874050  ...  58.682033  59.690510       61.373070\n",
              "1         S02          Bob   5.462131  ...  83.171957  45.664012       80.805730\n",
              "2         S03      Charlie  60.753099  ...  99.323628  24.281512       58.057612\n",
              "3         S04        David  21.160844  ...  35.860852  62.865185       95.264572\n",
              "4         S05       Edward  63.250994  ...   7.020915  60.505272       34.041671\n",
              "5         S06        Fysal  42.694748  ...  37.216613  33.784399       85.019761\n",
              "6         S07       George  66.276626  ...  14.219533  18.582771       87.021849\n",
              "7         S08       Hareez   5.302984  ...  43.980951  54.410098       74.530018\n",
              "8         S09         Ivan   5.777530  ...  94.559212  38.355867       90.483635\n",
              "9         S10         John  30.968731  ...   3.312853  79.916094       32.706891\n",
              "10        S11       Kelvin  40.219985  ...  16.826141   7.462064       34.449110\n",
              "11        S12          Lia  95.928421  ...  95.440164  43.520213       71.930382\n",
              "12        S13        Maria   8.215446  ...  16.518147  36.543154       80.665074\n",
              "13        S14         Noel  72.833673  ...  22.089014  52.867757       20.583259\n",
              "14        S15       Oliver   5.982402  ...  40.977224  80.925749       83.312063\n",
              "15        S16        Peter  40.694327  ...   8.149884  13.852098       74.528425\n",
              "16        S17          Roy  43.559963  ...  13.924531  71.306738        8.432155\n",
              "18        S19        Suvin  72.218179  ...  32.555060  47.007177       83.344403\n",
              "19        S20          Tan  18.070264  ...   2.618987  14.067349       82.802787\n",
              "\n",
              "[19 rows x 7 columns]"
            ]
          },
          "metadata": {}
        }
      ]
    },
    {
      "cell_type": "code",
      "metadata": {
        "id": "7VCU6WTeEABA",
        "colab": {
          "base_uri": "https://localhost:8080/",
          "height": 696
        },
        "outputId": "4814cd06-cb23-49b1-e3a0-54f33c3b3b55"
      },
      "source": [
        "# Index column can be changed by giving the name of the column - unique and case-sensitive\n",
        "\n",
        "marks = pd.read_csv('marks.csv', index_col='Student_ID')  # could have given the index no. of the columns (0,1..) as well.\n",
        "display(marks)"
      ],
      "execution_count": 24,
      "outputs": [
        {
          "output_type": "display_data",
          "data": {
            "text/html": [
              "<div>\n",
              "<style scoped>\n",
              "    .dataframe tbody tr th:only-of-type {\n",
              "        vertical-align: middle;\n",
              "    }\n",
              "\n",
              "    .dataframe tbody tr th {\n",
              "        vertical-align: top;\n",
              "    }\n",
              "\n",
              "    .dataframe thead th {\n",
              "        text-align: right;\n",
              "    }\n",
              "</style>\n",
              "<table border=\"1\" class=\"dataframe\">\n",
              "  <thead>\n",
              "    <tr style=\"text-align: right;\">\n",
              "      <th></th>\n",
              "      <th>Student_Name</th>\n",
              "      <th>English</th>\n",
              "      <th>Maths</th>\n",
              "      <th>Science</th>\n",
              "      <th>History</th>\n",
              "      <th>Social_Studies</th>\n",
              "    </tr>\n",
              "    <tr>\n",
              "      <th>Student_ID</th>\n",
              "      <th></th>\n",
              "      <th></th>\n",
              "      <th></th>\n",
              "      <th></th>\n",
              "      <th></th>\n",
              "      <th></th>\n",
              "    </tr>\n",
              "  </thead>\n",
              "  <tbody>\n",
              "    <tr>\n",
              "      <th>S01</th>\n",
              "      <td>Alice</td>\n",
              "      <td>96.874050</td>\n",
              "      <td>15.367999</td>\n",
              "      <td>58.682033</td>\n",
              "      <td>59.690510</td>\n",
              "      <td>61.373070</td>\n",
              "    </tr>\n",
              "    <tr>\n",
              "      <th>S02</th>\n",
              "      <td>Bob</td>\n",
              "      <td>5.462131</td>\n",
              "      <td>81.032680</td>\n",
              "      <td>83.171957</td>\n",
              "      <td>45.664012</td>\n",
              "      <td>80.805730</td>\n",
              "    </tr>\n",
              "    <tr>\n",
              "      <th>S03</th>\n",
              "      <td>Charlie</td>\n",
              "      <td>60.753099</td>\n",
              "      <td>65.219548</td>\n",
              "      <td>99.323628</td>\n",
              "      <td>24.281512</td>\n",
              "      <td>58.057612</td>\n",
              "    </tr>\n",
              "    <tr>\n",
              "      <th>S04</th>\n",
              "      <td>David</td>\n",
              "      <td>21.160844</td>\n",
              "      <td>95.052971</td>\n",
              "      <td>35.860852</td>\n",
              "      <td>62.865185</td>\n",
              "      <td>95.264572</td>\n",
              "    </tr>\n",
              "    <tr>\n",
              "      <th>S05</th>\n",
              "      <td>Edward</td>\n",
              "      <td>63.250994</td>\n",
              "      <td>60.693247</td>\n",
              "      <td>7.020915</td>\n",
              "      <td>60.505272</td>\n",
              "      <td>34.041671</td>\n",
              "    </tr>\n",
              "    <tr>\n",
              "      <th>S06</th>\n",
              "      <td>Fysal</td>\n",
              "      <td>42.694748</td>\n",
              "      <td>77.348295</td>\n",
              "      <td>37.216613</td>\n",
              "      <td>33.784399</td>\n",
              "      <td>85.019761</td>\n",
              "    </tr>\n",
              "    <tr>\n",
              "      <th>S07</th>\n",
              "      <td>George</td>\n",
              "      <td>66.276626</td>\n",
              "      <td>46.812190</td>\n",
              "      <td>14.219533</td>\n",
              "      <td>18.582771</td>\n",
              "      <td>87.021849</td>\n",
              "    </tr>\n",
              "    <tr>\n",
              "      <th>S08</th>\n",
              "      <td>Hareez</td>\n",
              "      <td>5.302984</td>\n",
              "      <td>11.966929</td>\n",
              "      <td>43.980951</td>\n",
              "      <td>54.410098</td>\n",
              "      <td>74.530018</td>\n",
              "    </tr>\n",
              "    <tr>\n",
              "      <th>S09</th>\n",
              "      <td>Ivan</td>\n",
              "      <td>5.777530</td>\n",
              "      <td>79.508179</td>\n",
              "      <td>94.559212</td>\n",
              "      <td>38.355867</td>\n",
              "      <td>90.483635</td>\n",
              "    </tr>\n",
              "    <tr>\n",
              "      <th>S10</th>\n",
              "      <td>John</td>\n",
              "      <td>30.968731</td>\n",
              "      <td>14.282925</td>\n",
              "      <td>3.312853</td>\n",
              "      <td>79.916094</td>\n",
              "      <td>32.706891</td>\n",
              "    </tr>\n",
              "    <tr>\n",
              "      <th>S11</th>\n",
              "      <td>Kelvin</td>\n",
              "      <td>40.219985</td>\n",
              "      <td>55.325651</td>\n",
              "      <td>16.826141</td>\n",
              "      <td>7.462064</td>\n",
              "      <td>34.449110</td>\n",
              "    </tr>\n",
              "    <tr>\n",
              "      <th>S12</th>\n",
              "      <td>Lia</td>\n",
              "      <td>95.928421</td>\n",
              "      <td>35.789430</td>\n",
              "      <td>95.440164</td>\n",
              "      <td>43.520213</td>\n",
              "      <td>71.930382</td>\n",
              "    </tr>\n",
              "    <tr>\n",
              "      <th>S13</th>\n",
              "      <td>Maria</td>\n",
              "      <td>8.215446</td>\n",
              "      <td>25.042783</td>\n",
              "      <td>16.518147</td>\n",
              "      <td>36.543154</td>\n",
              "      <td>80.665074</td>\n",
              "    </tr>\n",
              "    <tr>\n",
              "      <th>S14</th>\n",
              "      <td>Noel</td>\n",
              "      <td>72.833673</td>\n",
              "      <td>7.160086</td>\n",
              "      <td>22.089014</td>\n",
              "      <td>52.867757</td>\n",
              "      <td>20.583259</td>\n",
              "    </tr>\n",
              "    <tr>\n",
              "      <th>S15</th>\n",
              "      <td>Oliver</td>\n",
              "      <td>5.982402</td>\n",
              "      <td>16.460926</td>\n",
              "      <td>40.977224</td>\n",
              "      <td>80.925749</td>\n",
              "      <td>83.312063</td>\n",
              "    </tr>\n",
              "    <tr>\n",
              "      <th>S16</th>\n",
              "      <td>Peter</td>\n",
              "      <td>40.694327</td>\n",
              "      <td>91.395888</td>\n",
              "      <td>8.149884</td>\n",
              "      <td>13.852098</td>\n",
              "      <td>74.528425</td>\n",
              "    </tr>\n",
              "    <tr>\n",
              "      <th>S17</th>\n",
              "      <td>Roy</td>\n",
              "      <td>43.559963</td>\n",
              "      <td>99.270852</td>\n",
              "      <td>13.924531</td>\n",
              "      <td>71.306738</td>\n",
              "      <td>8.432155</td>\n",
              "    </tr>\n",
              "    <tr>\n",
              "      <th>S18</th>\n",
              "      <td>Ria</td>\n",
              "      <td>30.830802</td>\n",
              "      <td>25.545682</td>\n",
              "      <td>84.271650</td>\n",
              "      <td>78.727155</td>\n",
              "      <td>7.305670</td>\n",
              "    </tr>\n",
              "    <tr>\n",
              "      <th>S19</th>\n",
              "      <td>Suvin</td>\n",
              "      <td>72.218179</td>\n",
              "      <td>85.284128</td>\n",
              "      <td>32.555060</td>\n",
              "      <td>47.007177</td>\n",
              "      <td>83.344403</td>\n",
              "    </tr>\n",
              "    <tr>\n",
              "      <th>S20</th>\n",
              "      <td>Tan</td>\n",
              "      <td>18.070264</td>\n",
              "      <td>56.662635</td>\n",
              "      <td>2.618987</td>\n",
              "      <td>14.067349</td>\n",
              "      <td>82.802787</td>\n",
              "    </tr>\n",
              "  </tbody>\n",
              "</table>\n",
              "</div>"
            ],
            "text/plain": [
              "           Student_Name    English  ...    History  Social_Studies\n",
              "Student_ID                          ...                           \n",
              "S01               Alice  96.874050  ...  59.690510       61.373070\n",
              "S02                 Bob   5.462131  ...  45.664012       80.805730\n",
              "S03             Charlie  60.753099  ...  24.281512       58.057612\n",
              "S04               David  21.160844  ...  62.865185       95.264572\n",
              "S05              Edward  63.250994  ...  60.505272       34.041671\n",
              "S06               Fysal  42.694748  ...  33.784399       85.019761\n",
              "S07              George  66.276626  ...  18.582771       87.021849\n",
              "S08              Hareez   5.302984  ...  54.410098       74.530018\n",
              "S09                Ivan   5.777530  ...  38.355867       90.483635\n",
              "S10                John  30.968731  ...  79.916094       32.706891\n",
              "S11              Kelvin  40.219985  ...   7.462064       34.449110\n",
              "S12                 Lia  95.928421  ...  43.520213       71.930382\n",
              "S13               Maria   8.215446  ...  36.543154       80.665074\n",
              "S14                Noel  72.833673  ...  52.867757       20.583259\n",
              "S15              Oliver   5.982402  ...  80.925749       83.312063\n",
              "S16               Peter  40.694327  ...  13.852098       74.528425\n",
              "S17                 Roy  43.559963  ...  71.306738        8.432155\n",
              "S18                 Ria  30.830802  ...  78.727155        7.305670\n",
              "S19               Suvin  72.218179  ...  47.007177       83.344403\n",
              "S20                 Tan  18.070264  ...  14.067349       82.802787\n",
              "\n",
              "[20 rows x 6 columns]"
            ]
          },
          "metadata": {}
        }
      ]
    },
    {
      "cell_type": "markdown",
      "metadata": {
        "id": "h5d4wkymEMC5"
      },
      "source": [
        "Displaying range of indices using .loc and .iloc\n",
        "\n",
        "Note:\n",
        "1. In .loc, all value are included\n",
        "2. In .iloc, the upper range is excluded\n",
        "\n",
        "Execute the next codes to understand it better."
      ]
    },
    {
      "cell_type": "code",
      "metadata": {
        "id": "CsudZNu4ELAM",
        "colab": {
          "base_uri": "https://localhost:8080/",
          "height": 354
        },
        "outputId": "546f04bc-3d26-4c61-f66c-71af87a3c43b"
      },
      "source": [
        "display(marks.loc[1:10]) # Range of values. Includes all values/labels.\n",
        "\n",
        "# .loc is different than .iloc\n",
        "# .loc is label-based. We need to SPECIFY the VALUE of the index. The values must be there in the index column."
      ],
      "execution_count": 25,
      "outputs": [
        {
          "output_type": "error",
          "ename": "TypeError",
          "evalue": "ignored",
          "traceback": [
            "\u001b[0;31m---------------------------------------------------------------------------\u001b[0m",
            "\u001b[0;31mTypeError\u001b[0m                                 Traceback (most recent call last)",
            "\u001b[0;32m<ipython-input-25-f1b974fbf958>\u001b[0m in \u001b[0;36m<module>\u001b[0;34m()\u001b[0m\n\u001b[0;32m----> 1\u001b[0;31m \u001b[0mdisplay\u001b[0m\u001b[0;34m(\u001b[0m\u001b[0mmarks\u001b[0m\u001b[0;34m.\u001b[0m\u001b[0mloc\u001b[0m\u001b[0;34m[\u001b[0m\u001b[0;36m1\u001b[0m\u001b[0;34m:\u001b[0m\u001b[0;36m10\u001b[0m\u001b[0;34m]\u001b[0m\u001b[0;34m)\u001b[0m \u001b[0;31m# Range of values. Includes all values/labels.\u001b[0m\u001b[0;34m\u001b[0m\u001b[0;34m\u001b[0m\u001b[0m\n\u001b[0m\u001b[1;32m      2\u001b[0m \u001b[0;34m\u001b[0m\u001b[0m\n\u001b[1;32m      3\u001b[0m \u001b[0;31m# .loc is different than .iloc\u001b[0m\u001b[0;34m\u001b[0m\u001b[0;34m\u001b[0m\u001b[0;34m\u001b[0m\u001b[0m\n\u001b[1;32m      4\u001b[0m \u001b[0;31m# .loc is label-based. We need to SPECIFY the VALUE of the index. The values must be there in the index column.\u001b[0m\u001b[0;34m\u001b[0m\u001b[0;34m\u001b[0m\u001b[0;34m\u001b[0m\u001b[0m\n",
            "\u001b[0;32m/usr/local/lib/python3.7/dist-packages/pandas/core/indexing.py\u001b[0m in \u001b[0;36m__getitem__\u001b[0;34m(self, key)\u001b[0m\n\u001b[1;32m    877\u001b[0m \u001b[0;34m\u001b[0m\u001b[0m\n\u001b[1;32m    878\u001b[0m             \u001b[0mmaybe_callable\u001b[0m \u001b[0;34m=\u001b[0m \u001b[0mcom\u001b[0m\u001b[0;34m.\u001b[0m\u001b[0mapply_if_callable\u001b[0m\u001b[0;34m(\u001b[0m\u001b[0mkey\u001b[0m\u001b[0;34m,\u001b[0m \u001b[0mself\u001b[0m\u001b[0;34m.\u001b[0m\u001b[0mobj\u001b[0m\u001b[0;34m)\u001b[0m\u001b[0;34m\u001b[0m\u001b[0;34m\u001b[0m\u001b[0m\n\u001b[0;32m--> 879\u001b[0;31m             \u001b[0;32mreturn\u001b[0m \u001b[0mself\u001b[0m\u001b[0;34m.\u001b[0m\u001b[0m_getitem_axis\u001b[0m\u001b[0;34m(\u001b[0m\u001b[0mmaybe_callable\u001b[0m\u001b[0;34m,\u001b[0m \u001b[0maxis\u001b[0m\u001b[0;34m=\u001b[0m\u001b[0maxis\u001b[0m\u001b[0;34m)\u001b[0m\u001b[0;34m\u001b[0m\u001b[0;34m\u001b[0m\u001b[0m\n\u001b[0m\u001b[1;32m    880\u001b[0m \u001b[0;34m\u001b[0m\u001b[0m\n\u001b[1;32m    881\u001b[0m     \u001b[0;32mdef\u001b[0m \u001b[0m_is_scalar_access\u001b[0m\u001b[0;34m(\u001b[0m\u001b[0mself\u001b[0m\u001b[0;34m,\u001b[0m \u001b[0mkey\u001b[0m\u001b[0;34m:\u001b[0m \u001b[0mTuple\u001b[0m\u001b[0;34m)\u001b[0m\u001b[0;34m:\u001b[0m\u001b[0;34m\u001b[0m\u001b[0;34m\u001b[0m\u001b[0m\n",
            "\u001b[0;32m/usr/local/lib/python3.7/dist-packages/pandas/core/indexing.py\u001b[0m in \u001b[0;36m_getitem_axis\u001b[0;34m(self, key, axis)\u001b[0m\n\u001b[1;32m   1086\u001b[0m         \u001b[0;32mif\u001b[0m \u001b[0misinstance\u001b[0m\u001b[0;34m(\u001b[0m\u001b[0mkey\u001b[0m\u001b[0;34m,\u001b[0m \u001b[0mslice\u001b[0m\u001b[0;34m)\u001b[0m\u001b[0;34m:\u001b[0m\u001b[0;34m\u001b[0m\u001b[0;34m\u001b[0m\u001b[0m\n\u001b[1;32m   1087\u001b[0m             \u001b[0mself\u001b[0m\u001b[0;34m.\u001b[0m\u001b[0m_validate_key\u001b[0m\u001b[0;34m(\u001b[0m\u001b[0mkey\u001b[0m\u001b[0;34m,\u001b[0m \u001b[0maxis\u001b[0m\u001b[0;34m)\u001b[0m\u001b[0;34m\u001b[0m\u001b[0;34m\u001b[0m\u001b[0m\n\u001b[0;32m-> 1088\u001b[0;31m             \u001b[0;32mreturn\u001b[0m \u001b[0mself\u001b[0m\u001b[0;34m.\u001b[0m\u001b[0m_get_slice_axis\u001b[0m\u001b[0;34m(\u001b[0m\u001b[0mkey\u001b[0m\u001b[0;34m,\u001b[0m \u001b[0maxis\u001b[0m\u001b[0;34m=\u001b[0m\u001b[0maxis\u001b[0m\u001b[0;34m)\u001b[0m\u001b[0;34m\u001b[0m\u001b[0;34m\u001b[0m\u001b[0m\n\u001b[0m\u001b[1;32m   1089\u001b[0m         \u001b[0;32melif\u001b[0m \u001b[0mcom\u001b[0m\u001b[0;34m.\u001b[0m\u001b[0mis_bool_indexer\u001b[0m\u001b[0;34m(\u001b[0m\u001b[0mkey\u001b[0m\u001b[0;34m)\u001b[0m\u001b[0;34m:\u001b[0m\u001b[0;34m\u001b[0m\u001b[0;34m\u001b[0m\u001b[0m\n\u001b[1;32m   1090\u001b[0m             \u001b[0;32mreturn\u001b[0m \u001b[0mself\u001b[0m\u001b[0;34m.\u001b[0m\u001b[0m_getbool_axis\u001b[0m\u001b[0;34m(\u001b[0m\u001b[0mkey\u001b[0m\u001b[0;34m,\u001b[0m \u001b[0maxis\u001b[0m\u001b[0;34m=\u001b[0m\u001b[0maxis\u001b[0m\u001b[0;34m)\u001b[0m\u001b[0;34m\u001b[0m\u001b[0;34m\u001b[0m\u001b[0m\n",
            "\u001b[0;32m/usr/local/lib/python3.7/dist-packages/pandas/core/indexing.py\u001b[0m in \u001b[0;36m_get_slice_axis\u001b[0;34m(self, slice_obj, axis)\u001b[0m\n\u001b[1;32m   1121\u001b[0m         \u001b[0mlabels\u001b[0m \u001b[0;34m=\u001b[0m \u001b[0mobj\u001b[0m\u001b[0;34m.\u001b[0m\u001b[0m_get_axis\u001b[0m\u001b[0;34m(\u001b[0m\u001b[0maxis\u001b[0m\u001b[0;34m)\u001b[0m\u001b[0;34m\u001b[0m\u001b[0;34m\u001b[0m\u001b[0m\n\u001b[1;32m   1122\u001b[0m         indexer = labels.slice_indexer(\n\u001b[0;32m-> 1123\u001b[0;31m             \u001b[0mslice_obj\u001b[0m\u001b[0;34m.\u001b[0m\u001b[0mstart\u001b[0m\u001b[0;34m,\u001b[0m \u001b[0mslice_obj\u001b[0m\u001b[0;34m.\u001b[0m\u001b[0mstop\u001b[0m\u001b[0;34m,\u001b[0m \u001b[0mslice_obj\u001b[0m\u001b[0;34m.\u001b[0m\u001b[0mstep\u001b[0m\u001b[0;34m,\u001b[0m \u001b[0mkind\u001b[0m\u001b[0;34m=\u001b[0m\u001b[0;34m\"loc\"\u001b[0m\u001b[0;34m\u001b[0m\u001b[0;34m\u001b[0m\u001b[0m\n\u001b[0m\u001b[1;32m   1124\u001b[0m         )\n\u001b[1;32m   1125\u001b[0m \u001b[0;34m\u001b[0m\u001b[0m\n",
            "\u001b[0;32m/usr/local/lib/python3.7/dist-packages/pandas/core/indexes/base.py\u001b[0m in \u001b[0;36mslice_indexer\u001b[0;34m(self, start, end, step, kind)\u001b[0m\n\u001b[1;32m   4967\u001b[0m         \u001b[0mslice\u001b[0m\u001b[0;34m(\u001b[0m\u001b[0;36m1\u001b[0m\u001b[0;34m,\u001b[0m \u001b[0;36m3\u001b[0m\u001b[0;34m,\u001b[0m \u001b[0;32mNone\u001b[0m\u001b[0;34m)\u001b[0m\u001b[0;34m\u001b[0m\u001b[0;34m\u001b[0m\u001b[0m\n\u001b[1;32m   4968\u001b[0m         \"\"\"\n\u001b[0;32m-> 4969\u001b[0;31m         \u001b[0mstart_slice\u001b[0m\u001b[0;34m,\u001b[0m \u001b[0mend_slice\u001b[0m \u001b[0;34m=\u001b[0m \u001b[0mself\u001b[0m\u001b[0;34m.\u001b[0m\u001b[0mslice_locs\u001b[0m\u001b[0;34m(\u001b[0m\u001b[0mstart\u001b[0m\u001b[0;34m,\u001b[0m \u001b[0mend\u001b[0m\u001b[0;34m,\u001b[0m \u001b[0mstep\u001b[0m\u001b[0;34m=\u001b[0m\u001b[0mstep\u001b[0m\u001b[0;34m,\u001b[0m \u001b[0mkind\u001b[0m\u001b[0;34m=\u001b[0m\u001b[0mkind\u001b[0m\u001b[0;34m)\u001b[0m\u001b[0;34m\u001b[0m\u001b[0;34m\u001b[0m\u001b[0m\n\u001b[0m\u001b[1;32m   4970\u001b[0m \u001b[0;34m\u001b[0m\u001b[0m\n\u001b[1;32m   4971\u001b[0m         \u001b[0;31m# return a slice\u001b[0m\u001b[0;34m\u001b[0m\u001b[0;34m\u001b[0m\u001b[0;34m\u001b[0m\u001b[0m\n",
            "\u001b[0;32m/usr/local/lib/python3.7/dist-packages/pandas/core/indexes/base.py\u001b[0m in \u001b[0;36mslice_locs\u001b[0;34m(self, start, end, step, kind)\u001b[0m\n\u001b[1;32m   5170\u001b[0m         \u001b[0mstart_slice\u001b[0m \u001b[0;34m=\u001b[0m \u001b[0;32mNone\u001b[0m\u001b[0;34m\u001b[0m\u001b[0;34m\u001b[0m\u001b[0m\n\u001b[1;32m   5171\u001b[0m         \u001b[0;32mif\u001b[0m \u001b[0mstart\u001b[0m \u001b[0;32mis\u001b[0m \u001b[0;32mnot\u001b[0m \u001b[0;32mNone\u001b[0m\u001b[0;34m:\u001b[0m\u001b[0;34m\u001b[0m\u001b[0;34m\u001b[0m\u001b[0m\n\u001b[0;32m-> 5172\u001b[0;31m             \u001b[0mstart_slice\u001b[0m \u001b[0;34m=\u001b[0m \u001b[0mself\u001b[0m\u001b[0;34m.\u001b[0m\u001b[0mget_slice_bound\u001b[0m\u001b[0;34m(\u001b[0m\u001b[0mstart\u001b[0m\u001b[0;34m,\u001b[0m \u001b[0;34m\"left\"\u001b[0m\u001b[0;34m,\u001b[0m \u001b[0mkind\u001b[0m\u001b[0;34m)\u001b[0m\u001b[0;34m\u001b[0m\u001b[0;34m\u001b[0m\u001b[0m\n\u001b[0m\u001b[1;32m   5173\u001b[0m         \u001b[0;32mif\u001b[0m \u001b[0mstart_slice\u001b[0m \u001b[0;32mis\u001b[0m \u001b[0;32mNone\u001b[0m\u001b[0;34m:\u001b[0m\u001b[0;34m\u001b[0m\u001b[0;34m\u001b[0m\u001b[0m\n\u001b[1;32m   5174\u001b[0m             \u001b[0mstart_slice\u001b[0m \u001b[0;34m=\u001b[0m \u001b[0;36m0\u001b[0m\u001b[0;34m\u001b[0m\u001b[0;34m\u001b[0m\u001b[0m\n",
            "\u001b[0;32m/usr/local/lib/python3.7/dist-packages/pandas/core/indexes/base.py\u001b[0m in \u001b[0;36mget_slice_bound\u001b[0;34m(self, label, side, kind)\u001b[0m\n\u001b[1;32m   5080\u001b[0m         \u001b[0;31m# For datetime indices label may be a string that has to be converted\u001b[0m\u001b[0;34m\u001b[0m\u001b[0;34m\u001b[0m\u001b[0;34m\u001b[0m\u001b[0m\n\u001b[1;32m   5081\u001b[0m         \u001b[0;31m# to datetime boundary according to its resolution.\u001b[0m\u001b[0;34m\u001b[0m\u001b[0;34m\u001b[0m\u001b[0;34m\u001b[0m\u001b[0m\n\u001b[0;32m-> 5082\u001b[0;31m         \u001b[0mlabel\u001b[0m \u001b[0;34m=\u001b[0m \u001b[0mself\u001b[0m\u001b[0;34m.\u001b[0m\u001b[0m_maybe_cast_slice_bound\u001b[0m\u001b[0;34m(\u001b[0m\u001b[0mlabel\u001b[0m\u001b[0;34m,\u001b[0m \u001b[0mside\u001b[0m\u001b[0;34m,\u001b[0m \u001b[0mkind\u001b[0m\u001b[0;34m)\u001b[0m\u001b[0;34m\u001b[0m\u001b[0;34m\u001b[0m\u001b[0m\n\u001b[0m\u001b[1;32m   5083\u001b[0m \u001b[0;34m\u001b[0m\u001b[0m\n\u001b[1;32m   5084\u001b[0m         \u001b[0;31m# we need to look up the label\u001b[0m\u001b[0;34m\u001b[0m\u001b[0;34m\u001b[0m\u001b[0;34m\u001b[0m\u001b[0m\n",
            "\u001b[0;32m/usr/local/lib/python3.7/dist-packages/pandas/core/indexes/base.py\u001b[0m in \u001b[0;36m_maybe_cast_slice_bound\u001b[0;34m(self, label, side, kind)\u001b[0m\n\u001b[1;32m   5032\u001b[0m         \u001b[0;31m# this is rejected (generally .loc gets you here)\u001b[0m\u001b[0;34m\u001b[0m\u001b[0;34m\u001b[0m\u001b[0;34m\u001b[0m\u001b[0m\n\u001b[1;32m   5033\u001b[0m         \u001b[0;32melif\u001b[0m \u001b[0mis_integer\u001b[0m\u001b[0;34m(\u001b[0m\u001b[0mlabel\u001b[0m\u001b[0;34m)\u001b[0m\u001b[0;34m:\u001b[0m\u001b[0;34m\u001b[0m\u001b[0;34m\u001b[0m\u001b[0m\n\u001b[0;32m-> 5034\u001b[0;31m             \u001b[0mself\u001b[0m\u001b[0;34m.\u001b[0m\u001b[0m_invalid_indexer\u001b[0m\u001b[0;34m(\u001b[0m\u001b[0;34m\"slice\"\u001b[0m\u001b[0;34m,\u001b[0m \u001b[0mlabel\u001b[0m\u001b[0;34m)\u001b[0m\u001b[0;34m\u001b[0m\u001b[0;34m\u001b[0m\u001b[0m\n\u001b[0m\u001b[1;32m   5035\u001b[0m \u001b[0;34m\u001b[0m\u001b[0m\n\u001b[1;32m   5036\u001b[0m         \u001b[0;32mreturn\u001b[0m \u001b[0mlabel\u001b[0m\u001b[0;34m\u001b[0m\u001b[0;34m\u001b[0m\u001b[0m\n",
            "\u001b[0;32m/usr/local/lib/python3.7/dist-packages/pandas/core/indexes/base.py\u001b[0m in \u001b[0;36m_invalid_indexer\u001b[0;34m(self, form, key)\u001b[0m\n\u001b[1;32m   3269\u001b[0m         \"\"\"\n\u001b[1;32m   3270\u001b[0m         raise TypeError(\n\u001b[0;32m-> 3271\u001b[0;31m             \u001b[0;34mf\"cannot do {form} indexing on {type(self).__name__} with these \"\u001b[0m\u001b[0;34m\u001b[0m\u001b[0;34m\u001b[0m\u001b[0m\n\u001b[0m\u001b[1;32m   3272\u001b[0m             \u001b[0;34mf\"indexers [{key}] of type {type(key).__name__}\"\u001b[0m\u001b[0;34m\u001b[0m\u001b[0;34m\u001b[0m\u001b[0m\n\u001b[1;32m   3273\u001b[0m         )\n",
            "\u001b[0;31mTypeError\u001b[0m: cannot do slice indexing on Index with these indexers [1] of type int"
          ]
        }
      ]
    },
    {
      "cell_type": "code",
      "metadata": {
        "id": "vpIY0XTRETUX",
        "colab": {
          "base_uri": "https://localhost:8080/",
          "height": 388
        },
        "outputId": "4145813c-f87c-4bb4-b6f7-63b4ee3adf52"
      },
      "source": [
        "'''\n",
        "iloc is integer index-based. \n",
        "So here, we have to specify rows and columns by their integer index.\n",
        "'''\n",
        "display(marks.iloc[0:10]) # IMPORTANT - Out of 11 indices, the last one will be excluded.\n",
        "\n",
        "# Returns output of the indices without matching the value of incides entered and the value in the column.\n",
        "# iloc will not work if the indices are not integers."
      ],
      "execution_count": 32,
      "outputs": [
        {
          "output_type": "display_data",
          "data": {
            "text/html": [
              "<div>\n",
              "<style scoped>\n",
              "    .dataframe tbody tr th:only-of-type {\n",
              "        vertical-align: middle;\n",
              "    }\n",
              "\n",
              "    .dataframe tbody tr th {\n",
              "        vertical-align: top;\n",
              "    }\n",
              "\n",
              "    .dataframe thead th {\n",
              "        text-align: right;\n",
              "    }\n",
              "</style>\n",
              "<table border=\"1\" class=\"dataframe\">\n",
              "  <thead>\n",
              "    <tr style=\"text-align: right;\">\n",
              "      <th></th>\n",
              "      <th>Student_Name</th>\n",
              "      <th>English</th>\n",
              "      <th>Maths</th>\n",
              "      <th>Science</th>\n",
              "      <th>History</th>\n",
              "      <th>Social_Studies</th>\n",
              "    </tr>\n",
              "    <tr>\n",
              "      <th>Student_ID</th>\n",
              "      <th></th>\n",
              "      <th></th>\n",
              "      <th></th>\n",
              "      <th></th>\n",
              "      <th></th>\n",
              "      <th></th>\n",
              "    </tr>\n",
              "  </thead>\n",
              "  <tbody>\n",
              "    <tr>\n",
              "      <th>S01</th>\n",
              "      <td>Alice</td>\n",
              "      <td>96.874050</td>\n",
              "      <td>15.367999</td>\n",
              "      <td>58.682033</td>\n",
              "      <td>59.690510</td>\n",
              "      <td>61.373070</td>\n",
              "    </tr>\n",
              "    <tr>\n",
              "      <th>S02</th>\n",
              "      <td>Bob</td>\n",
              "      <td>5.462131</td>\n",
              "      <td>81.032680</td>\n",
              "      <td>83.171957</td>\n",
              "      <td>45.664012</td>\n",
              "      <td>80.805730</td>\n",
              "    </tr>\n",
              "    <tr>\n",
              "      <th>S03</th>\n",
              "      <td>Charlie</td>\n",
              "      <td>60.753099</td>\n",
              "      <td>65.219548</td>\n",
              "      <td>99.323628</td>\n",
              "      <td>24.281512</td>\n",
              "      <td>58.057612</td>\n",
              "    </tr>\n",
              "    <tr>\n",
              "      <th>S04</th>\n",
              "      <td>David</td>\n",
              "      <td>21.160844</td>\n",
              "      <td>95.052971</td>\n",
              "      <td>35.860852</td>\n",
              "      <td>62.865185</td>\n",
              "      <td>95.264572</td>\n",
              "    </tr>\n",
              "    <tr>\n",
              "      <th>S05</th>\n",
              "      <td>Edward</td>\n",
              "      <td>63.250994</td>\n",
              "      <td>60.693247</td>\n",
              "      <td>7.020915</td>\n",
              "      <td>60.505272</td>\n",
              "      <td>34.041671</td>\n",
              "    </tr>\n",
              "    <tr>\n",
              "      <th>S06</th>\n",
              "      <td>Fysal</td>\n",
              "      <td>42.694748</td>\n",
              "      <td>77.348295</td>\n",
              "      <td>37.216613</td>\n",
              "      <td>33.784399</td>\n",
              "      <td>85.019761</td>\n",
              "    </tr>\n",
              "    <tr>\n",
              "      <th>S07</th>\n",
              "      <td>George</td>\n",
              "      <td>66.276626</td>\n",
              "      <td>46.812190</td>\n",
              "      <td>14.219533</td>\n",
              "      <td>18.582771</td>\n",
              "      <td>87.021849</td>\n",
              "    </tr>\n",
              "    <tr>\n",
              "      <th>S08</th>\n",
              "      <td>Hareez</td>\n",
              "      <td>5.302984</td>\n",
              "      <td>11.966929</td>\n",
              "      <td>43.980951</td>\n",
              "      <td>54.410098</td>\n",
              "      <td>74.530018</td>\n",
              "    </tr>\n",
              "    <tr>\n",
              "      <th>S09</th>\n",
              "      <td>Ivan</td>\n",
              "      <td>5.777530</td>\n",
              "      <td>79.508179</td>\n",
              "      <td>94.559212</td>\n",
              "      <td>38.355867</td>\n",
              "      <td>90.483635</td>\n",
              "    </tr>\n",
              "    <tr>\n",
              "      <th>S10</th>\n",
              "      <td>John</td>\n",
              "      <td>30.968731</td>\n",
              "      <td>14.282925</td>\n",
              "      <td>3.312853</td>\n",
              "      <td>79.916094</td>\n",
              "      <td>32.706891</td>\n",
              "    </tr>\n",
              "  </tbody>\n",
              "</table>\n",
              "</div>"
            ],
            "text/plain": [
              "           Student_Name    English  ...    History  Social_Studies\n",
              "Student_ID                          ...                           \n",
              "S01               Alice  96.874050  ...  59.690510       61.373070\n",
              "S02                 Bob   5.462131  ...  45.664012       80.805730\n",
              "S03             Charlie  60.753099  ...  24.281512       58.057612\n",
              "S04               David  21.160844  ...  62.865185       95.264572\n",
              "S05              Edward  63.250994  ...  60.505272       34.041671\n",
              "S06               Fysal  42.694748  ...  33.784399       85.019761\n",
              "S07              George  66.276626  ...  18.582771       87.021849\n",
              "S08              Hareez   5.302984  ...  54.410098       74.530018\n",
              "S09                Ivan   5.777530  ...  38.355867       90.483635\n",
              "S10                John  30.968731  ...  79.916094       32.706891\n",
              "\n",
              "[10 rows x 6 columns]"
            ]
          },
          "metadata": {}
        }
      ]
    },
    {
      "cell_type": "code",
      "metadata": {
        "id": "sPZdY78dE27E",
        "colab": {
          "base_uri": "https://localhost:8080/",
          "height": 370
        },
        "outputId": "6d0b0951-be58-4ec9-bc02-3049e1d18f52"
      },
      "source": [
        "# What will be the output here? First think of the answer and then run the code.\n",
        "\n",
        "display(marks.iloc['S04'])\n",
        "\n",
        "# What is the issue? -> Should be an integer"
      ],
      "execution_count": 27,
      "outputs": [
        {
          "output_type": "error",
          "ename": "TypeError",
          "evalue": "ignored",
          "traceback": [
            "\u001b[0;31m---------------------------------------------------------------------------\u001b[0m",
            "\u001b[0;31mTypeError\u001b[0m                                 Traceback (most recent call last)",
            "\u001b[0;32m<ipython-input-27-795743d1b9f2>\u001b[0m in \u001b[0;36m<module>\u001b[0;34m()\u001b[0m\n\u001b[1;32m      1\u001b[0m \u001b[0;31m# What will be the output here? First think of the answer and then run the code.\u001b[0m\u001b[0;34m\u001b[0m\u001b[0;34m\u001b[0m\u001b[0;34m\u001b[0m\u001b[0m\n\u001b[1;32m      2\u001b[0m \u001b[0;34m\u001b[0m\u001b[0m\n\u001b[0;32m----> 3\u001b[0;31m \u001b[0mdisplay\u001b[0m\u001b[0;34m(\u001b[0m\u001b[0mmarks\u001b[0m\u001b[0;34m.\u001b[0m\u001b[0miloc\u001b[0m\u001b[0;34m[\u001b[0m\u001b[0;34m'S04'\u001b[0m\u001b[0;34m]\u001b[0m\u001b[0;34m)\u001b[0m\u001b[0;34m\u001b[0m\u001b[0;34m\u001b[0m\u001b[0m\n\u001b[0m\u001b[1;32m      4\u001b[0m \u001b[0;34m\u001b[0m\u001b[0m\n\u001b[1;32m      5\u001b[0m \u001b[0;31m# What is the issue?\u001b[0m\u001b[0;34m\u001b[0m\u001b[0;34m\u001b[0m\u001b[0;34m\u001b[0m\u001b[0m\n",
            "\u001b[0;32m/usr/local/lib/python3.7/dist-packages/pandas/core/indexing.py\u001b[0m in \u001b[0;36m__getitem__\u001b[0;34m(self, key)\u001b[0m\n\u001b[1;32m    877\u001b[0m \u001b[0;34m\u001b[0m\u001b[0m\n\u001b[1;32m    878\u001b[0m             \u001b[0mmaybe_callable\u001b[0m \u001b[0;34m=\u001b[0m \u001b[0mcom\u001b[0m\u001b[0;34m.\u001b[0m\u001b[0mapply_if_callable\u001b[0m\u001b[0;34m(\u001b[0m\u001b[0mkey\u001b[0m\u001b[0;34m,\u001b[0m \u001b[0mself\u001b[0m\u001b[0;34m.\u001b[0m\u001b[0mobj\u001b[0m\u001b[0;34m)\u001b[0m\u001b[0;34m\u001b[0m\u001b[0;34m\u001b[0m\u001b[0m\n\u001b[0;32m--> 879\u001b[0;31m             \u001b[0;32mreturn\u001b[0m \u001b[0mself\u001b[0m\u001b[0;34m.\u001b[0m\u001b[0m_getitem_axis\u001b[0m\u001b[0;34m(\u001b[0m\u001b[0mmaybe_callable\u001b[0m\u001b[0;34m,\u001b[0m \u001b[0maxis\u001b[0m\u001b[0;34m=\u001b[0m\u001b[0maxis\u001b[0m\u001b[0;34m)\u001b[0m\u001b[0;34m\u001b[0m\u001b[0;34m\u001b[0m\u001b[0m\n\u001b[0m\u001b[1;32m    880\u001b[0m \u001b[0;34m\u001b[0m\u001b[0m\n\u001b[1;32m    881\u001b[0m     \u001b[0;32mdef\u001b[0m \u001b[0m_is_scalar_access\u001b[0m\u001b[0;34m(\u001b[0m\u001b[0mself\u001b[0m\u001b[0;34m,\u001b[0m \u001b[0mkey\u001b[0m\u001b[0;34m:\u001b[0m \u001b[0mTuple\u001b[0m\u001b[0;34m)\u001b[0m\u001b[0;34m:\u001b[0m\u001b[0;34m\u001b[0m\u001b[0;34m\u001b[0m\u001b[0m\n",
            "\u001b[0;32m/usr/local/lib/python3.7/dist-packages/pandas/core/indexing.py\u001b[0m in \u001b[0;36m_getitem_axis\u001b[0;34m(self, key, axis)\u001b[0m\n\u001b[1;32m   1491\u001b[0m             \u001b[0mkey\u001b[0m \u001b[0;34m=\u001b[0m \u001b[0mitem_from_zerodim\u001b[0m\u001b[0;34m(\u001b[0m\u001b[0mkey\u001b[0m\u001b[0;34m)\u001b[0m\u001b[0;34m\u001b[0m\u001b[0;34m\u001b[0m\u001b[0m\n\u001b[1;32m   1492\u001b[0m             \u001b[0;32mif\u001b[0m \u001b[0;32mnot\u001b[0m \u001b[0mis_integer\u001b[0m\u001b[0;34m(\u001b[0m\u001b[0mkey\u001b[0m\u001b[0;34m)\u001b[0m\u001b[0;34m:\u001b[0m\u001b[0;34m\u001b[0m\u001b[0;34m\u001b[0m\u001b[0m\n\u001b[0;32m-> 1493\u001b[0;31m                 \u001b[0;32mraise\u001b[0m \u001b[0mTypeError\u001b[0m\u001b[0;34m(\u001b[0m\u001b[0;34m\"Cannot index by location index with a non-integer key\"\u001b[0m\u001b[0;34m)\u001b[0m\u001b[0;34m\u001b[0m\u001b[0;34m\u001b[0m\u001b[0m\n\u001b[0m\u001b[1;32m   1494\u001b[0m \u001b[0;34m\u001b[0m\u001b[0m\n\u001b[1;32m   1495\u001b[0m             \u001b[0;31m# validate the location\u001b[0m\u001b[0;34m\u001b[0m\u001b[0;34m\u001b[0m\u001b[0;34m\u001b[0m\u001b[0m\n",
            "\u001b[0;31mTypeError\u001b[0m: Cannot index by location index with a non-integer key"
          ]
        }
      ]
    },
    {
      "cell_type": "code",
      "metadata": {
        "id": "mShPCDKQFDlb",
        "colab": {
          "base_uri": "https://localhost:8080/",
          "height": 134
        },
        "outputId": "0f994177-7ffb-410e-a359-db18f15e3831"
      },
      "source": [
        "# Correct the issue of the previous code cell and write the correct syntax here.\n",
        "\n",
        "display(marks.iloc[3])"
      ],
      "execution_count": 33,
      "outputs": [
        {
          "output_type": "display_data",
          "data": {
            "text/plain": [
              "Student_Name        David\n",
              "English           21.1608\n",
              "Maths              95.053\n",
              "Science           35.8609\n",
              "History           62.8652\n",
              "Social_Studies    95.2646\n",
              "Name: S04, dtype: object"
            ]
          },
          "metadata": {}
        }
      ]
    },
    {
      "cell_type": "code",
      "metadata": {
        "id": "utHUjEFPFO-d",
        "colab": {
          "base_uri": "https://localhost:8080/",
          "height": 142
        },
        "outputId": "b41e9bfa-e41d-4692-bcdc-362b0f722788"
      },
      "source": [
        "# Data of multiple and non-consecuitive indices\n",
        "# Selecting details of the 1st and 5th row\n",
        "display(marks.iloc[[0, 4]])"
      ],
      "execution_count": 34,
      "outputs": [
        {
          "output_type": "display_data",
          "data": {
            "text/html": [
              "<div>\n",
              "<style scoped>\n",
              "    .dataframe tbody tr th:only-of-type {\n",
              "        vertical-align: middle;\n",
              "    }\n",
              "\n",
              "    .dataframe tbody tr th {\n",
              "        vertical-align: top;\n",
              "    }\n",
              "\n",
              "    .dataframe thead th {\n",
              "        text-align: right;\n",
              "    }\n",
              "</style>\n",
              "<table border=\"1\" class=\"dataframe\">\n",
              "  <thead>\n",
              "    <tr style=\"text-align: right;\">\n",
              "      <th></th>\n",
              "      <th>Student_Name</th>\n",
              "      <th>English</th>\n",
              "      <th>Maths</th>\n",
              "      <th>Science</th>\n",
              "      <th>History</th>\n",
              "      <th>Social_Studies</th>\n",
              "    </tr>\n",
              "    <tr>\n",
              "      <th>Student_ID</th>\n",
              "      <th></th>\n",
              "      <th></th>\n",
              "      <th></th>\n",
              "      <th></th>\n",
              "      <th></th>\n",
              "      <th></th>\n",
              "    </tr>\n",
              "  </thead>\n",
              "  <tbody>\n",
              "    <tr>\n",
              "      <th>S01</th>\n",
              "      <td>Alice</td>\n",
              "      <td>96.874050</td>\n",
              "      <td>15.367999</td>\n",
              "      <td>58.682033</td>\n",
              "      <td>59.690510</td>\n",
              "      <td>61.373070</td>\n",
              "    </tr>\n",
              "    <tr>\n",
              "      <th>S05</th>\n",
              "      <td>Edward</td>\n",
              "      <td>63.250994</td>\n",
              "      <td>60.693247</td>\n",
              "      <td>7.020915</td>\n",
              "      <td>60.505272</td>\n",
              "      <td>34.041671</td>\n",
              "    </tr>\n",
              "  </tbody>\n",
              "</table>\n",
              "</div>"
            ],
            "text/plain": [
              "           Student_Name    English  ...    History  Social_Studies\n",
              "Student_ID                          ...                           \n",
              "S01               Alice  96.874050  ...  59.690510       61.373070\n",
              "S05              Edward  63.250994  ...  60.505272       34.041671\n",
              "\n",
              "[2 rows x 6 columns]"
            ]
          },
          "metadata": {}
        }
      ]
    },
    {
      "cell_type": "code",
      "metadata": {
        "id": "lIYhaJd3FZFr",
        "colab": {
          "base_uri": "https://localhost:8080/",
          "height": 265
        },
        "outputId": "688bce7b-3ed7-4dab-dae7-0fbf3be5c70f"
      },
      "source": [
        "# TO DO: Print the details from 0th, 5th and 8th rows, along with the details of indices 4th, 11th and 16th.\n",
        "\n",
        "display(marks.iloc[[0, 5,8,3,10,15]])"
      ],
      "execution_count": 35,
      "outputs": [
        {
          "output_type": "display_data",
          "data": {
            "text/html": [
              "<div>\n",
              "<style scoped>\n",
              "    .dataframe tbody tr th:only-of-type {\n",
              "        vertical-align: middle;\n",
              "    }\n",
              "\n",
              "    .dataframe tbody tr th {\n",
              "        vertical-align: top;\n",
              "    }\n",
              "\n",
              "    .dataframe thead th {\n",
              "        text-align: right;\n",
              "    }\n",
              "</style>\n",
              "<table border=\"1\" class=\"dataframe\">\n",
              "  <thead>\n",
              "    <tr style=\"text-align: right;\">\n",
              "      <th></th>\n",
              "      <th>Student_Name</th>\n",
              "      <th>English</th>\n",
              "      <th>Maths</th>\n",
              "      <th>Science</th>\n",
              "      <th>History</th>\n",
              "      <th>Social_Studies</th>\n",
              "    </tr>\n",
              "    <tr>\n",
              "      <th>Student_ID</th>\n",
              "      <th></th>\n",
              "      <th></th>\n",
              "      <th></th>\n",
              "      <th></th>\n",
              "      <th></th>\n",
              "      <th></th>\n",
              "    </tr>\n",
              "  </thead>\n",
              "  <tbody>\n",
              "    <tr>\n",
              "      <th>S01</th>\n",
              "      <td>Alice</td>\n",
              "      <td>96.874050</td>\n",
              "      <td>15.367999</td>\n",
              "      <td>58.682033</td>\n",
              "      <td>59.690510</td>\n",
              "      <td>61.373070</td>\n",
              "    </tr>\n",
              "    <tr>\n",
              "      <th>S06</th>\n",
              "      <td>Fysal</td>\n",
              "      <td>42.694748</td>\n",
              "      <td>77.348295</td>\n",
              "      <td>37.216613</td>\n",
              "      <td>33.784399</td>\n",
              "      <td>85.019761</td>\n",
              "    </tr>\n",
              "    <tr>\n",
              "      <th>S09</th>\n",
              "      <td>Ivan</td>\n",
              "      <td>5.777530</td>\n",
              "      <td>79.508179</td>\n",
              "      <td>94.559212</td>\n",
              "      <td>38.355867</td>\n",
              "      <td>90.483635</td>\n",
              "    </tr>\n",
              "    <tr>\n",
              "      <th>S04</th>\n",
              "      <td>David</td>\n",
              "      <td>21.160844</td>\n",
              "      <td>95.052971</td>\n",
              "      <td>35.860852</td>\n",
              "      <td>62.865185</td>\n",
              "      <td>95.264572</td>\n",
              "    </tr>\n",
              "    <tr>\n",
              "      <th>S11</th>\n",
              "      <td>Kelvin</td>\n",
              "      <td>40.219985</td>\n",
              "      <td>55.325651</td>\n",
              "      <td>16.826141</td>\n",
              "      <td>7.462064</td>\n",
              "      <td>34.449110</td>\n",
              "    </tr>\n",
              "    <tr>\n",
              "      <th>S16</th>\n",
              "      <td>Peter</td>\n",
              "      <td>40.694327</td>\n",
              "      <td>91.395888</td>\n",
              "      <td>8.149884</td>\n",
              "      <td>13.852098</td>\n",
              "      <td>74.528425</td>\n",
              "    </tr>\n",
              "  </tbody>\n",
              "</table>\n",
              "</div>"
            ],
            "text/plain": [
              "           Student_Name    English  ...    History  Social_Studies\n",
              "Student_ID                          ...                           \n",
              "S01               Alice  96.874050  ...  59.690510       61.373070\n",
              "S06               Fysal  42.694748  ...  33.784399       85.019761\n",
              "S09                Ivan   5.777530  ...  38.355867       90.483635\n",
              "S04               David  21.160844  ...  62.865185       95.264572\n",
              "S11              Kelvin  40.219985  ...   7.462064       34.449110\n",
              "S16               Peter  40.694327  ...  13.852098       74.528425\n",
              "\n",
              "[6 rows x 6 columns]"
            ]
          },
          "metadata": {}
        }
      ]
    },
    {
      "cell_type": "code",
      "metadata": {
        "id": "QDNJQAwXF_nr",
        "colab": {
          "base_uri": "https://localhost:8080/",
          "height": 234
        },
        "outputId": "9da152b3-3a84-42b2-a3cf-8b30e244555e"
      },
      "source": [
        "# .loc can be used to fetch details from a range of index values in a sequence.\n",
        "\n",
        "display(marks.loc['S01':'S05'])   # Continuous series of the indices based on label."
      ],
      "execution_count": 36,
      "outputs": [
        {
          "output_type": "display_data",
          "data": {
            "text/html": [
              "<div>\n",
              "<style scoped>\n",
              "    .dataframe tbody tr th:only-of-type {\n",
              "        vertical-align: middle;\n",
              "    }\n",
              "\n",
              "    .dataframe tbody tr th {\n",
              "        vertical-align: top;\n",
              "    }\n",
              "\n",
              "    .dataframe thead th {\n",
              "        text-align: right;\n",
              "    }\n",
              "</style>\n",
              "<table border=\"1\" class=\"dataframe\">\n",
              "  <thead>\n",
              "    <tr style=\"text-align: right;\">\n",
              "      <th></th>\n",
              "      <th>Student_Name</th>\n",
              "      <th>English</th>\n",
              "      <th>Maths</th>\n",
              "      <th>Science</th>\n",
              "      <th>History</th>\n",
              "      <th>Social_Studies</th>\n",
              "    </tr>\n",
              "    <tr>\n",
              "      <th>Student_ID</th>\n",
              "      <th></th>\n",
              "      <th></th>\n",
              "      <th></th>\n",
              "      <th></th>\n",
              "      <th></th>\n",
              "      <th></th>\n",
              "    </tr>\n",
              "  </thead>\n",
              "  <tbody>\n",
              "    <tr>\n",
              "      <th>S01</th>\n",
              "      <td>Alice</td>\n",
              "      <td>96.874050</td>\n",
              "      <td>15.367999</td>\n",
              "      <td>58.682033</td>\n",
              "      <td>59.690510</td>\n",
              "      <td>61.373070</td>\n",
              "    </tr>\n",
              "    <tr>\n",
              "      <th>S02</th>\n",
              "      <td>Bob</td>\n",
              "      <td>5.462131</td>\n",
              "      <td>81.032680</td>\n",
              "      <td>83.171957</td>\n",
              "      <td>45.664012</td>\n",
              "      <td>80.805730</td>\n",
              "    </tr>\n",
              "    <tr>\n",
              "      <th>S03</th>\n",
              "      <td>Charlie</td>\n",
              "      <td>60.753099</td>\n",
              "      <td>65.219548</td>\n",
              "      <td>99.323628</td>\n",
              "      <td>24.281512</td>\n",
              "      <td>58.057612</td>\n",
              "    </tr>\n",
              "    <tr>\n",
              "      <th>S04</th>\n",
              "      <td>David</td>\n",
              "      <td>21.160844</td>\n",
              "      <td>95.052971</td>\n",
              "      <td>35.860852</td>\n",
              "      <td>62.865185</td>\n",
              "      <td>95.264572</td>\n",
              "    </tr>\n",
              "    <tr>\n",
              "      <th>S05</th>\n",
              "      <td>Edward</td>\n",
              "      <td>63.250994</td>\n",
              "      <td>60.693247</td>\n",
              "      <td>7.020915</td>\n",
              "      <td>60.505272</td>\n",
              "      <td>34.041671</td>\n",
              "    </tr>\n",
              "  </tbody>\n",
              "</table>\n",
              "</div>"
            ],
            "text/plain": [
              "           Student_Name    English  ...    History  Social_Studies\n",
              "Student_ID                          ...                           \n",
              "S01               Alice  96.874050  ...  59.690510       61.373070\n",
              "S02                 Bob   5.462131  ...  45.664012       80.805730\n",
              "S03             Charlie  60.753099  ...  24.281512       58.057612\n",
              "S04               David  21.160844  ...  62.865185       95.264572\n",
              "S05              Edward  63.250994  ...  60.505272       34.041671\n",
              "\n",
              "[5 rows x 6 columns]"
            ]
          },
          "metadata": {}
        }
      ]
    },
    {
      "cell_type": "code",
      "metadata": {
        "id": "ha6Kjx4RGqXj",
        "colab": {
          "base_uri": "https://localhost:8080/",
          "height": 1000
        },
        "outputId": "1995a696-f5d8-45f3-cbb4-9429e5be70ce"
      },
      "source": [
        "# Run these line one by one and observe the output to notice the difference and execution of the syntax\n",
        "\n",
        "display(marks.iloc[2:5])\n",
        "display(marks.iloc[0:5])\n",
        "display(marks.iloc[:5])\n",
        "display(marks.iloc[15:20])\n",
        "display(marks.iloc[15:])\n",
        "display(marks.iloc[15:100])\n",
        "display(marks.iloc[:])\n",
        "\n"
      ],
      "execution_count": 42,
      "outputs": [
        {
          "output_type": "display_data",
          "data": {
            "text/html": [
              "<div>\n",
              "<style scoped>\n",
              "    .dataframe tbody tr th:only-of-type {\n",
              "        vertical-align: middle;\n",
              "    }\n",
              "\n",
              "    .dataframe tbody tr th {\n",
              "        vertical-align: top;\n",
              "    }\n",
              "\n",
              "    .dataframe thead th {\n",
              "        text-align: right;\n",
              "    }\n",
              "</style>\n",
              "<table border=\"1\" class=\"dataframe\">\n",
              "  <thead>\n",
              "    <tr style=\"text-align: right;\">\n",
              "      <th></th>\n",
              "      <th>Student_Name</th>\n",
              "      <th>English</th>\n",
              "      <th>Maths</th>\n",
              "      <th>Science</th>\n",
              "      <th>History</th>\n",
              "      <th>Social_Studies</th>\n",
              "    </tr>\n",
              "    <tr>\n",
              "      <th>Student_ID</th>\n",
              "      <th></th>\n",
              "      <th></th>\n",
              "      <th></th>\n",
              "      <th></th>\n",
              "      <th></th>\n",
              "      <th></th>\n",
              "    </tr>\n",
              "  </thead>\n",
              "  <tbody>\n",
              "    <tr>\n",
              "      <th>S03</th>\n",
              "      <td>Charlie</td>\n",
              "      <td>60.753099</td>\n",
              "      <td>65.219548</td>\n",
              "      <td>99.323628</td>\n",
              "      <td>24.281512</td>\n",
              "      <td>58.057612</td>\n",
              "    </tr>\n",
              "    <tr>\n",
              "      <th>S04</th>\n",
              "      <td>David</td>\n",
              "      <td>21.160844</td>\n",
              "      <td>95.052971</td>\n",
              "      <td>35.860852</td>\n",
              "      <td>62.865185</td>\n",
              "      <td>95.264572</td>\n",
              "    </tr>\n",
              "    <tr>\n",
              "      <th>S05</th>\n",
              "      <td>Edward</td>\n",
              "      <td>63.250994</td>\n",
              "      <td>60.693247</td>\n",
              "      <td>7.020915</td>\n",
              "      <td>60.505272</td>\n",
              "      <td>34.041671</td>\n",
              "    </tr>\n",
              "  </tbody>\n",
              "</table>\n",
              "</div>"
            ],
            "text/plain": [
              "           Student_Name    English  ...    History  Social_Studies\n",
              "Student_ID                          ...                           \n",
              "S03             Charlie  60.753099  ...  24.281512       58.057612\n",
              "S04               David  21.160844  ...  62.865185       95.264572\n",
              "S05              Edward  63.250994  ...  60.505272       34.041671\n",
              "\n",
              "[3 rows x 6 columns]"
            ]
          },
          "metadata": {}
        },
        {
          "output_type": "display_data",
          "data": {
            "text/html": [
              "<div>\n",
              "<style scoped>\n",
              "    .dataframe tbody tr th:only-of-type {\n",
              "        vertical-align: middle;\n",
              "    }\n",
              "\n",
              "    .dataframe tbody tr th {\n",
              "        vertical-align: top;\n",
              "    }\n",
              "\n",
              "    .dataframe thead th {\n",
              "        text-align: right;\n",
              "    }\n",
              "</style>\n",
              "<table border=\"1\" class=\"dataframe\">\n",
              "  <thead>\n",
              "    <tr style=\"text-align: right;\">\n",
              "      <th></th>\n",
              "      <th>Student_Name</th>\n",
              "      <th>English</th>\n",
              "      <th>Maths</th>\n",
              "      <th>Science</th>\n",
              "      <th>History</th>\n",
              "      <th>Social_Studies</th>\n",
              "    </tr>\n",
              "    <tr>\n",
              "      <th>Student_ID</th>\n",
              "      <th></th>\n",
              "      <th></th>\n",
              "      <th></th>\n",
              "      <th></th>\n",
              "      <th></th>\n",
              "      <th></th>\n",
              "    </tr>\n",
              "  </thead>\n",
              "  <tbody>\n",
              "    <tr>\n",
              "      <th>S01</th>\n",
              "      <td>Alice</td>\n",
              "      <td>96.874050</td>\n",
              "      <td>15.367999</td>\n",
              "      <td>58.682033</td>\n",
              "      <td>59.690510</td>\n",
              "      <td>61.373070</td>\n",
              "    </tr>\n",
              "    <tr>\n",
              "      <th>S02</th>\n",
              "      <td>Bob</td>\n",
              "      <td>5.462131</td>\n",
              "      <td>81.032680</td>\n",
              "      <td>83.171957</td>\n",
              "      <td>45.664012</td>\n",
              "      <td>80.805730</td>\n",
              "    </tr>\n",
              "    <tr>\n",
              "      <th>S03</th>\n",
              "      <td>Charlie</td>\n",
              "      <td>60.753099</td>\n",
              "      <td>65.219548</td>\n",
              "      <td>99.323628</td>\n",
              "      <td>24.281512</td>\n",
              "      <td>58.057612</td>\n",
              "    </tr>\n",
              "    <tr>\n",
              "      <th>S04</th>\n",
              "      <td>David</td>\n",
              "      <td>21.160844</td>\n",
              "      <td>95.052971</td>\n",
              "      <td>35.860852</td>\n",
              "      <td>62.865185</td>\n",
              "      <td>95.264572</td>\n",
              "    </tr>\n",
              "    <tr>\n",
              "      <th>S05</th>\n",
              "      <td>Edward</td>\n",
              "      <td>63.250994</td>\n",
              "      <td>60.693247</td>\n",
              "      <td>7.020915</td>\n",
              "      <td>60.505272</td>\n",
              "      <td>34.041671</td>\n",
              "    </tr>\n",
              "  </tbody>\n",
              "</table>\n",
              "</div>"
            ],
            "text/plain": [
              "           Student_Name    English  ...    History  Social_Studies\n",
              "Student_ID                          ...                           \n",
              "S01               Alice  96.874050  ...  59.690510       61.373070\n",
              "S02                 Bob   5.462131  ...  45.664012       80.805730\n",
              "S03             Charlie  60.753099  ...  24.281512       58.057612\n",
              "S04               David  21.160844  ...  62.865185       95.264572\n",
              "S05              Edward  63.250994  ...  60.505272       34.041671\n",
              "\n",
              "[5 rows x 6 columns]"
            ]
          },
          "metadata": {}
        },
        {
          "output_type": "display_data",
          "data": {
            "text/html": [
              "<div>\n",
              "<style scoped>\n",
              "    .dataframe tbody tr th:only-of-type {\n",
              "        vertical-align: middle;\n",
              "    }\n",
              "\n",
              "    .dataframe tbody tr th {\n",
              "        vertical-align: top;\n",
              "    }\n",
              "\n",
              "    .dataframe thead th {\n",
              "        text-align: right;\n",
              "    }\n",
              "</style>\n",
              "<table border=\"1\" class=\"dataframe\">\n",
              "  <thead>\n",
              "    <tr style=\"text-align: right;\">\n",
              "      <th></th>\n",
              "      <th>Student_Name</th>\n",
              "      <th>English</th>\n",
              "      <th>Maths</th>\n",
              "      <th>Science</th>\n",
              "      <th>History</th>\n",
              "      <th>Social_Studies</th>\n",
              "    </tr>\n",
              "    <tr>\n",
              "      <th>Student_ID</th>\n",
              "      <th></th>\n",
              "      <th></th>\n",
              "      <th></th>\n",
              "      <th></th>\n",
              "      <th></th>\n",
              "      <th></th>\n",
              "    </tr>\n",
              "  </thead>\n",
              "  <tbody>\n",
              "    <tr>\n",
              "      <th>S01</th>\n",
              "      <td>Alice</td>\n",
              "      <td>96.874050</td>\n",
              "      <td>15.367999</td>\n",
              "      <td>58.682033</td>\n",
              "      <td>59.690510</td>\n",
              "      <td>61.373070</td>\n",
              "    </tr>\n",
              "    <tr>\n",
              "      <th>S02</th>\n",
              "      <td>Bob</td>\n",
              "      <td>5.462131</td>\n",
              "      <td>81.032680</td>\n",
              "      <td>83.171957</td>\n",
              "      <td>45.664012</td>\n",
              "      <td>80.805730</td>\n",
              "    </tr>\n",
              "    <tr>\n",
              "      <th>S03</th>\n",
              "      <td>Charlie</td>\n",
              "      <td>60.753099</td>\n",
              "      <td>65.219548</td>\n",
              "      <td>99.323628</td>\n",
              "      <td>24.281512</td>\n",
              "      <td>58.057612</td>\n",
              "    </tr>\n",
              "    <tr>\n",
              "      <th>S04</th>\n",
              "      <td>David</td>\n",
              "      <td>21.160844</td>\n",
              "      <td>95.052971</td>\n",
              "      <td>35.860852</td>\n",
              "      <td>62.865185</td>\n",
              "      <td>95.264572</td>\n",
              "    </tr>\n",
              "    <tr>\n",
              "      <th>S05</th>\n",
              "      <td>Edward</td>\n",
              "      <td>63.250994</td>\n",
              "      <td>60.693247</td>\n",
              "      <td>7.020915</td>\n",
              "      <td>60.505272</td>\n",
              "      <td>34.041671</td>\n",
              "    </tr>\n",
              "  </tbody>\n",
              "</table>\n",
              "</div>"
            ],
            "text/plain": [
              "           Student_Name    English  ...    History  Social_Studies\n",
              "Student_ID                          ...                           \n",
              "S01               Alice  96.874050  ...  59.690510       61.373070\n",
              "S02                 Bob   5.462131  ...  45.664012       80.805730\n",
              "S03             Charlie  60.753099  ...  24.281512       58.057612\n",
              "S04               David  21.160844  ...  62.865185       95.264572\n",
              "S05              Edward  63.250994  ...  60.505272       34.041671\n",
              "\n",
              "[5 rows x 6 columns]"
            ]
          },
          "metadata": {}
        },
        {
          "output_type": "display_data",
          "data": {
            "text/html": [
              "<div>\n",
              "<style scoped>\n",
              "    .dataframe tbody tr th:only-of-type {\n",
              "        vertical-align: middle;\n",
              "    }\n",
              "\n",
              "    .dataframe tbody tr th {\n",
              "        vertical-align: top;\n",
              "    }\n",
              "\n",
              "    .dataframe thead th {\n",
              "        text-align: right;\n",
              "    }\n",
              "</style>\n",
              "<table border=\"1\" class=\"dataframe\">\n",
              "  <thead>\n",
              "    <tr style=\"text-align: right;\">\n",
              "      <th></th>\n",
              "      <th>Student_Name</th>\n",
              "      <th>English</th>\n",
              "      <th>Maths</th>\n",
              "      <th>Science</th>\n",
              "      <th>History</th>\n",
              "      <th>Social_Studies</th>\n",
              "    </tr>\n",
              "    <tr>\n",
              "      <th>Student_ID</th>\n",
              "      <th></th>\n",
              "      <th></th>\n",
              "      <th></th>\n",
              "      <th></th>\n",
              "      <th></th>\n",
              "      <th></th>\n",
              "    </tr>\n",
              "  </thead>\n",
              "  <tbody>\n",
              "    <tr>\n",
              "      <th>S16</th>\n",
              "      <td>Peter</td>\n",
              "      <td>40.694327</td>\n",
              "      <td>91.395888</td>\n",
              "      <td>8.149884</td>\n",
              "      <td>13.852098</td>\n",
              "      <td>74.528425</td>\n",
              "    </tr>\n",
              "    <tr>\n",
              "      <th>S17</th>\n",
              "      <td>Roy</td>\n",
              "      <td>43.559963</td>\n",
              "      <td>99.270852</td>\n",
              "      <td>13.924531</td>\n",
              "      <td>71.306738</td>\n",
              "      <td>8.432155</td>\n",
              "    </tr>\n",
              "    <tr>\n",
              "      <th>S18</th>\n",
              "      <td>Ria</td>\n",
              "      <td>30.830802</td>\n",
              "      <td>25.545682</td>\n",
              "      <td>84.271650</td>\n",
              "      <td>78.727155</td>\n",
              "      <td>7.305670</td>\n",
              "    </tr>\n",
              "    <tr>\n",
              "      <th>S19</th>\n",
              "      <td>Suvin</td>\n",
              "      <td>72.218179</td>\n",
              "      <td>85.284128</td>\n",
              "      <td>32.555060</td>\n",
              "      <td>47.007177</td>\n",
              "      <td>83.344403</td>\n",
              "    </tr>\n",
              "    <tr>\n",
              "      <th>S20</th>\n",
              "      <td>Tan</td>\n",
              "      <td>18.070264</td>\n",
              "      <td>56.662635</td>\n",
              "      <td>2.618987</td>\n",
              "      <td>14.067349</td>\n",
              "      <td>82.802787</td>\n",
              "    </tr>\n",
              "  </tbody>\n",
              "</table>\n",
              "</div>"
            ],
            "text/plain": [
              "           Student_Name    English  ...    History  Social_Studies\n",
              "Student_ID                          ...                           \n",
              "S16               Peter  40.694327  ...  13.852098       74.528425\n",
              "S17                 Roy  43.559963  ...  71.306738        8.432155\n",
              "S18                 Ria  30.830802  ...  78.727155        7.305670\n",
              "S19               Suvin  72.218179  ...  47.007177       83.344403\n",
              "S20                 Tan  18.070264  ...  14.067349       82.802787\n",
              "\n",
              "[5 rows x 6 columns]"
            ]
          },
          "metadata": {}
        },
        {
          "output_type": "display_data",
          "data": {
            "text/html": [
              "<div>\n",
              "<style scoped>\n",
              "    .dataframe tbody tr th:only-of-type {\n",
              "        vertical-align: middle;\n",
              "    }\n",
              "\n",
              "    .dataframe tbody tr th {\n",
              "        vertical-align: top;\n",
              "    }\n",
              "\n",
              "    .dataframe thead th {\n",
              "        text-align: right;\n",
              "    }\n",
              "</style>\n",
              "<table border=\"1\" class=\"dataframe\">\n",
              "  <thead>\n",
              "    <tr style=\"text-align: right;\">\n",
              "      <th></th>\n",
              "      <th>Student_Name</th>\n",
              "      <th>English</th>\n",
              "      <th>Maths</th>\n",
              "      <th>Science</th>\n",
              "      <th>History</th>\n",
              "      <th>Social_Studies</th>\n",
              "    </tr>\n",
              "    <tr>\n",
              "      <th>Student_ID</th>\n",
              "      <th></th>\n",
              "      <th></th>\n",
              "      <th></th>\n",
              "      <th></th>\n",
              "      <th></th>\n",
              "      <th></th>\n",
              "    </tr>\n",
              "  </thead>\n",
              "  <tbody>\n",
              "    <tr>\n",
              "      <th>S16</th>\n",
              "      <td>Peter</td>\n",
              "      <td>40.694327</td>\n",
              "      <td>91.395888</td>\n",
              "      <td>8.149884</td>\n",
              "      <td>13.852098</td>\n",
              "      <td>74.528425</td>\n",
              "    </tr>\n",
              "    <tr>\n",
              "      <th>S17</th>\n",
              "      <td>Roy</td>\n",
              "      <td>43.559963</td>\n",
              "      <td>99.270852</td>\n",
              "      <td>13.924531</td>\n",
              "      <td>71.306738</td>\n",
              "      <td>8.432155</td>\n",
              "    </tr>\n",
              "    <tr>\n",
              "      <th>S18</th>\n",
              "      <td>Ria</td>\n",
              "      <td>30.830802</td>\n",
              "      <td>25.545682</td>\n",
              "      <td>84.271650</td>\n",
              "      <td>78.727155</td>\n",
              "      <td>7.305670</td>\n",
              "    </tr>\n",
              "    <tr>\n",
              "      <th>S19</th>\n",
              "      <td>Suvin</td>\n",
              "      <td>72.218179</td>\n",
              "      <td>85.284128</td>\n",
              "      <td>32.555060</td>\n",
              "      <td>47.007177</td>\n",
              "      <td>83.344403</td>\n",
              "    </tr>\n",
              "    <tr>\n",
              "      <th>S20</th>\n",
              "      <td>Tan</td>\n",
              "      <td>18.070264</td>\n",
              "      <td>56.662635</td>\n",
              "      <td>2.618987</td>\n",
              "      <td>14.067349</td>\n",
              "      <td>82.802787</td>\n",
              "    </tr>\n",
              "  </tbody>\n",
              "</table>\n",
              "</div>"
            ],
            "text/plain": [
              "           Student_Name    English  ...    History  Social_Studies\n",
              "Student_ID                          ...                           \n",
              "S16               Peter  40.694327  ...  13.852098       74.528425\n",
              "S17                 Roy  43.559963  ...  71.306738        8.432155\n",
              "S18                 Ria  30.830802  ...  78.727155        7.305670\n",
              "S19               Suvin  72.218179  ...  47.007177       83.344403\n",
              "S20                 Tan  18.070264  ...  14.067349       82.802787\n",
              "\n",
              "[5 rows x 6 columns]"
            ]
          },
          "metadata": {}
        },
        {
          "output_type": "display_data",
          "data": {
            "text/html": [
              "<div>\n",
              "<style scoped>\n",
              "    .dataframe tbody tr th:only-of-type {\n",
              "        vertical-align: middle;\n",
              "    }\n",
              "\n",
              "    .dataframe tbody tr th {\n",
              "        vertical-align: top;\n",
              "    }\n",
              "\n",
              "    .dataframe thead th {\n",
              "        text-align: right;\n",
              "    }\n",
              "</style>\n",
              "<table border=\"1\" class=\"dataframe\">\n",
              "  <thead>\n",
              "    <tr style=\"text-align: right;\">\n",
              "      <th></th>\n",
              "      <th>Student_Name</th>\n",
              "      <th>English</th>\n",
              "      <th>Maths</th>\n",
              "      <th>Science</th>\n",
              "      <th>History</th>\n",
              "      <th>Social_Studies</th>\n",
              "    </tr>\n",
              "    <tr>\n",
              "      <th>Student_ID</th>\n",
              "      <th></th>\n",
              "      <th></th>\n",
              "      <th></th>\n",
              "      <th></th>\n",
              "      <th></th>\n",
              "      <th></th>\n",
              "    </tr>\n",
              "  </thead>\n",
              "  <tbody>\n",
              "    <tr>\n",
              "      <th>S16</th>\n",
              "      <td>Peter</td>\n",
              "      <td>40.694327</td>\n",
              "      <td>91.395888</td>\n",
              "      <td>8.149884</td>\n",
              "      <td>13.852098</td>\n",
              "      <td>74.528425</td>\n",
              "    </tr>\n",
              "    <tr>\n",
              "      <th>S17</th>\n",
              "      <td>Roy</td>\n",
              "      <td>43.559963</td>\n",
              "      <td>99.270852</td>\n",
              "      <td>13.924531</td>\n",
              "      <td>71.306738</td>\n",
              "      <td>8.432155</td>\n",
              "    </tr>\n",
              "    <tr>\n",
              "      <th>S18</th>\n",
              "      <td>Ria</td>\n",
              "      <td>30.830802</td>\n",
              "      <td>25.545682</td>\n",
              "      <td>84.271650</td>\n",
              "      <td>78.727155</td>\n",
              "      <td>7.305670</td>\n",
              "    </tr>\n",
              "    <tr>\n",
              "      <th>S19</th>\n",
              "      <td>Suvin</td>\n",
              "      <td>72.218179</td>\n",
              "      <td>85.284128</td>\n",
              "      <td>32.555060</td>\n",
              "      <td>47.007177</td>\n",
              "      <td>83.344403</td>\n",
              "    </tr>\n",
              "    <tr>\n",
              "      <th>S20</th>\n",
              "      <td>Tan</td>\n",
              "      <td>18.070264</td>\n",
              "      <td>56.662635</td>\n",
              "      <td>2.618987</td>\n",
              "      <td>14.067349</td>\n",
              "      <td>82.802787</td>\n",
              "    </tr>\n",
              "  </tbody>\n",
              "</table>\n",
              "</div>"
            ],
            "text/plain": [
              "           Student_Name    English  ...    History  Social_Studies\n",
              "Student_ID                          ...                           \n",
              "S16               Peter  40.694327  ...  13.852098       74.528425\n",
              "S17                 Roy  43.559963  ...  71.306738        8.432155\n",
              "S18                 Ria  30.830802  ...  78.727155        7.305670\n",
              "S19               Suvin  72.218179  ...  47.007177       83.344403\n",
              "S20                 Tan  18.070264  ...  14.067349       82.802787\n",
              "\n",
              "[5 rows x 6 columns]"
            ]
          },
          "metadata": {}
        },
        {
          "output_type": "display_data",
          "data": {
            "text/html": [
              "<div>\n",
              "<style scoped>\n",
              "    .dataframe tbody tr th:only-of-type {\n",
              "        vertical-align: middle;\n",
              "    }\n",
              "\n",
              "    .dataframe tbody tr th {\n",
              "        vertical-align: top;\n",
              "    }\n",
              "\n",
              "    .dataframe thead th {\n",
              "        text-align: right;\n",
              "    }\n",
              "</style>\n",
              "<table border=\"1\" class=\"dataframe\">\n",
              "  <thead>\n",
              "    <tr style=\"text-align: right;\">\n",
              "      <th></th>\n",
              "      <th>Student_Name</th>\n",
              "      <th>English</th>\n",
              "      <th>Maths</th>\n",
              "      <th>Science</th>\n",
              "      <th>History</th>\n",
              "      <th>Social_Studies</th>\n",
              "    </tr>\n",
              "    <tr>\n",
              "      <th>Student_ID</th>\n",
              "      <th></th>\n",
              "      <th></th>\n",
              "      <th></th>\n",
              "      <th></th>\n",
              "      <th></th>\n",
              "      <th></th>\n",
              "    </tr>\n",
              "  </thead>\n",
              "  <tbody>\n",
              "    <tr>\n",
              "      <th>S01</th>\n",
              "      <td>Alice</td>\n",
              "      <td>96.874050</td>\n",
              "      <td>15.367999</td>\n",
              "      <td>58.682033</td>\n",
              "      <td>59.690510</td>\n",
              "      <td>61.373070</td>\n",
              "    </tr>\n",
              "    <tr>\n",
              "      <th>S02</th>\n",
              "      <td>Bob</td>\n",
              "      <td>5.462131</td>\n",
              "      <td>81.032680</td>\n",
              "      <td>83.171957</td>\n",
              "      <td>45.664012</td>\n",
              "      <td>80.805730</td>\n",
              "    </tr>\n",
              "    <tr>\n",
              "      <th>S03</th>\n",
              "      <td>Charlie</td>\n",
              "      <td>60.753099</td>\n",
              "      <td>65.219548</td>\n",
              "      <td>99.323628</td>\n",
              "      <td>24.281512</td>\n",
              "      <td>58.057612</td>\n",
              "    </tr>\n",
              "    <tr>\n",
              "      <th>S04</th>\n",
              "      <td>David</td>\n",
              "      <td>21.160844</td>\n",
              "      <td>95.052971</td>\n",
              "      <td>35.860852</td>\n",
              "      <td>62.865185</td>\n",
              "      <td>95.264572</td>\n",
              "    </tr>\n",
              "    <tr>\n",
              "      <th>S05</th>\n",
              "      <td>Edward</td>\n",
              "      <td>63.250994</td>\n",
              "      <td>60.693247</td>\n",
              "      <td>7.020915</td>\n",
              "      <td>60.505272</td>\n",
              "      <td>34.041671</td>\n",
              "    </tr>\n",
              "    <tr>\n",
              "      <th>S06</th>\n",
              "      <td>Fysal</td>\n",
              "      <td>42.694748</td>\n",
              "      <td>77.348295</td>\n",
              "      <td>37.216613</td>\n",
              "      <td>33.784399</td>\n",
              "      <td>85.019761</td>\n",
              "    </tr>\n",
              "    <tr>\n",
              "      <th>S07</th>\n",
              "      <td>George</td>\n",
              "      <td>66.276626</td>\n",
              "      <td>46.812190</td>\n",
              "      <td>14.219533</td>\n",
              "      <td>18.582771</td>\n",
              "      <td>87.021849</td>\n",
              "    </tr>\n",
              "    <tr>\n",
              "      <th>S08</th>\n",
              "      <td>Hareez</td>\n",
              "      <td>5.302984</td>\n",
              "      <td>11.966929</td>\n",
              "      <td>43.980951</td>\n",
              "      <td>54.410098</td>\n",
              "      <td>74.530018</td>\n",
              "    </tr>\n",
              "    <tr>\n",
              "      <th>S09</th>\n",
              "      <td>Ivan</td>\n",
              "      <td>5.777530</td>\n",
              "      <td>79.508179</td>\n",
              "      <td>94.559212</td>\n",
              "      <td>38.355867</td>\n",
              "      <td>90.483635</td>\n",
              "    </tr>\n",
              "    <tr>\n",
              "      <th>S10</th>\n",
              "      <td>John</td>\n",
              "      <td>30.968731</td>\n",
              "      <td>14.282925</td>\n",
              "      <td>3.312853</td>\n",
              "      <td>79.916094</td>\n",
              "      <td>32.706891</td>\n",
              "    </tr>\n",
              "    <tr>\n",
              "      <th>S11</th>\n",
              "      <td>Kelvin</td>\n",
              "      <td>40.219985</td>\n",
              "      <td>55.325651</td>\n",
              "      <td>16.826141</td>\n",
              "      <td>7.462064</td>\n",
              "      <td>34.449110</td>\n",
              "    </tr>\n",
              "    <tr>\n",
              "      <th>S12</th>\n",
              "      <td>Lia</td>\n",
              "      <td>95.928421</td>\n",
              "      <td>35.789430</td>\n",
              "      <td>95.440164</td>\n",
              "      <td>43.520213</td>\n",
              "      <td>71.930382</td>\n",
              "    </tr>\n",
              "    <tr>\n",
              "      <th>S13</th>\n",
              "      <td>Maria</td>\n",
              "      <td>8.215446</td>\n",
              "      <td>25.042783</td>\n",
              "      <td>16.518147</td>\n",
              "      <td>36.543154</td>\n",
              "      <td>80.665074</td>\n",
              "    </tr>\n",
              "    <tr>\n",
              "      <th>S14</th>\n",
              "      <td>Noel</td>\n",
              "      <td>72.833673</td>\n",
              "      <td>7.160086</td>\n",
              "      <td>22.089014</td>\n",
              "      <td>52.867757</td>\n",
              "      <td>20.583259</td>\n",
              "    </tr>\n",
              "    <tr>\n",
              "      <th>S15</th>\n",
              "      <td>Oliver</td>\n",
              "      <td>5.982402</td>\n",
              "      <td>16.460926</td>\n",
              "      <td>40.977224</td>\n",
              "      <td>80.925749</td>\n",
              "      <td>83.312063</td>\n",
              "    </tr>\n",
              "    <tr>\n",
              "      <th>S16</th>\n",
              "      <td>Peter</td>\n",
              "      <td>40.694327</td>\n",
              "      <td>91.395888</td>\n",
              "      <td>8.149884</td>\n",
              "      <td>13.852098</td>\n",
              "      <td>74.528425</td>\n",
              "    </tr>\n",
              "    <tr>\n",
              "      <th>S17</th>\n",
              "      <td>Roy</td>\n",
              "      <td>43.559963</td>\n",
              "      <td>99.270852</td>\n",
              "      <td>13.924531</td>\n",
              "      <td>71.306738</td>\n",
              "      <td>8.432155</td>\n",
              "    </tr>\n",
              "    <tr>\n",
              "      <th>S18</th>\n",
              "      <td>Ria</td>\n",
              "      <td>30.830802</td>\n",
              "      <td>25.545682</td>\n",
              "      <td>84.271650</td>\n",
              "      <td>78.727155</td>\n",
              "      <td>7.305670</td>\n",
              "    </tr>\n",
              "    <tr>\n",
              "      <th>S19</th>\n",
              "      <td>Suvin</td>\n",
              "      <td>72.218179</td>\n",
              "      <td>85.284128</td>\n",
              "      <td>32.555060</td>\n",
              "      <td>47.007177</td>\n",
              "      <td>83.344403</td>\n",
              "    </tr>\n",
              "    <tr>\n",
              "      <th>S20</th>\n",
              "      <td>Tan</td>\n",
              "      <td>18.070264</td>\n",
              "      <td>56.662635</td>\n",
              "      <td>2.618987</td>\n",
              "      <td>14.067349</td>\n",
              "      <td>82.802787</td>\n",
              "    </tr>\n",
              "  </tbody>\n",
              "</table>\n",
              "</div>"
            ],
            "text/plain": [
              "           Student_Name    English  ...    History  Social_Studies\n",
              "Student_ID                          ...                           \n",
              "S01               Alice  96.874050  ...  59.690510       61.373070\n",
              "S02                 Bob   5.462131  ...  45.664012       80.805730\n",
              "S03             Charlie  60.753099  ...  24.281512       58.057612\n",
              "S04               David  21.160844  ...  62.865185       95.264572\n",
              "S05              Edward  63.250994  ...  60.505272       34.041671\n",
              "S06               Fysal  42.694748  ...  33.784399       85.019761\n",
              "S07              George  66.276626  ...  18.582771       87.021849\n",
              "S08              Hareez   5.302984  ...  54.410098       74.530018\n",
              "S09                Ivan   5.777530  ...  38.355867       90.483635\n",
              "S10                John  30.968731  ...  79.916094       32.706891\n",
              "S11              Kelvin  40.219985  ...   7.462064       34.449110\n",
              "S12                 Lia  95.928421  ...  43.520213       71.930382\n",
              "S13               Maria   8.215446  ...  36.543154       80.665074\n",
              "S14                Noel  72.833673  ...  52.867757       20.583259\n",
              "S15              Oliver   5.982402  ...  80.925749       83.312063\n",
              "S16               Peter  40.694327  ...  13.852098       74.528425\n",
              "S17                 Roy  43.559963  ...  71.306738        8.432155\n",
              "S18                 Ria  30.830802  ...  78.727155        7.305670\n",
              "S19               Suvin  72.218179  ...  47.007177       83.344403\n",
              "S20                 Tan  18.070264  ...  14.067349       82.802787\n",
              "\n",
              "[20 rows x 6 columns]"
            ]
          },
          "metadata": {}
        }
      ]
    },
    {
      "cell_type": "code",
      "metadata": {
        "id": "ZVKyQBVuHkw5"
      },
      "source": [
        "# TO DO: Copy paste the above codes and explain the output for each syntax as comments as per given example.\n",
        "# Example: display(marks.iloc[[3:5]])  # Prints all values from all columns for indices 3 and 4.\n",
        "#display(marks.iloc[2:5]) # Prints all values from all columns for indices 2, 3 and 4.\n",
        "#display(marks.iloc[0:5]) # Prints all values from all columns for indices 0,1,2, 3 and 4.\n",
        "#display(marks.iloc[:5]) # Prints all values from all columns for indices 0,1,2, 3 and 4.\n",
        "#display(marks.iloc[15:20])  # Prints all values from all columns for indices 15,16,17,18 and 19.\n",
        "#display(marks.iloc[15:]) # Prints all values from all columns for indices 15,16,17,18 and 19\n",
        "#display(marks.iloc[15:100])# Prints all values from all columns for indices 15,16,17,18 and 19\n",
        "#display(marks.iloc[:])# Prints all values from all columns for indices 0,1,2....19\n",
        "\n",
        "\n"
      ],
      "execution_count": 44,
      "outputs": []
    },
    {
      "cell_type": "markdown",
      "metadata": {
        "id": "yVER-gaRGWK1"
      },
      "source": [
        "# Data cleaning : Empty value treatment iin dataframes"
      ]
    },
    {
      "cell_type": "code",
      "metadata": {
        "id": "RexuuzmrIQW9",
        "colab": {
          "base_uri": "https://localhost:8080/",
          "height": 203
        },
        "outputId": "2e722e98-23f0-4ccd-c95e-1f0c14ed02cb"
      },
      "source": [
        "temps = pd.DataFrame({\"sequence\":[1,2,3,4,5],\n",
        "          \"measurement_type\":['actual','actual','actual',None,'estimated'],  # With strings, it will become 'None'\n",
        "          \"temperature_f\":[67.24,84.56,91.61,None,49.64]   #With numbers, it will become 'NaN'\n",
        "         })\n",
        "temps"
      ],
      "execution_count": 58,
      "outputs": [
        {
          "output_type": "execute_result",
          "data": {
            "text/html": [
              "<div>\n",
              "<style scoped>\n",
              "    .dataframe tbody tr th:only-of-type {\n",
              "        vertical-align: middle;\n",
              "    }\n",
              "\n",
              "    .dataframe tbody tr th {\n",
              "        vertical-align: top;\n",
              "    }\n",
              "\n",
              "    .dataframe thead th {\n",
              "        text-align: right;\n",
              "    }\n",
              "</style>\n",
              "<table border=\"1\" class=\"dataframe\">\n",
              "  <thead>\n",
              "    <tr style=\"text-align: right;\">\n",
              "      <th></th>\n",
              "      <th>sequence</th>\n",
              "      <th>measurement_type</th>\n",
              "      <th>temperature_f</th>\n",
              "    </tr>\n",
              "  </thead>\n",
              "  <tbody>\n",
              "    <tr>\n",
              "      <th>0</th>\n",
              "      <td>1</td>\n",
              "      <td>actual</td>\n",
              "      <td>67.24</td>\n",
              "    </tr>\n",
              "    <tr>\n",
              "      <th>1</th>\n",
              "      <td>2</td>\n",
              "      <td>actual</td>\n",
              "      <td>84.56</td>\n",
              "    </tr>\n",
              "    <tr>\n",
              "      <th>2</th>\n",
              "      <td>3</td>\n",
              "      <td>actual</td>\n",
              "      <td>91.61</td>\n",
              "    </tr>\n",
              "    <tr>\n",
              "      <th>3</th>\n",
              "      <td>4</td>\n",
              "      <td>None</td>\n",
              "      <td>NaN</td>\n",
              "    </tr>\n",
              "    <tr>\n",
              "      <th>4</th>\n",
              "      <td>5</td>\n",
              "      <td>estimated</td>\n",
              "      <td>49.64</td>\n",
              "    </tr>\n",
              "  </tbody>\n",
              "</table>\n",
              "</div>"
            ],
            "text/plain": [
              "   sequence measurement_type  temperature_f\n",
              "0         1           actual          67.24\n",
              "1         2           actual          84.56\n",
              "2         3           actual          91.61\n",
              "3         4             None            NaN\n",
              "4         5        estimated          49.64"
            ]
          },
          "metadata": {},
          "execution_count": 58
        }
      ]
    },
    {
      "cell_type": "markdown",
      "metadata": {
        "id": "wIyGKQ65IUig"
      },
      "source": [
        "NaN belongs to the class float\n",
        "\n",
        "None belongs to the class NoneType\n",
        "\n",
        "https://medium.com/analytics-vidhya/dealing-with-missing-values-nan-and-none-in-python-6fc9b8fb4f31"
      ]
    },
    {
      "cell_type": "code",
      "metadata": {
        "id": "WP5OMZu1ISBe",
        "colab": {
          "base_uri": "https://localhost:8080/",
          "height": 203
        },
        "outputId": "cf60b579-2b51-4db1-b88d-3d70cb4c49ee"
      },
      "source": [
        "# To identify the null value. Return true if the value is null otherwise false\n",
        "temps.isna()            "
      ],
      "execution_count": 49,
      "outputs": [
        {
          "output_type": "execute_result",
          "data": {
            "text/html": [
              "<div>\n",
              "<style scoped>\n",
              "    .dataframe tbody tr th:only-of-type {\n",
              "        vertical-align: middle;\n",
              "    }\n",
              "\n",
              "    .dataframe tbody tr th {\n",
              "        vertical-align: top;\n",
              "    }\n",
              "\n",
              "    .dataframe thead th {\n",
              "        text-align: right;\n",
              "    }\n",
              "</style>\n",
              "<table border=\"1\" class=\"dataframe\">\n",
              "  <thead>\n",
              "    <tr style=\"text-align: right;\">\n",
              "      <th></th>\n",
              "      <th>sequence</th>\n",
              "      <th>measurement_type</th>\n",
              "      <th>temperature_f</th>\n",
              "    </tr>\n",
              "  </thead>\n",
              "  <tbody>\n",
              "    <tr>\n",
              "      <th>0</th>\n",
              "      <td>False</td>\n",
              "      <td>False</td>\n",
              "      <td>False</td>\n",
              "    </tr>\n",
              "    <tr>\n",
              "      <th>1</th>\n",
              "      <td>False</td>\n",
              "      <td>False</td>\n",
              "      <td>False</td>\n",
              "    </tr>\n",
              "    <tr>\n",
              "      <th>2</th>\n",
              "      <td>False</td>\n",
              "      <td>False</td>\n",
              "      <td>False</td>\n",
              "    </tr>\n",
              "    <tr>\n",
              "      <th>3</th>\n",
              "      <td>False</td>\n",
              "      <td>True</td>\n",
              "      <td>True</td>\n",
              "    </tr>\n",
              "    <tr>\n",
              "      <th>4</th>\n",
              "      <td>False</td>\n",
              "      <td>False</td>\n",
              "      <td>False</td>\n",
              "    </tr>\n",
              "  </tbody>\n",
              "</table>\n",
              "</div>"
            ],
            "text/plain": [
              "   sequence  measurement_type  temperature_f\n",
              "0     False             False          False\n",
              "1     False             False          False\n",
              "2     False             False          False\n",
              "3     False              True           True\n",
              "4     False             False          False"
            ]
          },
          "metadata": {},
          "execution_count": 49
        }
      ]
    },
    {
      "cell_type": "code",
      "metadata": {
        "id": "YFjPnljoIbvJ",
        "colab": {
          "base_uri": "https://localhost:8080/"
        },
        "outputId": "9398e40e-10a7-4647-827d-02f3c79023cb"
      },
      "source": [
        "# Return the count of missing value from each column     \n",
        "temps.isna().sum()      "
      ],
      "execution_count": 50,
      "outputs": [
        {
          "output_type": "execute_result",
          "data": {
            "text/plain": [
              "sequence            0\n",
              "measurement_type    1\n",
              "temperature_f       1\n",
              "dtype: int64"
            ]
          },
          "metadata": {},
          "execution_count": 50
        }
      ]
    },
    {
      "cell_type": "code",
      "metadata": {
        "id": "UYa7m-5nIjFv",
        "colab": {
          "base_uri": "https://localhost:8080/"
        },
        "outputId": "4155e529-00a3-4958-b115-3e9dbbbc9f8e"
      },
      "source": [
        "# Total count of null from all columns\n",
        "temps.isna().sum().sum() "
      ],
      "execution_count": 51,
      "outputs": [
        {
          "output_type": "execute_result",
          "data": {
            "text/plain": [
              "2"
            ]
          },
          "metadata": {},
          "execution_count": 51
        }
      ]
    },
    {
      "cell_type": "code",
      "metadata": {
        "id": "Pmu26BuCIoi2",
        "colab": {
          "base_uri": "https://localhost:8080/",
          "height": 172
        },
        "outputId": "9a26c545-e552-4f8f-b4d8-e1184f10929d"
      },
      "source": [
        "# Drop/delete the row containing missing values\n",
        "\n",
        "clean_temps = temps.dropna(how='any')  # how: {'any', 'all'}. Default 'any'\n",
        "display (clean_temps)\n",
        "\n",
        "# ‘any’ : If any NA values are present, drop that row or column.\n",
        "# ‘all’ : If all values are NA, drop that row or column.\n",
        "\n",
        "\n",
        "# Observe, in the output, index 3 is not there."
      ],
      "execution_count": 52,
      "outputs": [
        {
          "output_type": "display_data",
          "data": {
            "text/html": [
              "<div>\n",
              "<style scoped>\n",
              "    .dataframe tbody tr th:only-of-type {\n",
              "        vertical-align: middle;\n",
              "    }\n",
              "\n",
              "    .dataframe tbody tr th {\n",
              "        vertical-align: top;\n",
              "    }\n",
              "\n",
              "    .dataframe thead th {\n",
              "        text-align: right;\n",
              "    }\n",
              "</style>\n",
              "<table border=\"1\" class=\"dataframe\">\n",
              "  <thead>\n",
              "    <tr style=\"text-align: right;\">\n",
              "      <th></th>\n",
              "      <th>sequence</th>\n",
              "      <th>measurement_type</th>\n",
              "      <th>temperature_f</th>\n",
              "    </tr>\n",
              "  </thead>\n",
              "  <tbody>\n",
              "    <tr>\n",
              "      <th>0</th>\n",
              "      <td>1</td>\n",
              "      <td>actual</td>\n",
              "      <td>67.24</td>\n",
              "    </tr>\n",
              "    <tr>\n",
              "      <th>1</th>\n",
              "      <td>2</td>\n",
              "      <td>actual</td>\n",
              "      <td>84.56</td>\n",
              "    </tr>\n",
              "    <tr>\n",
              "      <th>2</th>\n",
              "      <td>3</td>\n",
              "      <td>actual</td>\n",
              "      <td>91.61</td>\n",
              "    </tr>\n",
              "    <tr>\n",
              "      <th>4</th>\n",
              "      <td>5</td>\n",
              "      <td>estimated</td>\n",
              "      <td>49.64</td>\n",
              "    </tr>\n",
              "  </tbody>\n",
              "</table>\n",
              "</div>"
            ],
            "text/plain": [
              "   sequence measurement_type  temperature_f\n",
              "0         1           actual          67.24\n",
              "1         2           actual          84.56\n",
              "2         3           actual          91.61\n",
              "4         5        estimated          49.64"
            ]
          },
          "metadata": {}
        }
      ]
    },
    {
      "cell_type": "code",
      "metadata": {
        "id": "yxUU2wULI4Zi",
        "colab": {
          "base_uri": "https://localhost:8080/",
          "height": 203
        },
        "outputId": "17d49e19-0bb0-430f-8bf6-5abef57a27d8"
      },
      "source": [
        "# TO DO:  Copy paste the codes from the above cell, change the 'how' argument as 'all' and observe the difference in output.\n",
        "clean_temps = temps.dropna(how='all')\n",
        "display(clean_temps)"
      ],
      "execution_count": 53,
      "outputs": [
        {
          "output_type": "display_data",
          "data": {
            "text/html": [
              "<div>\n",
              "<style scoped>\n",
              "    .dataframe tbody tr th:only-of-type {\n",
              "        vertical-align: middle;\n",
              "    }\n",
              "\n",
              "    .dataframe tbody tr th {\n",
              "        vertical-align: top;\n",
              "    }\n",
              "\n",
              "    .dataframe thead th {\n",
              "        text-align: right;\n",
              "    }\n",
              "</style>\n",
              "<table border=\"1\" class=\"dataframe\">\n",
              "  <thead>\n",
              "    <tr style=\"text-align: right;\">\n",
              "      <th></th>\n",
              "      <th>sequence</th>\n",
              "      <th>measurement_type</th>\n",
              "      <th>temperature_f</th>\n",
              "    </tr>\n",
              "  </thead>\n",
              "  <tbody>\n",
              "    <tr>\n",
              "      <th>0</th>\n",
              "      <td>1</td>\n",
              "      <td>actual</td>\n",
              "      <td>67.24</td>\n",
              "    </tr>\n",
              "    <tr>\n",
              "      <th>1</th>\n",
              "      <td>2</td>\n",
              "      <td>actual</td>\n",
              "      <td>84.56</td>\n",
              "    </tr>\n",
              "    <tr>\n",
              "      <th>2</th>\n",
              "      <td>3</td>\n",
              "      <td>actual</td>\n",
              "      <td>91.61</td>\n",
              "    </tr>\n",
              "    <tr>\n",
              "      <th>3</th>\n",
              "      <td>4</td>\n",
              "      <td>None</td>\n",
              "      <td>NaN</td>\n",
              "    </tr>\n",
              "    <tr>\n",
              "      <th>4</th>\n",
              "      <td>5</td>\n",
              "      <td>estimated</td>\n",
              "      <td>49.64</td>\n",
              "    </tr>\n",
              "  </tbody>\n",
              "</table>\n",
              "</div>"
            ],
            "text/plain": [
              "   sequence measurement_type  temperature_f\n",
              "0         1           actual          67.24\n",
              "1         2           actual          84.56\n",
              "2         3           actual          91.61\n",
              "3         4             None            NaN\n",
              "4         5        estimated          49.64"
            ]
          },
          "metadata": {}
        }
      ]
    },
    {
      "cell_type": "code",
      "metadata": {
        "id": "PmjaoUwoJDbG",
        "colab": {
          "base_uri": "https://localhost:8080/",
          "height": 172
        },
        "outputId": "f4d34d94-221d-44b1-ce11-53341249d605"
      },
      "source": [
        "# Drop the ROWS where at least one element is missing.\n",
        "temps.dropna()"
      ],
      "execution_count": 54,
      "outputs": [
        {
          "output_type": "execute_result",
          "data": {
            "text/html": [
              "<div>\n",
              "<style scoped>\n",
              "    .dataframe tbody tr th:only-of-type {\n",
              "        vertical-align: middle;\n",
              "    }\n",
              "\n",
              "    .dataframe tbody tr th {\n",
              "        vertical-align: top;\n",
              "    }\n",
              "\n",
              "    .dataframe thead th {\n",
              "        text-align: right;\n",
              "    }\n",
              "</style>\n",
              "<table border=\"1\" class=\"dataframe\">\n",
              "  <thead>\n",
              "    <tr style=\"text-align: right;\">\n",
              "      <th></th>\n",
              "      <th>sequence</th>\n",
              "      <th>measurement_type</th>\n",
              "      <th>temperature_f</th>\n",
              "    </tr>\n",
              "  </thead>\n",
              "  <tbody>\n",
              "    <tr>\n",
              "      <th>0</th>\n",
              "      <td>1</td>\n",
              "      <td>actual</td>\n",
              "      <td>67.24</td>\n",
              "    </tr>\n",
              "    <tr>\n",
              "      <th>1</th>\n",
              "      <td>2</td>\n",
              "      <td>actual</td>\n",
              "      <td>84.56</td>\n",
              "    </tr>\n",
              "    <tr>\n",
              "      <th>2</th>\n",
              "      <td>3</td>\n",
              "      <td>actual</td>\n",
              "      <td>91.61</td>\n",
              "    </tr>\n",
              "    <tr>\n",
              "      <th>4</th>\n",
              "      <td>5</td>\n",
              "      <td>estimated</td>\n",
              "      <td>49.64</td>\n",
              "    </tr>\n",
              "  </tbody>\n",
              "</table>\n",
              "</div>"
            ],
            "text/plain": [
              "   sequence measurement_type  temperature_f\n",
              "0         1           actual          67.24\n",
              "1         2           actual          84.56\n",
              "2         3           actual          91.61\n",
              "4         5        estimated          49.64"
            ]
          },
          "metadata": {},
          "execution_count": 54
        }
      ]
    },
    {
      "cell_type": "code",
      "metadata": {
        "id": "Tvfk9j4JJGV_",
        "colab": {
          "base_uri": "https://localhost:8080/",
          "height": 203
        },
        "outputId": "124c264c-32b7-481f-d801-3cf62a830ef4"
      },
      "source": [
        "# Drop COLUMNS where there are missing values.\n",
        "\n",
        "# Drop the columns where at least one element is missing.\n",
        "temps.dropna(axis = 'columns') # Without the 'axis' argument, rows will be dropped by default as you did in the previous code."
      ],
      "execution_count": 55,
      "outputs": [
        {
          "output_type": "execute_result",
          "data": {
            "text/html": [
              "<div>\n",
              "<style scoped>\n",
              "    .dataframe tbody tr th:only-of-type {\n",
              "        vertical-align: middle;\n",
              "    }\n",
              "\n",
              "    .dataframe tbody tr th {\n",
              "        vertical-align: top;\n",
              "    }\n",
              "\n",
              "    .dataframe thead th {\n",
              "        text-align: right;\n",
              "    }\n",
              "</style>\n",
              "<table border=\"1\" class=\"dataframe\">\n",
              "  <thead>\n",
              "    <tr style=\"text-align: right;\">\n",
              "      <th></th>\n",
              "      <th>sequence</th>\n",
              "    </tr>\n",
              "  </thead>\n",
              "  <tbody>\n",
              "    <tr>\n",
              "      <th>0</th>\n",
              "      <td>1</td>\n",
              "    </tr>\n",
              "    <tr>\n",
              "      <th>1</th>\n",
              "      <td>2</td>\n",
              "    </tr>\n",
              "    <tr>\n",
              "      <th>2</th>\n",
              "      <td>3</td>\n",
              "    </tr>\n",
              "    <tr>\n",
              "      <th>3</th>\n",
              "      <td>4</td>\n",
              "    </tr>\n",
              "    <tr>\n",
              "      <th>4</th>\n",
              "      <td>5</td>\n",
              "    </tr>\n",
              "  </tbody>\n",
              "</table>\n",
              "</div>"
            ],
            "text/plain": [
              "   sequence\n",
              "0         1\n",
              "1         2\n",
              "2         3\n",
              "3         4\n",
              "4         5"
            ]
          },
          "metadata": {},
          "execution_count": 55
        }
      ]
    },
    {
      "cell_type": "markdown",
      "metadata": {
        "id": "uUx-BpKRKv3t"
      },
      "source": [
        "##### Handling missing data by replacing values\n",
        "\n",
        "Not every time we should delete the missing values, especially when the dataset is smaller or when missing values are very significant. In such as case, additional data-preparation is performed.\n",
        "\n",
        "Depending on the dataset, it's structure and the research questions, we should decide which data preparation technique should be applied on what column or missing values."
      ]
    },
    {
      "cell_type": "code",
      "metadata": {
        "id": "saEFHfo0LDjD",
        "colab": {
          "base_uri": "https://localhost:8080/"
        },
        "outputId": "477b6129-0158-4064-a33a-75c37df44101"
      },
      "source": [
        "temps['temperature_f'].cumsum()   # Returns the commulative sum. \n",
        "\n",
        "# It will skip null values. skipna = TRUE by default\n",
        "\n",
        "# CAN YOU THINK OF ANY PRACTICAL USE OF cumsum() ?"
      ],
      "execution_count": 59,
      "outputs": [
        {
          "output_type": "execute_result",
          "data": {
            "text/plain": [
              "0     67.24\n",
              "1    151.80\n",
              "2    243.41\n",
              "3       NaN\n",
              "4    293.05\n",
              "Name: temperature_f, dtype: float64"
            ]
          },
          "metadata": {},
          "execution_count": 59
        }
      ]
    },
    {
      "cell_type": "code",
      "metadata": {
        "id": "Zw7G14EELOPb",
        "colab": {
          "base_uri": "https://localhost:8080/"
        },
        "outputId": "f54deb84-85dc-4820-abd3-02e9fcb5acb8"
      },
      "source": [
        "temps['temperature_f'].cumsum(skipna=False)  "
      ],
      "execution_count": 57,
      "outputs": [
        {
          "output_type": "execute_result",
          "data": {
            "text/plain": [
              "0     67.24\n",
              "1    151.80\n",
              "2    243.41\n",
              "3       NaN\n",
              "4       NaN\n",
              "Name: temperature_f, dtype: float64"
            ]
          },
          "metadata": {},
          "execution_count": 57
        }
      ]
    },
    {
      "cell_type": "code",
      "metadata": {
        "id": "TwboRVWaLmXW",
        "colab": {
          "base_uri": "https://localhost:8080/",
          "height": 203
        },
        "outputId": "b7c12955-b3ce-48d5-900e-97f7e900d234"
      },
      "source": [
        "# fill missing value with zero\n",
        "temps.fillna(value=0, inplace = True)   # Do you remember the use of inplace? If not, please scroll up and check.\n",
        "display(temps)"
      ],
      "execution_count": 60,
      "outputs": [
        {
          "output_type": "display_data",
          "data": {
            "text/html": [
              "<div>\n",
              "<style scoped>\n",
              "    .dataframe tbody tr th:only-of-type {\n",
              "        vertical-align: middle;\n",
              "    }\n",
              "\n",
              "    .dataframe tbody tr th {\n",
              "        vertical-align: top;\n",
              "    }\n",
              "\n",
              "    .dataframe thead th {\n",
              "        text-align: right;\n",
              "    }\n",
              "</style>\n",
              "<table border=\"1\" class=\"dataframe\">\n",
              "  <thead>\n",
              "    <tr style=\"text-align: right;\">\n",
              "      <th></th>\n",
              "      <th>sequence</th>\n",
              "      <th>measurement_type</th>\n",
              "      <th>temperature_f</th>\n",
              "    </tr>\n",
              "  </thead>\n",
              "  <tbody>\n",
              "    <tr>\n",
              "      <th>0</th>\n",
              "      <td>1</td>\n",
              "      <td>actual</td>\n",
              "      <td>67.24</td>\n",
              "    </tr>\n",
              "    <tr>\n",
              "      <th>1</th>\n",
              "      <td>2</td>\n",
              "      <td>actual</td>\n",
              "      <td>84.56</td>\n",
              "    </tr>\n",
              "    <tr>\n",
              "      <th>2</th>\n",
              "      <td>3</td>\n",
              "      <td>actual</td>\n",
              "      <td>91.61</td>\n",
              "    </tr>\n",
              "    <tr>\n",
              "      <th>3</th>\n",
              "      <td>4</td>\n",
              "      <td>0</td>\n",
              "      <td>0.00</td>\n",
              "    </tr>\n",
              "    <tr>\n",
              "      <th>4</th>\n",
              "      <td>5</td>\n",
              "      <td>estimated</td>\n",
              "      <td>49.64</td>\n",
              "    </tr>\n",
              "  </tbody>\n",
              "</table>\n",
              "</div>"
            ],
            "text/plain": [
              "   sequence measurement_type  temperature_f\n",
              "0         1           actual          67.24\n",
              "1         2           actual          84.56\n",
              "2         3           actual          91.61\n",
              "3         4                0           0.00\n",
              "4         5        estimated          49.64"
            ]
          },
          "metadata": {}
        }
      ]
    },
    {
      "cell_type": "code",
      "metadata": {
        "id": "jIaa-IyZOdIr",
        "colab": {
          "base_uri": "https://localhost:8080/",
          "height": 203
        },
        "outputId": "1509181f-b6a1-438a-eee8-144eb848512f"
      },
      "source": [
        "# Print the dataframe\n",
        "\n",
        "temps\n",
        "\n",
        "# Why 0 in last column is 0.00 while only 0 in measurement_type? Please explain as a comment in this cell.\n",
        "\n",
        "#Because the datatype of last column is float with a precision of 2, while the other is a string.  "
      ],
      "execution_count": 61,
      "outputs": [
        {
          "output_type": "execute_result",
          "data": {
            "text/html": [
              "<div>\n",
              "<style scoped>\n",
              "    .dataframe tbody tr th:only-of-type {\n",
              "        vertical-align: middle;\n",
              "    }\n",
              "\n",
              "    .dataframe tbody tr th {\n",
              "        vertical-align: top;\n",
              "    }\n",
              "\n",
              "    .dataframe thead th {\n",
              "        text-align: right;\n",
              "    }\n",
              "</style>\n",
              "<table border=\"1\" class=\"dataframe\">\n",
              "  <thead>\n",
              "    <tr style=\"text-align: right;\">\n",
              "      <th></th>\n",
              "      <th>sequence</th>\n",
              "      <th>measurement_type</th>\n",
              "      <th>temperature_f</th>\n",
              "    </tr>\n",
              "  </thead>\n",
              "  <tbody>\n",
              "    <tr>\n",
              "      <th>0</th>\n",
              "      <td>1</td>\n",
              "      <td>actual</td>\n",
              "      <td>67.24</td>\n",
              "    </tr>\n",
              "    <tr>\n",
              "      <th>1</th>\n",
              "      <td>2</td>\n",
              "      <td>actual</td>\n",
              "      <td>84.56</td>\n",
              "    </tr>\n",
              "    <tr>\n",
              "      <th>2</th>\n",
              "      <td>3</td>\n",
              "      <td>actual</td>\n",
              "      <td>91.61</td>\n",
              "    </tr>\n",
              "    <tr>\n",
              "      <th>3</th>\n",
              "      <td>4</td>\n",
              "      <td>0</td>\n",
              "      <td>0.00</td>\n",
              "    </tr>\n",
              "    <tr>\n",
              "      <th>4</th>\n",
              "      <td>5</td>\n",
              "      <td>estimated</td>\n",
              "      <td>49.64</td>\n",
              "    </tr>\n",
              "  </tbody>\n",
              "</table>\n",
              "</div>"
            ],
            "text/plain": [
              "   sequence measurement_type  temperature_f\n",
              "0         1           actual          67.24\n",
              "1         2           actual          84.56\n",
              "2         3           actual          91.61\n",
              "3         4                0           0.00\n",
              "4         5        estimated          49.64"
            ]
          },
          "metadata": {},
          "execution_count": 61
        }
      ]
    },
    {
      "cell_type": "code",
      "metadata": {
        "id": "p3S2t9zRSOch",
        "colab": {
          "base_uri": "https://localhost:8080/",
          "height": 203
        },
        "outputId": "1b6aa5e2-17cb-4cc1-cc29-88a39e316696"
      },
      "source": [
        "# fill missing value with previous value\n",
        "temps = pd.DataFrame({\"sequence\":[1,2,3,4,5],\n",
        "          \"measurement_type\":['actual','actual','actual',None,'estimated'],\n",
        "          \"temperature_f\":[67.24,84.56,91.61,None,49.64]\n",
        "         })\n",
        "temps.fillna(method='pad' , inplace=True)  # 'pad' means padding. Take value from previous row\n",
        "temps"
      ],
      "execution_count": 62,
      "outputs": [
        {
          "output_type": "execute_result",
          "data": {
            "text/html": [
              "<div>\n",
              "<style scoped>\n",
              "    .dataframe tbody tr th:only-of-type {\n",
              "        vertical-align: middle;\n",
              "    }\n",
              "\n",
              "    .dataframe tbody tr th {\n",
              "        vertical-align: top;\n",
              "    }\n",
              "\n",
              "    .dataframe thead th {\n",
              "        text-align: right;\n",
              "    }\n",
              "</style>\n",
              "<table border=\"1\" class=\"dataframe\">\n",
              "  <thead>\n",
              "    <tr style=\"text-align: right;\">\n",
              "      <th></th>\n",
              "      <th>sequence</th>\n",
              "      <th>measurement_type</th>\n",
              "      <th>temperature_f</th>\n",
              "    </tr>\n",
              "  </thead>\n",
              "  <tbody>\n",
              "    <tr>\n",
              "      <th>0</th>\n",
              "      <td>1</td>\n",
              "      <td>actual</td>\n",
              "      <td>67.24</td>\n",
              "    </tr>\n",
              "    <tr>\n",
              "      <th>1</th>\n",
              "      <td>2</td>\n",
              "      <td>actual</td>\n",
              "      <td>84.56</td>\n",
              "    </tr>\n",
              "    <tr>\n",
              "      <th>2</th>\n",
              "      <td>3</td>\n",
              "      <td>actual</td>\n",
              "      <td>91.61</td>\n",
              "    </tr>\n",
              "    <tr>\n",
              "      <th>3</th>\n",
              "      <td>4</td>\n",
              "      <td>actual</td>\n",
              "      <td>91.61</td>\n",
              "    </tr>\n",
              "    <tr>\n",
              "      <th>4</th>\n",
              "      <td>5</td>\n",
              "      <td>estimated</td>\n",
              "      <td>49.64</td>\n",
              "    </tr>\n",
              "  </tbody>\n",
              "</table>\n",
              "</div>"
            ],
            "text/plain": [
              "   sequence measurement_type  temperature_f\n",
              "0         1           actual          67.24\n",
              "1         2           actual          84.56\n",
              "2         3           actual          91.61\n",
              "3         4           actual          91.61\n",
              "4         5        estimated          49.64"
            ]
          },
          "metadata": {},
          "execution_count": 62
        }
      ]
    },
    {
      "cell_type": "code",
      "metadata": {
        "id": "LoyHXjvsSbzm",
        "colab": {
          "base_uri": "https://localhost:8080/",
          "height": 203
        },
        "outputId": "73bda78e-11c1-41b0-9488-2c525648e76a"
      },
      "source": [
        "# fill missing value with next value\n",
        "temps1 = pd.DataFrame({\"sequence\":[1,2,3,4,5],\n",
        "          \"measurement_type\":['actual','actual','actual',None,'estimated'],\n",
        "          \"temperature_f\":[67.24,84.56,91.61,None,49.64]\n",
        "         })\n",
        "temps1.fillna(method='bfill' , inplace=True)  # bfill takes next value to replace\n",
        "temps1"
      ],
      "execution_count": 63,
      "outputs": [
        {
          "output_type": "execute_result",
          "data": {
            "text/html": [
              "<div>\n",
              "<style scoped>\n",
              "    .dataframe tbody tr th:only-of-type {\n",
              "        vertical-align: middle;\n",
              "    }\n",
              "\n",
              "    .dataframe tbody tr th {\n",
              "        vertical-align: top;\n",
              "    }\n",
              "\n",
              "    .dataframe thead th {\n",
              "        text-align: right;\n",
              "    }\n",
              "</style>\n",
              "<table border=\"1\" class=\"dataframe\">\n",
              "  <thead>\n",
              "    <tr style=\"text-align: right;\">\n",
              "      <th></th>\n",
              "      <th>sequence</th>\n",
              "      <th>measurement_type</th>\n",
              "      <th>temperature_f</th>\n",
              "    </tr>\n",
              "  </thead>\n",
              "  <tbody>\n",
              "    <tr>\n",
              "      <th>0</th>\n",
              "      <td>1</td>\n",
              "      <td>actual</td>\n",
              "      <td>67.24</td>\n",
              "    </tr>\n",
              "    <tr>\n",
              "      <th>1</th>\n",
              "      <td>2</td>\n",
              "      <td>actual</td>\n",
              "      <td>84.56</td>\n",
              "    </tr>\n",
              "    <tr>\n",
              "      <th>2</th>\n",
              "      <td>3</td>\n",
              "      <td>actual</td>\n",
              "      <td>91.61</td>\n",
              "    </tr>\n",
              "    <tr>\n",
              "      <th>3</th>\n",
              "      <td>4</td>\n",
              "      <td>estimated</td>\n",
              "      <td>49.64</td>\n",
              "    </tr>\n",
              "    <tr>\n",
              "      <th>4</th>\n",
              "      <td>5</td>\n",
              "      <td>estimated</td>\n",
              "      <td>49.64</td>\n",
              "    </tr>\n",
              "  </tbody>\n",
              "</table>\n",
              "</div>"
            ],
            "text/plain": [
              "   sequence measurement_type  temperature_f\n",
              "0         1           actual          67.24\n",
              "1         2           actual          84.56\n",
              "2         3           actual          91.61\n",
              "3         4        estimated          49.64\n",
              "4         5        estimated          49.64"
            ]
          },
          "metadata": {},
          "execution_count": 63
        }
      ]
    },
    {
      "cell_type": "code",
      "metadata": {
        "id": "SykNFp0hSlmv",
        "colab": {
          "base_uri": "https://localhost:8080/",
          "height": 203
        },
        "outputId": "82690ac6-37d6-4a0e-b267-dcf6395036b0"
      },
      "source": [
        "# fill missing value with mean\n",
        "temps = pd.DataFrame({\"sequence\":[1,2,3,4,5],\n",
        "          \"measurement_type\":['actual','actual','actual',None,'estimated'],\n",
        "          \"temperature_f\":[67.24,84.56,91.61,None,49.64]\n",
        "         })\n",
        "temps['temperature_f'].fillna(value=temps['temperature_f'].mean(), inplace=True)  # Mean will not work on strings\n",
        "temps"
      ],
      "execution_count": 65,
      "outputs": [
        {
          "output_type": "execute_result",
          "data": {
            "text/html": [
              "<div>\n",
              "<style scoped>\n",
              "    .dataframe tbody tr th:only-of-type {\n",
              "        vertical-align: middle;\n",
              "    }\n",
              "\n",
              "    .dataframe tbody tr th {\n",
              "        vertical-align: top;\n",
              "    }\n",
              "\n",
              "    .dataframe thead th {\n",
              "        text-align: right;\n",
              "    }\n",
              "</style>\n",
              "<table border=\"1\" class=\"dataframe\">\n",
              "  <thead>\n",
              "    <tr style=\"text-align: right;\">\n",
              "      <th></th>\n",
              "      <th>sequence</th>\n",
              "      <th>measurement_type</th>\n",
              "      <th>temperature_f</th>\n",
              "    </tr>\n",
              "  </thead>\n",
              "  <tbody>\n",
              "    <tr>\n",
              "      <th>0</th>\n",
              "      <td>1</td>\n",
              "      <td>actual</td>\n",
              "      <td>67.2400</td>\n",
              "    </tr>\n",
              "    <tr>\n",
              "      <th>1</th>\n",
              "      <td>2</td>\n",
              "      <td>actual</td>\n",
              "      <td>84.5600</td>\n",
              "    </tr>\n",
              "    <tr>\n",
              "      <th>2</th>\n",
              "      <td>3</td>\n",
              "      <td>actual</td>\n",
              "      <td>91.6100</td>\n",
              "    </tr>\n",
              "    <tr>\n",
              "      <th>3</th>\n",
              "      <td>4</td>\n",
              "      <td>None</td>\n",
              "      <td>73.2625</td>\n",
              "    </tr>\n",
              "    <tr>\n",
              "      <th>4</th>\n",
              "      <td>5</td>\n",
              "      <td>estimated</td>\n",
              "      <td>49.6400</td>\n",
              "    </tr>\n",
              "  </tbody>\n",
              "</table>\n",
              "</div>"
            ],
            "text/plain": [
              "   sequence measurement_type  temperature_f\n",
              "0         1           actual        67.2400\n",
              "1         2           actual        84.5600\n",
              "2         3           actual        91.6100\n",
              "3         4             None        73.2625\n",
              "4         5        estimated        49.6400"
            ]
          },
          "metadata": {},
          "execution_count": 65
        }
      ]
    },
    {
      "cell_type": "markdown",
      "metadata": {
        "id": "LVZ3qFKxTLUD"
      },
      "source": [
        "# Lambda Function\n"
      ]
    },
    {
      "cell_type": "code",
      "metadata": {
        "id": "1r_AKmcTTQd0",
        "colab": {
          "base_uri": "https://localhost:8080/"
        },
        "outputId": "9c4f7c83-0945-4133-d760-a097092cf600"
      },
      "source": [
        "# lambda is used to define a temporary expression without any return statement. It always contains an expression\n",
        "# that is returned. There is no need to assign a variable with lambda.\n",
        "\n",
        "\n",
        "def cube(y):\n",
        "    return y*y*y  # return is a keyword. Python stops when the code reaches to return statement. Print is a function.\n",
        "    \n",
        "\n",
        "# using the normally defined function\n",
        "print(cube(5))\n",
        " \n",
        "# using the lambda function                 # Why this is red? How to resolve it?\n",
        "lambda_cube = lambda y: y*y*y\n",
        "print(lambda_cube(5))"
      ],
      "execution_count": 70,
      "outputs": [
        {
          "output_type": "stream",
          "name": "stdout",
          "text": [
            "125\n"
          ]
        }
      ]
    },
    {
      "cell_type": "code",
      "metadata": {
        "id": "A6CDJOepT_iG",
        "colab": {
          "base_uri": "https://localhost:8080/",
          "height": 172
        },
        "outputId": "b37d739c-0e71-4a8b-f388-4c8c073a7aad"
      },
      "source": [
        "# Creating new dataframe to explore the use of Lambda and changing indices.\n",
        "\n",
        "teams = pd.DataFrame({\"Region\":['North','West','East','South'],\n",
        "          \"Team\":['One','Two','One','Two'],\n",
        "          \"Squad\":['A','B','C','D'],\n",
        "          \"Revenue\":[7500,5500,2750,6400],\n",
        "            \"Cost\":[5200,5100,4400,5300]})\n",
        "\n",
        "display (teams)"
      ],
      "execution_count": 71,
      "outputs": [
        {
          "output_type": "display_data",
          "data": {
            "text/html": [
              "<div>\n",
              "<style scoped>\n",
              "    .dataframe tbody tr th:only-of-type {\n",
              "        vertical-align: middle;\n",
              "    }\n",
              "\n",
              "    .dataframe tbody tr th {\n",
              "        vertical-align: top;\n",
              "    }\n",
              "\n",
              "    .dataframe thead th {\n",
              "        text-align: right;\n",
              "    }\n",
              "</style>\n",
              "<table border=\"1\" class=\"dataframe\">\n",
              "  <thead>\n",
              "    <tr style=\"text-align: right;\">\n",
              "      <th></th>\n",
              "      <th>Region</th>\n",
              "      <th>Team</th>\n",
              "      <th>Squad</th>\n",
              "      <th>Revenue</th>\n",
              "      <th>Cost</th>\n",
              "    </tr>\n",
              "  </thead>\n",
              "  <tbody>\n",
              "    <tr>\n",
              "      <th>0</th>\n",
              "      <td>North</td>\n",
              "      <td>One</td>\n",
              "      <td>A</td>\n",
              "      <td>7500</td>\n",
              "      <td>5200</td>\n",
              "    </tr>\n",
              "    <tr>\n",
              "      <th>1</th>\n",
              "      <td>West</td>\n",
              "      <td>Two</td>\n",
              "      <td>B</td>\n",
              "      <td>5500</td>\n",
              "      <td>5100</td>\n",
              "    </tr>\n",
              "    <tr>\n",
              "      <th>2</th>\n",
              "      <td>East</td>\n",
              "      <td>One</td>\n",
              "      <td>C</td>\n",
              "      <td>2750</td>\n",
              "      <td>4400</td>\n",
              "    </tr>\n",
              "    <tr>\n",
              "      <th>3</th>\n",
              "      <td>South</td>\n",
              "      <td>Two</td>\n",
              "      <td>D</td>\n",
              "      <td>6400</td>\n",
              "      <td>5300</td>\n",
              "    </tr>\n",
              "  </tbody>\n",
              "</table>\n",
              "</div>"
            ],
            "text/plain": [
              "  Region Team Squad  Revenue  Cost\n",
              "0  North  One     A     7500  5200\n",
              "1   West  Two     B     5500  5100\n",
              "2   East  One     C     2750  4400\n",
              "3  South  Two     D     6400  5300"
            ]
          },
          "metadata": {}
        }
      ]
    },
    {
      "cell_type": "code",
      "metadata": {
        "id": "X5qY-K_UUQW9",
        "colab": {
          "base_uri": "https://localhost:8080/",
          "height": 172
        },
        "outputId": "69570004-58e2-4058-cb41-28e56861ddb3"
      },
      "source": [
        "# apply() to alter values along an axis in your dataframe or in a series/column \n",
        "\n",
        "# Categorise based on the revenue and cost\n",
        "teams['Profit'] = teams.apply(lambda x: 'Profit' if x['Revenue']>x['Cost'] else 'Loss',axis=1)\n",
        "teams\n"
      ],
      "execution_count": 72,
      "outputs": [
        {
          "output_type": "execute_result",
          "data": {
            "text/html": [
              "<div>\n",
              "<style scoped>\n",
              "    .dataframe tbody tr th:only-of-type {\n",
              "        vertical-align: middle;\n",
              "    }\n",
              "\n",
              "    .dataframe tbody tr th {\n",
              "        vertical-align: top;\n",
              "    }\n",
              "\n",
              "    .dataframe thead th {\n",
              "        text-align: right;\n",
              "    }\n",
              "</style>\n",
              "<table border=\"1\" class=\"dataframe\">\n",
              "  <thead>\n",
              "    <tr style=\"text-align: right;\">\n",
              "      <th></th>\n",
              "      <th>Region</th>\n",
              "      <th>Team</th>\n",
              "      <th>Squad</th>\n",
              "      <th>Revenue</th>\n",
              "      <th>Cost</th>\n",
              "      <th>Profit</th>\n",
              "    </tr>\n",
              "  </thead>\n",
              "  <tbody>\n",
              "    <tr>\n",
              "      <th>0</th>\n",
              "      <td>North</td>\n",
              "      <td>One</td>\n",
              "      <td>A</td>\n",
              "      <td>7500</td>\n",
              "      <td>5200</td>\n",
              "      <td>Profit</td>\n",
              "    </tr>\n",
              "    <tr>\n",
              "      <th>1</th>\n",
              "      <td>West</td>\n",
              "      <td>Two</td>\n",
              "      <td>B</td>\n",
              "      <td>5500</td>\n",
              "      <td>5100</td>\n",
              "      <td>Profit</td>\n",
              "    </tr>\n",
              "    <tr>\n",
              "      <th>2</th>\n",
              "      <td>East</td>\n",
              "      <td>One</td>\n",
              "      <td>C</td>\n",
              "      <td>2750</td>\n",
              "      <td>4400</td>\n",
              "      <td>Loss</td>\n",
              "    </tr>\n",
              "    <tr>\n",
              "      <th>3</th>\n",
              "      <td>South</td>\n",
              "      <td>Two</td>\n",
              "      <td>D</td>\n",
              "      <td>6400</td>\n",
              "      <td>5300</td>\n",
              "      <td>Profit</td>\n",
              "    </tr>\n",
              "  </tbody>\n",
              "</table>\n",
              "</div>"
            ],
            "text/plain": [
              "  Region Team Squad  Revenue  Cost  Profit\n",
              "0  North  One     A     7500  5200  Profit\n",
              "1   West  Two     B     5500  5100  Profit\n",
              "2   East  One     C     2750  4400    Loss\n",
              "3  South  Two     D     6400  5300  Profit"
            ]
          },
          "metadata": {},
          "execution_count": 72
        }
      ]
    },
    {
      "cell_type": "code",
      "metadata": {
        "id": "JZOM03MwUUmh",
        "colab": {
          "base_uri": "https://localhost:8080/",
          "height": 172
        },
        "outputId": "2288c33b-d8d9-4b50-d8ff-80018dcf0eca"
      },
      "source": [
        "# Use map() to substitute each value in a series\n",
        "team_map = {\"One\":\"Red\",\"Two\":\"Blue\"}      # new variable - dictionary (key-value pair)\n",
        "teams['Team Color'] = teams['Team'].map(team_map) # A new column with mapped values\n",
        "teams"
      ],
      "execution_count": 73,
      "outputs": [
        {
          "output_type": "execute_result",
          "data": {
            "text/html": [
              "<div>\n",
              "<style scoped>\n",
              "    .dataframe tbody tr th:only-of-type {\n",
              "        vertical-align: middle;\n",
              "    }\n",
              "\n",
              "    .dataframe tbody tr th {\n",
              "        vertical-align: top;\n",
              "    }\n",
              "\n",
              "    .dataframe thead th {\n",
              "        text-align: right;\n",
              "    }\n",
              "</style>\n",
              "<table border=\"1\" class=\"dataframe\">\n",
              "  <thead>\n",
              "    <tr style=\"text-align: right;\">\n",
              "      <th></th>\n",
              "      <th>Region</th>\n",
              "      <th>Team</th>\n",
              "      <th>Squad</th>\n",
              "      <th>Revenue</th>\n",
              "      <th>Cost</th>\n",
              "      <th>Profit</th>\n",
              "      <th>Team Color</th>\n",
              "    </tr>\n",
              "  </thead>\n",
              "  <tbody>\n",
              "    <tr>\n",
              "      <th>0</th>\n",
              "      <td>North</td>\n",
              "      <td>One</td>\n",
              "      <td>A</td>\n",
              "      <td>7500</td>\n",
              "      <td>5200</td>\n",
              "      <td>Profit</td>\n",
              "      <td>Red</td>\n",
              "    </tr>\n",
              "    <tr>\n",
              "      <th>1</th>\n",
              "      <td>West</td>\n",
              "      <td>Two</td>\n",
              "      <td>B</td>\n",
              "      <td>5500</td>\n",
              "      <td>5100</td>\n",
              "      <td>Profit</td>\n",
              "      <td>Blue</td>\n",
              "    </tr>\n",
              "    <tr>\n",
              "      <th>2</th>\n",
              "      <td>East</td>\n",
              "      <td>One</td>\n",
              "      <td>C</td>\n",
              "      <td>2750</td>\n",
              "      <td>4400</td>\n",
              "      <td>Loss</td>\n",
              "      <td>Red</td>\n",
              "    </tr>\n",
              "    <tr>\n",
              "      <th>3</th>\n",
              "      <td>South</td>\n",
              "      <td>Two</td>\n",
              "      <td>D</td>\n",
              "      <td>6400</td>\n",
              "      <td>5300</td>\n",
              "      <td>Profit</td>\n",
              "      <td>Blue</td>\n",
              "    </tr>\n",
              "  </tbody>\n",
              "</table>\n",
              "</div>"
            ],
            "text/plain": [
              "  Region Team Squad  Revenue  Cost  Profit Team Color\n",
              "0  North  One     A     7500  5200  Profit        Red\n",
              "1   West  Two     B     5500  5100  Profit       Blue\n",
              "2   East  One     C     2750  4400    Loss        Red\n",
              "3  South  Two     D     6400  5300  Profit       Blue"
            ]
          },
          "metadata": {},
          "execution_count": 73
        }
      ]
    },
    {
      "cell_type": "code",
      "metadata": {
        "id": "fm2F_8QxUZZx",
        "colab": {
          "base_uri": "https://localhost:8080/",
          "height": 172
        },
        "outputId": "d5bc48cc-38b8-413e-97fd-fdd4be004d73"
      },
      "source": [
        "# applymap() method do elementwise operation on the entire dataframe.\n",
        "# This method applies a function that accepts and returns a scalar to every element of a DataFrame.\n",
        "\n",
        "teams.applymap(lambda x: len(str(x)))  # int(x) won't work because data has strings which can not be convereted to int."
      ],
      "execution_count": 74,
      "outputs": [
        {
          "output_type": "execute_result",
          "data": {
            "text/html": [
              "<div>\n",
              "<style scoped>\n",
              "    .dataframe tbody tr th:only-of-type {\n",
              "        vertical-align: middle;\n",
              "    }\n",
              "\n",
              "    .dataframe tbody tr th {\n",
              "        vertical-align: top;\n",
              "    }\n",
              "\n",
              "    .dataframe thead th {\n",
              "        text-align: right;\n",
              "    }\n",
              "</style>\n",
              "<table border=\"1\" class=\"dataframe\">\n",
              "  <thead>\n",
              "    <tr style=\"text-align: right;\">\n",
              "      <th></th>\n",
              "      <th>Region</th>\n",
              "      <th>Team</th>\n",
              "      <th>Squad</th>\n",
              "      <th>Revenue</th>\n",
              "      <th>Cost</th>\n",
              "      <th>Profit</th>\n",
              "      <th>Team Color</th>\n",
              "    </tr>\n",
              "  </thead>\n",
              "  <tbody>\n",
              "    <tr>\n",
              "      <th>0</th>\n",
              "      <td>5</td>\n",
              "      <td>3</td>\n",
              "      <td>1</td>\n",
              "      <td>4</td>\n",
              "      <td>4</td>\n",
              "      <td>6</td>\n",
              "      <td>3</td>\n",
              "    </tr>\n",
              "    <tr>\n",
              "      <th>1</th>\n",
              "      <td>4</td>\n",
              "      <td>3</td>\n",
              "      <td>1</td>\n",
              "      <td>4</td>\n",
              "      <td>4</td>\n",
              "      <td>6</td>\n",
              "      <td>4</td>\n",
              "    </tr>\n",
              "    <tr>\n",
              "      <th>2</th>\n",
              "      <td>4</td>\n",
              "      <td>3</td>\n",
              "      <td>1</td>\n",
              "      <td>4</td>\n",
              "      <td>4</td>\n",
              "      <td>4</td>\n",
              "      <td>3</td>\n",
              "    </tr>\n",
              "    <tr>\n",
              "      <th>3</th>\n",
              "      <td>5</td>\n",
              "      <td>3</td>\n",
              "      <td>1</td>\n",
              "      <td>4</td>\n",
              "      <td>4</td>\n",
              "      <td>6</td>\n",
              "      <td>4</td>\n",
              "    </tr>\n",
              "  </tbody>\n",
              "</table>\n",
              "</div>"
            ],
            "text/plain": [
              "   Region  Team  Squad  Revenue  Cost  Profit  Team Color\n",
              "0       5     3      1        4     4       6           3\n",
              "1       4     3      1        4     4       6           4\n",
              "2       4     3      1        4     4       4           3\n",
              "3       5     3      1        4     4       6           4"
            ]
          },
          "metadata": {},
          "execution_count": 74
        }
      ]
    },
    {
      "cell_type": "code",
      "metadata": {
        "id": "WHrIrf39Ue6Z",
        "colab": {
          "base_uri": "https://localhost:8080/",
          "height": 142
        },
        "outputId": "d6c79929-3ed9-4644-ca28-ef2ff3805582"
      },
      "source": [
        "# Grouping on different categories. Needs the category as well as parameter\n",
        "teams.groupby(['Profit']).max()\n"
      ],
      "execution_count": 77,
      "outputs": [
        {
          "output_type": "execute_result",
          "data": {
            "text/html": [
              "<div>\n",
              "<style scoped>\n",
              "    .dataframe tbody tr th:only-of-type {\n",
              "        vertical-align: middle;\n",
              "    }\n",
              "\n",
              "    .dataframe tbody tr th {\n",
              "        vertical-align: top;\n",
              "    }\n",
              "\n",
              "    .dataframe thead th {\n",
              "        text-align: right;\n",
              "    }\n",
              "</style>\n",
              "<table border=\"1\" class=\"dataframe\">\n",
              "  <thead>\n",
              "    <tr style=\"text-align: right;\">\n",
              "      <th></th>\n",
              "      <th>Region</th>\n",
              "      <th>Team</th>\n",
              "      <th>Squad</th>\n",
              "      <th>Revenue</th>\n",
              "      <th>Cost</th>\n",
              "      <th>Team Color</th>\n",
              "    </tr>\n",
              "    <tr>\n",
              "      <th>Profit</th>\n",
              "      <th></th>\n",
              "      <th></th>\n",
              "      <th></th>\n",
              "      <th></th>\n",
              "      <th></th>\n",
              "      <th></th>\n",
              "    </tr>\n",
              "  </thead>\n",
              "  <tbody>\n",
              "    <tr>\n",
              "      <th>Loss</th>\n",
              "      <td>East</td>\n",
              "      <td>One</td>\n",
              "      <td>C</td>\n",
              "      <td>2750</td>\n",
              "      <td>4400</td>\n",
              "      <td>Red</td>\n",
              "    </tr>\n",
              "    <tr>\n",
              "      <th>Profit</th>\n",
              "      <td>West</td>\n",
              "      <td>Two</td>\n",
              "      <td>D</td>\n",
              "      <td>7500</td>\n",
              "      <td>5300</td>\n",
              "      <td>Red</td>\n",
              "    </tr>\n",
              "  </tbody>\n",
              "</table>\n",
              "</div>"
            ],
            "text/plain": [
              "       Region Team Squad  Revenue  Cost Team Color\n",
              "Profit                                            \n",
              "Loss     East  One     C     2750  4400        Red\n",
              "Profit   West  Two     D     7500  5300        Red"
            ]
          },
          "metadata": {},
          "execution_count": 77
        }
      ]
    },
    {
      "cell_type": "code",
      "metadata": {
        "id": "-SlEdwT_UhKQ",
        "colab": {
          "base_uri": "https://localhost:8080/",
          "height": 203
        },
        "outputId": "d84b1155-9292-4c94-ec0a-b325b699569b"
      },
      "source": [
        "# TO DO: Can you group the records on Cost with minimum values?\n",
        "teams.groupby(['Cost']).min()"
      ],
      "execution_count": 78,
      "outputs": [
        {
          "output_type": "execute_result",
          "data": {
            "text/html": [
              "<div>\n",
              "<style scoped>\n",
              "    .dataframe tbody tr th:only-of-type {\n",
              "        vertical-align: middle;\n",
              "    }\n",
              "\n",
              "    .dataframe tbody tr th {\n",
              "        vertical-align: top;\n",
              "    }\n",
              "\n",
              "    .dataframe thead th {\n",
              "        text-align: right;\n",
              "    }\n",
              "</style>\n",
              "<table border=\"1\" class=\"dataframe\">\n",
              "  <thead>\n",
              "    <tr style=\"text-align: right;\">\n",
              "      <th></th>\n",
              "      <th>Region</th>\n",
              "      <th>Team</th>\n",
              "      <th>Squad</th>\n",
              "      <th>Revenue</th>\n",
              "      <th>Profit</th>\n",
              "      <th>Team Color</th>\n",
              "    </tr>\n",
              "    <tr>\n",
              "      <th>Cost</th>\n",
              "      <th></th>\n",
              "      <th></th>\n",
              "      <th></th>\n",
              "      <th></th>\n",
              "      <th></th>\n",
              "      <th></th>\n",
              "    </tr>\n",
              "  </thead>\n",
              "  <tbody>\n",
              "    <tr>\n",
              "      <th>4400</th>\n",
              "      <td>East</td>\n",
              "      <td>One</td>\n",
              "      <td>C</td>\n",
              "      <td>2750</td>\n",
              "      <td>Loss</td>\n",
              "      <td>Red</td>\n",
              "    </tr>\n",
              "    <tr>\n",
              "      <th>5100</th>\n",
              "      <td>West</td>\n",
              "      <td>Two</td>\n",
              "      <td>B</td>\n",
              "      <td>5500</td>\n",
              "      <td>Profit</td>\n",
              "      <td>Blue</td>\n",
              "    </tr>\n",
              "    <tr>\n",
              "      <th>5200</th>\n",
              "      <td>North</td>\n",
              "      <td>One</td>\n",
              "      <td>A</td>\n",
              "      <td>7500</td>\n",
              "      <td>Profit</td>\n",
              "      <td>Red</td>\n",
              "    </tr>\n",
              "    <tr>\n",
              "      <th>5300</th>\n",
              "      <td>South</td>\n",
              "      <td>Two</td>\n",
              "      <td>D</td>\n",
              "      <td>6400</td>\n",
              "      <td>Profit</td>\n",
              "      <td>Blue</td>\n",
              "    </tr>\n",
              "  </tbody>\n",
              "</table>\n",
              "</div>"
            ],
            "text/plain": [
              "     Region Team Squad  Revenue  Profit Team Color\n",
              "Cost                                              \n",
              "4400   East  One     C     2750    Loss        Red\n",
              "5100   West  Two     B     5500  Profit       Blue\n",
              "5200  North  One     A     7500  Profit        Red\n",
              "5300  South  Two     D     6400  Profit       Blue"
            ]
          },
          "metadata": {},
          "execution_count": 78
        }
      ]
    },
    {
      "cell_type": "code",
      "metadata": {
        "id": "-U5oFqBeVF37",
        "colab": {
          "base_uri": "https://localhost:8080/",
          "height": 203
        },
        "outputId": "a10bbc65-d12d-4a3b-bb36-c83ad017af90"
      },
      "source": [
        "# TO DO: Can you group the records on Revenue column with mean values?\n",
        "\n",
        "teams.groupby(['Revenue']).mean()"
      ],
      "execution_count": 81,
      "outputs": [
        {
          "output_type": "execute_result",
          "data": {
            "text/html": [
              "<div>\n",
              "<style scoped>\n",
              "    .dataframe tbody tr th:only-of-type {\n",
              "        vertical-align: middle;\n",
              "    }\n",
              "\n",
              "    .dataframe tbody tr th {\n",
              "        vertical-align: top;\n",
              "    }\n",
              "\n",
              "    .dataframe thead th {\n",
              "        text-align: right;\n",
              "    }\n",
              "</style>\n",
              "<table border=\"1\" class=\"dataframe\">\n",
              "  <thead>\n",
              "    <tr style=\"text-align: right;\">\n",
              "      <th></th>\n",
              "      <th>Cost</th>\n",
              "    </tr>\n",
              "    <tr>\n",
              "      <th>Revenue</th>\n",
              "      <th></th>\n",
              "    </tr>\n",
              "  </thead>\n",
              "  <tbody>\n",
              "    <tr>\n",
              "      <th>2750</th>\n",
              "      <td>4400</td>\n",
              "    </tr>\n",
              "    <tr>\n",
              "      <th>5500</th>\n",
              "      <td>5100</td>\n",
              "    </tr>\n",
              "    <tr>\n",
              "      <th>6400</th>\n",
              "      <td>5300</td>\n",
              "    </tr>\n",
              "    <tr>\n",
              "      <th>7500</th>\n",
              "      <td>5200</td>\n",
              "    </tr>\n",
              "  </tbody>\n",
              "</table>\n",
              "</div>"
            ],
            "text/plain": [
              "         Cost\n",
              "Revenue      \n",
              "2750     4400\n",
              "5500     5100\n",
              "6400     5300\n",
              "7500     5200"
            ]
          },
          "metadata": {},
          "execution_count": 81
        }
      ]
    },
    {
      "cell_type": "code",
      "metadata": {
        "id": "qFVH1seKVTRN",
        "colab": {
          "base_uri": "https://localhost:8080/",
          "height": 172
        },
        "outputId": "b496cbaf-dae5-4ba3-8547-792a9f62b1c8"
      },
      "source": [
        "# Grouping on the basis of aggregates\n",
        "teams.groupby(['Team']).agg({'Revenue':['mean','min','max']})"
      ],
      "execution_count": 82,
      "outputs": [
        {
          "output_type": "execute_result",
          "data": {
            "text/html": [
              "<div>\n",
              "<style scoped>\n",
              "    .dataframe tbody tr th:only-of-type {\n",
              "        vertical-align: middle;\n",
              "    }\n",
              "\n",
              "    .dataframe tbody tr th {\n",
              "        vertical-align: top;\n",
              "    }\n",
              "\n",
              "    .dataframe thead tr th {\n",
              "        text-align: left;\n",
              "    }\n",
              "\n",
              "    .dataframe thead tr:last-of-type th {\n",
              "        text-align: right;\n",
              "    }\n",
              "</style>\n",
              "<table border=\"1\" class=\"dataframe\">\n",
              "  <thead>\n",
              "    <tr>\n",
              "      <th></th>\n",
              "      <th colspan=\"3\" halign=\"left\">Revenue</th>\n",
              "    </tr>\n",
              "    <tr>\n",
              "      <th></th>\n",
              "      <th>mean</th>\n",
              "      <th>min</th>\n",
              "      <th>max</th>\n",
              "    </tr>\n",
              "    <tr>\n",
              "      <th>Team</th>\n",
              "      <th></th>\n",
              "      <th></th>\n",
              "      <th></th>\n",
              "    </tr>\n",
              "  </thead>\n",
              "  <tbody>\n",
              "    <tr>\n",
              "      <th>One</th>\n",
              "      <td>5125</td>\n",
              "      <td>2750</td>\n",
              "      <td>7500</td>\n",
              "    </tr>\n",
              "    <tr>\n",
              "      <th>Two</th>\n",
              "      <td>5950</td>\n",
              "      <td>5500</td>\n",
              "      <td>6400</td>\n",
              "    </tr>\n",
              "  </tbody>\n",
              "</table>\n",
              "</div>"
            ],
            "text/plain": [
              "     Revenue            \n",
              "        mean   min   max\n",
              "Team                    \n",
              "One     5125  2750  7500\n",
              "Two     5950  5500  6400"
            ]
          },
          "metadata": {},
          "execution_count": 82
        }
      ]
    },
    {
      "cell_type": "markdown",
      "metadata": {
        "id": "smEeQ06lVrsj"
      },
      "source": [
        "Reset Index, Set Index and ReIndexing"
      ]
    },
    {
      "cell_type": "code",
      "metadata": {
        "id": "AOq1jy4UVkpL",
        "colab": {
          "base_uri": "https://localhost:8080/",
          "height": 172
        },
        "outputId": "be641a9b-effb-4e79-a0da-8a31784b386d"
      },
      "source": [
        "# TO DO: Copy-paste the copy from earlier to redefine teams dataframe, and display it\n",
        "\n",
        "teams = pd.DataFrame({\"Region\":['North','West','East','South'],\n",
        "          \"Team\":['One','Two','One','Two'],\n",
        "          \"Squad\":['A','B','C','D'],\n",
        "          \"Revenue\":[7500,5500,2750,6400],\n",
        "            \"Cost\":[5200,5100,4400,5300]})\n",
        "\n",
        "display (teams)"
      ],
      "execution_count": 84,
      "outputs": [
        {
          "output_type": "display_data",
          "data": {
            "text/html": [
              "<div>\n",
              "<style scoped>\n",
              "    .dataframe tbody tr th:only-of-type {\n",
              "        vertical-align: middle;\n",
              "    }\n",
              "\n",
              "    .dataframe tbody tr th {\n",
              "        vertical-align: top;\n",
              "    }\n",
              "\n",
              "    .dataframe thead th {\n",
              "        text-align: right;\n",
              "    }\n",
              "</style>\n",
              "<table border=\"1\" class=\"dataframe\">\n",
              "  <thead>\n",
              "    <tr style=\"text-align: right;\">\n",
              "      <th></th>\n",
              "      <th>Region</th>\n",
              "      <th>Team</th>\n",
              "      <th>Squad</th>\n",
              "      <th>Revenue</th>\n",
              "      <th>Cost</th>\n",
              "    </tr>\n",
              "  </thead>\n",
              "  <tbody>\n",
              "    <tr>\n",
              "      <th>0</th>\n",
              "      <td>North</td>\n",
              "      <td>One</td>\n",
              "      <td>A</td>\n",
              "      <td>7500</td>\n",
              "      <td>5200</td>\n",
              "    </tr>\n",
              "    <tr>\n",
              "      <th>1</th>\n",
              "      <td>West</td>\n",
              "      <td>Two</td>\n",
              "      <td>B</td>\n",
              "      <td>5500</td>\n",
              "      <td>5100</td>\n",
              "    </tr>\n",
              "    <tr>\n",
              "      <th>2</th>\n",
              "      <td>East</td>\n",
              "      <td>One</td>\n",
              "      <td>C</td>\n",
              "      <td>2750</td>\n",
              "      <td>4400</td>\n",
              "    </tr>\n",
              "    <tr>\n",
              "      <th>3</th>\n",
              "      <td>South</td>\n",
              "      <td>Two</td>\n",
              "      <td>D</td>\n",
              "      <td>6400</td>\n",
              "      <td>5300</td>\n",
              "    </tr>\n",
              "  </tbody>\n",
              "</table>\n",
              "</div>"
            ],
            "text/plain": [
              "  Region Team Squad  Revenue  Cost\n",
              "0  North  One     A     7500  5200\n",
              "1   West  Two     B     5500  5100\n",
              "2   East  One     C     2750  4400\n",
              "3  South  Two     D     6400  5300"
            ]
          },
          "metadata": {}
        }
      ]
    },
    {
      "cell_type": "code",
      "metadata": {
        "id": "A2Hrv2n5WA74",
        "colab": {
          "base_uri": "https://localhost:8080/",
          "height": 374
        },
        "outputId": "99805166-12cb-4164-8618-b384d3cbdd19"
      },
      "source": [
        "# Setting two columns as index when a single column has not unique values.\n",
        "\n",
        "teams_reindex = teams.set_index(['Region','Team'])  # 2 indices. useful when values are not unique\n",
        "display(teams)\n",
        "\n",
        "print()    # TO print blank/new line.\n",
        "\n",
        "\n",
        "display(teams_reindex)"
      ],
      "execution_count": 83,
      "outputs": [
        {
          "output_type": "display_data",
          "data": {
            "text/html": [
              "<div>\n",
              "<style scoped>\n",
              "    .dataframe tbody tr th:only-of-type {\n",
              "        vertical-align: middle;\n",
              "    }\n",
              "\n",
              "    .dataframe tbody tr th {\n",
              "        vertical-align: top;\n",
              "    }\n",
              "\n",
              "    .dataframe thead th {\n",
              "        text-align: right;\n",
              "    }\n",
              "</style>\n",
              "<table border=\"1\" class=\"dataframe\">\n",
              "  <thead>\n",
              "    <tr style=\"text-align: right;\">\n",
              "      <th></th>\n",
              "      <th>Region</th>\n",
              "      <th>Team</th>\n",
              "      <th>Squad</th>\n",
              "      <th>Revenue</th>\n",
              "      <th>Cost</th>\n",
              "      <th>Profit</th>\n",
              "      <th>Team Color</th>\n",
              "    </tr>\n",
              "  </thead>\n",
              "  <tbody>\n",
              "    <tr>\n",
              "      <th>0</th>\n",
              "      <td>North</td>\n",
              "      <td>One</td>\n",
              "      <td>A</td>\n",
              "      <td>7500</td>\n",
              "      <td>5200</td>\n",
              "      <td>Profit</td>\n",
              "      <td>Red</td>\n",
              "    </tr>\n",
              "    <tr>\n",
              "      <th>1</th>\n",
              "      <td>West</td>\n",
              "      <td>Two</td>\n",
              "      <td>B</td>\n",
              "      <td>5500</td>\n",
              "      <td>5100</td>\n",
              "      <td>Profit</td>\n",
              "      <td>Blue</td>\n",
              "    </tr>\n",
              "    <tr>\n",
              "      <th>2</th>\n",
              "      <td>East</td>\n",
              "      <td>One</td>\n",
              "      <td>C</td>\n",
              "      <td>2750</td>\n",
              "      <td>4400</td>\n",
              "      <td>Loss</td>\n",
              "      <td>Red</td>\n",
              "    </tr>\n",
              "    <tr>\n",
              "      <th>3</th>\n",
              "      <td>South</td>\n",
              "      <td>Two</td>\n",
              "      <td>D</td>\n",
              "      <td>6400</td>\n",
              "      <td>5300</td>\n",
              "      <td>Profit</td>\n",
              "      <td>Blue</td>\n",
              "    </tr>\n",
              "  </tbody>\n",
              "</table>\n",
              "</div>"
            ],
            "text/plain": [
              "  Region Team Squad  Revenue  Cost  Profit Team Color\n",
              "0  North  One     A     7500  5200  Profit        Red\n",
              "1   West  Two     B     5500  5100  Profit       Blue\n",
              "2   East  One     C     2750  4400    Loss        Red\n",
              "3  South  Two     D     6400  5300  Profit       Blue"
            ]
          },
          "metadata": {}
        },
        {
          "output_type": "stream",
          "name": "stdout",
          "text": [
            "\n"
          ]
        },
        {
          "output_type": "display_data",
          "data": {
            "text/html": [
              "<div>\n",
              "<style scoped>\n",
              "    .dataframe tbody tr th:only-of-type {\n",
              "        vertical-align: middle;\n",
              "    }\n",
              "\n",
              "    .dataframe tbody tr th {\n",
              "        vertical-align: top;\n",
              "    }\n",
              "\n",
              "    .dataframe thead th {\n",
              "        text-align: right;\n",
              "    }\n",
              "</style>\n",
              "<table border=\"1\" class=\"dataframe\">\n",
              "  <thead>\n",
              "    <tr style=\"text-align: right;\">\n",
              "      <th></th>\n",
              "      <th></th>\n",
              "      <th>Squad</th>\n",
              "      <th>Revenue</th>\n",
              "      <th>Cost</th>\n",
              "      <th>Profit</th>\n",
              "      <th>Team Color</th>\n",
              "    </tr>\n",
              "    <tr>\n",
              "      <th>Region</th>\n",
              "      <th>Team</th>\n",
              "      <th></th>\n",
              "      <th></th>\n",
              "      <th></th>\n",
              "      <th></th>\n",
              "      <th></th>\n",
              "    </tr>\n",
              "  </thead>\n",
              "  <tbody>\n",
              "    <tr>\n",
              "      <th>North</th>\n",
              "      <th>One</th>\n",
              "      <td>A</td>\n",
              "      <td>7500</td>\n",
              "      <td>5200</td>\n",
              "      <td>Profit</td>\n",
              "      <td>Red</td>\n",
              "    </tr>\n",
              "    <tr>\n",
              "      <th>West</th>\n",
              "      <th>Two</th>\n",
              "      <td>B</td>\n",
              "      <td>5500</td>\n",
              "      <td>5100</td>\n",
              "      <td>Profit</td>\n",
              "      <td>Blue</td>\n",
              "    </tr>\n",
              "    <tr>\n",
              "      <th>East</th>\n",
              "      <th>One</th>\n",
              "      <td>C</td>\n",
              "      <td>2750</td>\n",
              "      <td>4400</td>\n",
              "      <td>Loss</td>\n",
              "      <td>Red</td>\n",
              "    </tr>\n",
              "    <tr>\n",
              "      <th>South</th>\n",
              "      <th>Two</th>\n",
              "      <td>D</td>\n",
              "      <td>6400</td>\n",
              "      <td>5300</td>\n",
              "      <td>Profit</td>\n",
              "      <td>Blue</td>\n",
              "    </tr>\n",
              "  </tbody>\n",
              "</table>\n",
              "</div>"
            ],
            "text/plain": [
              "            Squad  Revenue  Cost  Profit Team Color\n",
              "Region Team                                        \n",
              "North  One      A     7500  5200  Profit        Red\n",
              "West   Two      B     5500  5100  Profit       Blue\n",
              "East   One      C     2750  4400    Loss        Red\n",
              "South  Two      D     6400  5300  Profit       Blue"
            ]
          },
          "metadata": {}
        }
      ]
    },
    {
      "cell_type": "code",
      "metadata": {
        "id": "KQCJTjmdWhtT",
        "colab": {
          "base_uri": "https://localhost:8080/",
          "height": 696
        },
        "outputId": "2b641dc5-bc8b-4d17-c082-9b51b07115c6"
      },
      "source": [
        "# Restructuring the dataframe based the multiple indices\n",
        "stacked = pd.DataFrame(teams_reindex.stack())\n",
        "stacked\n"
      ],
      "execution_count": 85,
      "outputs": [
        {
          "output_type": "execute_result",
          "data": {
            "text/html": [
              "<div>\n",
              "<style scoped>\n",
              "    .dataframe tbody tr th:only-of-type {\n",
              "        vertical-align: middle;\n",
              "    }\n",
              "\n",
              "    .dataframe tbody tr th {\n",
              "        vertical-align: top;\n",
              "    }\n",
              "\n",
              "    .dataframe thead th {\n",
              "        text-align: right;\n",
              "    }\n",
              "</style>\n",
              "<table border=\"1\" class=\"dataframe\">\n",
              "  <thead>\n",
              "    <tr style=\"text-align: right;\">\n",
              "      <th></th>\n",
              "      <th></th>\n",
              "      <th></th>\n",
              "      <th>0</th>\n",
              "    </tr>\n",
              "    <tr>\n",
              "      <th>Region</th>\n",
              "      <th>Team</th>\n",
              "      <th></th>\n",
              "      <th></th>\n",
              "    </tr>\n",
              "  </thead>\n",
              "  <tbody>\n",
              "    <tr>\n",
              "      <th rowspan=\"5\" valign=\"top\">North</th>\n",
              "      <th rowspan=\"5\" valign=\"top\">One</th>\n",
              "      <th>Squad</th>\n",
              "      <td>A</td>\n",
              "    </tr>\n",
              "    <tr>\n",
              "      <th>Revenue</th>\n",
              "      <td>7500</td>\n",
              "    </tr>\n",
              "    <tr>\n",
              "      <th>Cost</th>\n",
              "      <td>5200</td>\n",
              "    </tr>\n",
              "    <tr>\n",
              "      <th>Profit</th>\n",
              "      <td>Profit</td>\n",
              "    </tr>\n",
              "    <tr>\n",
              "      <th>Team Color</th>\n",
              "      <td>Red</td>\n",
              "    </tr>\n",
              "    <tr>\n",
              "      <th rowspan=\"5\" valign=\"top\">West</th>\n",
              "      <th rowspan=\"5\" valign=\"top\">Two</th>\n",
              "      <th>Squad</th>\n",
              "      <td>B</td>\n",
              "    </tr>\n",
              "    <tr>\n",
              "      <th>Revenue</th>\n",
              "      <td>5500</td>\n",
              "    </tr>\n",
              "    <tr>\n",
              "      <th>Cost</th>\n",
              "      <td>5100</td>\n",
              "    </tr>\n",
              "    <tr>\n",
              "      <th>Profit</th>\n",
              "      <td>Profit</td>\n",
              "    </tr>\n",
              "    <tr>\n",
              "      <th>Team Color</th>\n",
              "      <td>Blue</td>\n",
              "    </tr>\n",
              "    <tr>\n",
              "      <th rowspan=\"5\" valign=\"top\">East</th>\n",
              "      <th rowspan=\"5\" valign=\"top\">One</th>\n",
              "      <th>Squad</th>\n",
              "      <td>C</td>\n",
              "    </tr>\n",
              "    <tr>\n",
              "      <th>Revenue</th>\n",
              "      <td>2750</td>\n",
              "    </tr>\n",
              "    <tr>\n",
              "      <th>Cost</th>\n",
              "      <td>4400</td>\n",
              "    </tr>\n",
              "    <tr>\n",
              "      <th>Profit</th>\n",
              "      <td>Loss</td>\n",
              "    </tr>\n",
              "    <tr>\n",
              "      <th>Team Color</th>\n",
              "      <td>Red</td>\n",
              "    </tr>\n",
              "    <tr>\n",
              "      <th rowspan=\"5\" valign=\"top\">South</th>\n",
              "      <th rowspan=\"5\" valign=\"top\">Two</th>\n",
              "      <th>Squad</th>\n",
              "      <td>D</td>\n",
              "    </tr>\n",
              "    <tr>\n",
              "      <th>Revenue</th>\n",
              "      <td>6400</td>\n",
              "    </tr>\n",
              "    <tr>\n",
              "      <th>Cost</th>\n",
              "      <td>5300</td>\n",
              "    </tr>\n",
              "    <tr>\n",
              "      <th>Profit</th>\n",
              "      <td>Profit</td>\n",
              "    </tr>\n",
              "    <tr>\n",
              "      <th>Team Color</th>\n",
              "      <td>Blue</td>\n",
              "    </tr>\n",
              "  </tbody>\n",
              "</table>\n",
              "</div>"
            ],
            "text/plain": [
              "                             0\n",
              "Region Team                   \n",
              "North  One  Squad            A\n",
              "            Revenue       7500\n",
              "            Cost          5200\n",
              "            Profit      Profit\n",
              "            Team Color     Red\n",
              "West   Two  Squad            B\n",
              "            Revenue       5500\n",
              "            Cost          5100\n",
              "            Profit      Profit\n",
              "            Team Color    Blue\n",
              "East   One  Squad            C\n",
              "            Revenue       2750\n",
              "            Cost          4400\n",
              "            Profit        Loss\n",
              "            Team Color     Red\n",
              "South  Two  Squad            D\n",
              "            Revenue       6400\n",
              "            Cost          5300\n",
              "            Profit      Profit\n",
              "            Team Color    Blue"
            ]
          },
          "metadata": {},
          "execution_count": 85
        }
      ]
    },
    {
      "cell_type": "markdown",
      "metadata": {
        "id": "qo_QwY0pXEJQ"
      },
      "source": [
        "# Mergining dataframes\n",
        "\n",
        "We are going to learn how to merge multiple dataframes based on left, right and inner join.\n",
        "\n",
        "Read about merging: https://pandas.pydata.org/docs/reference/api/pandas.DataFrame.merge.html"
      ]
    },
    {
      "cell_type": "code",
      "metadata": {
        "id": "Sov4gqryXcFv"
      },
      "source": [
        "# Defining two new dataframes\n",
        "group1 = pd.DataFrame({'name': ['Alice', 'Bob', 'Charlie', 'David'],\n",
        "                    'number': [1, 2, 3, 4]})\n",
        "group2 = pd.DataFrame({'name': ['Charlie', 'David', 'Edward', 'Ford'],\n",
        "                    'number': [3, 4, 5, 6]})\n"
      ],
      "execution_count": 86,
      "outputs": []
    },
    {
      "cell_type": "code",
      "metadata": {
        "id": "KVeFfEWfXhZi",
        "colab": {
          "base_uri": "https://localhost:8080/",
          "height": 172
        },
        "outputId": "e2dd3d05-85b3-4aa1-b118-1f14574036e9"
      },
      "source": [
        "group1.merge(group2,how='left', on='number')   # Left - all from 1st table and only common from 2nd table.\n",
        "\n",
        "# Notice the NAN or empty values."
      ],
      "execution_count": 87,
      "outputs": [
        {
          "output_type": "execute_result",
          "data": {
            "text/html": [
              "<div>\n",
              "<style scoped>\n",
              "    .dataframe tbody tr th:only-of-type {\n",
              "        vertical-align: middle;\n",
              "    }\n",
              "\n",
              "    .dataframe tbody tr th {\n",
              "        vertical-align: top;\n",
              "    }\n",
              "\n",
              "    .dataframe thead th {\n",
              "        text-align: right;\n",
              "    }\n",
              "</style>\n",
              "<table border=\"1\" class=\"dataframe\">\n",
              "  <thead>\n",
              "    <tr style=\"text-align: right;\">\n",
              "      <th></th>\n",
              "      <th>name_x</th>\n",
              "      <th>number</th>\n",
              "      <th>name_y</th>\n",
              "    </tr>\n",
              "  </thead>\n",
              "  <tbody>\n",
              "    <tr>\n",
              "      <th>0</th>\n",
              "      <td>Alice</td>\n",
              "      <td>1</td>\n",
              "      <td>NaN</td>\n",
              "    </tr>\n",
              "    <tr>\n",
              "      <th>1</th>\n",
              "      <td>Bob</td>\n",
              "      <td>2</td>\n",
              "      <td>NaN</td>\n",
              "    </tr>\n",
              "    <tr>\n",
              "      <th>2</th>\n",
              "      <td>Charlie</td>\n",
              "      <td>3</td>\n",
              "      <td>Charlie</td>\n",
              "    </tr>\n",
              "    <tr>\n",
              "      <th>3</th>\n",
              "      <td>David</td>\n",
              "      <td>4</td>\n",
              "      <td>David</td>\n",
              "    </tr>\n",
              "  </tbody>\n",
              "</table>\n",
              "</div>"
            ],
            "text/plain": [
              "    name_x  number   name_y\n",
              "0    Alice       1      NaN\n",
              "1      Bob       2      NaN\n",
              "2  Charlie       3  Charlie\n",
              "3    David       4    David"
            ]
          },
          "metadata": {},
          "execution_count": 87
        }
      ]
    },
    {
      "cell_type": "code",
      "metadata": {
        "id": "VmtiSJ5xYxXs",
        "colab": {
          "base_uri": "https://localhost:8080/",
          "height": 110
        },
        "outputId": "031661f6-2af6-498e-f897-478eed6beb3c"
      },
      "source": [
        "group1.merge(group2)   # Shows only the common records."
      ],
      "execution_count": 88,
      "outputs": [
        {
          "output_type": "execute_result",
          "data": {
            "text/html": [
              "<div>\n",
              "<style scoped>\n",
              "    .dataframe tbody tr th:only-of-type {\n",
              "        vertical-align: middle;\n",
              "    }\n",
              "\n",
              "    .dataframe tbody tr th {\n",
              "        vertical-align: top;\n",
              "    }\n",
              "\n",
              "    .dataframe thead th {\n",
              "        text-align: right;\n",
              "    }\n",
              "</style>\n",
              "<table border=\"1\" class=\"dataframe\">\n",
              "  <thead>\n",
              "    <tr style=\"text-align: right;\">\n",
              "      <th></th>\n",
              "      <th>name</th>\n",
              "      <th>number</th>\n",
              "    </tr>\n",
              "  </thead>\n",
              "  <tbody>\n",
              "    <tr>\n",
              "      <th>0</th>\n",
              "      <td>Charlie</td>\n",
              "      <td>3</td>\n",
              "    </tr>\n",
              "    <tr>\n",
              "      <th>1</th>\n",
              "      <td>David</td>\n",
              "      <td>4</td>\n",
              "    </tr>\n",
              "  </tbody>\n",
              "</table>\n",
              "</div>"
            ],
            "text/plain": [
              "      name  number\n",
              "0  Charlie       3\n",
              "1    David       4"
            ]
          },
          "metadata": {},
          "execution_count": 88
        }
      ]
    },
    {
      "cell_type": "code",
      "metadata": {
        "id": "eqQt-QliX7-d",
        "colab": {
          "base_uri": "https://localhost:8080/",
          "height": 110
        },
        "outputId": "24fe088e-a158-42b4-f3e2-75307c55db46"
      },
      "source": [
        "group1.merge(group2,how='inner',left_on='number',right_on='number')  # Inner - Shows only the common records\n",
        "\n",
        "# Why there are no null values now in the output? Answer as a comment.\n",
        "# Because now only those records that are common for both the groups are included. Thus all values are non null  "
      ],
      "execution_count": 89,
      "outputs": [
        {
          "output_type": "execute_result",
          "data": {
            "text/html": [
              "<div>\n",
              "<style scoped>\n",
              "    .dataframe tbody tr th:only-of-type {\n",
              "        vertical-align: middle;\n",
              "    }\n",
              "\n",
              "    .dataframe tbody tr th {\n",
              "        vertical-align: top;\n",
              "    }\n",
              "\n",
              "    .dataframe thead th {\n",
              "        text-align: right;\n",
              "    }\n",
              "</style>\n",
              "<table border=\"1\" class=\"dataframe\">\n",
              "  <thead>\n",
              "    <tr style=\"text-align: right;\">\n",
              "      <th></th>\n",
              "      <th>name_x</th>\n",
              "      <th>number</th>\n",
              "      <th>name_y</th>\n",
              "    </tr>\n",
              "  </thead>\n",
              "  <tbody>\n",
              "    <tr>\n",
              "      <th>0</th>\n",
              "      <td>Charlie</td>\n",
              "      <td>3</td>\n",
              "      <td>Charlie</td>\n",
              "    </tr>\n",
              "    <tr>\n",
              "      <th>1</th>\n",
              "      <td>David</td>\n",
              "      <td>4</td>\n",
              "      <td>David</td>\n",
              "    </tr>\n",
              "  </tbody>\n",
              "</table>\n",
              "</div>"
            ],
            "text/plain": [
              "    name_x  number   name_y\n",
              "0  Charlie       3  Charlie\n",
              "1    David       4    David"
            ]
          },
          "metadata": {},
          "execution_count": 89
        }
      ]
    },
    {
      "cell_type": "code",
      "metadata": {
        "id": "bktq1ZR-YGX4",
        "colab": {
          "base_uri": "https://localhost:8080/",
          "height": 172
        },
        "outputId": "edc2fc75-2400-4225-da93-c865bc9d5762"
      },
      "source": [
        "group1.merge(group2,how='right',left_on='number',right_on='number')  # Right - All from 2nd table, common from 1st table."
      ],
      "execution_count": 90,
      "outputs": [
        {
          "output_type": "execute_result",
          "data": {
            "text/html": [
              "<div>\n",
              "<style scoped>\n",
              "    .dataframe tbody tr th:only-of-type {\n",
              "        vertical-align: middle;\n",
              "    }\n",
              "\n",
              "    .dataframe tbody tr th {\n",
              "        vertical-align: top;\n",
              "    }\n",
              "\n",
              "    .dataframe thead th {\n",
              "        text-align: right;\n",
              "    }\n",
              "</style>\n",
              "<table border=\"1\" class=\"dataframe\">\n",
              "  <thead>\n",
              "    <tr style=\"text-align: right;\">\n",
              "      <th></th>\n",
              "      <th>name_x</th>\n",
              "      <th>number</th>\n",
              "      <th>name_y</th>\n",
              "    </tr>\n",
              "  </thead>\n",
              "  <tbody>\n",
              "    <tr>\n",
              "      <th>0</th>\n",
              "      <td>Charlie</td>\n",
              "      <td>3</td>\n",
              "      <td>Charlie</td>\n",
              "    </tr>\n",
              "    <tr>\n",
              "      <th>1</th>\n",
              "      <td>David</td>\n",
              "      <td>4</td>\n",
              "      <td>David</td>\n",
              "    </tr>\n",
              "    <tr>\n",
              "      <th>2</th>\n",
              "      <td>NaN</td>\n",
              "      <td>5</td>\n",
              "      <td>Edward</td>\n",
              "    </tr>\n",
              "    <tr>\n",
              "      <th>3</th>\n",
              "      <td>NaN</td>\n",
              "      <td>6</td>\n",
              "      <td>Ford</td>\n",
              "    </tr>\n",
              "  </tbody>\n",
              "</table>\n",
              "</div>"
            ],
            "text/plain": [
              "    name_x  number   name_y\n",
              "0  Charlie       3  Charlie\n",
              "1    David       4    David\n",
              "2      NaN       5   Edward\n",
              "3      NaN       6     Ford"
            ]
          },
          "metadata": {},
          "execution_count": 90
        }
      ]
    },
    {
      "cell_type": "markdown",
      "metadata": {
        "id": "hLGaxWkcZLVt"
      },
      "source": [
        "# Matplotlib library in Python\n",
        "\n",
        "Matplotlib is a plotting library for the Python programming language. Matplotlib in Python is used as it is a robust, free and easy library for data visualization.\n",
        "\n",
        "Read more on matplotlib: \n",
        "1. https://matplotlib.org/\n",
        "2. https://www.w3schools.com/python/matplotlib_intro.asp\n",
        "\n",
        "Another important library - seaborn - is use for statistical data visualization.\n",
        "\n",
        "1. https://seaborn.pydata.org/ \n",
        "2. https://www.jigsawacademy.com/blogs/ai-ml/seaborn-vs-matplotlib/#Difference-between-seaborn-vs-matplotlib\n",
        "\n"
      ]
    },
    {
      "cell_type": "markdown",
      "metadata": {
        "id": "LsByOO65aBsE"
      },
      "source": [
        "Next, we will explore some data visualization using Matplotlib. After finishing it, please visit [MatPlotLib on W3Schools](https://www.w3schools.com/python/matplotlib_intro.asp) for additional practise."
      ]
    },
    {
      "cell_type": "markdown",
      "metadata": {
        "id": "P85WYAoLdjsV"
      },
      "source": [
        "#### Reading: Plotting charts in Matplotlib\n",
        "\n",
        "1. Creating basic charts: https://drive.google.com/file/d/1kunIRcTiUWbJp_DZRcmlmIZMh3ua_yIK/view?usp=sharing\n",
        "2. Customizing our charts: https://drive.google.com/file/d/1fuYY9DfhtmekoDCCX_HDfItrObJhKpGA/view?usp=sharing"
      ]
    },
    {
      "cell_type": "markdown",
      "metadata": {
        "id": "-Crk5U_dejxv"
      },
      "source": [
        "The next codes are exercises only. Please make sure you have gone through the above shared documents/readings before proceeding further. What concepts and syntax you learnt will be used in the next exercises.\n",
        "\n",
        "Dataset: https://drive.google.com/file/d/1Za1B2Nt_VuEDrSznS6PN5BM4c0pEOQm5/view?usp=sharing"
      ]
    },
    {
      "cell_type": "code",
      "metadata": {
        "id": "UFweHIave7YB",
        "colab": {
          "resources": {
            "http://localhost:8080/nbextensions/google.colab/files.js": {
              "data": "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",
              "ok": true,
              "headers": [
                [
                  "content-type",
                  "application/javascript"
                ]
              ],
              "status": 200,
              "status_text": ""
            }
          },
          "base_uri": "https://localhost:8080/",
          "height": 73
        },
        "outputId": "02531420-c139-4a24-dcb5-2b52247ce587"
      },
      "source": [
        "# TO DO : Read the instructions and write the codes.\n",
        "'''\n",
        "Get the data\n",
        "\n",
        "Open mtcars.csv in Excel or Text dataset and have a look at the data. Understand the variables.\n",
        "\n",
        "You can also open in Google drive to view it however, make sure you download it in your local system and upload in \n",
        "Jupyter Notebook folder where you have the Python file.\n",
        "'''\n",
        "\n",
        "import pandas as pd\n",
        "from google.colab import files\n",
        "uploaded = files.upload()\n",
        "\n",
        "\n",
        "\n"
      ],
      "execution_count": 91,
      "outputs": [
        {
          "output_type": "display_data",
          "data": {
            "text/html": [
              "\n",
              "     <input type=\"file\" id=\"files-3a8dd98f-6077-49e0-9a67-3a94291e6ee7\" name=\"files[]\" multiple disabled\n",
              "        style=\"border:none\" />\n",
              "     <output id=\"result-3a8dd98f-6077-49e0-9a67-3a94291e6ee7\">\n",
              "      Upload widget is only available when the cell has been executed in the\n",
              "      current browser session. Please rerun this cell to enable.\n",
              "      </output>\n",
              "      <script src=\"/nbextensions/google.colab/files.js\"></script> "
            ],
            "text/plain": [
              "<IPython.core.display.HTML object>"
            ]
          },
          "metadata": {}
        },
        {
          "output_type": "stream",
          "name": "stdout",
          "text": [
            "Saving mtcars.csv to mtcars.csv\n"
          ]
        }
      ]
    },
    {
      "cell_type": "code",
      "metadata": {
        "id": "GLoN7oxPaYN9",
        "colab": {
          "base_uri": "https://localhost:8080/",
          "height": 1000
        },
        "outputId": "c86c0f02-e493-447f-e5eb-9c4257f7a22b"
      },
      "source": [
        "# TO DO: \n",
        "# Import pandas package as pd\n",
        "import pandas as pd \n",
        "# Use function pd.read_csv to upload mtcars.csv by using either of two methods below:\n",
        "    # Use_cols ( all the columns except car_names )\n",
        "    # Index_col = car_names ( expected output as below)\n",
        "mtcars=pd.read_csv(\"mtcars.csv\", index_col='car_names')\n",
        "\n",
        "# display the dataframe\n",
        "display(mtcars)"
      ],
      "execution_count": 167,
      "outputs": [
        {
          "output_type": "display_data",
          "data": {
            "text/html": [
              "<div>\n",
              "<style scoped>\n",
              "    .dataframe tbody tr th:only-of-type {\n",
              "        vertical-align: middle;\n",
              "    }\n",
              "\n",
              "    .dataframe tbody tr th {\n",
              "        vertical-align: top;\n",
              "    }\n",
              "\n",
              "    .dataframe thead th {\n",
              "        text-align: right;\n",
              "    }\n",
              "</style>\n",
              "<table border=\"1\" class=\"dataframe\">\n",
              "  <thead>\n",
              "    <tr style=\"text-align: right;\">\n",
              "      <th></th>\n",
              "      <th>mpg</th>\n",
              "      <th>cyl</th>\n",
              "      <th>disp</th>\n",
              "      <th>hp</th>\n",
              "      <th>drat</th>\n",
              "      <th>wt</th>\n",
              "      <th>qsec</th>\n",
              "      <th>vs</th>\n",
              "      <th>am</th>\n",
              "      <th>gear</th>\n",
              "      <th>carb</th>\n",
              "    </tr>\n",
              "    <tr>\n",
              "      <th>car_names</th>\n",
              "      <th></th>\n",
              "      <th></th>\n",
              "      <th></th>\n",
              "      <th></th>\n",
              "      <th></th>\n",
              "      <th></th>\n",
              "      <th></th>\n",
              "      <th></th>\n",
              "      <th></th>\n",
              "      <th></th>\n",
              "      <th></th>\n",
              "    </tr>\n",
              "  </thead>\n",
              "  <tbody>\n",
              "    <tr>\n",
              "      <th>Mazda RX4</th>\n",
              "      <td>21.0</td>\n",
              "      <td>6</td>\n",
              "      <td>160.0</td>\n",
              "      <td>110</td>\n",
              "      <td>3.90</td>\n",
              "      <td>2.620</td>\n",
              "      <td>16.46</td>\n",
              "      <td>0</td>\n",
              "      <td>1</td>\n",
              "      <td>4</td>\n",
              "      <td>4</td>\n",
              "    </tr>\n",
              "    <tr>\n",
              "      <th>Mazda RX4 Wag</th>\n",
              "      <td>21.0</td>\n",
              "      <td>6</td>\n",
              "      <td>160.0</td>\n",
              "      <td>110</td>\n",
              "      <td>3.90</td>\n",
              "      <td>2.875</td>\n",
              "      <td>17.02</td>\n",
              "      <td>0</td>\n",
              "      <td>1</td>\n",
              "      <td>4</td>\n",
              "      <td>4</td>\n",
              "    </tr>\n",
              "    <tr>\n",
              "      <th>Datsun 710</th>\n",
              "      <td>22.8</td>\n",
              "      <td>4</td>\n",
              "      <td>108.0</td>\n",
              "      <td>93</td>\n",
              "      <td>3.85</td>\n",
              "      <td>2.320</td>\n",
              "      <td>18.61</td>\n",
              "      <td>1</td>\n",
              "      <td>1</td>\n",
              "      <td>4</td>\n",
              "      <td>1</td>\n",
              "    </tr>\n",
              "    <tr>\n",
              "      <th>Hornet 4 Drive</th>\n",
              "      <td>21.4</td>\n",
              "      <td>6</td>\n",
              "      <td>258.0</td>\n",
              "      <td>110</td>\n",
              "      <td>3.08</td>\n",
              "      <td>3.215</td>\n",
              "      <td>19.44</td>\n",
              "      <td>1</td>\n",
              "      <td>0</td>\n",
              "      <td>3</td>\n",
              "      <td>1</td>\n",
              "    </tr>\n",
              "    <tr>\n",
              "      <th>Hornet Sportabout</th>\n",
              "      <td>18.7</td>\n",
              "      <td>8</td>\n",
              "      <td>360.0</td>\n",
              "      <td>175</td>\n",
              "      <td>3.15</td>\n",
              "      <td>3.440</td>\n",
              "      <td>17.02</td>\n",
              "      <td>0</td>\n",
              "      <td>0</td>\n",
              "      <td>3</td>\n",
              "      <td>2</td>\n",
              "    </tr>\n",
              "    <tr>\n",
              "      <th>Valiant</th>\n",
              "      <td>18.1</td>\n",
              "      <td>6</td>\n",
              "      <td>225.0</td>\n",
              "      <td>105</td>\n",
              "      <td>2.76</td>\n",
              "      <td>3.460</td>\n",
              "      <td>20.22</td>\n",
              "      <td>1</td>\n",
              "      <td>0</td>\n",
              "      <td>3</td>\n",
              "      <td>1</td>\n",
              "    </tr>\n",
              "    <tr>\n",
              "      <th>Duster 360</th>\n",
              "      <td>14.3</td>\n",
              "      <td>8</td>\n",
              "      <td>360.0</td>\n",
              "      <td>245</td>\n",
              "      <td>3.21</td>\n",
              "      <td>3.570</td>\n",
              "      <td>15.84</td>\n",
              "      <td>0</td>\n",
              "      <td>0</td>\n",
              "      <td>3</td>\n",
              "      <td>4</td>\n",
              "    </tr>\n",
              "    <tr>\n",
              "      <th>Merc 240D</th>\n",
              "      <td>24.4</td>\n",
              "      <td>4</td>\n",
              "      <td>146.7</td>\n",
              "      <td>62</td>\n",
              "      <td>3.69</td>\n",
              "      <td>3.190</td>\n",
              "      <td>20.00</td>\n",
              "      <td>1</td>\n",
              "      <td>0</td>\n",
              "      <td>4</td>\n",
              "      <td>2</td>\n",
              "    </tr>\n",
              "    <tr>\n",
              "      <th>Merc 230</th>\n",
              "      <td>22.8</td>\n",
              "      <td>4</td>\n",
              "      <td>140.8</td>\n",
              "      <td>95</td>\n",
              "      <td>3.92</td>\n",
              "      <td>3.150</td>\n",
              "      <td>22.90</td>\n",
              "      <td>1</td>\n",
              "      <td>0</td>\n",
              "      <td>4</td>\n",
              "      <td>2</td>\n",
              "    </tr>\n",
              "    <tr>\n",
              "      <th>Merc 280</th>\n",
              "      <td>19.2</td>\n",
              "      <td>6</td>\n",
              "      <td>167.6</td>\n",
              "      <td>123</td>\n",
              "      <td>3.92</td>\n",
              "      <td>3.440</td>\n",
              "      <td>18.30</td>\n",
              "      <td>1</td>\n",
              "      <td>0</td>\n",
              "      <td>4</td>\n",
              "      <td>4</td>\n",
              "    </tr>\n",
              "    <tr>\n",
              "      <th>Merc 280C</th>\n",
              "      <td>17.8</td>\n",
              "      <td>6</td>\n",
              "      <td>167.6</td>\n",
              "      <td>123</td>\n",
              "      <td>3.92</td>\n",
              "      <td>3.440</td>\n",
              "      <td>18.90</td>\n",
              "      <td>1</td>\n",
              "      <td>0</td>\n",
              "      <td>4</td>\n",
              "      <td>4</td>\n",
              "    </tr>\n",
              "    <tr>\n",
              "      <th>Merc 450SE</th>\n",
              "      <td>16.4</td>\n",
              "      <td>8</td>\n",
              "      <td>275.8</td>\n",
              "      <td>180</td>\n",
              "      <td>3.07</td>\n",
              "      <td>4.070</td>\n",
              "      <td>17.40</td>\n",
              "      <td>0</td>\n",
              "      <td>0</td>\n",
              "      <td>3</td>\n",
              "      <td>3</td>\n",
              "    </tr>\n",
              "    <tr>\n",
              "      <th>Merc 450SL</th>\n",
              "      <td>17.3</td>\n",
              "      <td>8</td>\n",
              "      <td>275.8</td>\n",
              "      <td>180</td>\n",
              "      <td>3.07</td>\n",
              "      <td>3.730</td>\n",
              "      <td>17.60</td>\n",
              "      <td>0</td>\n",
              "      <td>0</td>\n",
              "      <td>3</td>\n",
              "      <td>3</td>\n",
              "    </tr>\n",
              "    <tr>\n",
              "      <th>Merc 450SLC</th>\n",
              "      <td>15.2</td>\n",
              "      <td>8</td>\n",
              "      <td>275.8</td>\n",
              "      <td>180</td>\n",
              "      <td>3.07</td>\n",
              "      <td>3.780</td>\n",
              "      <td>18.00</td>\n",
              "      <td>0</td>\n",
              "      <td>0</td>\n",
              "      <td>3</td>\n",
              "      <td>3</td>\n",
              "    </tr>\n",
              "    <tr>\n",
              "      <th>Cadillac Fleetwood</th>\n",
              "      <td>10.4</td>\n",
              "      <td>8</td>\n",
              "      <td>472.0</td>\n",
              "      <td>205</td>\n",
              "      <td>2.93</td>\n",
              "      <td>5.250</td>\n",
              "      <td>17.98</td>\n",
              "      <td>0</td>\n",
              "      <td>0</td>\n",
              "      <td>3</td>\n",
              "      <td>4</td>\n",
              "    </tr>\n",
              "    <tr>\n",
              "      <th>Lincoln Continental</th>\n",
              "      <td>10.4</td>\n",
              "      <td>8</td>\n",
              "      <td>460.0</td>\n",
              "      <td>215</td>\n",
              "      <td>3.00</td>\n",
              "      <td>5.424</td>\n",
              "      <td>17.82</td>\n",
              "      <td>0</td>\n",
              "      <td>0</td>\n",
              "      <td>3</td>\n",
              "      <td>4</td>\n",
              "    </tr>\n",
              "    <tr>\n",
              "      <th>Chrysler Imperial</th>\n",
              "      <td>14.7</td>\n",
              "      <td>8</td>\n",
              "      <td>440.0</td>\n",
              "      <td>230</td>\n",
              "      <td>3.23</td>\n",
              "      <td>5.345</td>\n",
              "      <td>17.42</td>\n",
              "      <td>0</td>\n",
              "      <td>0</td>\n",
              "      <td>3</td>\n",
              "      <td>4</td>\n",
              "    </tr>\n",
              "    <tr>\n",
              "      <th>Fiat 128</th>\n",
              "      <td>32.4</td>\n",
              "      <td>4</td>\n",
              "      <td>78.7</td>\n",
              "      <td>66</td>\n",
              "      <td>4.08</td>\n",
              "      <td>2.200</td>\n",
              "      <td>19.47</td>\n",
              "      <td>1</td>\n",
              "      <td>1</td>\n",
              "      <td>4</td>\n",
              "      <td>1</td>\n",
              "    </tr>\n",
              "    <tr>\n",
              "      <th>Honda Civic</th>\n",
              "      <td>30.4</td>\n",
              "      <td>4</td>\n",
              "      <td>75.7</td>\n",
              "      <td>52</td>\n",
              "      <td>4.93</td>\n",
              "      <td>1.615</td>\n",
              "      <td>18.52</td>\n",
              "      <td>1</td>\n",
              "      <td>1</td>\n",
              "      <td>4</td>\n",
              "      <td>2</td>\n",
              "    </tr>\n",
              "    <tr>\n",
              "      <th>Toyota Corolla</th>\n",
              "      <td>33.9</td>\n",
              "      <td>4</td>\n",
              "      <td>71.1</td>\n",
              "      <td>65</td>\n",
              "      <td>4.22</td>\n",
              "      <td>1.835</td>\n",
              "      <td>19.90</td>\n",
              "      <td>1</td>\n",
              "      <td>1</td>\n",
              "      <td>4</td>\n",
              "      <td>1</td>\n",
              "    </tr>\n",
              "    <tr>\n",
              "      <th>Toyota Corona</th>\n",
              "      <td>21.5</td>\n",
              "      <td>4</td>\n",
              "      <td>120.1</td>\n",
              "      <td>97</td>\n",
              "      <td>3.70</td>\n",
              "      <td>2.465</td>\n",
              "      <td>20.01</td>\n",
              "      <td>1</td>\n",
              "      <td>0</td>\n",
              "      <td>3</td>\n",
              "      <td>1</td>\n",
              "    </tr>\n",
              "    <tr>\n",
              "      <th>Dodge Challenger</th>\n",
              "      <td>15.5</td>\n",
              "      <td>8</td>\n",
              "      <td>318.0</td>\n",
              "      <td>150</td>\n",
              "      <td>2.76</td>\n",
              "      <td>3.520</td>\n",
              "      <td>16.87</td>\n",
              "      <td>0</td>\n",
              "      <td>0</td>\n",
              "      <td>3</td>\n",
              "      <td>2</td>\n",
              "    </tr>\n",
              "    <tr>\n",
              "      <th>AMC Javelin</th>\n",
              "      <td>15.2</td>\n",
              "      <td>8</td>\n",
              "      <td>304.0</td>\n",
              "      <td>150</td>\n",
              "      <td>3.15</td>\n",
              "      <td>3.435</td>\n",
              "      <td>17.30</td>\n",
              "      <td>0</td>\n",
              "      <td>0</td>\n",
              "      <td>3</td>\n",
              "      <td>2</td>\n",
              "    </tr>\n",
              "    <tr>\n",
              "      <th>Camaro Z28</th>\n",
              "      <td>13.3</td>\n",
              "      <td>8</td>\n",
              "      <td>350.0</td>\n",
              "      <td>245</td>\n",
              "      <td>3.73</td>\n",
              "      <td>3.840</td>\n",
              "      <td>15.41</td>\n",
              "      <td>0</td>\n",
              "      <td>0</td>\n",
              "      <td>3</td>\n",
              "      <td>4</td>\n",
              "    </tr>\n",
              "    <tr>\n",
              "      <th>Pontiac Firebird</th>\n",
              "      <td>19.2</td>\n",
              "      <td>8</td>\n",
              "      <td>400.0</td>\n",
              "      <td>175</td>\n",
              "      <td>3.08</td>\n",
              "      <td>3.845</td>\n",
              "      <td>17.05</td>\n",
              "      <td>0</td>\n",
              "      <td>0</td>\n",
              "      <td>3</td>\n",
              "      <td>2</td>\n",
              "    </tr>\n",
              "    <tr>\n",
              "      <th>Fiat X1-9</th>\n",
              "      <td>27.3</td>\n",
              "      <td>4</td>\n",
              "      <td>79.0</td>\n",
              "      <td>66</td>\n",
              "      <td>4.08</td>\n",
              "      <td>1.935</td>\n",
              "      <td>18.90</td>\n",
              "      <td>1</td>\n",
              "      <td>1</td>\n",
              "      <td>4</td>\n",
              "      <td>1</td>\n",
              "    </tr>\n",
              "    <tr>\n",
              "      <th>Porsche 914-2</th>\n",
              "      <td>26.0</td>\n",
              "      <td>4</td>\n",
              "      <td>120.3</td>\n",
              "      <td>91</td>\n",
              "      <td>4.43</td>\n",
              "      <td>2.140</td>\n",
              "      <td>16.70</td>\n",
              "      <td>0</td>\n",
              "      <td>1</td>\n",
              "      <td>5</td>\n",
              "      <td>2</td>\n",
              "    </tr>\n",
              "    <tr>\n",
              "      <th>Lotus Europa</th>\n",
              "      <td>30.4</td>\n",
              "      <td>4</td>\n",
              "      <td>95.1</td>\n",
              "      <td>113</td>\n",
              "      <td>3.77</td>\n",
              "      <td>1.513</td>\n",
              "      <td>16.90</td>\n",
              "      <td>1</td>\n",
              "      <td>1</td>\n",
              "      <td>5</td>\n",
              "      <td>2</td>\n",
              "    </tr>\n",
              "    <tr>\n",
              "      <th>Ford Pantera L</th>\n",
              "      <td>15.8</td>\n",
              "      <td>8</td>\n",
              "      <td>351.0</td>\n",
              "      <td>264</td>\n",
              "      <td>4.22</td>\n",
              "      <td>3.170</td>\n",
              "      <td>14.50</td>\n",
              "      <td>0</td>\n",
              "      <td>1</td>\n",
              "      <td>5</td>\n",
              "      <td>4</td>\n",
              "    </tr>\n",
              "    <tr>\n",
              "      <th>Ferrari Dino</th>\n",
              "      <td>19.7</td>\n",
              "      <td>6</td>\n",
              "      <td>145.0</td>\n",
              "      <td>175</td>\n",
              "      <td>3.62</td>\n",
              "      <td>2.770</td>\n",
              "      <td>15.50</td>\n",
              "      <td>0</td>\n",
              "      <td>1</td>\n",
              "      <td>5</td>\n",
              "      <td>6</td>\n",
              "    </tr>\n",
              "    <tr>\n",
              "      <th>Maserati Bora</th>\n",
              "      <td>15.0</td>\n",
              "      <td>8</td>\n",
              "      <td>301.0</td>\n",
              "      <td>335</td>\n",
              "      <td>3.54</td>\n",
              "      <td>3.570</td>\n",
              "      <td>14.60</td>\n",
              "      <td>0</td>\n",
              "      <td>1</td>\n",
              "      <td>5</td>\n",
              "      <td>8</td>\n",
              "    </tr>\n",
              "    <tr>\n",
              "      <th>Volvo 142E</th>\n",
              "      <td>21.4</td>\n",
              "      <td>4</td>\n",
              "      <td>121.0</td>\n",
              "      <td>109</td>\n",
              "      <td>4.11</td>\n",
              "      <td>2.780</td>\n",
              "      <td>18.60</td>\n",
              "      <td>1</td>\n",
              "      <td>1</td>\n",
              "      <td>4</td>\n",
              "      <td>2</td>\n",
              "    </tr>\n",
              "  </tbody>\n",
              "</table>\n",
              "</div>"
            ],
            "text/plain": [
              "                      mpg  cyl   disp   hp  drat  ...   qsec  vs  am  gear  carb\n",
              "car_names                                         ...                           \n",
              "Mazda RX4            21.0    6  160.0  110  3.90  ...  16.46   0   1     4     4\n",
              "Mazda RX4 Wag        21.0    6  160.0  110  3.90  ...  17.02   0   1     4     4\n",
              "Datsun 710           22.8    4  108.0   93  3.85  ...  18.61   1   1     4     1\n",
              "Hornet 4 Drive       21.4    6  258.0  110  3.08  ...  19.44   1   0     3     1\n",
              "Hornet Sportabout    18.7    8  360.0  175  3.15  ...  17.02   0   0     3     2\n",
              "Valiant              18.1    6  225.0  105  2.76  ...  20.22   1   0     3     1\n",
              "Duster 360           14.3    8  360.0  245  3.21  ...  15.84   0   0     3     4\n",
              "Merc 240D            24.4    4  146.7   62  3.69  ...  20.00   1   0     4     2\n",
              "Merc 230             22.8    4  140.8   95  3.92  ...  22.90   1   0     4     2\n",
              "Merc 280             19.2    6  167.6  123  3.92  ...  18.30   1   0     4     4\n",
              "Merc 280C            17.8    6  167.6  123  3.92  ...  18.90   1   0     4     4\n",
              "Merc 450SE           16.4    8  275.8  180  3.07  ...  17.40   0   0     3     3\n",
              "Merc 450SL           17.3    8  275.8  180  3.07  ...  17.60   0   0     3     3\n",
              "Merc 450SLC          15.2    8  275.8  180  3.07  ...  18.00   0   0     3     3\n",
              "Cadillac Fleetwood   10.4    8  472.0  205  2.93  ...  17.98   0   0     3     4\n",
              "Lincoln Continental  10.4    8  460.0  215  3.00  ...  17.82   0   0     3     4\n",
              "Chrysler Imperial    14.7    8  440.0  230  3.23  ...  17.42   0   0     3     4\n",
              "Fiat 128             32.4    4   78.7   66  4.08  ...  19.47   1   1     4     1\n",
              "Honda Civic          30.4    4   75.7   52  4.93  ...  18.52   1   1     4     2\n",
              "Toyota Corolla       33.9    4   71.1   65  4.22  ...  19.90   1   1     4     1\n",
              "Toyota Corona        21.5    4  120.1   97  3.70  ...  20.01   1   0     3     1\n",
              "Dodge Challenger     15.5    8  318.0  150  2.76  ...  16.87   0   0     3     2\n",
              "AMC Javelin          15.2    8  304.0  150  3.15  ...  17.30   0   0     3     2\n",
              "Camaro Z28           13.3    8  350.0  245  3.73  ...  15.41   0   0     3     4\n",
              "Pontiac Firebird     19.2    8  400.0  175  3.08  ...  17.05   0   0     3     2\n",
              "Fiat X1-9            27.3    4   79.0   66  4.08  ...  18.90   1   1     4     1\n",
              "Porsche 914-2        26.0    4  120.3   91  4.43  ...  16.70   0   1     5     2\n",
              "Lotus Europa         30.4    4   95.1  113  3.77  ...  16.90   1   1     5     2\n",
              "Ford Pantera L       15.8    8  351.0  264  4.22  ...  14.50   0   1     5     4\n",
              "Ferrari Dino         19.7    6  145.0  175  3.62  ...  15.50   0   1     5     6\n",
              "Maserati Bora        15.0    8  301.0  335  3.54  ...  14.60   0   1     5     8\n",
              "Volvo 142E           21.4    4  121.0  109  4.11  ...  18.60   1   1     4     2\n",
              "\n",
              "[32 rows x 11 columns]"
            ]
          },
          "metadata": {}
        }
      ]
    },
    {
      "cell_type": "code",
      "metadata": {
        "id": "Uen_QSb5f7WJ"
      },
      "source": [
        "# Import he required package \n",
        "import matplotlib.pyplot as plt"
      ],
      "execution_count": 96,
      "outputs": []
    },
    {
      "cell_type": "code",
      "metadata": {
        "id": "LXZVzi8mf-O3",
        "colab": {
          "base_uri": "https://localhost:8080/",
          "height": 279
        },
        "outputId": "7c2f2888-eb67-4f3b-deb0-2a65d9027c5f"
      },
      "source": [
        "# TO DO : Create a scatter plot with mpg and hp by providing xlabel and ylabel\n",
        "\n",
        "plt.scatter(mtcars['mpg'],mtcars['hp'])\n",
        "plt.xlabel(\"mpg\")\n",
        "plt.ylabel(\"hp\")\n",
        "plt.show()"
      ],
      "execution_count": 109,
      "outputs": [
        {
          "output_type": "display_data",
          "data": {
            "image/png": "[encoded data removed]",
            "text/plain": [
              "<Figure size 432x288 with 1 Axes>"
            ]
          },
          "metadata": {
            "needs_background": "light"
          }
        }
      ]
    },
    {
      "cell_type": "code",
      "metadata": {
        "id": "1Y5zWKnBgFiY",
        "colab": {
          "base_uri": "https://localhost:8080/",
          "height": 279
        },
        "outputId": "2506f436-4c3c-44d1-9cca-39a7896f08cd"
      },
      "source": [
        "# TO DO: Change the color to red in the previous code\n",
        "\n",
        "plt.scatter(mtcars['mpg'],mtcars['hp'], color='red', alpha=0.3)\n",
        "plt.xlabel(\"mpg\")\n",
        "plt.ylabel(\"hp\")\n",
        "plt.show()\n",
        "\n"
      ],
      "execution_count": 112,
      "outputs": [
        {
          "output_type": "display_data",
          "data": {
            "image/png": "[encoded data removed]",
            "text/plain": [
              "<Figure size 432x288 with 1 Axes>"
            ]
          },
          "metadata": {
            "needs_background": "light"
          }
        }
      ]
    },
    {
      "cell_type": "code",
      "metadata": {
        "id": "CT_IoDIsgYBT",
        "colab": {
          "base_uri": "https://localhost:8080/",
          "height": 172
        },
        "outputId": "2d47c80f-8646-4605-bdda-a2a01f9e31a5"
      },
      "source": [
        "# TO DO: Create crosstab for cyl(cylinder) and columns as count\n",
        "\n",
        "# A cross-tabulation (or crosstab) is a two- (or more) dimensional table that records the number (frequency) of \n",
        "# respondents that have the specific characteristics described in the cells of the table.\n",
        "pd.crosstab(mtcars['cyl'], mtcars['cyl'].count())\n",
        "\n"
      ],
      "execution_count": 119,
      "outputs": [
        {
          "output_type": "execute_result",
          "data": {
            "text/html": [
              "<div>\n",
              "<style scoped>\n",
              "    .dataframe tbody tr th:only-of-type {\n",
              "        vertical-align: middle;\n",
              "    }\n",
              "\n",
              "    .dataframe tbody tr th {\n",
              "        vertical-align: top;\n",
              "    }\n",
              "\n",
              "    .dataframe thead th {\n",
              "        text-align: right;\n",
              "    }\n",
              "</style>\n",
              "<table border=\"1\" class=\"dataframe\">\n",
              "  <thead>\n",
              "    <tr style=\"text-align: right;\">\n",
              "      <th>col_0</th>\n",
              "      <th>32</th>\n",
              "    </tr>\n",
              "    <tr>\n",
              "      <th>cyl</th>\n",
              "      <th></th>\n",
              "    </tr>\n",
              "  </thead>\n",
              "  <tbody>\n",
              "    <tr>\n",
              "      <th>4</th>\n",
              "      <td>11</td>\n",
              "    </tr>\n",
              "    <tr>\n",
              "      <th>6</th>\n",
              "      <td>7</td>\n",
              "    </tr>\n",
              "    <tr>\n",
              "      <th>8</th>\n",
              "      <td>14</td>\n",
              "    </tr>\n",
              "  </tbody>\n",
              "</table>\n",
              "</div>"
            ],
            "text/plain": [
              "col_0  32\n",
              "cyl      \n",
              "4      11\n",
              "6       7\n",
              "8      14"
            ]
          },
          "metadata": {},
          "execution_count": 119
        }
      ]
    },
    {
      "cell_type": "code",
      "metadata": {
        "id": "EKKzhNmZgibG",
        "colab": {
          "base_uri": "https://localhost:8080/",
          "height": 276
        },
        "outputId": "7ac7f2f6-4b18-4ef5-d4b7-25d1c3152e71"
      },
      "source": [
        "# Other way to create the crosstab\n",
        "import numpy as np \n",
        "import pandas as pd\n",
        "import seaborn as sns\n",
        "import matplotlib.pyplot as plt\n",
        "\n",
        "ct = pd.crosstab(mtcars.cyl, mtcars.cyl)\n",
        "\n",
        "ct.plot.bar(stacked=True)    # Try staked=False and then by removing stakced part\n",
        "plt.legend(title='mark')   # Optional\n",
        "\n",
        "plt.show()\n"
      ],
      "execution_count": 117,
      "outputs": [
        {
          "output_type": "display_data",
          "data": {
            "image/png": "[encoded data removed]",
            "text/plain": [
              "<Figure size 432x288 with 1 Axes>"
            ]
          },
          "metadata": {
            "needs_background": "light"
          }
        }
      ]
    },
    {
      "cell_type": "code",
      "metadata": {
        "id": "jP520D1qgshX",
        "colab": {
          "base_uri": "https://localhost:8080/",
          "height": 293
        },
        "outputId": "174f4c8b-dcb6-4b8f-e5f4-01c71ef55676"
      },
      "source": [
        "# TO DO: Create crosstab for cyl(cylinder) and am as 'ct2' and create a bar plot\n",
        "\n",
        "# Reading reference: https://pandas.pydata.org/pandas-docs/stable/reference/api/pandas.DataFrame.groupby.html\n",
        "\n",
        "import numpy as np \n",
        "import pandas as pd\n",
        "import matplotlib.pyplot as plt\n",
        "ct2 = pd.crosstab(mtcars.cyl,mtcars.am)\n",
        "ct2.plot.bar(stacked=True)   \n"
      ],
      "execution_count": 120,
      "outputs": [
        {
          "output_type": "execute_result",
          "data": {
            "text/plain": [
              "<matplotlib.axes._subplots.AxesSubplot at 0x7f6084299b90>"
            ]
          },
          "metadata": {},
          "execution_count": 120
        },
        {
          "output_type": "display_data",
          "data": {
            "image/png": "[encoded data removed]",
            "text/plain": [
              "<Figure size 432x288 with 1 Axes>"
            ]
          },
          "metadata": {
            "needs_background": "light"
          }
        }
      ]
    },
    {
      "cell_type": "code",
      "metadata": {
        "id": "pmcbk5KDg18x",
        "colab": {
          "base_uri": "https://localhost:8080/",
          "height": 299
        },
        "outputId": "c936c803-822c-4e03-8608-279571304fc6"
      },
      "source": [
        "# TO DO: Create groupby (cyl) to visualize mpg and hp in a bar chart\n",
        "# Hint: Use nunique() \n",
        "import numpy as np \n",
        "import pandas as pd\n",
        "import matplotlib.pyplot as plt\n",
        "ct3=mtcars.groupby('cyl').nunique()\n",
        "ct4 = pd.crosstab(ct3.mpg,ct3.hp)\n",
        "ct4.plot.bar(stacked=True)"
      ],
      "execution_count": 144,
      "outputs": [
        {
          "output_type": "execute_result",
          "data": {
            "text/plain": [
              "<matplotlib.axes._subplots.AxesSubplot at 0x7f6084184790>"
            ]
          },
          "metadata": {},
          "execution_count": 144
        },
        {
          "output_type": "display_data",
          "data": {
            "image/png": "[encoded data removed]",
            "text/plain": [
              "<Figure size 432x288 with 1 Axes>"
            ]
          },
          "metadata": {
            "needs_background": "light"
          }
        }
      ]
    },
    {
      "cell_type": "code",
      "metadata": {
        "id": "QN7JkEalhHYu",
        "colab": {
          "base_uri": "https://localhost:8080/",
          "height": 281
        },
        "outputId": "540ae131-108b-43d6-ce5e-cc28416a98ba"
      },
      "source": [
        "# TO DO: Create a pie chart for cyl count\n",
        "import numpy as np \n",
        "import pandas as pd\n",
        "import matplotlib.pyplot as plt\n",
        "mtcars.cyl.plot(kind='pie')\n",
        "plt.title('Pie chart for cyl count')\n"
      ],
      "execution_count": 174,
      "outputs": [
        {
          "output_type": "execute_result",
          "data": {
            "text/plain": [
              "Text(0.5, 1.0, 'Pie chart for cyl count')"
            ]
          },
          "metadata": {},
          "execution_count": 174
        },
        {
          "output_type": "display_data",
          "data": {
            "image/png": "[encoded data removed]",
            "text/plain": [
              "<Figure size 432x288 with 1 Axes>"
            ]
          },
          "metadata": {}
        }
      ]
    },
    {
      "cell_type": "code",
      "metadata": {
        "id": "8BqEKvMJhZR3",
        "colab": {
          "base_uri": "https://localhost:8080/",
          "height": 312
        },
        "outputId": "5b0522da-4115-4f3a-9fe4-60617ee9f8c2"
      },
      "source": [
        "# TO DO: Create a Histogram for MPG column\n",
        "# Reading: https://pandas.pydata.org/pandas-docs/stable/reference/api/pandas.DataFrame.plot.hist.html\n",
        "\n",
        "mtcars.mpg.plot(kind='hist', color='#227766')\n",
        "plt.xlabel('mpg')\n",
        "plt.title('Histogram for MPG column')"
      ],
      "execution_count": 173,
      "outputs": [
        {
          "output_type": "execute_result",
          "data": {
            "text/plain": [
              "Text(0.5, 1.0, 'Histogram for MPG column')"
            ]
          },
          "metadata": {},
          "execution_count": 173
        },
        {
          "output_type": "display_data",
          "data": {
            "image/png": "[encoded data removed]",
            "text/plain": [
              "<Figure size 432x288 with 1 Axes>"
            ]
          },
          "metadata": {
            "needs_background": "light"
          }
        }
      ]
    }
  ]
}